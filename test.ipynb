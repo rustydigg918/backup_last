{
 "cells": [
  {
   "cell_type": "code",
   "execution_count": null,
   "metadata": {},
   "outputs": [],
   "source": [
    "# Problem Statement: --> Two csv files - X & Y is given\n",
    "#                    --> X has headers a|b|c & Y has headers- d|e\n",
    "#                    --> using pandas Create_result(“X.a|X.b|X.c|Y.e” , “X.a=Y.d”)\n",
    "\n",
    "# Create result.csv with columns from X and Y as passed"
   ]
  },
  {
   "cell_type": "code",
   "execution_count": 1,
   "metadata": {},
   "outputs": [
    {
     "name": "stdout",
     "output_type": "stream",
     "text": [
      "Collecting varclushi\n",
      "  Downloading https://files.pythonhosted.org/packages/50/36/66a2fd2a06906bd2ed4e82a59fd0cabe7824624c00b13da369eac547ad79/varclushi-0.1.0-py3-none-any.whl\n",
      "Requirement already satisfied: numpy in c:\\users\\p raj\\anaconda3\\lib\\site-packages (from varclushi) (1.16.5)\n",
      "Collecting factor-analyzer==0.3.1 (from varclushi)\n",
      "  Downloading https://files.pythonhosted.org/packages/dc/a1/df0babd5c16f59c7de85655cc0be9f8efc042a5d6a32508344078e1d8c4f/factor_analyzer-0.3.1-py3-none-any.whl (41kB)\n",
      "Requirement already satisfied: pandas in c:\\users\\p raj\\anaconda3\\lib\\site-packages (from varclushi) (0.25.1)\n",
      "Requirement already satisfied: scikit-learn in c:\\users\\p raj\\anaconda3\\lib\\site-packages (from factor-analyzer==0.3.1->varclushi) (0.21.3)\n",
      "Requirement already satisfied: scipy in c:\\users\\p raj\\anaconda3\\lib\\site-packages (from factor-analyzer==0.3.1->varclushi) (1.3.1)\n",
      "Requirement already satisfied: pytz>=2017.2 in c:\\users\\p raj\\anaconda3\\lib\\site-packages (from pandas->varclushi) (2019.3)\n",
      "Requirement already satisfied: python-dateutil>=2.6.1 in c:\\users\\p raj\\anaconda3\\lib\\site-packages (from pandas->varclushi) (2.8.0)\n",
      "Requirement already satisfied: joblib>=0.11 in c:\\users\\p raj\\anaconda3\\lib\\site-packages (from scikit-learn->factor-analyzer==0.3.1->varclushi) (0.13.2)\n",
      "Requirement already satisfied: six>=1.5 in c:\\users\\p raj\\anaconda3\\lib\\site-packages (from python-dateutil>=2.6.1->pandas->varclushi) (1.12.0)\n",
      "Installing collected packages: factor-analyzer, varclushi\n",
      "Successfully installed factor-analyzer-0.3.1 varclushi-0.1.0\n"
     ]
    }
   ],
   "source": [
    "!pip install varclushi"
   ]
  },
  {
   "cell_type": "code",
   "execution_count": 4,
   "metadata": {},
   "outputs": [
    {
     "data": {
      "text/plain": [
       "['VarClusHi',\n",
       " '__builtins__',\n",
       " '__cached__',\n",
       " '__doc__',\n",
       " '__file__',\n",
       " '__loader__',\n",
       " '__name__',\n",
       " '__package__',\n",
       " '__path__',\n",
       " '__spec__',\n",
       " 'name',\n",
       " 'varclushi']"
      ]
     },
     "execution_count": 4,
     "metadata": {},
     "output_type": "execute_result"
    }
   ],
   "source": [
    "import varclushi\n",
    "dir(varclushi)"
   ]
  },
  {
   "cell_type": "code",
   "execution_count": 4,
   "metadata": {},
   "outputs": [
    {
     "name": "stdout",
     "output_type": "stream",
     "text": [
      "E:\\test\n"
     ]
    }
   ],
   "source": [
    "import os\n",
    "os.chdir('E:\\\\test')\n",
    "print (os.getcwd())"
   ]
  },
  {
   "cell_type": "code",
   "execution_count": 6,
   "metadata": {},
   "outputs": [],
   "source": [
    "import pandas as pd"
   ]
  },
  {
   "cell_type": "code",
   "execution_count": 8,
   "metadata": {},
   "outputs": [
    {
     "data": {
      "text/html": [
       "<div>\n",
       "<style scoped>\n",
       "    .dataframe tbody tr th:only-of-type {\n",
       "        vertical-align: middle;\n",
       "    }\n",
       "\n",
       "    .dataframe tbody tr th {\n",
       "        vertical-align: top;\n",
       "    }\n",
       "\n",
       "    .dataframe thead th {\n",
       "        text-align: right;\n",
       "    }\n",
       "</style>\n",
       "<table border=\"1\" class=\"dataframe\">\n",
       "  <thead>\n",
       "    <tr style=\"text-align: right;\">\n",
       "      <th></th>\n",
       "      <th>a</th>\n",
       "      <th>b</th>\n",
       "      <th>c</th>\n",
       "    </tr>\n",
       "  </thead>\n",
       "  <tbody>\n",
       "    <tr>\n",
       "      <th>0</th>\n",
       "      <td>5</td>\n",
       "      <td>Ugh</td>\n",
       "      <td>wq</td>\n",
       "    </tr>\n",
       "    <tr>\n",
       "      <th>1</th>\n",
       "      <td>2</td>\n",
       "      <td>Kj</td>\n",
       "      <td>asd</td>\n",
       "    </tr>\n",
       "    <tr>\n",
       "      <th>2</th>\n",
       "      <td>3</td>\n",
       "      <td>Yu</td>\n",
       "      <td>Dx</td>\n",
       "    </tr>\n",
       "    <tr>\n",
       "      <th>3</th>\n",
       "      <td>4</td>\n",
       "      <td>Po</td>\n",
       "      <td>Cv</td>\n",
       "    </tr>\n",
       "  </tbody>\n",
       "</table>\n",
       "</div>"
      ],
      "text/plain": [
       "   a    b    c\n",
       "0  5  Ugh   wq\n",
       "1  2   Kj  asd\n",
       "2  3   Yu   Dx\n",
       "3  4   Po   Cv"
      ]
     },
     "execution_count": 8,
     "metadata": {},
     "output_type": "execute_result"
    }
   ],
   "source": [
    "x = pd.read_csv('X.csv')\n",
    "x.head()"
   ]
  },
  {
   "cell_type": "code",
   "execution_count": 9,
   "metadata": {},
   "outputs": [
    {
     "data": {
      "text/html": [
       "<div>\n",
       "<style scoped>\n",
       "    .dataframe tbody tr th:only-of-type {\n",
       "        vertical-align: middle;\n",
       "    }\n",
       "\n",
       "    .dataframe tbody tr th {\n",
       "        vertical-align: top;\n",
       "    }\n",
       "\n",
       "    .dataframe thead th {\n",
       "        text-align: right;\n",
       "    }\n",
       "</style>\n",
       "<table border=\"1\" class=\"dataframe\">\n",
       "  <thead>\n",
       "    <tr style=\"text-align: right;\">\n",
       "      <th></th>\n",
       "      <th>d</th>\n",
       "      <th>e</th>\n",
       "    </tr>\n",
       "  </thead>\n",
       "  <tbody>\n",
       "    <tr>\n",
       "      <th>0</th>\n",
       "      <td>3</td>\n",
       "      <td>8i</td>\n",
       "    </tr>\n",
       "    <tr>\n",
       "      <th>1</th>\n",
       "      <td>4</td>\n",
       "      <td>Y6</td>\n",
       "    </tr>\n",
       "    <tr>\n",
       "      <th>2</th>\n",
       "      <td>2</td>\n",
       "      <td>X09</td>\n",
       "    </tr>\n",
       "    <tr>\n",
       "      <th>3</th>\n",
       "      <td>5</td>\n",
       "      <td>m3</td>\n",
       "    </tr>\n",
       "  </tbody>\n",
       "</table>\n",
       "</div>"
      ],
      "text/plain": [
       "   d    e\n",
       "0  3   8i\n",
       "1  4   Y6\n",
       "2  2  X09\n",
       "3  5   m3"
      ]
     },
     "execution_count": 9,
     "metadata": {},
     "output_type": "execute_result"
    }
   ],
   "source": [
    "y = pd.read_csv('y.csv')\n",
    "y.head()"
   ]
  },
  {
   "cell_type": "code",
   "execution_count": 10,
   "metadata": {},
   "outputs": [
    {
     "data": {
      "text/html": [
       "<div>\n",
       "<style scoped>\n",
       "    .dataframe tbody tr th:only-of-type {\n",
       "        vertical-align: middle;\n",
       "    }\n",
       "\n",
       "    .dataframe tbody tr th {\n",
       "        vertical-align: top;\n",
       "    }\n",
       "\n",
       "    .dataframe thead th {\n",
       "        text-align: right;\n",
       "    }\n",
       "</style>\n",
       "<table border=\"1\" class=\"dataframe\">\n",
       "  <thead>\n",
       "    <tr style=\"text-align: right;\">\n",
       "      <th></th>\n",
       "      <th>a</th>\n",
       "      <th>b</th>\n",
       "      <th>c</th>\n",
       "      <th>e</th>\n",
       "    </tr>\n",
       "  </thead>\n",
       "  <tbody>\n",
       "    <tr>\n",
       "      <th>0</th>\n",
       "      <td>5</td>\n",
       "      <td>Ugh</td>\n",
       "      <td>wq</td>\n",
       "      <td>m3</td>\n",
       "    </tr>\n",
       "    <tr>\n",
       "      <th>1</th>\n",
       "      <td>2</td>\n",
       "      <td>Kj</td>\n",
       "      <td>asd</td>\n",
       "      <td>X09</td>\n",
       "    </tr>\n",
       "    <tr>\n",
       "      <th>2</th>\n",
       "      <td>3</td>\n",
       "      <td>Yu</td>\n",
       "      <td>Dx</td>\n",
       "      <td>8i</td>\n",
       "    </tr>\n",
       "    <tr>\n",
       "      <th>3</th>\n",
       "      <td>4</td>\n",
       "      <td>Po</td>\n",
       "      <td>Cv</td>\n",
       "      <td>Y6</td>\n",
       "    </tr>\n",
       "  </tbody>\n",
       "</table>\n",
       "</div>"
      ],
      "text/plain": [
       "   a    b    c    e\n",
       "0  5  Ugh   wq   m3\n",
       "1  2   Kj  asd  X09\n",
       "2  3   Yu   Dx   8i\n",
       "3  4   Po   Cv   Y6"
      ]
     },
     "execution_count": 10,
     "metadata": {},
     "output_type": "execute_result"
    }
   ],
   "source": [
    "z = pd.merge(x, y, left_on=\"a\", right_on=\"d\").drop('d', axis=1)\n",
    "z"
   ]
  },
  {
   "cell_type": "code",
   "execution_count": 11,
   "metadata": {},
   "outputs": [],
   "source": [
    "z.to_csv('result.csv')"
   ]
  },
  {
   "cell_type": "code",
   "execution_count": 45,
   "metadata": {},
   "outputs": [
    {
     "name": "stdout",
     "output_type": "stream",
     "text": [
      "E:\\test\n"
     ]
    }
   ],
   "source": [
    "import os\n",
    "os.chdir('E:\\\\test')\n",
    "print (os.getcwd())"
   ]
  },
  {
   "cell_type": "code",
   "execution_count": 2,
   "metadata": {},
   "outputs": [],
   "source": [
    "import pandas as pd\n",
    "from glob import glob"
   ]
  },
  {
   "cell_type": "code",
   "execution_count": 1,
   "metadata": {},
   "outputs": [],
   "source": [
    "# combining all files\n",
    "def combined(X,Y):\n",
    "   result_obj = pd.merge(X,Y, left_on ='a', right_index=True)\n",
    "   print(result_obj)\n",
    "   result_obj.to_csv('result.csv', index= False) \n",
    "   "
   ]
  },
  {
   "cell_type": "code",
   "execution_count": 5,
   "metadata": {},
   "outputs": [
    {
     "name": "stdout",
     "output_type": "stream",
     "text": [
      "   a    b    c    e\n",
      "0  5  Ugh   wq   m3\n",
      "1  2   Kj  asd  X09\n",
      "2  3   Yu   Dx   8i\n",
      "3  4   Po   Cv   Y6\n"
     ]
    }
   ],
   "source": [
    "X=pd.read_csv('X.csv')\n",
    "Y=pd.read_csv('Y.csv', index_col='d')\n",
    "combined(X,Y)"
   ]
  },
  {
   "cell_type": "code",
   "execution_count": null,
   "metadata": {},
   "outputs": [],
   "source": []
  },
  {
   "cell_type": "code",
   "execution_count": null,
   "metadata": {},
   "outputs": [],
   "source": []
  },
  {
   "cell_type": "code",
   "execution_count": null,
   "metadata": {},
   "outputs": [],
   "source": []
  },
  {
   "cell_type": "code",
   "execution_count": null,
   "metadata": {},
   "outputs": [],
   "source": [
    "#Kaggle Days"
   ]
  },
  {
   "cell_type": "code",
   "execution_count": 2,
   "metadata": {},
   "outputs": [
    {
     "name": "stdout",
     "output_type": "stream",
     "text": [
      "Requirement already satisfied: numpy in c:\\programdata\\anaconda3\\lib\\site-packages (1.15.4)\n",
      "Requirement already satisfied: pandas in c:\\programdata\\anaconda3\\lib\\site-packages (0.23.4)\n",
      "Requirement already satisfied: python-dateutil>=2.5.0 in c:\\programdata\\anaconda3\\lib\\site-packages (from pandas) (2.7.5)\n",
      "Requirement already satisfied: pytz>=2011k in c:\\programdata\\anaconda3\\lib\\site-packages (from pandas) (2018.7)\n",
      "Requirement already satisfied: numpy>=1.9.0 in c:\\programdata\\anaconda3\\lib\\site-packages (from pandas) (1.15.4)\n",
      "Requirement already satisfied: six>=1.5 in c:\\programdata\\anaconda3\\lib\\site-packages (from python-dateutil>=2.5.0->pandas) (1.12.0)\n",
      "Requirement already satisfied: matplotlib in c:\\programdata\\anaconda3\\lib\\site-packages (3.0.2)\n",
      "Requirement already satisfied: numpy>=1.10.0 in c:\\programdata\\anaconda3\\lib\\site-packages (from matplotlib) (1.15.4)\n",
      "Requirement already satisfied: cycler>=0.10 in c:\\programdata\\anaconda3\\lib\\site-packages (from matplotlib) (0.10.0)\n",
      "Requirement already satisfied: kiwisolver>=1.0.1 in c:\\programdata\\anaconda3\\lib\\site-packages (from matplotlib) (1.0.1)\n",
      "Requirement already satisfied: pyparsing!=2.0.4,!=2.1.2,!=2.1.6,>=2.0.1 in c:\\programdata\\anaconda3\\lib\\site-packages (from matplotlib) (2.3.0)\n",
      "Requirement already satisfied: python-dateutil>=2.1 in c:\\programdata\\anaconda3\\lib\\site-packages (from matplotlib) (2.7.5)\n",
      "Requirement already satisfied: six in c:\\programdata\\anaconda3\\lib\\site-packages (from cycler>=0.10->matplotlib) (1.12.0)\n",
      "Requirement already satisfied: setuptools in c:\\programdata\\anaconda3\\lib\\site-packages (from kiwisolver>=1.0.1->matplotlib) (40.6.3)\n",
      "Collecting jovian\n",
      "  Downloading https://files.pythonhosted.org/packages/51/65/22af4840c3919324e32de206d10332d8ece3d47e71dc46b7d72ae6972f80/jovian-0.1.82.tar.gz\n",
      "Requirement already satisfied: requests in c:\\programdata\\anaconda3\\lib\\site-packages (from jovian) (2.21.0)\n",
      "Collecting uuid (from jovian)\n",
      "  Downloading https://files.pythonhosted.org/packages/ce/63/f42f5aa951ebf2c8dac81f77a8edcc1c218640a2a35a03b9ff2d4aa64c3d/uuid-1.30.tar.gz\n",
      "Requirement already satisfied: pyyaml in c:\\programdata\\anaconda3\\lib\\site-packages (from jovian) (3.13)\n",
      "Requirement already satisfied: urllib3<1.25,>=1.21.1 in c:\\programdata\\anaconda3\\lib\\site-packages (from requests->jovian) (1.24.1)\n",
      "Requirement already satisfied: certifi>=2017.4.17 in c:\\programdata\\anaconda3\\lib\\site-packages (from requests->jovian) (2018.11.29)\n",
      "Requirement already satisfied: idna<2.9,>=2.5 in c:\\programdata\\anaconda3\\lib\\site-packages (from requests->jovian) (2.8)\n",
      "Requirement already satisfied: chardet<3.1.0,>=3.0.2 in c:\\programdata\\anaconda3\\lib\\site-packages (from requests->jovian) (3.0.4)\n",
      "Building wheels for collected packages: jovian, uuid\n",
      "  Running setup.py bdist_wheel for jovian: started\n",
      "  Running setup.py bdist_wheel for jovian: finished with status 'done'\n",
      "  Stored in directory: C:\\Users\\P RAJ\\AppData\\Local\\pip\\Cache\\wheels\\a9\\9d\\ea\\cc0e501b253a0f1e11dcad7ea61697c3ccbe3121be58a528f4\n",
      "  Running setup.py bdist_wheel for uuid: started\n",
      "  Running setup.py bdist_wheel for uuid: finished with status 'done'\n",
      "  Stored in directory: C:\\Users\\P RAJ\\AppData\\Local\\pip\\Cache\\wheels\\2a\\80\\9b\\015026567c29fdffe31d91edbe7ba1b17728db79194fca1f21\n",
      "Successfully built jovian uuid\n",
      "Installing collected packages: uuid, jovian\n",
      "Successfully installed jovian-0.1.82 uuid-1.30\n",
      "Collecting wordcloud\n",
      "  Downloading https://files.pythonhosted.org/packages/23/4e/1254d26ce5d36facdcbb5820e7e434328aed68e99938c75c9d4e2fee5efb/wordcloud-1.5.0-cp37-cp37m-win_amd64.whl (153kB)\n",
      "Requirement already satisfied: numpy>=1.6.1 in c:\\programdata\\anaconda3\\lib\\site-packages (from wordcloud) (1.15.4)\n",
      "Requirement already satisfied: pillow in c:\\programdata\\anaconda3\\lib\\site-packages (from wordcloud) (5.3.0)\n",
      "Installing collected packages: wordcloud\n",
      "Successfully installed wordcloud-1.5.0\n",
      "Collecting emoji\n",
      "  Downloading https://files.pythonhosted.org/packages/40/8d/521be7f0091fe0f2ae690cc044faf43e3445e0ff33c574eae752dd7e39fa/emoji-0.5.4.tar.gz (43kB)\n",
      "Building wheels for collected packages: emoji\n",
      "  Running setup.py bdist_wheel for emoji: started\n",
      "  Running setup.py bdist_wheel for emoji: finished with status 'done'\n",
      "  Stored in directory: C:\\Users\\P RAJ\\AppData\\Local\\pip\\Cache\\wheels\\2a\\a9\\0a\\4f8e8cce8074232aba240caca3fade315bb49fac68808d1a9c\n",
      "Successfully built emoji\n",
      "Installing collected packages: emoji\n",
      "Successfully installed emoji-0.5.4\n",
      "Requirement already satisfied: seaborn in c:\\programdata\\anaconda3\\lib\\site-packages (0.9.0)\n",
      "Requirement already satisfied: pandas>=0.15.2 in c:\\programdata\\anaconda3\\lib\\site-packages (from seaborn) (0.23.4)\n",
      "Requirement already satisfied: matplotlib>=1.4.3 in c:\\programdata\\anaconda3\\lib\\site-packages (from seaborn) (3.0.2)\n",
      "Requirement already satisfied: scipy>=0.14.0 in c:\\programdata\\anaconda3\\lib\\site-packages (from seaborn) (1.1.0)\n",
      "Requirement already satisfied: numpy>=1.9.3 in c:\\programdata\\anaconda3\\lib\\site-packages (from seaborn) (1.15.4)\n",
      "Requirement already satisfied: python-dateutil>=2.5.0 in c:\\programdata\\anaconda3\\lib\\site-packages (from pandas>=0.15.2->seaborn) (2.7.5)\n",
      "Requirement already satisfied: pytz>=2011k in c:\\programdata\\anaconda3\\lib\\site-packages (from pandas>=0.15.2->seaborn) (2018.7)\n",
      "Requirement already satisfied: cycler>=0.10 in c:\\programdata\\anaconda3\\lib\\site-packages (from matplotlib>=1.4.3->seaborn) (0.10.0)\n",
      "Requirement already satisfied: kiwisolver>=1.0.1 in c:\\programdata\\anaconda3\\lib\\site-packages (from matplotlib>=1.4.3->seaborn) (1.0.1)\n",
      "Requirement already satisfied: pyparsing!=2.0.4,!=2.1.2,!=2.1.6,>=2.0.1 in c:\\programdata\\anaconda3\\lib\\site-packages (from matplotlib>=1.4.3->seaborn) (2.3.0)\n",
      "Requirement already satisfied: six>=1.5 in c:\\programdata\\anaconda3\\lib\\site-packages (from python-dateutil>=2.5.0->pandas>=0.15.2->seaborn) (1.12.0)\n",
      "Requirement already satisfied: setuptools in c:\\programdata\\anaconda3\\lib\\site-packages (from kiwisolver>=1.0.1->matplotlib>=1.4.3->seaborn) (40.6.3)\n"
     ]
    }
   ],
   "source": [
    "!pip install numpy\n",
    "!pip install pandas\n",
    "!pip install matplotlib\n",
    "!pip install jovian\n",
    "!pip install wordcloud\n",
    "!pip install emoji\n",
    "!pip install seaborn"
   ]
  },
  {
   "cell_type": "code",
   "execution_count": 1,
   "metadata": {},
   "outputs": [
    {
     "data": {
      "application/javascript": [
       "if (window.IPython && IPython.notebook.kernel) IPython.notebook.kernel.execute('jovian.utils.jupyter.get_notebook_name_saved = lambda: \"' + IPython.notebook.notebook_name + '\"')"
      ],
      "text/plain": [
       "<IPython.core.display.Javascript object>"
      ]
     },
     "metadata": {},
     "output_type": "display_data"
    }
   ],
   "source": [
    "import re\n",
    "import jovian\n",
    "import numpy as np\n",
    "import pandas as pd\n",
    "import matplotlib.pyplot as plt\n",
    "import seaborn as sns\n",
    "from wordcloud import WordCloud, STOPWORDS\n",
    "import emoji\n",
    "from collections import Counter"
   ]
  },
  {
   "cell_type": "code",
   "execution_count": 10,
   "metadata": {},
   "outputs": [
    {
     "name": "stdout",
     "output_type": "stream",
     "text": [
      "Collecting dateparser\n",
      "  Downloading https://files.pythonhosted.org/packages/a0/30/5cb8bb214c0b111fb59137c2e19c636a136209dbe45e1c3e9d63f7a76c1a/dateparser-0.7.1-py2.py3-none-any.whl (351kB)\n",
      "Collecting tzlocal (from dateparser)\n",
      "  Downloading https://files.pythonhosted.org/packages/ef/99/53bd1ac9349262f59c1c421d8fcc2559ae8a5eeffed9202684756b648d33/tzlocal-2.0.0-py2.py3-none-any.whl\n",
      "Collecting regex (from dateparser)\n",
      "  Downloading https://files.pythonhosted.org/packages/f1/2f/f586e982712ffee5681ca149d54480dbb04ff533e9e4638c5e28ae76bdb5/regex-2019.08.19-cp37-none-win_amd64.whl (325kB)\n",
      "Requirement already satisfied: python-dateutil in c:\\programdata\\anaconda3\\lib\\site-packages (from dateparser) (2.7.5)\n",
      "Requirement already satisfied: pytz in c:\\programdata\\anaconda3\\lib\\site-packages (from dateparser) (2018.7)\n",
      "Requirement already satisfied: six>=1.5 in c:\\programdata\\anaconda3\\lib\\site-packages (from python-dateutil->dateparser) (1.12.0)\n",
      "Installing collected packages: tzlocal, regex, dateparser\n",
      "Successfully installed dateparser-0.7.1 regex-2019.8.19 tzlocal-2.0.0\n"
     ]
    }
   ],
   "source": [
    "!pip install dateparser"
   ]
  },
  {
   "cell_type": "code",
   "execution_count": 2,
   "metadata": {},
   "outputs": [],
   "source": [
    "import dateparser"
   ]
  },
  {
   "cell_type": "code",
   "execution_count": 3,
   "metadata": {},
   "outputs": [
    {
     "name": "stdout",
     "output_type": "stream",
     "text": [
      "E:\\Kaggle_meetup\n"
     ]
    }
   ],
   "source": [
    "import os\n",
    "os.chdir('E:\\\\Kaggle_meetup')\n",
    "print (os.getcwd())"
   ]
  },
  {
   "cell_type": "code",
   "execution_count": 4,
   "metadata": {},
   "outputs": [],
   "source": [
    "def rawToDf(file):\n",
    "    with open(file, 'r', encoding='utf-8') as raw_data:\n",
    "        raw_string = ' '.join(raw_data.read().split('\\n')) # converting the list split by newline char. as one whole string as there can be multi-line messages\n",
    "        user_msg = re.split('\\d{1,2}/\\d{1,2}/\\d{2,4},\\s\\d{1,2}:\\d{2}\\s[APap][mM]\\s-\\s', raw_string) [1:] # splits at all the date-time pattern, resulting in list of all the messages with user names\n",
    "        date_time = re.findall('\\d{1,2}/\\d{1,2}/\\d{2,4},\\s\\d{1,2}:\\d{2}\\s[APap][mM]\\s-\\s', raw_string) # finds all the date-time patterns\n",
    "        \n",
    "        df = pd.DataFrame({'date_time': date_time, 'user_msg': user_msg}) # exporting it to a df\n",
    "   \n",
    "    # converting date-time pattern which is of type String to type datetime, format is to be specified for the whole string where the placeholders are extracted by the method    \n",
    "    try:\n",
    "        df['date_time'] = df['date_time'].apply(lambda x: dateparser.parse(x))\n",
    "    except:\n",
    "        print(\"oo\")\n",
    "        try:\n",
    "            df['date_time'] = pd.to_datetime(df['date_time'], format='%m/%d/%y, %I:%M %p - ') #10/20/19, 10:24 pm - \n",
    "        except:\n",
    "            df['date_time'] = pd.to_datetime(df['date_time'], format='%d/%m/%Y, %I:%M %p - ') #20/10/2019, 10:24 pm -\n",
    "    \n",
    "    # split user and msg \n",
    "    usernames = []\n",
    "    msgs = []\n",
    "    for i in df['user_msg']:\n",
    "        a = re.split('([\\w\\W]+?):\\s', i) # lazy pattern match to first {user_name}: pattern and spliting it aka each msg from a user\n",
    "        if(a[1:]): # user typed messages\n",
    "            usernames.append(a[1])\n",
    "            msgs.append(a[2])\n",
    "        else: # other notifications in the group(eg: someone was added, some left ...)\n",
    "            usernames.append(\"grp_notif\")\n",
    "            msgs.append(a[0])\n",
    "\n",
    "    # creating new columns         \n",
    "    df['user'] = usernames\n",
    "    df['msg'] = msgs\n",
    "\n",
    "    # dropping the old user_msg col.\n",
    "    df.drop('user_msg', axis=1, inplace=True)\n",
    "    \n",
    "    return df"
   ]
  },
  {
   "cell_type": "code",
   "execution_count": 5,
   "metadata": {},
   "outputs": [],
   "source": [
    "df = rawToDf('The_World_Is_Flat.txt')"
   ]
  },
  {
   "cell_type": "code",
   "execution_count": 6,
   "metadata": {},
   "outputs": [
    {
     "data": {
      "text/html": [
       "<div>\n",
       "<style scoped>\n",
       "    .dataframe tbody tr th:only-of-type {\n",
       "        vertical-align: middle;\n",
       "    }\n",
       "\n",
       "    .dataframe tbody tr th {\n",
       "        vertical-align: top;\n",
       "    }\n",
       "\n",
       "    .dataframe thead th {\n",
       "        text-align: right;\n",
       "    }\n",
       "</style>\n",
       "<table border=\"1\" class=\"dataframe\">\n",
       "  <thead>\n",
       "    <tr style=\"text-align: right;\">\n",
       "      <th></th>\n",
       "      <th>date_time</th>\n",
       "      <th>user</th>\n",
       "      <th>msg</th>\n",
       "    </tr>\n",
       "  </thead>\n",
       "  <tbody>\n",
       "    <tr>\n",
       "      <th>0</th>\n",
       "      <td>2019-07-03 21:51:00</td>\n",
       "      <td>grp_notif</td>\n",
       "      <td>Messages to this group are now secured with en...</td>\n",
       "    </tr>\n",
       "    <tr>\n",
       "      <th>1</th>\n",
       "      <td>2019-07-03 21:51:00</td>\n",
       "      <td>grp_notif</td>\n",
       "      <td>You created group \"Twenty Two\"</td>\n",
       "    </tr>\n",
       "    <tr>\n",
       "      <th>2</th>\n",
       "      <td>2019-07-03 21:52:00</td>\n",
       "      <td>Pushkar R</td>\n",
       "      <td>Have your chats here</td>\n",
       "    </tr>\n",
       "    <tr>\n",
       "      <th>3</th>\n",
       "      <td>2019-07-03 21:52:00</td>\n",
       "      <td>PGDA_Naveen</td>\n",
       "      <td>Hey what is this 22?</td>\n",
       "    </tr>\n",
       "    <tr>\n",
       "      <th>4</th>\n",
       "      <td>2019-07-03 21:52:00</td>\n",
       "      <td>PGDA_Viqnesh</td>\n",
       "      <td>Ooh k cool</td>\n",
       "    </tr>\n",
       "  </tbody>\n",
       "</table>\n",
       "</div>"
      ],
      "text/plain": [
       "            date_time          user  \\\n",
       "0 2019-07-03 21:51:00     grp_notif   \n",
       "1 2019-07-03 21:51:00     grp_notif   \n",
       "2 2019-07-03 21:52:00     Pushkar R   \n",
       "3 2019-07-03 21:52:00   PGDA_Naveen   \n",
       "4 2019-07-03 21:52:00  PGDA_Viqnesh   \n",
       "\n",
       "                                                 msg  \n",
       "0  Messages to this group are now secured with en...  \n",
       "1                    You created group \"Twenty Two\"   \n",
       "2                              Have your chats here   \n",
       "3                              Hey what is this 22?   \n",
       "4                                        Ooh k cool   "
      ]
     },
     "execution_count": 6,
     "metadata": {},
     "output_type": "execute_result"
    }
   ],
   "source": [
    "df.head()"
   ]
  },
  {
   "cell_type": "code",
   "execution_count": 7,
   "metadata": {},
   "outputs": [
    {
     "data": {
      "text/html": [
       "<div>\n",
       "<style scoped>\n",
       "    .dataframe tbody tr th:only-of-type {\n",
       "        vertical-align: middle;\n",
       "    }\n",
       "\n",
       "    .dataframe tbody tr th {\n",
       "        vertical-align: top;\n",
       "    }\n",
       "\n",
       "    .dataframe thead th {\n",
       "        text-align: right;\n",
       "    }\n",
       "</style>\n",
       "<table border=\"1\" class=\"dataframe\">\n",
       "  <thead>\n",
       "    <tr style=\"text-align: right;\">\n",
       "      <th></th>\n",
       "      <th>date_time</th>\n",
       "      <th>user</th>\n",
       "      <th>msg</th>\n",
       "    </tr>\n",
       "  </thead>\n",
       "  <tbody>\n",
       "    <tr>\n",
       "      <th>1806</th>\n",
       "      <td>2019-08-08 21:17:00</td>\n",
       "      <td>PGDA_Nitin</td>\n",
       "      <td>Honestly, I remember more about the food he ta...</td>\n",
       "    </tr>\n",
       "    <tr>\n",
       "      <th>2115</th>\n",
       "      <td>2019-09-16 15:54:00</td>\n",
       "      <td>Pushkar R</td>\n",
       "      <td>&lt;Media omitted&gt;</td>\n",
       "    </tr>\n",
       "    <tr>\n",
       "      <th>1231</th>\n",
       "      <td>2019-04-25 13:31:00</td>\n",
       "      <td>PGDA_Naomi</td>\n",
       "      <td>Buy anything dude. Normal chocolate flavour.</td>\n",
       "    </tr>\n",
       "    <tr>\n",
       "      <th>2192</th>\n",
       "      <td>2019-01-10 18:50:00</td>\n",
       "      <td>Pushkar R</td>\n",
       "      <td>How bout morrow??</td>\n",
       "    </tr>\n",
       "    <tr>\n",
       "      <th>1283</th>\n",
       "      <td>2019-04-26 16:41:00</td>\n",
       "      <td>PGDA_Viqnesh</td>\n",
       "      <td>To c the webminar</td>\n",
       "    </tr>\n",
       "    <tr>\n",
       "      <th>687</th>\n",
       "      <td>2019-04-04 18:28:00</td>\n",
       "      <td>PGDA_Viqnesh</td>\n",
       "      <td>Blore is best 😍</td>\n",
       "    </tr>\n",
       "    <tr>\n",
       "      <th>1425</th>\n",
       "      <td>2019-02-05 20:07:00</td>\n",
       "      <td>PGDA_Naveen</td>\n",
       "      <td>Yup</td>\n",
       "    </tr>\n",
       "    <tr>\n",
       "      <th>320</th>\n",
       "      <td>2019-03-20 21:19:00</td>\n",
       "      <td>PGDA_Viqnesh</td>\n",
       "      <td>2k</td>\n",
       "    </tr>\n",
       "    <tr>\n",
       "      <th>410</th>\n",
       "      <td>2019-03-28 19:25:00</td>\n",
       "      <td>PGDA_Soumya</td>\n",
       "      <td>https://www.surveymonkey.com/r/WCM2K22</td>\n",
       "    </tr>\n",
       "    <tr>\n",
       "      <th>1318</th>\n",
       "      <td>2019-04-26 17:46:00</td>\n",
       "      <td>PGDA_Naomi</td>\n",
       "      <td>It's same as coursera course</td>\n",
       "    </tr>\n",
       "  </tbody>\n",
       "</table>\n",
       "</div>"
      ],
      "text/plain": [
       "               date_time          user  \\\n",
       "1806 2019-08-08 21:17:00    PGDA_Nitin   \n",
       "2115 2019-09-16 15:54:00     Pushkar R   \n",
       "1231 2019-04-25 13:31:00    PGDA_Naomi   \n",
       "2192 2019-01-10 18:50:00     Pushkar R   \n",
       "1283 2019-04-26 16:41:00  PGDA_Viqnesh   \n",
       "687  2019-04-04 18:28:00  PGDA_Viqnesh   \n",
       "1425 2019-02-05 20:07:00   PGDA_Naveen   \n",
       "320  2019-03-20 21:19:00  PGDA_Viqnesh   \n",
       "410  2019-03-28 19:25:00   PGDA_Soumya   \n",
       "1318 2019-04-26 17:46:00    PGDA_Naomi   \n",
       "\n",
       "                                                    msg  \n",
       "1806  Honestly, I remember more about the food he ta...  \n",
       "2115                                   <Media omitted>   \n",
       "1231      Buy anything dude. Normal chocolate flavour.   \n",
       "2192                                 How bout morrow??   \n",
       "1283                                 To c the webminar   \n",
       "687                                    Blore is best 😍   \n",
       "1425                                               Yup   \n",
       "320                                                 2k   \n",
       "410             https://www.surveymonkey.com/r/WCM2K22   \n",
       "1318                      It's same as coursera course   "
      ]
     },
     "execution_count": 7,
     "metadata": {},
     "output_type": "execute_result"
    }
   ],
   "source": [
    "df.sample(10)"
   ]
  },
  {
   "cell_type": "code",
   "execution_count": 8,
   "metadata": {},
   "outputs": [
    {
     "name": "stdout",
     "output_type": "stream",
     "text": [
      "<class 'pandas.core.frame.DataFrame'>\n",
      "RangeIndex: 2380 entries, 0 to 2379\n",
      "Data columns (total 3 columns):\n",
      "date_time    2380 non-null datetime64[ns]\n",
      "user         2380 non-null object\n",
      "msg          2380 non-null object\n",
      "dtypes: datetime64[ns](1), object(2)\n",
      "memory usage: 55.9+ KB\n"
     ]
    }
   ],
   "source": [
    "df.describe()\n",
    "df.info()"
   ]
  },
  {
   "cell_type": "code",
   "execution_count": 9,
   "metadata": {},
   "outputs": [
    {
     "data": {
      "text/plain": [
       "3"
      ]
     },
     "execution_count": 9,
     "metadata": {},
     "output_type": "execute_result"
    }
   ],
   "source": [
    "df.columns\n",
    "len(df.columns)"
   ]
  },
  {
   "cell_type": "code",
   "execution_count": 10,
   "metadata": {},
   "outputs": [
    {
     "data": {
      "text/plain": [
       "<bound method DataFrame.isna of                date_time          user  \\\n",
       "0    2019-07-03 21:51:00     grp_notif   \n",
       "1    2019-07-03 21:51:00     grp_notif   \n",
       "2    2019-07-03 21:52:00     Pushkar R   \n",
       "3    2019-07-03 21:52:00   PGDA_Naveen   \n",
       "4    2019-07-03 21:52:00  PGDA_Viqnesh   \n",
       "5    2019-07-03 21:53:00   PGDA_Naveen   \n",
       "6    2019-07-03 21:53:00     Pushkar R   \n",
       "7    2019-07-03 21:54:00   PGDA_Naveen   \n",
       "8    2019-07-03 21:54:00     Pushkar R   \n",
       "9    2019-07-03 21:54:00   PGDA_Naveen   \n",
       "10   2019-07-03 21:54:00   PGDA_Naveen   \n",
       "11   2019-07-03 21:54:00   PGDA_Naveen   \n",
       "12   2019-07-03 21:55:00     Pushkar R   \n",
       "13   2019-07-03 21:55:00  PGDA_prakash   \n",
       "14   2019-07-03 21:55:00   PGDA_Naveen   \n",
       "15   2019-07-03 21:55:00   PGDA_Naveen   \n",
       "16   2019-07-03 21:56:00  PGDA_prakash   \n",
       "17   2019-07-03 21:56:00   PGDA_Naveen   \n",
       "18   2019-07-03 21:56:00   PGDA_Naveen   \n",
       "19   2019-07-03 21:57:00  PGDA_prakash   \n",
       "20   2019-07-03 21:57:00  PGDA_prakash   \n",
       "21   2019-07-03 21:57:00   PGDA_Naveen   \n",
       "22   2019-07-03 21:57:00   PGDA_Naveen   \n",
       "23   2019-07-03 21:58:00     Pushkar R   \n",
       "24   2019-07-03 21:58:00   PGDA_Naveen   \n",
       "25   2019-07-03 21:59:00   PGDA_Naveen   \n",
       "26   2019-07-03 21:59:00   PGDA_Naveen   \n",
       "27   2019-07-03 21:59:00  PGDA_prakash   \n",
       "28   2019-07-03 21:59:00   PGDA_Naveen   \n",
       "29   2019-07-03 22:00:00   PGDA_Naveen   \n",
       "...                  ...           ...   \n",
       "2350 2019-08-10 23:02:00     Pushkar R   \n",
       "2351 2019-08-10 23:03:00     Pushkar R   \n",
       "2352 2019-08-10 23:11:00    PGDA_Nitin   \n",
       "2353 2019-08-10 23:11:00    PGDA_Nitin   \n",
       "2354 2019-08-10 23:11:00     Pushkar R   \n",
       "2355 2019-08-10 23:11:00    PGDA_Nitin   \n",
       "2356 2019-08-10 23:11:00     Pushkar R   \n",
       "2357 2019-08-10 23:11:00     Pushkar R   \n",
       "2358 2019-08-10 23:11:00    PGDA_Nitin   \n",
       "2359 2019-08-10 23:12:00    PGDA_Nitin   \n",
       "2360 2019-08-10 23:12:00    PGDA_Nitin   \n",
       "2361 2019-08-10 23:12:00     Pushkar R   \n",
       "2362 2019-08-10 23:12:00     Pushkar R   \n",
       "2363 2019-08-10 23:12:00     Pushkar R   \n",
       "2364 2019-08-10 23:12:00    PGDA_Nitin   \n",
       "2365 2019-08-10 23:13:00    PGDA_Nitin   \n",
       "2366 2019-08-10 23:13:00  PGDA_Viqnesh   \n",
       "2367 2019-08-10 23:13:00     Pushkar R   \n",
       "2368 2019-08-10 23:13:00    PGDA_Nitin   \n",
       "2369 2019-08-10 23:13:00     Pushkar R   \n",
       "2370 2019-08-10 23:13:00     Pushkar R   \n",
       "2371 2019-08-10 23:17:00    PGDA_Nitin   \n",
       "2372 2019-08-10 23:17:00    PGDA_Nitin   \n",
       "2373 2019-08-10 23:18:00     Pushkar R   \n",
       "2374 2019-08-10 23:19:00    PGDA_Nitin   \n",
       "2375 2019-08-10 23:20:00    PGDA_Nitin   \n",
       "2376 2019-08-10 23:20:00    PGDA_Nitin   \n",
       "2377 2019-08-10 23:20:00     Pushkar R   \n",
       "2378 2019-08-10 23:20:00    PGDA_Nitin   \n",
       "2379 2019-08-10 23:21:00     Pushkar R   \n",
       "\n",
       "                                                    msg  \n",
       "0     Messages to this group are now secured with en...  \n",
       "1                       You created group \"Twenty Two\"   \n",
       "2                                 Have your chats here   \n",
       "3                                 Hey what is this 22?   \n",
       "4                                           Ooh k cool   \n",
       "5                                        Okay bro cool   \n",
       "6     Please leave that group strictly for class pur...  \n",
       "7     Bro if he too interested he will also join wit...  \n",
       "8                       Okay. Ask him in the classroom   \n",
       "9                                         Okay bro....   \n",
       "10                                  Bro how about you?   \n",
       "11                                   Joining with us ?   \n",
       "12       I'm always in when it comes to free lunch 😁😁😁   \n",
       "13                                        Hi...guys...   \n",
       "14                                      Lol.... Bro...   \n",
       "15                                             Hey bro   \n",
       "16                                            Hello...   \n",
       "17                      Okay bro we all order you pay😝   \n",
       "18                                           Ssup bro?   \n",
       "19                  Pushkar bro...what is meant by 22.   \n",
       "20                                       Could u plss.   \n",
       "21                    Yeah bro I was about to ask you.   \n",
       "22                            What is this twenty two?   \n",
       "23                     It's the inception of our batch   \n",
       "24                                          Inception?   \n",
       "25                                       Y so that 22?   \n",
       "26                                               Date😳   \n",
       "27     Know... u can mention it as  9th batch right...   \n",
       "28                                              Ho god   \n",
       "29                     No bro let us name differently😅   \n",
       "...                                                 ...  \n",
       "2350                                 अबे टाइप कर लो बे   \n",
       "2351                     Otherwise I'll go there alone   \n",
       "2352             Pushkar it wouldn't make a difference   \n",
       "2353  If they are refunding half the amount . That w...  \n",
       "2354                                 What to do then??   \n",
       "2355                      I have given up on imarticus   \n",
       "2356                               Have they said so??   \n",
       "2357                                Returning amount??   \n",
       "2358                                              Nope   \n",
       "2359                                       They aren't   \n",
       "2360    I said if they do that it would be a good news   \n",
       "2361                     It would be better than great   \n",
       "2362                                     No just great   \n",
       "2363                  For that we all need to be there   \n",
       "2364                        Keep trying through baukri   \n",
       "2365                                            Naukri   \n",
       "2366                                 Tmr i cannot come   \n",
       "2367                          You're right it's baukri   \n",
       "2368                                         Mistake 😂   \n",
       "2369                      Sala still not getting calls   \n",
       "2370                                         Are you??   \n",
       "2371                                               Lol   \n",
       "2372                                  Stopped applying   \n",
       "2373                                                🤯🤯   \n",
       "2374  Every where I apply , my profile is sufficient...  \n",
       "2375  That only implies I don't have substance to my...  \n",
       "2376  So there is no point in applying until I creat...  \n",
       "2377                                          Areeeeee   \n",
       "2378                                             Isn't   \n",
       "2379  Let me DM you, I don't want to bother others h...  \n",
       "\n",
       "[2380 rows x 3 columns]>"
      ]
     },
     "execution_count": 10,
     "metadata": {},
     "output_type": "execute_result"
    }
   ],
   "source": [
    "df.isna"
   ]
  },
  {
   "cell_type": "code",
   "execution_count": 11,
   "metadata": {},
   "outputs": [
    {
     "data": {
      "text/plain": [
       "(2380, 3)"
      ]
     },
     "execution_count": 11,
     "metadata": {},
     "output_type": "execute_result"
    }
   ],
   "source": [
    "df.shape # no. of msgs"
   ]
  },
  {
   "cell_type": "markdown",
   "metadata": {},
   "source": [
    "# No. of images, group notifications and dropping them"
   ]
  },
  {
   "cell_type": "code",
   "execution_count": 12,
   "metadata": {},
   "outputs": [
    {
     "data": {
      "text/plain": [
       "(119, 3)"
      ]
     },
     "execution_count": 12,
     "metadata": {},
     "output_type": "execute_result"
    }
   ],
   "source": [
    "images = df[df['msg']==\"<Media omitted> \"] #no. of images, images are represented by <media omitted>\n",
    "images.shape"
   ]
  },
  {
   "cell_type": "code",
   "execution_count": 13,
   "metadata": {},
   "outputs": [
    {
     "data": {
      "text/plain": [
       "(23, 3)"
      ]
     },
     "execution_count": 13,
     "metadata": {},
     "output_type": "execute_result"
    }
   ],
   "source": [
    "grp_notif = df[df['user']==\"grp_notif\"] #no. of grp notifications\n",
    "grp_notif.shape"
   ]
  },
  {
   "cell_type": "code",
   "execution_count": 14,
   "metadata": {},
   "outputs": [],
   "source": [
    "df.drop(images.index, inplace=True) #removing images\n",
    "df.drop(grp_notif.index, inplace=True) #removing grp_notif"
   ]
  },
  {
   "cell_type": "code",
   "execution_count": 15,
   "metadata": {},
   "outputs": [
    {
     "data": {
      "text/plain": [
       "(2238, 3)"
      ]
     },
     "execution_count": 15,
     "metadata": {},
     "output_type": "execute_result"
    }
   ],
   "source": [
    "df.reset_index(inplace=True, drop=True)\n",
    "df.shape"
   ]
  },
  {
   "cell_type": "code",
   "execution_count": null,
   "metadata": {},
   "outputs": [],
   "source": [
    "# Who is the most active member of the group. who is the least active. Is it sa,e on weekday weekend?"
   ]
  },
  {
   "cell_type": "code",
   "execution_count": 16,
   "metadata": {},
   "outputs": [
    {
     "data": {
      "text/html": [
       "<div>\n",
       "<style scoped>\n",
       "    .dataframe tbody tr th:only-of-type {\n",
       "        vertical-align: middle;\n",
       "    }\n",
       "\n",
       "    .dataframe tbody tr th {\n",
       "        vertical-align: top;\n",
       "    }\n",
       "\n",
       "    .dataframe thead th {\n",
       "        text-align: right;\n",
       "    }\n",
       "</style>\n",
       "<table border=\"1\" class=\"dataframe\">\n",
       "  <thead>\n",
       "    <tr style=\"text-align: right;\">\n",
       "      <th></th>\n",
       "      <th>date_time</th>\n",
       "      <th>user</th>\n",
       "      <th>msg</th>\n",
       "    </tr>\n",
       "  </thead>\n",
       "  <tbody>\n",
       "    <tr>\n",
       "      <th>0</th>\n",
       "      <td>2019-07-03 21:52:00</td>\n",
       "      <td>Pushkar R</td>\n",
       "      <td>Have your chats here</td>\n",
       "    </tr>\n",
       "    <tr>\n",
       "      <th>1</th>\n",
       "      <td>2019-07-03 21:52:00</td>\n",
       "      <td>PGDA_Naveen</td>\n",
       "      <td>Hey what is this 22?</td>\n",
       "    </tr>\n",
       "    <tr>\n",
       "      <th>2</th>\n",
       "      <td>2019-07-03 21:52:00</td>\n",
       "      <td>PGDA_Viqnesh</td>\n",
       "      <td>Ooh k cool</td>\n",
       "    </tr>\n",
       "    <tr>\n",
       "      <th>3</th>\n",
       "      <td>2019-07-03 21:53:00</td>\n",
       "      <td>PGDA_Naveen</td>\n",
       "      <td>Okay bro cool</td>\n",
       "    </tr>\n",
       "    <tr>\n",
       "      <th>4</th>\n",
       "      <td>2019-07-03 21:53:00</td>\n",
       "      <td>Pushkar R</td>\n",
       "      <td>Please leave that group strictly for class pur...</td>\n",
       "    </tr>\n",
       "  </tbody>\n",
       "</table>\n",
       "</div>"
      ],
      "text/plain": [
       "            date_time          user  \\\n",
       "0 2019-07-03 21:52:00     Pushkar R   \n",
       "1 2019-07-03 21:52:00   PGDA_Naveen   \n",
       "2 2019-07-03 21:52:00  PGDA_Viqnesh   \n",
       "3 2019-07-03 21:53:00   PGDA_Naveen   \n",
       "4 2019-07-03 21:53:00     Pushkar R   \n",
       "\n",
       "                                                 msg  \n",
       "0                              Have your chats here   \n",
       "1                              Hey what is this 22?   \n",
       "2                                        Ooh k cool   \n",
       "3                                     Okay bro cool   \n",
       "4  Please leave that group strictly for class pur...  "
      ]
     },
     "execution_count": 16,
     "metadata": {},
     "output_type": "execute_result"
    }
   ],
   "source": [
    "df.head()"
   ]
  },
  {
   "cell_type": "code",
   "execution_count": 18,
   "metadata": {},
   "outputs": [
    {
     "data": {
      "text/html": [
       "<div>\n",
       "<style scoped>\n",
       "    .dataframe tbody tr th:only-of-type {\n",
       "        vertical-align: middle;\n",
       "    }\n",
       "\n",
       "    .dataframe tbody tr th {\n",
       "        vertical-align: top;\n",
       "    }\n",
       "\n",
       "    .dataframe thead th {\n",
       "        text-align: right;\n",
       "    }\n",
       "</style>\n",
       "<table border=\"1\" class=\"dataframe\">\n",
       "  <thead>\n",
       "    <tr style=\"text-align: right;\">\n",
       "      <th></th>\n",
       "      <th>date_time</th>\n",
       "      <th>user</th>\n",
       "      <th>msg</th>\n",
       "    </tr>\n",
       "  </thead>\n",
       "  <tbody>\n",
       "  </tbody>\n",
       "</table>\n",
       "</div>"
      ],
      "text/plain": [
       "Empty DataFrame\n",
       "Columns: [date_time, user, msg]\n",
       "Index: []"
      ]
     },
     "execution_count": 18,
     "metadata": {},
     "output_type": "execute_result"
    }
   ],
   "source": [
    "# How many time birthday was called in this\n",
    "df[df.msg.str.contains('birthday')]"
   ]
  },
  {
   "cell_type": "code",
   "execution_count": 19,
   "metadata": {},
   "outputs": [
    {
     "name": "stdout",
     "output_type": "stream",
     "text": [
      "2\n",
      "34\n",
      "2\n",
      "24\n",
      "2\n",
      "0\n",
      "3\n",
      "0\n",
      "0\n",
      "1\n",
      "2\n",
      "2\n",
      "0\n",
      "1\n",
      "1\n",
      "2\n",
      "0\n",
      "2\n",
      "0\n",
      "1\n",
      "19\n",
      "1\n",
      "1\n",
      "1\n",
      "0\n",
      "1\n",
      "3\n",
      "0\n",
      "4\n",
      "6\n",
      "3\n",
      "16\n",
      "0\n",
      "9\n",
      "4\n",
      "0\n",
      "8\n",
      "0\n",
      "0\n",
      "0\n",
      "5\n",
      "0\n",
      "7\n",
      "3\n",
      "1\n",
      "1\n",
      "0\n",
      "2\n",
      "0\n",
      "3\n",
      "19\n",
      "0\n",
      "0\n",
      "1\n",
      "0\n",
      "0\n",
      "6\n",
      "2\n",
      "0\n",
      "1\n",
      "13\n",
      "2\n",
      "1\n",
      "0\n",
      "2\n",
      "2\n",
      "0\n",
      "0\n",
      "0\n",
      "3\n",
      "0\n",
      "0\n",
      "10\n",
      "10\n",
      "1\n",
      "0\n",
      "0\n",
      "2\n",
      "0\n",
      "2\n",
      "0\n",
      "0\n",
      "1\n",
      "0\n",
      "0\n",
      "1\n",
      "2\n",
      "0\n",
      "5\n",
      "3\n",
      "1\n",
      "1\n",
      "0\n",
      "1\n",
      "1\n",
      "1\n",
      "1\n",
      "1\n",
      "0\n",
      "6\n",
      "12\n",
      "0\n",
      "0\n",
      "1\n",
      "0\n",
      "80\n",
      "15\n",
      "0\n",
      "8\n",
      "0\n",
      "31\n",
      "8\n",
      "4\n",
      "15\n",
      "0\n",
      "6\n",
      "25\n",
      "0\n",
      "1\n",
      "0\n",
      "0\n",
      "1\n",
      "1\n",
      "16\n",
      "0\n",
      "0\n",
      "4\n",
      "3\n",
      "0\n",
      "1\n",
      "0\n",
      "1\n",
      "0\n",
      "0\n",
      "0\n",
      "1\n",
      "0\n",
      "0\n",
      "0\n",
      "2\n",
      "1\n",
      "0\n",
      "0\n",
      "0\n",
      "1\n",
      "14\n",
      "0\n",
      "0\n",
      "0\n",
      "2\n",
      "2\n",
      "0\n",
      "0\n",
      "9\n",
      "0\n",
      "0\n",
      "2\n",
      "2\n",
      "0\n",
      "0\n",
      "8\n",
      "0\n",
      "1\n",
      "2\n",
      "1\n",
      "8\n",
      "3\n",
      "0\n",
      "0\n",
      "2\n",
      "3\n",
      "0\n",
      "0\n",
      "1\n",
      "2\n",
      "0\n",
      "2\n",
      "24\n",
      "0\n",
      "0\n",
      "0\n",
      "2\n",
      "16\n",
      "0\n",
      "0\n",
      "1\n",
      "0\n",
      "0\n",
      "0\n",
      "0\n",
      "0\n",
      "4\n",
      "5\n",
      "0\n",
      "0\n",
      "0\n",
      "0\n",
      "1\n",
      "0\n",
      "0\n",
      "0\n",
      "1\n",
      "1\n",
      "1\n",
      "0\n",
      "1\n",
      "2\n",
      "0\n",
      "0\n",
      "1\n",
      "0\n",
      "1\n",
      "0\n",
      "0\n",
      "0\n",
      "0\n",
      "1\n",
      "0\n",
      "0\n",
      "3\n",
      "0\n",
      "0\n",
      "3\n",
      "1\n",
      "0\n",
      "0\n",
      "0\n",
      "0\n",
      "0\n",
      "1\n",
      "0\n",
      "0\n",
      "0\n",
      "2\n",
      "0\n",
      "1\n",
      "1\n",
      "0\n",
      "1\n",
      "1\n",
      "2\n",
      "1\n",
      "0\n",
      "2\n",
      "0\n",
      "1\n",
      "4\n",
      "0\n",
      "0\n",
      "2\n",
      "0\n",
      "0\n",
      "0\n",
      "3\n",
      "0\n",
      "2\n",
      "1\n",
      "0\n",
      "0\n",
      "0\n",
      "0\n",
      "5\n",
      "0\n",
      "1\n",
      "0\n",
      "0\n",
      "0\n",
      "0\n",
      "1\n",
      "0\n",
      "2\n",
      "8\n",
      "0\n",
      "0\n",
      "0\n",
      "21\n",
      "0\n",
      "1\n",
      "0\n",
      "0\n",
      "0\n",
      "0\n",
      "1\n",
      "1\n",
      "0\n",
      "0\n",
      "0\n",
      "1\n",
      "5\n",
      "0\n",
      "1\n",
      "0\n",
      "0\n",
      "6\n",
      "0\n",
      "2\n",
      "0\n",
      "6\n",
      "1\n",
      "1\n",
      "0\n",
      "0\n",
      "31\n",
      "0\n",
      "0\n",
      "23\n",
      "26\n",
      "32\n",
      "1\n",
      "6\n",
      "1\n",
      "0\n",
      "1\n",
      "1\n",
      "1\n",
      "1\n",
      "0\n",
      "0\n",
      "0\n",
      "1\n",
      "0\n",
      "0\n",
      "0\n",
      "0\n",
      "0\n",
      "0\n",
      "0\n",
      "1\n",
      "4\n",
      "0\n",
      "2\n",
      "1\n",
      "0\n",
      "1\n",
      "4\n",
      "3\n",
      "0\n",
      "1\n",
      "7\n",
      "0\n",
      "0\n",
      "3\n",
      "0\n",
      "3\n",
      "14\n",
      "7\n",
      "9\n",
      "0\n",
      "0\n",
      "3\n",
      "24\n",
      "0\n",
      "23\n",
      "0\n",
      "1\n",
      "0\n",
      "1\n",
      "41\n",
      "0\n",
      "0\n",
      "1\n",
      "0\n",
      "0\n",
      "0\n",
      "0\n",
      "1\n",
      "3\n",
      "1\n",
      "1\n",
      "0\n",
      "2\n",
      "1\n",
      "8\n",
      "0\n",
      "25\n",
      "0\n",
      "9\n",
      "0\n",
      "1\n",
      "0\n",
      "16\n",
      "0\n",
      "0\n",
      "18\n",
      "0\n",
      "10\n",
      "2\n",
      "23\n",
      "0\n",
      "0\n",
      "11\n",
      "0\n",
      "1\n",
      "0\n",
      "1\n",
      "0\n",
      "0\n",
      "52\n",
      "0\n",
      "0\n",
      "1\n",
      "1\n",
      "3\n",
      "54\n",
      "0\n",
      "0\n",
      "0\n",
      "9\n",
      "0\n",
      "0\n",
      "1\n",
      "2\n",
      "13\n",
      "0\n",
      "0\n",
      "3\n",
      "0\n",
      "0\n",
      "0\n",
      "0\n",
      "4\n",
      "0\n",
      "1\n",
      "0\n",
      "1\n",
      "2\n",
      "0\n",
      "1\n",
      "0\n",
      "0\n",
      "1\n",
      "0\n",
      "1\n",
      "2\n",
      "0\n",
      "2\n",
      "0\n",
      "1\n",
      "1\n",
      "2\n",
      "0\n",
      "0\n",
      "2\n",
      "9\n",
      "1\n",
      "0\n",
      "0\n",
      "4\n",
      "1\n",
      "1\n",
      "1\n",
      "1\n",
      "3\n",
      "0\n",
      "65\n",
      "0\n",
      "1\n",
      "0\n",
      "1\n",
      "0\n",
      "2\n",
      "0\n",
      "2\n",
      "2\n",
      "1\n",
      "2\n",
      "1\n",
      "2\n",
      "0\n",
      "1\n",
      "2\n",
      "0\n",
      "7\n",
      "10\n",
      "0\n",
      "37\n",
      "2\n",
      "0\n",
      "0\n",
      "1\n",
      "0\n",
      "1\n",
      "7\n",
      "9\n",
      "0\n",
      "0\n",
      "35\n",
      "0\n",
      "4\n",
      "11\n",
      "4\n",
      "9\n",
      "18\n",
      "5\n",
      "9\n",
      "6\n",
      "2\n",
      "1\n",
      "9\n",
      "3\n",
      "2\n",
      "0\n",
      "1\n",
      "1\n",
      "0\n",
      "0\n",
      "4\n",
      "1\n",
      "0\n",
      "4\n",
      "1\n",
      "1\n",
      "0\n",
      "2\n",
      "2\n",
      "2\n",
      "3\n",
      "0\n",
      "1\n",
      "2\n",
      "1\n",
      "1\n",
      "1\n",
      "1\n",
      "21\n",
      "5\n",
      "1\n",
      "0\n",
      "2\n",
      "3\n",
      "2\n",
      "23\n"
     ]
    }
   ],
   "source": [
    "# When was the longest i was inactive\n",
    "c = 0\n",
    "for i in df['user']:\n",
    "    if i != \"PGDA_Viqnesh\":\n",
    "        c = c + 1\n",
    "    else: \n",
    "        print(c)\n",
    "        c = 0 "
   ]
  },
  {
   "cell_type": "code",
   "execution_count": 20,
   "metadata": {},
   "outputs": [
    {
     "data": {
      "text/plain": [
       "user\n",
       "Pushkar R           568\n",
       "PGDA_Viqnesh        532\n",
       "PGDA_Rasmita        307\n",
       "PGDA_Nitin          307\n",
       "PGDA_Naveen         241\n",
       "PGDA_Naomi           79\n",
       "PGDA_Rashmi          70\n",
       "PGDA_Soumya          45\n",
       "PGDA_Mahalakshmi     39\n",
       "PGDA_Manaswini       15\n",
       "PGDA_prakash         12\n",
       "PGDA_Sirohi           7\n",
       "PGDA_Naveen Raj       6\n",
       "PGDA_Krishna          5\n",
       "PGDA_ Praneeth        5\n",
       "Name: msg, dtype: int64"
      ]
     },
     "execution_count": 20,
     "metadata": {},
     "output_type": "execute_result"
    }
   ],
   "source": [
    "df.groupby(\"user\")[\"msg\"].count().sort_values(ascending=False)"
   ]
  },
  {
   "cell_type": "code",
   "execution_count": 21,
   "metadata": {},
   "outputs": [],
   "source": [
    "df['weekday'] = df['date_time'].apply(lambda x: x.day_name()) # can use day_name or weekday from datetime \n",
    "\n",
    "\n",
    "#Note: we could record the functionlity of date time and use it every where"
   ]
  },
  {
   "cell_type": "code",
   "execution_count": 22,
   "metadata": {},
   "outputs": [
    {
     "data": {
      "text/plain": [
       "Monday       633\n",
       "Friday       397\n",
       "Tuesday      362\n",
       "Thursday     358\n",
       "Wednesday    306\n",
       "Saturday     107\n",
       "Sunday        75\n",
       "Name: weekday, dtype: int64"
      ]
     },
     "execution_count": 22,
     "metadata": {},
     "output_type": "execute_result"
    }
   ],
   "source": [
    "df.weekday.value_counts(sort=True)"
   ]
  },
  {
   "cell_type": "code",
   "execution_count": 26,
   "metadata": {},
   "outputs": [
    {
     "data": {
      "text/plain": [
       "Pushkar R         24\n",
       "PGDA_Naveen       14\n",
       "PGDA_Viqnesh       9\n",
       "PGDA_Rasmita       9\n",
       "PGDA_Nitin         9\n",
       "PGDA_Soumya        3\n",
       "PGDA_Naomi         2\n",
       "PGDA_Manaswini     2\n",
       "PGDA_Rashmi        2\n",
       "PGDA_Krishna       1\n",
       "Name: user, dtype: int64"
      ]
     },
     "execution_count": 26,
     "metadata": {},
     "output_type": "execute_result"
    }
   ],
   "source": [
    "df[df.weekday==\"Sunday\"]['user'].value_counts()"
   ]
  },
  {
   "cell_type": "code",
   "execution_count": 27,
   "metadata": {},
   "outputs": [],
   "source": [
    "df['is_weekend'] = df.weekday.isin(['Sunday', 'Saturday'])"
   ]
  },
  {
   "cell_type": "code",
   "execution_count": 73,
   "metadata": {},
   "outputs": [],
   "source": [
    "# Count of all the emoticons that i have used till date."
   ]
  },
  {
   "cell_type": "code",
   "execution_count": 28,
   "metadata": {},
   "outputs": [
    {
     "data": {
      "text/html": [
       "<div>\n",
       "<style scoped>\n",
       "    .dataframe tbody tr th:only-of-type {\n",
       "        vertical-align: middle;\n",
       "    }\n",
       "\n",
       "    .dataframe tbody tr th {\n",
       "        vertical-align: top;\n",
       "    }\n",
       "\n",
       "    .dataframe thead th {\n",
       "        text-align: right;\n",
       "    }\n",
       "</style>\n",
       "<table border=\"1\" class=\"dataframe\">\n",
       "  <thead>\n",
       "    <tr style=\"text-align: right;\">\n",
       "      <th></th>\n",
       "      <th>date_time</th>\n",
       "      <th>user</th>\n",
       "      <th>msg</th>\n",
       "      <th>weekday</th>\n",
       "      <th>is_weekend</th>\n",
       "    </tr>\n",
       "  </thead>\n",
       "  <tbody>\n",
       "    <tr>\n",
       "      <th>0</th>\n",
       "      <td>2019-07-03 21:52:00</td>\n",
       "      <td>Pushkar R</td>\n",
       "      <td>Have your chats here</td>\n",
       "      <td>Wednesday</td>\n",
       "      <td>False</td>\n",
       "    </tr>\n",
       "    <tr>\n",
       "      <th>1</th>\n",
       "      <td>2019-07-03 21:52:00</td>\n",
       "      <td>PGDA_Naveen</td>\n",
       "      <td>Hey what is this 22?</td>\n",
       "      <td>Wednesday</td>\n",
       "      <td>False</td>\n",
       "    </tr>\n",
       "    <tr>\n",
       "      <th>2</th>\n",
       "      <td>2019-07-03 21:52:00</td>\n",
       "      <td>PGDA_Viqnesh</td>\n",
       "      <td>Ooh k cool</td>\n",
       "      <td>Wednesday</td>\n",
       "      <td>False</td>\n",
       "    </tr>\n",
       "    <tr>\n",
       "      <th>3</th>\n",
       "      <td>2019-07-03 21:53:00</td>\n",
       "      <td>PGDA_Naveen</td>\n",
       "      <td>Okay bro cool</td>\n",
       "      <td>Wednesday</td>\n",
       "      <td>False</td>\n",
       "    </tr>\n",
       "    <tr>\n",
       "      <th>4</th>\n",
       "      <td>2019-07-03 21:53:00</td>\n",
       "      <td>Pushkar R</td>\n",
       "      <td>Please leave that group strictly for class pur...</td>\n",
       "      <td>Wednesday</td>\n",
       "      <td>False</td>\n",
       "    </tr>\n",
       "  </tbody>\n",
       "</table>\n",
       "</div>"
      ],
      "text/plain": [
       "            date_time          user  \\\n",
       "0 2019-07-03 21:52:00     Pushkar R   \n",
       "1 2019-07-03 21:52:00   PGDA_Naveen   \n",
       "2 2019-07-03 21:52:00  PGDA_Viqnesh   \n",
       "3 2019-07-03 21:53:00   PGDA_Naveen   \n",
       "4 2019-07-03 21:53:00     Pushkar R   \n",
       "\n",
       "                                                 msg    weekday  is_weekend  \n",
       "0                              Have your chats here   Wednesday       False  \n",
       "1                              Hey what is this 22?   Wednesday       False  \n",
       "2                                        Ooh k cool   Wednesday       False  \n",
       "3                                     Okay bro cool   Wednesday       False  \n",
       "4  Please leave that group strictly for class pur...  Wednesday       False  "
      ]
     },
     "execution_count": 28,
     "metadata": {},
     "output_type": "execute_result"
    }
   ],
   "source": [
    "df.head()"
   ]
  },
  {
   "cell_type": "code",
   "execution_count": 29,
   "metadata": {},
   "outputs": [
    {
     "data": {
      "text/plain": [
       "array(['Pushkar R', 'PGDA_Naveen', 'PGDA_Viqnesh', 'PGDA_prakash',\n",
       "       'PGDA_Rasmita', 'PGDA_Rashmi', 'PGDA_Nitin', 'PGDA_Mahalakshmi',\n",
       "       'PGDA_Naomi', 'PGDA_Manaswini', 'PGDA_Krishna', 'PGDA_Soumya',\n",
       "       'PGDA_ Praneeth', 'PGDA_Naveen Raj', 'PGDA_Sirohi'], dtype=object)"
      ]
     },
     "execution_count": 29,
     "metadata": {},
     "output_type": "execute_result"
    }
   ],
   "source": [
    "df[\"user\"].unique()"
   ]
  },
  {
   "cell_type": "code",
   "execution_count": 30,
   "metadata": {},
   "outputs": [],
   "source": [
    "me ='Pushkar R'"
   ]
  },
  {
   "cell_type": "code",
   "execution_count": 31,
   "metadata": {},
   "outputs": [],
   "source": [
    "emoji_ctr = Counter()\n",
    "emojis_list = map(lambda x: ''.join(x.split()), emoji.UNICODE_EMOJI.keys())\n",
    "r = re.compile('|'.join(re.escape(p) for p in emojis_list))\n",
    "for idx, row in df.iterrows():\n",
    "    if row[\"user\"] == me:\n",
    "        emojis_found = r.findall(row[\"msg\"])\n",
    "        for emoji_found in emojis_found:\n",
    "            emoji_ctr[emoji_found] += 1"
   ]
  },
  {
   "cell_type": "code",
   "execution_count": 32,
   "metadata": {},
   "outputs": [
    {
     "name": "stdout",
     "output_type": "stream",
     "text": [
      "😂 - 161\n",
      "😀 - 20\n",
      "🤣 - 17\n",
      "😡 - 14\n",
      "😭 - 13\n",
      "🙂 - 11\n",
      "😄 - 10\n",
      "😃 - 8\n",
      "🙃 - 8\n",
      "😆 - 8\n"
     ]
    }
   ],
   "source": [
    "for item in emoji_ctr.most_common(10):\n",
    "    print(item[0] + \" - \" + str(item[1]))"
   ]
  },
  {
   "cell_type": "code",
   "execution_count": 33,
   "metadata": {},
   "outputs": [],
   "source": [
    "# What can my activity say about my sleep cycle?\n",
    "\n",
    "def to_hour(val):\n",
    "    return val.hour"
   ]
  },
  {
   "cell_type": "code",
   "execution_count": 34,
   "metadata": {},
   "outputs": [],
   "source": [
    "df['hour'] = df['date_time'].apply(to_hour)"
   ]
  },
  {
   "cell_type": "code",
   "execution_count": 35,
   "metadata": {},
   "outputs": [
    {
     "data": {
      "text/plain": [
       "<matplotlib.axes._subplots.AxesSubplot at 0x1ee8bbb7b8>"
      ]
     },
     "execution_count": 35,
     "metadata": {},
     "output_type": "execute_result"
    },
    {
     "data": {
      "image/png": "[encoded data removed]",
      "text/plain": [
       "<Figure size 432x288 with 1 Axes>"
      ]
     },
     "metadata": {
      "needs_background": "light"
     },
     "output_type": "display_data"
    }
   ],
   "source": [
    "df[df['user']==me].groupby(['hour']).size().sort_index().plot(x=\"hour\", kind='bar')"
   ]
  },
  {
   "cell_type": "code",
   "execution_count": 82,
   "metadata": {},
   "outputs": [],
   "source": [
    "# What is the difference in Weekend vs Weekday usage pattern?\n",
    "# How many words do I type on average on weekday vs weekend?"
   ]
  },
  {
   "cell_type": "code",
   "execution_count": 36,
   "metadata": {},
   "outputs": [
    {
     "data": {
      "text/plain": [
       "Pushkar R           568\n",
       "PGDA_Viqnesh        532\n",
       "PGDA_Rasmita        307\n",
       "PGDA_Nitin          307\n",
       "PGDA_Naveen         241\n",
       "PGDA_Naomi           79\n",
       "PGDA_Rashmi          70\n",
       "PGDA_Soumya          45\n",
       "PGDA_Mahalakshmi     39\n",
       "PGDA_Manaswini       15\n",
       "PGDA_prakash         12\n",
       "PGDA_Sirohi           7\n",
       "PGDA_Naveen Raj       6\n",
       "PGDA_ Praneeth        5\n",
       "PGDA_Krishna          5\n",
       "Name: user, dtype: int64"
      ]
     },
     "execution_count": 36,
     "metadata": {},
     "output_type": "execute_result"
    }
   ],
   "source": [
    "msgs_per_user = df['user'].value_counts(sort=True)\n",
    "msgs_per_user"
   ]
  },
  {
   "cell_type": "code",
   "execution_count": 37,
   "metadata": {},
   "outputs": [
    {
     "data": {
      "text/plain": [
       "['Pushkar R', 'PGDA_Viqnesh', 'PGDA_Rasmita', 'PGDA_Nitin', 'PGDA_Naveen']"
      ]
     },
     "execution_count": 37,
     "metadata": {},
     "output_type": "execute_result"
    }
   ],
   "source": [
    "top5_users = msgs_per_user.index.tolist()[:5]\n",
    "top5_users"
   ]
  },
  {
   "cell_type": "code",
   "execution_count": 38,
   "metadata": {},
   "outputs": [
    {
     "data": {
      "text/html": [
       "<div>\n",
       "<style scoped>\n",
       "    .dataframe tbody tr th:only-of-type {\n",
       "        vertical-align: middle;\n",
       "    }\n",
       "\n",
       "    .dataframe tbody tr th {\n",
       "        vertical-align: top;\n",
       "    }\n",
       "\n",
       "    .dataframe thead th {\n",
       "        text-align: right;\n",
       "    }\n",
       "</style>\n",
       "<table border=\"1\" class=\"dataframe\">\n",
       "  <thead>\n",
       "    <tr style=\"text-align: right;\">\n",
       "      <th></th>\n",
       "      <th>date_time</th>\n",
       "      <th>user</th>\n",
       "      <th>msg</th>\n",
       "      <th>weekday</th>\n",
       "      <th>is_weekend</th>\n",
       "      <th>hour</th>\n",
       "    </tr>\n",
       "  </thead>\n",
       "  <tbody>\n",
       "    <tr>\n",
       "      <th>0</th>\n",
       "      <td>2019-07-03 21:52:00</td>\n",
       "      <td>Pushkar R</td>\n",
       "      <td>Have your chats here</td>\n",
       "      <td>Wednesday</td>\n",
       "      <td>False</td>\n",
       "      <td>21</td>\n",
       "    </tr>\n",
       "    <tr>\n",
       "      <th>1</th>\n",
       "      <td>2019-07-03 21:52:00</td>\n",
       "      <td>PGDA_Naveen</td>\n",
       "      <td>Hey what is this 22?</td>\n",
       "      <td>Wednesday</td>\n",
       "      <td>False</td>\n",
       "      <td>21</td>\n",
       "    </tr>\n",
       "    <tr>\n",
       "      <th>2</th>\n",
       "      <td>2019-07-03 21:52:00</td>\n",
       "      <td>PGDA_Viqnesh</td>\n",
       "      <td>Ooh k cool</td>\n",
       "      <td>Wednesday</td>\n",
       "      <td>False</td>\n",
       "      <td>21</td>\n",
       "    </tr>\n",
       "    <tr>\n",
       "      <th>3</th>\n",
       "      <td>2019-07-03 21:53:00</td>\n",
       "      <td>PGDA_Naveen</td>\n",
       "      <td>Okay bro cool</td>\n",
       "      <td>Wednesday</td>\n",
       "      <td>False</td>\n",
       "      <td>21</td>\n",
       "    </tr>\n",
       "    <tr>\n",
       "      <th>4</th>\n",
       "      <td>2019-07-03 21:53:00</td>\n",
       "      <td>Pushkar R</td>\n",
       "      <td>Please leave that group strictly for class pur...</td>\n",
       "      <td>Wednesday</td>\n",
       "      <td>False</td>\n",
       "      <td>21</td>\n",
       "    </tr>\n",
       "  </tbody>\n",
       "</table>\n",
       "</div>"
      ],
      "text/plain": [
       "            date_time          user  \\\n",
       "0 2019-07-03 21:52:00     Pushkar R   \n",
       "1 2019-07-03 21:52:00   PGDA_Naveen   \n",
       "2 2019-07-03 21:52:00  PGDA_Viqnesh   \n",
       "3 2019-07-03 21:53:00   PGDA_Naveen   \n",
       "4 2019-07-03 21:53:00     Pushkar R   \n",
       "\n",
       "                                                 msg    weekday  is_weekend  \\\n",
       "0                              Have your chats here   Wednesday       False   \n",
       "1                              Hey what is this 22?   Wednesday       False   \n",
       "2                                        Ooh k cool   Wednesday       False   \n",
       "3                                     Okay bro cool   Wednesday       False   \n",
       "4  Please leave that group strictly for class pur...  Wednesday       False   \n",
       "\n",
       "   hour  \n",
       "0    21  \n",
       "1    21  \n",
       "2    21  \n",
       "3    21  \n",
       "4    21  "
      ]
     },
     "execution_count": 38,
     "metadata": {},
     "output_type": "execute_result"
    }
   ],
   "source": [
    "df_top5 = df.copy()\n",
    "df_top5 = df_top5[df_top5.user.isin(top5_users)]\n",
    "df_top5.head()"
   ]
  },
  {
   "cell_type": "code",
   "execution_count": 39,
   "metadata": {},
   "outputs": [
    {
     "data": {
      "text/plain": [
       "<matplotlib.axes._subplots.AxesSubplot at 0x1ee8daf4e0>"
      ]
     },
     "execution_count": 39,
     "metadata": {},
     "output_type": "execute_result"
    },
    {
     "data": {
      "image/png": "[encoded data removed]",
      "text/plain": [
       "<Figure size 2160x720 with 1 Axes>"
      ]
     },
     "metadata": {
      "needs_background": "light"
     },
     "output_type": "display_data"
    }
   ],
   "source": [
    "plt.figure(figsize=(30,10))\n",
    "sns.countplot(x=\"user\", hue=\"weekday\", data=df)"
   ]
  },
  {
   "cell_type": "code",
   "execution_count": 40,
   "metadata": {},
   "outputs": [],
   "source": [
    "df_top5['is_weekend'] = df_top5.weekday.isin(['Sunday', 'Saturday'])"
   ]
  },
  {
   "cell_type": "code",
   "execution_count": 41,
   "metadata": {},
   "outputs": [
    {
     "data": {
      "text/plain": [
       "<matplotlib.axes._subplots.AxesSubplot at 0x1ee91cd908>"
      ]
     },
     "execution_count": 41,
     "metadata": {},
     "output_type": "execute_result"
    },
    {
     "data": {
      "image/png": "[encoded data removed]",
      "text/plain": [
       "<Figure size 1440x720 with 1 Axes>"
      ]
     },
     "metadata": {
      "needs_background": "light"
     },
     "output_type": "display_data"
    }
   ],
   "source": [
    "plt.figure(figsize=(20,10))\n",
    "sns.countplot(x=\"user\", hue=\"is_weekend\", data=df_top5)"
   ]
  },
  {
   "cell_type": "code",
   "execution_count": 42,
   "metadata": {},
   "outputs": [],
   "source": [
    "def word_count(val):\n",
    "    return len(val.split())"
   ]
  },
  {
   "cell_type": "code",
   "execution_count": 43,
   "metadata": {},
   "outputs": [],
   "source": [
    "df['no_of_words'] = df['msg'].apply(word_count)"
   ]
  },
  {
   "cell_type": "code",
   "execution_count": 44,
   "metadata": {},
   "outputs": [],
   "source": [
    "df_top5['no_of_words'] = df_top5['msg'].apply(word_count)"
   ]
  },
  {
   "cell_type": "code",
   "execution_count": 45,
   "metadata": {},
   "outputs": [
    {
     "data": {
      "text/plain": [
       "10750"
      ]
     },
     "execution_count": 45,
     "metadata": {},
     "output_type": "execute_result"
    }
   ],
   "source": [
    "total_words_weekday = df[df['is_weekend']==False]['no_of_words'].sum()\n",
    "total_words_weekday"
   ]
  },
  {
   "cell_type": "code",
   "execution_count": 46,
   "metadata": {},
   "outputs": [
    {
     "data": {
      "text/plain": [
       "1051"
      ]
     },
     "execution_count": 46,
     "metadata": {},
     "output_type": "execute_result"
    }
   ],
   "source": [
    "total_words_weekend = df[df['is_weekend']]['no_of_words'].sum()\n",
    "total_words_weekend"
   ]
  },
  {
   "cell_type": "code",
   "execution_count": 47,
   "metadata": {},
   "outputs": [
    {
     "data": {
      "text/plain": [
       "2150.0"
      ]
     },
     "execution_count": 47,
     "metadata": {},
     "output_type": "execute_result"
    }
   ],
   "source": [
    "total_words_weekday/5"
   ]
  },
  {
   "cell_type": "code",
   "execution_count": 48,
   "metadata": {},
   "outputs": [
    {
     "data": {
      "text/plain": [
       "525.5"
      ]
     },
     "execution_count": 48,
     "metadata": {},
     "output_type": "execute_result"
    }
   ],
   "source": [
    "total_words_weekend/2"
   ]
  },
  {
   "cell_type": "code",
   "execution_count": 49,
   "metadata": {},
   "outputs": [
    {
     "data": {
      "text/plain": [
       "user\n",
       "Pushkar R           3769\n",
       "PGDA_Viqnesh        2362\n",
       "PGDA_Nitin          2076\n",
       "PGDA_Rasmita        1500\n",
       "PGDA_Naveen          922\n",
       "PGDA_Rashmi          310\n",
       "PGDA_Mahalakshmi     243\n",
       "PGDA_Naomi           222\n",
       "PGDA_Soumya          160\n",
       "PGDA_prakash          76\n",
       "PGDA_Manaswini        62\n",
       "PGDA_ Praneeth        34\n",
       "PGDA_Naveen Raj       24\n",
       "PGDA_Krishna          22\n",
       "PGDA_Sirohi           19\n",
       "Name: no_of_words, dtype: int64"
      ]
     },
     "execution_count": 49,
     "metadata": {},
     "output_type": "execute_result"
    }
   ],
   "source": [
    "df.groupby('user')['no_of_words'].sum().sort_values(ascending=False)"
   ]
  },
  {
   "cell_type": "code",
   "execution_count": 50,
   "metadata": {},
   "outputs": [
    {
     "data": {
      "text/plain": [
       "user\n",
       "PGDA_ Praneeth      6.800000\n",
       "PGDA_Nitin          6.762215\n",
       "Pushkar R           6.635563\n",
       "PGDA_prakash        6.333333\n",
       "PGDA_Mahalakshmi    6.230769\n",
       "PGDA_Rasmita        4.885993\n",
       "PGDA_Viqnesh        4.439850\n",
       "PGDA_Rashmi         4.428571\n",
       "PGDA_Krishna        4.400000\n",
       "PGDA_Manaswini      4.133333\n",
       "PGDA_Naveen Raj     4.000000\n",
       "PGDA_Naveen         3.825726\n",
       "PGDA_Soumya         3.555556\n",
       "PGDA_Naomi          2.810127\n",
       "PGDA_Sirohi         2.714286\n",
       "dtype: float64"
      ]
     },
     "execution_count": 50,
     "metadata": {},
     "output_type": "execute_result"
    }
   ],
   "source": [
    "(df.groupby('user')['no_of_words'].sum()/df.groupby('user').size()).sort_values(ascending=False)"
   ]
  },
  {
   "cell_type": "code",
   "execution_count": 51,
   "metadata": {},
   "outputs": [
    {
     "data": {
      "text/plain": [
       "user\n",
       "PGDA_Nitin      6.762215\n",
       "Pushkar R       6.635563\n",
       "PGDA_Rasmita    4.885993\n",
       "PGDA_Viqnesh    4.439850\n",
       "PGDA_Naveen     3.825726\n",
       "dtype: float64"
      ]
     },
     "execution_count": 51,
     "metadata": {},
     "output_type": "execute_result"
    }
   ],
   "source": [
    "(df_top5.groupby('user')['no_of_words'].sum()/df_top5.groupby('user').size()).sort_values(ascending=False)"
   ]
  },
  {
   "cell_type": "code",
   "execution_count": 52,
   "metadata": {},
   "outputs": [
    {
     "data": {
      "text/plain": [
       "user          is_weekend\n",
       "PGDA_Naveen   False         3.788288\n",
       "              True          4.263158\n",
       "PGDA_Nitin    False         6.867159\n",
       "              True          5.972222\n",
       "PGDA_Rasmita  False         4.789655\n",
       "              True          6.529412\n",
       "PGDA_Viqnesh  False         4.393346\n",
       "              True          5.571429\n",
       "Pushkar R     False         6.603175\n",
       "              True          6.890625\n",
       "dtype: float64"
      ]
     },
     "execution_count": 52,
     "metadata": {},
     "output_type": "execute_result"
    }
   ],
   "source": [
    "wordPerMsg_weekday_vs_weekend = (df_top5.groupby(['user', 'is_weekend'])['no_of_words'].sum()/df_top5.groupby(['user', 'is_weekend']).size())\n",
    "wordPerMsg_weekday_vs_weekend"
   ]
  },
  {
   "cell_type": "code",
   "execution_count": 53,
   "metadata": {},
   "outputs": [
    {
     "data": {
      "text/plain": [
       "<matplotlib.axes._subplots.AxesSubplot at 0x1ee963e160>"
      ]
     },
     "execution_count": 53,
     "metadata": {},
     "output_type": "execute_result"
    },
    {
     "data": {
      "image/png": "[encoded data removed]",
      "text/plain": [
       "<Figure size 432x288 with 1 Axes>"
      ]
     },
     "metadata": {
      "needs_background": "light"
     },
     "output_type": "display_data"
    }
   ],
   "source": [
    "wordPerMsg_weekday_vs_weekend.plot(kind='barh')"
   ]
  },
  {
   "cell_type": "code",
   "execution_count": 54,
   "metadata": {},
   "outputs": [
    {
     "data": {
      "text/html": [
       "<div>\n",
       "<style scoped>\n",
       "    .dataframe tbody tr th:only-of-type {\n",
       "        vertical-align: middle;\n",
       "    }\n",
       "\n",
       "    .dataframe tbody tr th {\n",
       "        vertical-align: top;\n",
       "    }\n",
       "\n",
       "    .dataframe thead th {\n",
       "        text-align: right;\n",
       "    }\n",
       "</style>\n",
       "<table border=\"1\" class=\"dataframe\">\n",
       "  <thead>\n",
       "    <tr style=\"text-align: right;\">\n",
       "      <th>weekday</th>\n",
       "      <th>Friday</th>\n",
       "      <th>Monday</th>\n",
       "      <th>Saturday</th>\n",
       "      <th>Sunday</th>\n",
       "      <th>Thursday</th>\n",
       "      <th>Tuesday</th>\n",
       "      <th>Wednesday</th>\n",
       "    </tr>\n",
       "    <tr>\n",
       "      <th>hour</th>\n",
       "      <th></th>\n",
       "      <th></th>\n",
       "      <th></th>\n",
       "      <th></th>\n",
       "      <th></th>\n",
       "      <th></th>\n",
       "      <th></th>\n",
       "    </tr>\n",
       "  </thead>\n",
       "  <tbody>\n",
       "    <tr>\n",
       "      <th>0</th>\n",
       "      <td>NaN</td>\n",
       "      <td>1.0</td>\n",
       "      <td>NaN</td>\n",
       "      <td>NaN</td>\n",
       "      <td>2.0</td>\n",
       "      <td>NaN</td>\n",
       "      <td>16.0</td>\n",
       "    </tr>\n",
       "    <tr>\n",
       "      <th>1</th>\n",
       "      <td>NaN</td>\n",
       "      <td>NaN</td>\n",
       "      <td>NaN</td>\n",
       "      <td>2.0</td>\n",
       "      <td>1.0</td>\n",
       "      <td>NaN</td>\n",
       "      <td>NaN</td>\n",
       "    </tr>\n",
       "    <tr>\n",
       "      <th>2</th>\n",
       "      <td>NaN</td>\n",
       "      <td>NaN</td>\n",
       "      <td>NaN</td>\n",
       "      <td>3.0</td>\n",
       "      <td>NaN</td>\n",
       "      <td>NaN</td>\n",
       "      <td>NaN</td>\n",
       "    </tr>\n",
       "    <tr>\n",
       "      <th>6</th>\n",
       "      <td>NaN</td>\n",
       "      <td>10.0</td>\n",
       "      <td>NaN</td>\n",
       "      <td>1.0</td>\n",
       "      <td>NaN</td>\n",
       "      <td>NaN</td>\n",
       "      <td>NaN</td>\n",
       "    </tr>\n",
       "    <tr>\n",
       "      <th>7</th>\n",
       "      <td>NaN</td>\n",
       "      <td>NaN</td>\n",
       "      <td>1.0</td>\n",
       "      <td>4.0</td>\n",
       "      <td>NaN</td>\n",
       "      <td>2.0</td>\n",
       "      <td>7.0</td>\n",
       "    </tr>\n",
       "  </tbody>\n",
       "</table>\n",
       "</div>"
      ],
      "text/plain": [
       "weekday  Friday  Monday  Saturday  Sunday  Thursday  Tuesday  Wednesday\n",
       "hour                                                                   \n",
       "0           NaN     1.0       NaN     NaN       2.0      NaN       16.0\n",
       "1           NaN     NaN       NaN     2.0       1.0      NaN        NaN\n",
       "2           NaN     NaN       NaN     3.0       NaN      NaN        NaN\n",
       "6           NaN    10.0       NaN     1.0       NaN      NaN        NaN\n",
       "7           NaN     NaN       1.0     4.0       NaN      2.0        7.0"
      ]
     },
     "execution_count": 54,
     "metadata": {},
     "output_type": "execute_result"
    }
   ],
   "source": [
    "# Most Usage - Time of Day\n",
    "x = df.groupby(['hour', 'weekday'])['msg'].size().reset_index()\n",
    "x2 = x.pivot(\"hour\", 'weekday', 'msg')\n",
    "x2.head()"
   ]
  },
  {
   "cell_type": "code",
   "execution_count": 55,
   "metadata": {},
   "outputs": [
    {
     "data": {
      "text/plain": [
       "<matplotlib.axes._subplots.AxesSubplot at 0x1ee9845a90>"
      ]
     },
     "execution_count": 55,
     "metadata": {},
     "output_type": "execute_result"
    },
    {
     "data": {
      "image/png": "[encoded data removed]",
      "text/plain": [
       "<Figure size 432x288 with 2 Axes>"
      ]
     },
     "metadata": {
      "needs_background": "light"
     },
     "output_type": "display_data"
    }
   ],
   "source": [
    "days = [\"Monday\", 'Tuesday', \"Wednesday\", \"Thursday\", \"Friday\", \"Saturday\", \"Sunday\"]\n",
    "sns.heatmap(x2[days].fillna(0), robust=True)"
   ]
  },
  {
   "cell_type": "code",
   "execution_count": 56,
   "metadata": {},
   "outputs": [
    {
     "name": "stdout",
     "output_type": "stream",
     "text": [
      "[   0    4    6   10   21   28   32   34  100  102  105  106  108  109\n",
      "  112  116  117  119  121  123  133  134  136  138  141  143  145  149\n",
      "  150  151  154  162  163  167  169  170  171  172  173  174  198  199\n",
      "  203  204  205  206  208  210  214  220  228  231  233  236  238  239\n",
      "  240  244  245  249  253  254  256  258  260  261  267  270  272  273\n",
      "  275  280  281  286  287  289  296  303  305  306  309  312  314  315\n",
      "  317  318  319  321  323  327  328  331  332  336  340  342  343  349\n",
      "  350  352  354  356  376  388  398  400  402  404  405  406  409  410\n",
      "  411  412  413  414  415  419  434  436  439  440  441  443  444  446\n",
      "  450  454  458  460  462  464  470  474  476  490  499  506  509  514\n",
      "  515  518  520  522  528  530  533  535  542  544  548  555  560  568\n",
      "  571  572  575  577  579  581  584  586  587  590  592  593  596  598\n",
      "  602  606  608  610  613  614  616  619  621  623  629  630  631  632\n",
      "  634  671  675  681  684  688  690  692  695  700  721  723  725  726\n",
      "  729  730  731  732  734  740  744  745  749  751  752  755  756  758\n",
      "  764  765  767  769  774  791  955  956  957  959  960  961  962  968\n",
      "  970  973  975 1043 1045 1053 1059 1060 1065 1070 1071 1086 1091 1092\n",
      " 1097 1101 1106 1108 1110 1112 1113 1115 1118 1119 1120 1129 1164 1209\n",
      " 1214 1251 1254 1255 1256 1258 1262 1263 1265 1266 1268 1304 1305 1307\n",
      " 1308 1309 1310 1311 1313 1316 1317 1338 1340 1342 1346 1347 1349 1350\n",
      " 1351 1352 1353 1364 1365 1369 1372 1397 1399 1403 1404 1405 1417 1420\n",
      " 1421 1424 1441 1442 1463 1464 1465 1469 1470 1472 1481 1483 1485 1492\n",
      " 1495 1506 1514 1517 1519 1521 1522 1523 1525 1530 1533 1534 1538 1551\n",
      " 1554 1557 1559 1562 1568 1569 1572 1575 1577 1582 1584 1587 1591 1592\n",
      " 1594 1595 1598 1615 1616 1626 1628 1629 1630 1631 1632 1633 1637 1639\n",
      " 1641 1642 1645 1647 1648 1649 1650 1655 1657 1660 1663 1664 1665 1684\n",
      " 1685 1688 1692 1693 1695 1696 1697 1791 1792 1793 1794 1795 1796 1799\n",
      " 1800 1802 1803 1806 1808 1809 1810 1814 1817 1820 1824 1825 1829 1832\n",
      " 1833 1834 1836 1849 1850 1851 1860 1861 1865 1867 1872 1875 1877 1878\n",
      " 1881 1883 1884 1887 1889 1893 1895 1900 1901 1902 1903 1904 1907 1908\n",
      " 1909 1910 1913 1916 1917 1919 1920 1924 1927 1928 1931 1934 1935 1937\n",
      " 1938 1939 1941 1943 1945 1946 1950 1953 1955 1957 1958 1961 1963 1964\n",
      " 1965 1966 1967 1968 1969 1970 1971 1975 1976 1977 1978 1979 1980 1981\n",
      " 1982 1983 1985 1986 1987 1989 1991 1992 1993 1995 1996 1997 1999 2001\n",
      " 2002 2004 2005 2006 2007 2008 2009 2012 2014 2017 2020 2024 2026 2030\n",
      " 2034 2035 2037 2039 2040 2042 2045 2047 2050 2052 2055 2059 2061 2066\n",
      " 2067 2073 2074 2077 2082 2083 2084 2086 2087 2089 2091 2094 2097 2105\n",
      " 2106 2109 2111 2116 2118 2120 2124 2126 2144 2147 2149 2150 2152 2154\n",
      " 2156 2158 2160 2161 2162 2167 2176 2177 2180 2182 2183 2195 2196 2198\n",
      " 2199 2201 2202 2203 2204 2205 2206 2207 2208 2209 2212 2214 2215 2219\n",
      " 2220 2221 2225 2227 2228 2231 2235 2237] (568,)\n"
     ]
    }
   ],
   "source": [
    "# In any group, do I have any inclination towards responding to someone?\n",
    "\n",
    "my_msgs_index = np.array(df[df['user']==me].index)\n",
    "print(my_msgs_index, my_msgs_index.shape)"
   ]
  },
  {
   "cell_type": "code",
   "execution_count": 57,
   "metadata": {},
   "outputs": [
    {
     "name": "stdout",
     "output_type": "stream",
     "text": [
      "[  -1    3    5    9   20   27   31   33   99  101  104  105  107  108\n",
      "  111  115  116  118  120  122  132  133  135  137  140  142  144  148\n",
      "  149  150  153  161  162  166  168  169  170  171  172  173  197  198\n",
      "  202  203  204  205  207  209  213  219  227  230  232  235  237  238\n",
      "  239  243  244  248  252  253  255  257  259  260  266  269  271  272\n",
      "  274  279  280  285  286  288  295  302  304  305  308  311  313  314\n",
      "  316  317  318  320  322  326  327  330  331  335  339  341  342  348\n",
      "  349  351  353  355  375  387  397  399  401  403  404  405  408  409\n",
      "  410  411  412  413  414  418  433  435  438  439  440  442  443  445\n",
      "  449  453  457  459  461  463  469  473  475  489  498  505  508  513\n",
      "  514  517  519  521  527  529  532  534  541  543  547  554  559  567\n",
      "  570  571  574  576  578  580  583  585  586  589  591  592  595  597\n",
      "  601  605  607  609  612  613  615  618  620  622  628  629  630  631\n",
      "  633  670  674  680  683  687  689  691  694  699  720  722  724  725\n",
      "  728  729  730  731  733  739  743  744  748  750  751  754  755  757\n",
      "  763  764  766  768  773  790  954  955  956  958  959  960  961  967\n",
      "  969  972  974 1042 1044 1052 1058 1059 1064 1069 1070 1085 1090 1091\n",
      " 1096 1100 1105 1107 1109 1111 1112 1114 1117 1118 1119 1128 1163 1208\n",
      " 1213 1250 1253 1254 1255 1257 1261 1262 1264 1265 1267 1303 1304 1306\n",
      " 1307 1308 1309 1310 1312 1315 1316 1337 1339 1341 1345 1346 1348 1349\n",
      " 1350 1351 1352 1363 1364 1368 1371 1396 1398 1402 1403 1404 1416 1419\n",
      " 1420 1423 1440 1441 1462 1463 1464 1468 1469 1471 1480 1482 1484 1491\n",
      " 1494 1505 1513 1516 1518 1520 1521 1522 1524 1529 1532 1533 1537 1550\n",
      " 1553 1556 1558 1561 1567 1568 1571 1574 1576 1581 1583 1586 1590 1591\n",
      " 1593 1594 1597 1614 1615 1625 1627 1628 1629 1630 1631 1632 1636 1638\n",
      " 1640 1641 1644 1646 1647 1648 1649 1654 1656 1659 1662 1663 1664 1683\n",
      " 1684 1687 1691 1692 1694 1695 1696 1790 1791 1792 1793 1794 1795 1798\n",
      " 1799 1801 1802 1805 1807 1808 1809 1813 1816 1819 1823 1824 1828 1831\n",
      " 1832 1833 1835 1848 1849 1850 1859 1860 1864 1866 1871 1874 1876 1877\n",
      " 1880 1882 1883 1886 1888 1892 1894 1899 1900 1901 1902 1903 1906 1907\n",
      " 1908 1909 1912 1915 1916 1918 1919 1923 1926 1927 1930 1933 1934 1936\n",
      " 1937 1938 1940 1942 1944 1945 1949 1952 1954 1956 1957 1960 1962 1963\n",
      " 1964 1965 1966 1967 1968 1969 1970 1974 1975 1976 1977 1978 1979 1980\n",
      " 1981 1982 1984 1985 1986 1988 1990 1991 1992 1994 1995 1996 1998 2000\n",
      " 2001 2003 2004 2005 2006 2007 2008 2011 2013 2016 2019 2023 2025 2029\n",
      " 2033 2034 2036 2038 2039 2041 2044 2046 2049 2051 2054 2058 2060 2065\n",
      " 2066 2072 2073 2076 2081 2082 2083 2085 2086 2088 2090 2093 2096 2104\n",
      " 2105 2108 2110 2115 2117 2119 2123 2125 2143 2146 2148 2149 2151 2153\n",
      " 2155 2157 2159 2160 2161 2166 2175 2176 2179 2181 2182 2194 2195 2197\n",
      " 2198 2200 2201 2202 2203 2204 2205 2206 2207 2208 2211 2213 2214 2218\n",
      " 2219 2220 2224 2226 2227 2230 2234 2236] (568,)\n"
     ]
    }
   ],
   "source": [
    "prev_msgs_index = my_msgs_index - 1\n",
    "print(prev_msgs_index, prev_msgs_index.shape)\n"
   ]
  },
  {
   "cell_type": "code",
   "execution_count": 58,
   "metadata": {},
   "outputs": [
    {
     "data": {
      "text/plain": [
       "array([   3,    5,    9,   20,   27,   31,   33,   99,  101,  104,  105,\n",
       "        107,  108,  111,  115,  116,  118,  120,  122,  132,  133,  135,\n",
       "        137,  140,  142,  144,  148,  149,  150,  153,  161,  162,  166,\n",
       "        168,  169,  170,  171,  172,  173,  197,  198,  202,  203,  204,\n",
       "        205,  207,  209,  213,  219,  227,  230,  232,  235,  237,  238,\n",
       "        239,  243,  244,  248,  252,  253,  255,  257,  259,  260,  266,\n",
       "        269,  271,  272,  274,  279,  280,  285,  286,  288,  295,  302,\n",
       "        304,  305,  308,  311,  313,  314,  316,  317,  318,  320,  322,\n",
       "        326,  327,  330,  331,  335,  339,  341,  342,  348,  349,  351,\n",
       "        353,  355,  375,  387,  397,  399,  401,  403,  404,  405,  408,\n",
       "        409,  410,  411,  412,  413,  414,  418,  433,  435,  438,  439,\n",
       "        440,  442,  443,  445,  449,  453,  457,  459,  461,  463,  469,\n",
       "        473,  475,  489,  498,  505,  508,  513,  514,  517,  519,  521,\n",
       "        527,  529,  532,  534,  541,  543,  547,  554,  559,  567,  570,\n",
       "        571,  574,  576,  578,  580,  583,  585,  586,  589,  591,  592,\n",
       "        595,  597,  601,  605,  607,  609,  612,  613,  615,  618,  620,\n",
       "        622,  628,  629,  630,  631,  633,  670,  674,  680,  683,  687,\n",
       "        689,  691,  694,  699,  720,  722,  724,  725,  728,  729,  730,\n",
       "        731,  733,  739,  743,  744,  748,  750,  751,  754,  755,  757,\n",
       "        763,  764,  766,  768,  773,  790,  954,  955,  956,  958,  959,\n",
       "        960,  961,  967,  969,  972,  974, 1042, 1044, 1052, 1058, 1059,\n",
       "       1064, 1069, 1070, 1085, 1090, 1091, 1096, 1100, 1105, 1107, 1109,\n",
       "       1111, 1112, 1114, 1117, 1118, 1119, 1128, 1163, 1208, 1213, 1250,\n",
       "       1253, 1254, 1255, 1257, 1261, 1262, 1264, 1265, 1267, 1303, 1304,\n",
       "       1306, 1307, 1308, 1309, 1310, 1312, 1315, 1316, 1337, 1339, 1341,\n",
       "       1345, 1346, 1348, 1349, 1350, 1351, 1352, 1363, 1364, 1368, 1371,\n",
       "       1396, 1398, 1402, 1403, 1404, 1416, 1419, 1420, 1423, 1440, 1441,\n",
       "       1462, 1463, 1464, 1468, 1469, 1471, 1480, 1482, 1484, 1491, 1494,\n",
       "       1505, 1513, 1516, 1518, 1520, 1521, 1522, 1524, 1529, 1532, 1533,\n",
       "       1537, 1550, 1553, 1556, 1558, 1561, 1567, 1568, 1571, 1574, 1576,\n",
       "       1581, 1583, 1586, 1590, 1591, 1593, 1594, 1597, 1614, 1615, 1625,\n",
       "       1627, 1628, 1629, 1630, 1631, 1632, 1636, 1638, 1640, 1641, 1644,\n",
       "       1646, 1647, 1648, 1649, 1654, 1656, 1659, 1662, 1663, 1664, 1683,\n",
       "       1684, 1687, 1691, 1692, 1694, 1695, 1696, 1790, 1791, 1792, 1793,\n",
       "       1794, 1795, 1798, 1799, 1801, 1802, 1805, 1807, 1808, 1809, 1813,\n",
       "       1816, 1819, 1823, 1824, 1828, 1831, 1832, 1833, 1835, 1848, 1849,\n",
       "       1850, 1859, 1860, 1864, 1866, 1871, 1874, 1876, 1877, 1880, 1882,\n",
       "       1883, 1886, 1888, 1892, 1894, 1899, 1900, 1901, 1902, 1903, 1906,\n",
       "       1907, 1908, 1909, 1912, 1915, 1916, 1918, 1919, 1923, 1926, 1927,\n",
       "       1930, 1933, 1934, 1936, 1937, 1938, 1940, 1942, 1944, 1945, 1949,\n",
       "       1952, 1954, 1956, 1957, 1960, 1962, 1963, 1964, 1965, 1966, 1967,\n",
       "       1968, 1969, 1970, 1974, 1975, 1976, 1977, 1978, 1979, 1980, 1981,\n",
       "       1982, 1984, 1985, 1986, 1988, 1990, 1991, 1992, 1994, 1995, 1996,\n",
       "       1998, 2000, 2001, 2003, 2004, 2005, 2006, 2007, 2008, 2011, 2013,\n",
       "       2016, 2019, 2023, 2025, 2029, 2033, 2034, 2036, 2038, 2039, 2041,\n",
       "       2044, 2046, 2049, 2051, 2054, 2058, 2060, 2065, 2066, 2072, 2073,\n",
       "       2076, 2081, 2082, 2083, 2085, 2086, 2088, 2090, 2093, 2096, 2104,\n",
       "       2105, 2108, 2110, 2115, 2117, 2119, 2123, 2125, 2143, 2146, 2148,\n",
       "       2149, 2151, 2153, 2155, 2157, 2159, 2160, 2161, 2166, 2175, 2176,\n",
       "       2179, 2181, 2182, 2194, 2195, 2197, 2198, 2200, 2201, 2202, 2203,\n",
       "       2204, 2205, 2206, 2207, 2208, 2211, 2213, 2214, 2218, 2219, 2220,\n",
       "       2224, 2226, 2227, 2230, 2234, 2236], dtype=int64)"
      ]
     },
     "execution_count": 58,
     "metadata": {},
     "output_type": "execute_result"
    }
   ],
   "source": [
    "prev_msgs_index = np.delete(prev_msgs_index, 0)\n",
    "prev_msgs_index"
   ]
  },
  {
   "cell_type": "code",
   "execution_count": 59,
   "metadata": {},
   "outputs": [
    {
     "data": {
      "text/plain": [
       "(567, 7)"
      ]
     },
     "execution_count": 59,
     "metadata": {},
     "output_type": "execute_result"
    }
   ],
   "source": [
    "df_replies = df.iloc[prev_msgs_index].copy()\n",
    "df_replies.shape"
   ]
  },
  {
   "cell_type": "code",
   "execution_count": 60,
   "metadata": {},
   "outputs": [
    {
     "data": {
      "text/plain": [
       "<matplotlib.axes._subplots.AxesSubplot at 0x1ee9793550>"
      ]
     },
     "execution_count": 60,
     "metadata": {},
     "output_type": "execute_result"
    },
    {
     "data": {
      "image/png": "[encoded data removed]",
      "text/plain": [
       "<Figure size 432x288 with 1 Axes>"
      ]
     },
     "metadata": {
      "needs_background": "light"
     },
     "output_type": "display_data"
    }
   ],
   "source": [
    "df_replies.groupby([\"user\"])[\"msg\"].size().sort_values().plot(kind='barh')"
   ]
  },
  {
   "cell_type": "code",
   "execution_count": 61,
   "metadata": {},
   "outputs": [
    {
     "data": {
      "text/plain": [
       "<matplotlib.axes._subplots.AxesSubplot at 0x1eea36fcf8>"
      ]
     },
     "execution_count": 61,
     "metadata": {},
     "output_type": "execute_result"
    },
    {
     "data": {
      "image/png": "[encoded data removed]",
      "text/plain": [
       "<Figure size 432x288 with 1 Axes>"
      ]
     },
     "metadata": {
      "needs_background": "light"
     },
     "output_type": "display_data"
    }
   ],
   "source": [
    "(df_replies.groupby([\"user\"])[\"msg\"].size()/df.groupby([\"user\"])[\"msg\"].size()).sort_values().plot(kind='barh')"
   ]
  },
  {
   "cell_type": "code",
   "execution_count": 62,
   "metadata": {},
   "outputs": [],
   "source": [
    "# Which are the most common words?\n",
    "comment_words = ' '\n",
    "stopwords = STOPWORDS.update(['lo', 'ge', 'Lo', 'illa', 'yea', 'ella', 'en', 'na', 'En', 'yeah', 'alli', 'ide', 'okay', 'ok', 'will'])\n",
    "  \n",
    "for val in df.msg.values: \n",
    "    val = str(val) \n",
    "    tokens = val.split() \n",
    "        \n",
    "    for i in range(len(tokens)): \n",
    "        tokens[i] = tokens[i].lower() \n",
    "          \n",
    "    for words in tokens: \n",
    "        comment_words = comment_words + words + ' '\n",
    "  \n",
    "  \n",
    "wordcloud = WordCloud(width = 800, height = 800, \n",
    "                background_color ='black', \n",
    "                stopwords = stopwords, \n",
    "                min_font_size = 10).generate(comment_words) \n"
   ]
  },
  {
   "cell_type": "code",
   "execution_count": 63,
   "metadata": {},
   "outputs": [
    {
     "data": {
      "image/png": "[encoded data removed]",
      "text/plain": [
       "<Figure size 576x576 with 1 Axes>"
      ]
     },
     "metadata": {
      "needs_background": "light"
     },
     "output_type": "display_data"
    }
   ],
   "source": [
    "plt.figure(figsize = (8, 8), facecolor = None) \n",
    "plt.imshow(wordcloud) \n",
    "plt.axis(\"off\") \n",
    "plt.tight_layout(pad = 0) \n",
    "  \n",
    "plt.show() "
   ]
  }
 ],
 "metadata": {
  "kernelspec": {
   "display_name": "Python 3",
   "language": "python",
   "name": "python3"
  },
  "language_info": {
   "codemirror_mode": {
    "name": "ipython",
    "version": 3
   },
   "file_extension": ".py",
   "mimetype": "text/x-python",
   "name": "python",
   "nbconvert_exporter": "python",
   "pygments_lexer": "ipython3",
   "version": "3.7.4"
  }
 },
 "nbformat": 4,
 "nbformat_minor": 4
}
