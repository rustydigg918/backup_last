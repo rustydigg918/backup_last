{
 "cells": [
  {
   "cell_type": "code",
   "execution_count": 1,
   "metadata": {},
   "outputs": [
    {
     "name": "stdout",
     "output_type": "stream",
     "text": [
      "Please Enter the length of a Rectangle: 10\n",
      "Please Enter the breadth of a Rectangle: 15\n",
      "150.0\n"
     ]
    }
   ],
   "source": [
    "# Take input of length and breadth of a rectangle from user and print area of it.\n",
    "length = float(input('Please Enter the length of a Rectangle: '))\n",
    "breadth = float(input('Please Enter the breadth of a Rectangle: '))\n",
    "# calculate the area\n",
    "Area = length * breadth\n",
    "print (Area)"
   ]
  },
  {
   "cell_type": "code",
   "execution_count": 4,
   "metadata": {},
   "outputs": [
    {
     "name": "stdout",
     "output_type": "stream",
     "text": [
      "Enter Length :\n",
      "11\n",
      "Enter Breadth :\n",
      "11\n",
      "121.0\n"
     ]
    }
   ],
   "source": [
    "print (\"Enter Length :\")\n",
    "length= input()\n",
    "print (\"Enter Breadth :\")\n",
    "breadth= input()\n",
    "print (int(float(length))*(float(breadth)))"
   ]
  },
  {
   "cell_type": "code",
   "execution_count": 10,
   "metadata": {},
   "outputs": [
    {
     "name": "stdout",
     "output_type": "stream",
     "text": [
      "Enter the side of the Square:\n",
      "5\n",
      "Area of the Square is: 25.0\n",
      "Perimeter of the Square is: 20\n"
     ]
    }
   ],
   "source": [
    "# Take side of a square from user and print area and perimeter of it.\n",
    "\n",
    "print (\"Enter the side of the Square:\")\n",
    "side= input()\n",
    "area= (int(float(side))*(float(side)))\n",
    "perimeter= (int(float(side))*4)\n",
    "print ('Area of the Square is:',area)\n",
    "print ('Perimeter of the Square is:',perimeter)"
   ]
  },
  {
   "cell_type": "code",
   "execution_count": 12,
   "metadata": {},
   "outputs": [
    {
     "name": "stdout",
     "output_type": "stream",
     "text": [
      "Please Enter Your Name: ram\n",
      "Please Enter Your Roll Number: 11\n",
      "Please Enter Your Filed of Interest: vik\n",
      "Hey, my name is ram and my roll number is 11 . My field of interest are vik\n"
     ]
    }
   ],
   "source": [
    "#Take name, roll number and filed of interest from user and print in the format below :\n",
    "#Hey, my name is xyz and my roll number is xyz. My field of interest are xyz.\n",
    "\n",
    "name= input('Please Enter Your Name: ')\n",
    "roll_number= input('Please Enter Your Roll Number: ')\n",
    "filed_of_interest= input('Please Enter Your Filed of Interest: ')\n",
    "print ( 'Hey, my name is',name , 'and my roll number is', roll_number,'.' ,'My field of interest are', filed_of_interest)\n",
    "\n"
   ]
  },
  {
   "cell_type": "code",
   "execution_count": 16,
   "metadata": {},
   "outputs": [
    {
     "name": "stdout",
     "output_type": "stream",
     "text": [
      "5\n",
      "The square of the number is: 25\n"
     ]
    }
   ],
   "source": [
    "# Write a program to find square of a number.\n",
    "\n",
    "number= input()\n",
    "square= int((float(number))*(float(number)))\n",
    "print('The square of the number is:', square )"
   ]
  },
  {
   "cell_type": "code",
   "execution_count": 20,
   "metadata": {},
   "outputs": [
    {
     "name": "stdout",
     "output_type": "stream",
     "text": [
      "Mohan Das Karamchand Gandhi\n",
      "Mohan Das KaramchandGandhi\n"
     ]
    }
   ],
   "source": [
    "# Take two different string input and print them in same line. \n",
    "string1= 'Mohan Das Karamchand'\n",
    "string2= 'Gandhi'\n",
    "print (string1,string2)\n",
    "string= string1+string2\n",
    "print (string)"
   ]
  },
  {
   "cell_type": "code",
   "execution_count": 23,
   "metadata": {},
   "outputs": [
    {
     "name": "stdout",
     "output_type": "stream",
     "text": [
      "Please enter your first number: 11\n",
      "Please enter the second number: 45\n",
      "False\n"
     ]
    }
   ],
   "source": [
    "# Take two inputs from user and check whether they are equal or not.\n",
    "first_num = input('Please enter your first number: ')\n",
    "second_num = input('Please enter the second number: ')\n",
    "print(first_num==second_num)\n",
    "   "
   ]
  },
  {
   "cell_type": "code",
   "execution_count": 27,
   "metadata": {},
   "outputs": [
    {
     "name": "stdout",
     "output_type": "stream",
     "text": [
      "Enter you first num: 11\n",
      "Enter you second num: 11\n",
      "Enter you third num: 11\n",
      "True\n",
      "Enter you fir num: 11\n",
      "Enter you sec num: 22\n",
      "Enter you thir num: 11\n",
      "True\n"
     ]
    }
   ],
   "source": [
    "#Take 3 inputs from user and check :\n",
    "#( use and or )\n",
    "\n",
    "#all are equal\n",
    "first_num = input(\"Enter you first num: \")\n",
    "second_num = input(\"Enter you second num: \")\n",
    "third_num = input(\"Enter you third num: \")\n",
    "print(first_num==second_num and second_num==third_num and third_num==first_num)\n",
    "\n",
    "#any of two are equal\n",
    "fir_num = input(\"Enter you fir num: \")\n",
    "sec_num = input(\"Enter you sec num: \")\n",
    "thir_num = input(\"Enter you thir num: \")\n",
    "print(fir_num==sec_num or sec_num==thir_num or thir_num==fir_num)"
   ]
  },
  {
   "cell_type": "code",
   "execution_count": 32,
   "metadata": {},
   "outputs": [
    {
     "name": "stdout",
     "output_type": "stream",
     "text": [
      "Enter the first digit55\n",
      "Enter the second digit-54\n",
      "False Sum is greater than 5\n",
      "True Sum is less than 5\n",
      "False Sum is equal to 5\n"
     ]
    }
   ],
   "source": [
    "# Take two number and check whether the sum is greater than 5, less than 5 or equal to 5.\n",
    "\n",
    "digit1 = int(input('Enter the first digit'))\n",
    "digit2 = int(input('Enter the second digit'))\n",
    "sum= digit1 + digit2\n",
    "print(sum >5, 'Sum is greater than 5')\n",
    "print(sum <5, 'Sum is less than 5')\n",
    "print(sum ==5, 'Sum is equal to 5')"
   ]
  },
  {
   "cell_type": "code",
   "execution_count": 40,
   "metadata": {},
   "outputs": [
    {
     "name": "stdout",
     "output_type": "stream",
     "text": [
      "False\n",
      "True\n",
      "True\n",
      "False\n"
     ]
    }
   ],
   "source": [
    "# Judge the follwing expressions :\n",
    "\n",
    "#not(True and True)\n",
    "#True or False\n",
    "#not(False and True)\n",
    "#False and False\n",
    "print (not(True and True))\n",
    "print (True or False)\n",
    "print (not(False and True))\n",
    "print (False and False)\n",
    "\n",
    "\n"
   ]
  },
  {
   "cell_type": "code",
   "execution_count": 46,
   "metadata": {},
   "outputs": [
    {
     "name": "stdout",
     "output_type": "stream",
     "text": [
      "Please enter your marks: 44\n",
      "True ......Marks is greater than pass marks??? Pass marks = 35\n"
     ]
    }
   ],
   "source": [
    "# Suppose passing marks of a subject is 35. Take input of marks from user and check \n",
    "# whether it is greater than passing marks or not.\n",
    "\n",
    "marks =float(input('Please enter your marks: '))\n",
    "print (marks > 35, \"...Marks is greater than pass marks???\", 'Pass marks = 35')\n"
   ]
  },
  {
   "cell_type": "code",
   "execution_count": 51,
   "metadata": {},
   "outputs": [
    {
     "name": "stdout",
     "output_type": "stream",
     "text": [
      "Please enter the length11\n",
      "Please enter the width14\n",
      "It is not a square\n"
     ]
    }
   ],
   "source": [
    "# Take values of length and breadth of a rectangle from user and check if it is square or not.\n",
    "\n",
    "length = float(input('Please enter the length'))\n",
    "width = float(input('Please enter the width'))\n",
    "if(length==width):\n",
    "    print ('It is a Square')\n",
    "else:\n",
    "    print ('It is not a square')\n",
    "    \n",
    "        \n",
    "           \n",
    "\n",
    "\n",
    "\n"
   ]
  },
  {
   "cell_type": "code",
   "execution_count": 53,
   "metadata": {},
   "outputs": [
    {
     "name": "stdout",
     "output_type": "stream",
     "text": [
      "Provide the first Value:11\n",
      "Provide the second Value:12\n",
      "val2 is greatest\n"
     ]
    }
   ],
   "source": [
    "# Take two int values from user and print greatest among them.\n",
    "\n",
    "val1 = float(input('Provide the first Value:'))\n",
    "val2 = float(input('Provide the second Value:'))\n",
    "if(val1>val2):\n",
    "    print('Val1' ,'is greatest')\n",
    "else:\n",
    "    print('val2', 'is greatest')"
   ]
  },
  {
   "cell_type": "code",
   "execution_count": 57,
   "metadata": {},
   "outputs": [
    {
     "name": "stdout",
     "output_type": "stream",
     "text": [
      "Enter the number of quantity:11\n",
      "990.0\n"
     ]
    }
   ],
   "source": [
    "# A shop will give discount of 10% if the cost of purchased quantity is more than 1000.\n",
    "#Ask user for quantity\n",
    "#Suppose, one unit will cost 100.\n",
    "#Judge and print total cost for user.\n",
    "\n",
    "quantity = int(input('Enter the number of quantity:'))\n",
    "total_price = (quantity *100)\n",
    "if(total_price > 1000):\n",
    "    print (total_price-((quantity*100)*.10))\n",
    "else:\n",
    "    print(total_price)\n",
    "    \n"
   ]
  },
  {
   "cell_type": "code",
   "execution_count": 59,
   "metadata": {},
   "outputs": [
    {
     "name": "stdout",
     "output_type": "stream",
     "text": [
      "Enter Your marks: 95\n",
      "You have Secured grade A\n"
     ]
    }
   ],
   "source": [
    "# A school has following rules for grading system:\n",
    "#a. Below 25 - F\n",
    "#b. 25 to 45 - E\n",
    "#c. 45 to 50 - D\n",
    "#d. 50 to 60 - C\n",
    "#e. 60 to 80 - B\n",
    "#f. Above 80 - A\n",
    "\n",
    "marks = int(input(\"Enter Your marks: \"))\n",
    "if(marks < 25):\n",
    "    print('You have secured grade F')\n",
    "elif(25 < marks < 45):\n",
    "    print('You have Secured grade E')\n",
    "elif(45 < marks < 50):\n",
    "    print('You have Secured grade D')\n",
    "elif(50 < marks < 60):\n",
    "    print('You have Secured grade C')\n",
    "elif(60 < marks < 80):\n",
    "    print('You have Secured grade B')\n",
    "elif(80 < marks):\n",
    "    print('You have Secured grade A')    "
   ]
  },
  {
   "cell_type": "code",
   "execution_count": 62,
   "metadata": {},
   "outputs": [
    {
     "name": "stdout",
     "output_type": "stream",
     "text": [
      "Enter first person age95\n",
      "Enter second person age45\n",
      "Enter third person age12\n",
      "Person1 age is greatest\n"
     ]
    }
   ],
   "source": [
    "# Take input of age of 3 people by user and determine oldest and youngest among them.\n",
    "people1 = float(input('Enter first person age'))\n",
    "people2 = float(input('Enter second person age'))\n",
    "people3 = float(input('Enter third person age'))\n",
    "\n",
    "if(people1 > people2 and people1 > people3):\n",
    "    print('Person_1 age is greatest')\n",
    "elif(people2 > people1 and people2 > people3):\n",
    "    print('Person_2 age is greatest')\n",
    "else:\n",
    "    print('Person_3 age is greatest')\n"
   ]
  },
  {
   "cell_type": "code",
   "execution_count": 68,
   "metadata": {},
   "outputs": [
    {
     "name": "stdout",
     "output_type": "stream",
     "text": [
      "Number : -64\n",
      "64\n"
     ]
    }
   ],
   "source": [
    "# Write a program to print absolute value of a number entered by user\n",
    "number = int(input('Number : '))\n",
    "if(number < 0):\n",
    "    print(number * (-1))\n",
    "else:\n",
    "    print(number)\n",
    "    \n",
    "          "
   ]
  },
  {
   "cell_type": "code",
   "execution_count": 73,
   "metadata": {},
   "outputs": [
    {
     "name": "stdout",
     "output_type": "stream",
     "text": [
      "Total Number of Classes Held: 100\n",
      "Total Number of Classes attended: 56\n",
      "56\n",
      "You are barred to appear in the exam.\n"
     ]
    }
   ],
   "source": [
    "# A student will not be allowed to sit in exam if his/her attendence is less than 75%.\n",
    "#Take following input from user\n",
    "#Number of classes held\n",
    "#Number of classes attended.\n",
    "#And print\n",
    "#percentage of class attended\n",
    "#Is student is allowed to sit in exam or not.\n",
    "\n",
    "NOC= int(input('Total Number of Classes Held: '))\n",
    "NOA= int(input('Total Number of Classes attended: '))\n",
    "POCA = int((NOA/NOC)*100)\n",
    "print(POCA)\n",
    "if(POCA > 75):\n",
    "    print('You are allowed to sit in the exams.')\n",
    "else:\n",
    "    print('You are barred to appear in the exam.')"
   ]
  },
  {
   "cell_type": "code",
   "execution_count": 80,
   "metadata": {},
   "outputs": [
    {
     "name": "stdout",
     "output_type": "stream",
     "text": [
      "Enter either Y or N : N\n",
      "Enter the marks: 56\n",
      "You are not allowed\n"
     ]
    }
   ],
   "source": [
    "#Modify the above question to allow student to sit if he/she has medical cause. \n",
    "#Ask user if he/she has medical cause or not ( 'Y' or 'N' ) and print accordingly.\n",
    "\n",
    "medical_cause = input('Enter either Y or N : ')\n",
    "if(medical_cause == 'Y'):\n",
    "    print('You are allowed')\n",
    "else:\n",
    "    marks= int(input('Enter the marks: '))\n",
    "    if(marks > 75):\n",
    "        print('You are allowed')\n",
    "    else:\n",
    "        print('You are not allowed')"
   ]
  },
  {
   "cell_type": "code",
   "execution_count": null,
   "metadata": {},
   "outputs": [],
   "source": [
    "# Take 10 integers from keyboard using loop and print their average value on the screen.\n",
    "sum = 0\n",
    "i = 10\n",
    "while i>0:\n",
    "    #num = int(input('Enter the Number: '))\n",
    "    sum= num+i\n",
    "    print(sum/10)\n",
    "    i=i-1\n",
    "\n"
   ]
  }
 ],
 "metadata": {
  "kernelspec": {
   "display_name": "Python 3",
   "language": "python",
   "name": "python3"
  },
  "language_info": {
   "codemirror_mode": {
    "name": "ipython",
    "version": 3
   },
   "file_extension": ".py",
   "mimetype": "text/x-python",
   "name": "python",
   "nbconvert_exporter": "python",
   "pygments_lexer": "ipython3",
   "version": "3.7.1"
  }
 },
 "nbformat": 4,
 "nbformat_minor": 2
}
