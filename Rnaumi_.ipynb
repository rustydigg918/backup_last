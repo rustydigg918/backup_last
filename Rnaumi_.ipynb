{
 "cells": [
  {
   "cell_type": "code",
   "execution_count": 6,
   "metadata": {},
   "outputs": [
    {
     "name": "stdout",
     "output_type": "stream",
     "text": [
      "       I Am Capitalised\n",
      "I Am Capitalised\n",
      "       i am capitalised\n"
     ]
    }
   ],
   "source": [
    "my_variable = \"       I Am Capitalised\"\n",
    "print(my_variable)\n",
    "my_stripped = my_variable.strip()\n",
    "print(my_stripped)\n",
    "my_lower = my_variable.lower()\n",
    "print(my_lower)"
   ]
  },
  {
   "cell_type": "code",
   "execution_count": 3,
   "metadata": {},
   "outputs": [],
   "source": [
    "def move():\n",
    "    direction = input(\"Go left or right? \")\n",
    "    if direction == \"left\":\n",
    "        turtle.left(60)\n",
    "        turtle.forward(50)\n",
    "    if direction == \"right\":\n",
    "        turtle.right(60)\n",
    "        turtle.forward(50)"
   ]
  },
  {
   "cell_type": "code",
   "execution_count": 10,
   "metadata": {},
   "outputs": [
    {
     "name": "stdout",
     "output_type": "stream",
     "text": [
      "Please enter some words.\n",
      "Include a period (.) when you are finished.\n",
      "next word: op \n",
      "next word: is\n",
      "next word: her\n",
      "next word: .\n",
      "\n",
      "Aha! You said:\n",
      "her is op   \n"
     ]
    }
   ],
   "source": [
    "word = ''\n",
    "sentence = ''\n",
    "print('Please enter some words.')\n",
    "print('Include a period (.) when you are finished.')\n",
    "while '.' not in word:\n",
    "    sentence = word + ' ' + sentence\n",
    "    word = input('next word: ')\n",
    "print()\n",
    "print('Aha! You said:')\n",
    "print(sentence)\n",
    "\n"
   ]
  },
  {
   "cell_type": "code",
   "execution_count": 12,
   "metadata": {},
   "outputs": [
    {
     "name": "stdout",
     "output_type": "stream",
     "text": [
      "Please enter some words.\n",
      "Include a period (.) when you are finished.\n",
      "next word: 11\n",
      "next word: is\n",
      "next word: 99\n",
      "next word: .\n",
      "\n",
      "Aha! You said:\n",
      ". 99 is 11 \n"
     ]
    }
   ],
   "source": [
    "word = ''\n",
    "sentence = ''\n",
    "print('Please enter some words.')\n",
    "print('Include a period (.) when you are finished.')\n",
    "while '.' not in word:\n",
    "    word = input('next word: ')\n",
    "    sentence = word + ' ' + sentence\n",
    "print()\n",
    "print('Aha! You said:')\n",
    "print(sentence)"
   ]
  },
  {
   "cell_type": "code",
   "execution_count": 3,
   "metadata": {},
   "outputs": [],
   "source": [
    "import turtle\n",
    "def forward(distance):\n",
    "    while distance > 0:\n",
    "        if turtle.distance(0,0) > 100:\n",
    "            angle = turtle.towards(0,0)\n",
    "            turtle.setheading(angle)\n",
    "        turtle.forward(1)\n",
    "        distance = distance - 1\n",
    "forward(150)\n"
   ]
  },
  {
   "cell_type": "code",
   "execution_count": 9,
   "metadata": {},
   "outputs": [],
   "source": [
    "\n",
    "turtle.reset()\n"
   ]
  },
  {
   "cell_type": "code",
   "execution_count": 11,
   "metadata": {},
   "outputs": [],
   "source": [
    "def draw_spiral(radius):\n",
    "    original_xcor = turtle.xcor()\n",
    "    original_ycor = turtle.ycor()\n",
    "    speed = 1\n",
    "    while True:\n",
    "        turtle.forward(speed)\n",
    "        turtle.left(10)\n",
    "        speed += 0.1\n",
    "        if turtle.distance(original_xcor, original_ycor) > radius:\n",
    "            break\n",
    "draw_spiral(500) \n"
   ]
  },
  {
   "cell_type": "code",
   "execution_count": null,
   "metadata": {},
   "outputs": [],
   "source": [
    "def forward(distance):\n",
    "    while distance > 0:\n",
    "        if (turtle.xcor() > 100\n",
    "            or turtle.xcor() < -100\n",
    "            or turtle.ycor() > 100\n",
    "            or turtle.ycor() < -100):\n",
    "            turtle.setheading(turtle.towards(0,0))\n",
    "        turtle.forward(1)\n",
    "        distance = distance - 1"
   ]
  },
  {
   "cell_type": "code",
   "execution_count": 1,
   "metadata": {},
   "outputs": [
    {
     "name": "stdout",
     "output_type": "stream",
     "text": [
      "1982\n",
      "1980\n",
      "1973\n",
      "It took  3 repetitions to get out of loop.\n"
     ]
    }
   ],
   "source": [
    "# While Loop Example\n",
    "\n",
    "dates = [1982, 1980, 1973, 2000]\n",
    "\n",
    "i = 0\n",
    "year = 0\n",
    "\n",
    "while(year != 1973):\n",
    "    year = dates[i]\n",
    "    i = i + 1\n",
    "    print(year)\n",
    "\n",
    "print(\"It took \", i ,\"repetitions to get out of loop.\")"
   ]
  },
  {
   "cell_type": "code",
   "execution_count": null,
   "metadata": {},
   "outputs": [],
   "source": [
    "# find the sum of the even-valued terms\n",
    "# 1, 2, 3, 5, 8, 13, 21, 34, 55, 89\n",
    "\n",
    "fibo = 1\n",
    "prev = 0\n",
    "for i in range(4000000):\n",
    "    fibo = fibo + prev\n",
    "    prev= fibo - prev\n",
    "print(fibo)"
   ]
  },
  {
   "cell_type": "code",
   "execution_count": null,
   "metadata": {},
   "outputs": [],
   "source": []
  },
  {
   "cell_type": "code",
   "execution_count": 1,
   "metadata": {},
   "outputs": [
    {
     "name": "stdout",
     "output_type": "stream",
     "text": [
      "E:\\cool_data\n"
     ]
    }
   ],
   "source": [
    "import os\n",
    "os.chdir('E:\\\\cool_data')\n",
    "print (os.getcwd())"
   ]
  },
  {
   "cell_type": "code",
   "execution_count": 2,
   "metadata": {},
   "outputs": [],
   "source": [
    "import numpy as np\n",
    "import pandas as pd\n",
    "import matplotlib.pyplot as plt"
   ]
  },
  {
   "cell_type": "code",
   "execution_count": 20,
   "metadata": {},
   "outputs": [],
   "source": [
    "df = pd.read_csv(\"auto-mpg.data\", sep = '\\s+',low_memory=False, header=None)\n"
   ]
  },
  {
   "cell_type": "code",
   "execution_count": 23,
   "metadata": {},
   "outputs": [],
   "source": [
    "df.columns=['Component'+str(i) for i in range(1,9)]+['car']"
   ]
  },
  {
   "cell_type": "code",
   "execution_count": 24,
   "metadata": {},
   "outputs": [
    {
     "data": {
      "text/html": [
       "<div>\n",
       "<style scoped>\n",
       "    .dataframe tbody tr th:only-of-type {\n",
       "        vertical-align: middle;\n",
       "    }\n",
       "\n",
       "    .dataframe tbody tr th {\n",
       "        vertical-align: top;\n",
       "    }\n",
       "\n",
       "    .dataframe thead th {\n",
       "        text-align: right;\n",
       "    }\n",
       "</style>\n",
       "<table border=\"1\" class=\"dataframe\">\n",
       "  <thead>\n",
       "    <tr style=\"text-align: right;\">\n",
       "      <th></th>\n",
       "      <th>Component1</th>\n",
       "      <th>Component2</th>\n",
       "      <th>Component3</th>\n",
       "      <th>Component4</th>\n",
       "      <th>Component5</th>\n",
       "      <th>Component6</th>\n",
       "      <th>Component7</th>\n",
       "      <th>Component8</th>\n",
       "      <th>car</th>\n",
       "    </tr>\n",
       "  </thead>\n",
       "  <tbody>\n",
       "    <tr>\n",
       "      <th>0</th>\n",
       "      <td>18.0</td>\n",
       "      <td>8</td>\n",
       "      <td>307.0</td>\n",
       "      <td>130.0</td>\n",
       "      <td>3504.0</td>\n",
       "      <td>12.0</td>\n",
       "      <td>70</td>\n",
       "      <td>1</td>\n",
       "      <td>chevrolet chevelle malibu</td>\n",
       "    </tr>\n",
       "    <tr>\n",
       "      <th>1</th>\n",
       "      <td>15.0</td>\n",
       "      <td>8</td>\n",
       "      <td>350.0</td>\n",
       "      <td>165.0</td>\n",
       "      <td>3693.0</td>\n",
       "      <td>11.5</td>\n",
       "      <td>70</td>\n",
       "      <td>1</td>\n",
       "      <td>buick skylark 320</td>\n",
       "    </tr>\n",
       "    <tr>\n",
       "      <th>2</th>\n",
       "      <td>18.0</td>\n",
       "      <td>8</td>\n",
       "      <td>318.0</td>\n",
       "      <td>150.0</td>\n",
       "      <td>3436.0</td>\n",
       "      <td>11.0</td>\n",
       "      <td>70</td>\n",
       "      <td>1</td>\n",
       "      <td>plymouth satellite</td>\n",
       "    </tr>\n",
       "    <tr>\n",
       "      <th>3</th>\n",
       "      <td>16.0</td>\n",
       "      <td>8</td>\n",
       "      <td>304.0</td>\n",
       "      <td>150.0</td>\n",
       "      <td>3433.0</td>\n",
       "      <td>12.0</td>\n",
       "      <td>70</td>\n",
       "      <td>1</td>\n",
       "      <td>amc rebel sst</td>\n",
       "    </tr>\n",
       "    <tr>\n",
       "      <th>4</th>\n",
       "      <td>17.0</td>\n",
       "      <td>8</td>\n",
       "      <td>302.0</td>\n",
       "      <td>140.0</td>\n",
       "      <td>3449.0</td>\n",
       "      <td>10.5</td>\n",
       "      <td>70</td>\n",
       "      <td>1</td>\n",
       "      <td>ford torino</td>\n",
       "    </tr>\n",
       "  </tbody>\n",
       "</table>\n",
       "</div>"
      ],
      "text/plain": [
       "   Component1  Component2  Component3 Component4  Component5  Component6  \\\n",
       "0        18.0           8       307.0      130.0      3504.0        12.0   \n",
       "1        15.0           8       350.0      165.0      3693.0        11.5   \n",
       "2        18.0           8       318.0      150.0      3436.0        11.0   \n",
       "3        16.0           8       304.0      150.0      3433.0        12.0   \n",
       "4        17.0           8       302.0      140.0      3449.0        10.5   \n",
       "\n",
       "   Component7  Component8                        car  \n",
       "0          70           1  chevrolet chevelle malibu  \n",
       "1          70           1          buick skylark 320  \n",
       "2          70           1         plymouth satellite  \n",
       "3          70           1              amc rebel sst  \n",
       "4          70           1                ford torino  "
      ]
     },
     "execution_count": 24,
     "metadata": {},
     "output_type": "execute_result"
    }
   ],
   "source": [
    "df.head()"
   ]
  },
  {
   "cell_type": "code",
   "execution_count": 29,
   "metadata": {},
   "outputs": [
    {
     "data": {
      "text/plain": [
       "(124, 9)"
      ]
     },
     "execution_count": 29,
     "metadata": {},
     "output_type": "execute_result"
    }
   ],
   "source": [
    "df.shape\n",
    "df=df.drop(df[df.Component1>18 ].index)\n",
    "df.shape"
   ]
  }
 ],
 "metadata": {
  "kernelspec": {
   "display_name": "Python 3",
   "language": "python",
   "name": "python3"
  },
  "language_info": {
   "codemirror_mode": {
    "name": "ipython",
    "version": 3
   },
   "file_extension": ".py",
   "mimetype": "text/x-python",
   "name": "python",
   "nbconvert_exporter": "python",
   "pygments_lexer": "ipython3",
   "version": "3.7.1"
  }
 },
 "nbformat": 4,
 "nbformat_minor": 2
}
