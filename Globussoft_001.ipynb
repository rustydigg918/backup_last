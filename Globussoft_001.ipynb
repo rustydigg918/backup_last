{
 "cells": [
  {
   "cell_type": "code",
   "execution_count": 1,
   "metadata": {},
   "outputs": [
    {
     "name": "stdout",
     "output_type": "stream",
     "text": [
      "Enter no of testcases :5\n"
     ]
    }
   ],
   "source": [
    "n=int(input(\"Enter no of testcases :\"))"
   ]
  },
  {
   "cell_type": "code",
   "execution_count": 10,
   "metadata": {},
   "outputs": [
    {
     "name": "stdout",
     "output_type": "stream",
     "text": [
      "Enter case numbers : 5\n",
      "Enter case numbers : 4\n",
      "Enter case numbers : 3\n",
      "Enter case numbers : 2\n",
      "Enter case numbers : 1\n"
     ]
    }
   ],
   "source": [
    "testcase=[]\n",
    "for i in range(n):\n",
    "    testcase.append(int(input(\"Enter case numbers : \")))"
   ]
  },
  {
   "cell_type": "code",
   "execution_count": 11,
   "metadata": {},
   "outputs": [],
   "source": [
    "def initArray(n):\n",
    "    arr=[]\n",
    "    for i in range(1,n+1):\n",
    "        arr.append(i)\n",
    "    return arr"
   ]
  },
  {
   "cell_type": "code",
   "execution_count": 12,
   "metadata": {},
   "outputs": [],
   "source": [
    "def calcSum(arr):\n",
    "    flag=1\n",
    "    while flag==1:\n",
    "        new_arr=[]\n",
    "        for i in range(1,len(arr)):   \n",
    "            sum_ar=arr[i-1]+arr[i]\n",
    "            new_arr.append(sum_ar)\n",
    "        arr=new_arr\n",
    "        if len(new_arr)==1:\n",
    "            flag=0\n",
    "    return new_arr"
   ]
  },
  {
   "cell_type": "code",
   "execution_count": null,
   "metadata": {},
   "outputs": [
    {
     "name": "stdout",
     "output_type": "stream",
     "text": [
      "Case  1 :  48\n",
      "Case  2 :  20\n",
      "Case  3 :  8\n",
      "Case  4 :  3\n",
      "Case  5 : 1\n"
     ]
    }
   ],
   "source": [
    "\n",
    "for i in range(n):\n",
    "    list_new=[]\n",
    "    if testcase[i]==1:\n",
    "        print(\"Case \",i+1,\": 1\")\n",
    "    list_new=initArray(testcase[i])\n",
    "    res=calcSum(list_new)\n",
    "    print(\"Case \",i+1,\": \",res[0])"
   ]
  },
  {
   "cell_type": "code",
   "execution_count": 6,
   "metadata": {},
   "outputs": [],
   "source": []
  },
  {
   "cell_type": "code",
   "execution_count": null,
   "metadata": {},
   "outputs": [],
   "source": []
  }
 ],
 "metadata": {
  "kernelspec": {
   "display_name": "Python 3",
   "language": "python",
   "name": "python3"
  },
  "language_info": {
   "codemirror_mode": {
    "name": "ipython",
    "version": 3
   },
   "file_extension": ".py",
   "mimetype": "text/x-python",
   "name": "python",
   "nbconvert_exporter": "python",
   "pygments_lexer": "ipython3",
   "version": "3.7.1"
  }
 },
 "nbformat": 4,
 "nbformat_minor": 2
}
