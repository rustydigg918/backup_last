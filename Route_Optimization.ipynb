{
 "cells": [
  {
   "cell_type": "code",
   "execution_count": null,
   "metadata": {},
   "outputs": [],
   "source": [
    "import geopandas"
   ]
  },
  {
   "cell_type": "code",
   "execution_count": null,
   "metadata": {},
   "outputs": [],
   "source": [
    "pip install descartes"
   ]
  },
  {
   "cell_type": "code",
   "execution_count": null,
   "metadata": {},
   "outputs": [],
   "source": [
    "from folium import *"
   ]
  },
  {
   "cell_type": "code",
   "execution_count": 1,
   "metadata": {},
   "outputs": [],
   "source": [
    "import pandas as pd\n",
    "import numpy as np\n",
    "import matplotlib.pyplot as plt\n",
    "from sklearn.cluster import KMeans\n",
    "import seaborn as sns; sns.set()\n",
    "import csv"
   ]
  },
  {
   "cell_type": "code",
   "execution_count": 2,
   "metadata": {},
   "outputs": [
    {
     "name": "stdout",
     "output_type": "stream",
     "text": [
      "C:\\Users\\pushkar\\Downloads\n"
     ]
    }
   ],
   "source": [
    "cd C:\\Users\\pushkar\\Downloads"
   ]
  },
  {
   "cell_type": "code",
   "execution_count": 3,
   "metadata": {},
   "outputs": [
    {
     "data": {
      "text/html": [
       "<div>\n",
       "<style scoped>\n",
       "    .dataframe tbody tr th:only-of-type {\n",
       "        vertical-align: middle;\n",
       "    }\n",
       "\n",
       "    .dataframe tbody tr th {\n",
       "        vertical-align: top;\n",
       "    }\n",
       "\n",
       "    .dataframe thead th {\n",
       "        text-align: right;\n",
       "    }\n",
       "</style>\n",
       "<table border=\"1\" class=\"dataframe\">\n",
       "  <thead>\n",
       "    <tr style=\"text-align: right;\">\n",
       "      <th></th>\n",
       "      <th>Outlet_id</th>\n",
       "      <th>Outlet_Name</th>\n",
       "      <th>Outlet_Type</th>\n",
       "      <th>Discount_Category_Name</th>\n",
       "      <th>Beat_Name</th>\n",
       "      <th>TI</th>\n",
       "      <th>Latitude</th>\n",
       "      <th>Longitude</th>\n",
       "      <th>Timing</th>\n",
       "      <th>Time(min)</th>\n",
       "    </tr>\n",
       "  </thead>\n",
       "  <tbody>\n",
       "    <tr>\n",
       "      <th>0</th>\n",
       "      <td>11704</td>\n",
       "      <td>Reliance Retail  Ltd (Marathalli)</td>\n",
       "      <td>MT</td>\n",
       "      <td>BL-Reliance</td>\n",
       "      <td>B1 01</td>\n",
       "      <td>NaN</td>\n",
       "      <td>12.965641</td>\n",
       "      <td>77.701841</td>\n",
       "      <td>15 mnt</td>\n",
       "      <td>15</td>\n",
       "    </tr>\n",
       "    <tr>\n",
       "      <th>1</th>\n",
       "      <td>177</td>\n",
       "      <td>Nilgiris Poorva - Marthahalli</td>\n",
       "      <td>MT</td>\n",
       "      <td>BL-Nilgiris(Franchise)</td>\n",
       "      <td>B1 01</td>\n",
       "      <td>NaN</td>\n",
       "      <td>12.959591</td>\n",
       "      <td>77.705512</td>\n",
       "      <td>15 mnt</td>\n",
       "      <td>15</td>\n",
       "    </tr>\n",
       "    <tr>\n",
       "      <th>2</th>\n",
       "      <td>8356</td>\n",
       "      <td>Big Basket Marthahalli Bangalore</td>\n",
       "      <td>ECOM</td>\n",
       "      <td>BL-Big Basket</td>\n",
       "      <td>B1 01</td>\n",
       "      <td>NaN</td>\n",
       "      <td>12.974617</td>\n",
       "      <td>77.706389</td>\n",
       "      <td>1 hr</td>\n",
       "      <td>60</td>\n",
       "    </tr>\n",
       "    <tr>\n",
       "      <th>3</th>\n",
       "      <td>202</td>\n",
       "      <td>Aditya Birla Retail Ltd (More)-(KUNDANHALLI)</td>\n",
       "      <td>MT</td>\n",
       "      <td>BL-More</td>\n",
       "      <td>B1 03</td>\n",
       "      <td>NaN</td>\n",
       "      <td>12.964483</td>\n",
       "      <td>77.714825</td>\n",
       "      <td>12 mnt</td>\n",
       "      <td>12</td>\n",
       "    </tr>\n",
       "    <tr>\n",
       "      <th>4</th>\n",
       "      <td>160</td>\n",
       "      <td>Hypercity Retail (India) Ltd-Kundanahalli</td>\n",
       "      <td>MT</td>\n",
       "      <td>BL-HyperCity</td>\n",
       "      <td>B1 03</td>\n",
       "      <td>NaN</td>\n",
       "      <td>12.957950</td>\n",
       "      <td>77.716101</td>\n",
       "      <td>30 mnt</td>\n",
       "      <td>30</td>\n",
       "    </tr>\n",
       "    <tr>\n",
       "      <th>5</th>\n",
       "      <td>4167</td>\n",
       "      <td>Reliance Retail  Ltd (Versova Layout - Kagadas...</td>\n",
       "      <td>MT</td>\n",
       "      <td>BL-Reliance</td>\n",
       "      <td>B1 12</td>\n",
       "      <td>NaN</td>\n",
       "      <td>12.985955</td>\n",
       "      <td>77.668994</td>\n",
       "      <td>15 mnt</td>\n",
       "      <td>15</td>\n",
       "    </tr>\n",
       "    <tr>\n",
       "      <th>6</th>\n",
       "      <td>13171</td>\n",
       "      <td>Trent Hyper Market Pvt Ltd (Star Bazar) Munnek...</td>\n",
       "      <td>MT</td>\n",
       "      <td>BL-Trent</td>\n",
       "      <td>B1 80</td>\n",
       "      <td>NaN</td>\n",
       "      <td>12.954353</td>\n",
       "      <td>77.712644</td>\n",
       "      <td>10 mnt</td>\n",
       "      <td>10</td>\n",
       "    </tr>\n",
       "    <tr>\n",
       "      <th>7</th>\n",
       "      <td>108</td>\n",
       "      <td>Reliance Retail  Ltd (T.C. Palya)</td>\n",
       "      <td>MT</td>\n",
       "      <td>BL-Reliance</td>\n",
       "      <td>B1 10</td>\n",
       "      <td>NaN</td>\n",
       "      <td>13.022638</td>\n",
       "      <td>77.696244</td>\n",
       "      <td>15 mnt</td>\n",
       "      <td>15</td>\n",
       "    </tr>\n",
       "    <tr>\n",
       "      <th>8</th>\n",
       "      <td>8579</td>\n",
       "      <td>Aditya Birla Retail Ltd (Mega More)-Marthahalli</td>\n",
       "      <td>MT</td>\n",
       "      <td>BL-More</td>\n",
       "      <td>B1 02</td>\n",
       "      <td>NaN</td>\n",
       "      <td>12.947898</td>\n",
       "      <td>77.698732</td>\n",
       "      <td>30 mnt</td>\n",
       "      <td>30</td>\n",
       "    </tr>\n",
       "    <tr>\n",
       "      <th>9</th>\n",
       "      <td>25520</td>\n",
       "      <td>Natures Basket Ltd-Godrej Devarabisenahalli</td>\n",
       "      <td>MT</td>\n",
       "      <td>BL-NatureBasket</td>\n",
       "      <td>B1 02</td>\n",
       "      <td>NaN</td>\n",
       "      <td>12.923022</td>\n",
       "      <td>77.695287</td>\n",
       "      <td>10 mnt</td>\n",
       "      <td>10</td>\n",
       "    </tr>\n",
       "  </tbody>\n",
       "</table>\n",
       "</div>"
      ],
      "text/plain": [
       "   Outlet_id                                        Outlet_Name  Outlet_Type   \\\n",
       "0       11704                  Reliance Retail  Ltd (Marathalli)           MT   \n",
       "1         177                      Nilgiris Poorva - Marthahalli           MT   \n",
       "2        8356                   Big Basket Marthahalli Bangalore         ECOM   \n",
       "3         202       Aditya Birla Retail Ltd (More)-(KUNDANHALLI)           MT   \n",
       "4         160          Hypercity Retail (India) Ltd-Kundanahalli           MT   \n",
       "5        4167  Reliance Retail  Ltd (Versova Layout - Kagadas...           MT   \n",
       "6       13171  Trent Hyper Market Pvt Ltd (Star Bazar) Munnek...           MT   \n",
       "7         108                  Reliance Retail  Ltd (T.C. Palya)           MT   \n",
       "8        8579    Aditya Birla Retail Ltd (Mega More)-Marthahalli           MT   \n",
       "9       25520        Natures Basket Ltd-Godrej Devarabisenahalli           MT   \n",
       "\n",
       "  Discount_Category_Name  Beat_Name   TI  Latitude   Longitude   Timing  \\\n",
       "0             BL-Reliance      B1 01 NaN  12.965641   77.701841  15 mnt   \n",
       "1  BL-Nilgiris(Franchise)      B1 01 NaN  12.959591   77.705512  15 mnt   \n",
       "2           BL-Big Basket      B1 01 NaN  12.974617   77.706389    1 hr   \n",
       "3                 BL-More      B1 03 NaN  12.964483   77.714825  12 mnt   \n",
       "4            BL-HyperCity      B1 03 NaN  12.957950   77.716101  30 mnt   \n",
       "5             BL-Reliance      B1 12 NaN  12.985955   77.668994  15 mnt   \n",
       "6                BL-Trent      B1 80 NaN  12.954353   77.712644  10 mnt   \n",
       "7             BL-Reliance      B1 10 NaN  13.022638   77.696244  15 mnt   \n",
       "8                 BL-More      B1 02 NaN  12.947898   77.698732  30 mnt   \n",
       "9         BL-NatureBasket      B1 02 NaN  12.923022   77.695287  10 mnt   \n",
       "\n",
       "   Time(min)  \n",
       "0         15  \n",
       "1         15  \n",
       "2         60  \n",
       "3         12  \n",
       "4         30  \n",
       "5         15  \n",
       "6         10  \n",
       "7         15  \n",
       "8         30  \n",
       "9         10  "
      ]
     },
     "execution_count": 3,
     "metadata": {},
     "output_type": "execute_result"
    }
   ],
   "source": [
    "# MT List - Raw Data.xlsx\n",
    "df = pd.read_excel('MT List - Raw Data.xlsx', sheet_name='MT List.')\n",
    "df.head(10)"
   ]
  },
  {
   "cell_type": "code",
   "execution_count": 4,
   "metadata": {},
   "outputs": [
    {
     "data": {
      "text/plain": [
       "Index(['Outlet_id ', 'Outlet_Name ', 'Outlet_Type ', 'Discount_Category_Name ',\n",
       "       'Beat_Name ', 'TI', 'Latitude ', 'Longitude ', 'Timing', 'Time(min)'],\n",
       "      dtype='object')"
      ]
     },
     "execution_count": 4,
     "metadata": {},
     "output_type": "execute_result"
    }
   ],
   "source": [
    "df.columns"
   ]
  },
  {
   "cell_type": "code",
   "execution_count": null,
   "metadata": {},
   "outputs": [],
   "source": [
    "df.dropna(axis=0,how='any',subset=['Longitude ','Latitude '],inplace=True)"
   ]
  },
  {
   "cell_type": "code",
   "execution_count": null,
   "metadata": {},
   "outputs": [],
   "source": [
    "# Variable with the Longitude and Latitude\n",
    "X=df.loc[:,('Outlet_id ','Longitude ','Latitude ')]\n",
    "X.head(10)"
   ]
  },
  {
   "cell_type": "code",
   "execution_count": null,
   "metadata": {},
   "outputs": [],
   "source": [
    "K_clusters = range(1,10)\n",
    "kmeans = [KMeans(n_clusters=i) for i in K_clusters]\n",
    "Y_axis = df[['Latitude ']]\n",
    "X_axis = df[['Longitude ']]"
   ]
  },
  {
   "cell_type": "code",
   "execution_count": null,
   "metadata": {},
   "outputs": [],
   "source": [
    "score = [kmeans[i].fit(Y_axis).score(Y_axis) for i in range(len(kmeans))]"
   ]
  },
  {
   "cell_type": "code",
   "execution_count": null,
   "metadata": {},
   "outputs": [],
   "source": [
    "# Visualize\n",
    "plt.plot(K_clusters, score)\n",
    "plt.xlabel('Number of Clusters')\n",
    "plt.ylabel('Score')\n",
    "plt.title('Elbow Curve')\n",
    "plt.show()"
   ]
  },
  {
   "cell_type": "code",
   "execution_count": null,
   "metadata": {},
   "outputs": [],
   "source": [
    "kmeans = KMeans(n_clusters = 4, init ='k-means++')\n",
    "kmeans.fit(X[X.columns[1:3]]) # Compute k-means clustering.\n",
    "X['cluster_label'] = kmeans.fit_predict(X[X.columns[1:3]])\n",
    "\n",
    "centers = kmeans.cluster_centers_ # Coordinates of cluster centers.\n",
    "labels = kmeans.predict(X[X.columns[1:3]]) # Labels of each point\n",
    "X.head(10)"
   ]
  },
  {
   "cell_type": "code",
   "execution_count": null,
   "metadata": {},
   "outputs": [],
   "source": [
    "X.sample(8)"
   ]
  },
  {
   "cell_type": "code",
   "execution_count": null,
   "metadata": {},
   "outputs": [],
   "source": [
    "X.plot.scatter(x = 'Latitude ', y = 'Longitude ', c=labels, s=500, cmap='viridis')\n",
    "plt.scatter(centers[:, 0], centers[:, 1], c='black', s=200, alpha=0.5)"
   ]
  },
  {
   "cell_type": "code",
   "execution_count": null,
   "metadata": {},
   "outputs": [],
   "source": [
    "X.groupby('cluster_label').count()"
   ]
  },
  {
   "cell_type": "code",
   "execution_count": null,
   "metadata": {},
   "outputs": [],
   "source": []
  },
  {
   "cell_type": "code",
   "execution_count": null,
   "metadata": {},
   "outputs": [],
   "source": []
  },
  {
   "cell_type": "code",
   "execution_count": null,
   "metadata": {},
   "outputs": [],
   "source": []
  },
  {
   "cell_type": "code",
   "execution_count": null,
   "metadata": {},
   "outputs": [],
   "source": []
  },
  {
   "cell_type": "code",
   "execution_count": null,
   "metadata": {},
   "outputs": [],
   "source": []
  },
  {
   "cell_type": "code",
   "execution_count": null,
   "metadata": {},
   "outputs": [],
   "source": []
  },
  {
   "cell_type": "code",
   "execution_count": null,
   "metadata": {},
   "outputs": [],
   "source": []
  },
  {
   "cell_type": "code",
   "execution_count": null,
   "metadata": {},
   "outputs": [],
   "source": []
  },
  {
   "cell_type": "code",
   "execution_count": null,
   "metadata": {},
   "outputs": [],
   "source": []
  },
  {
   "cell_type": "code",
   "execution_count": null,
   "metadata": {},
   "outputs": [],
   "source": [
    "\"\"\"\n",
    "Depicting the essentials from the stated scene\n",
    "1. Pointing it onto the map\n",
    "2. Extractable data from the map to look closer\n",
    "3. Threading it into least possible ddistance and time\n",
    "\"\"\""
   ]
  },
  {
   "cell_type": "code",
   "execution_count": 5,
   "metadata": {},
   "outputs": [
    {
     "data": {
      "text/html": [
       "<div>\n",
       "<style scoped>\n",
       "    .dataframe tbody tr th:only-of-type {\n",
       "        vertical-align: middle;\n",
       "    }\n",
       "\n",
       "    .dataframe tbody tr th {\n",
       "        vertical-align: top;\n",
       "    }\n",
       "\n",
       "    .dataframe thead th {\n",
       "        text-align: right;\n",
       "    }\n",
       "</style>\n",
       "<table border=\"1\" class=\"dataframe\">\n",
       "  <thead>\n",
       "    <tr style=\"text-align: right;\">\n",
       "      <th></th>\n",
       "      <th>Outlet_id</th>\n",
       "      <th>Outlet_Name</th>\n",
       "      <th>Outlet_Type</th>\n",
       "      <th>Discount_Category_Name</th>\n",
       "      <th>Beat_Name</th>\n",
       "      <th>TI</th>\n",
       "      <th>Latitude</th>\n",
       "      <th>Longitude</th>\n",
       "      <th>Timing</th>\n",
       "      <th>Time(min)</th>\n",
       "    </tr>\n",
       "  </thead>\n",
       "  <tbody>\n",
       "    <tr>\n",
       "      <th>0</th>\n",
       "      <td>11704</td>\n",
       "      <td>Reliance Retail  Ltd (Marathalli)</td>\n",
       "      <td>MT</td>\n",
       "      <td>BL-Reliance</td>\n",
       "      <td>B1 01</td>\n",
       "      <td>NaN</td>\n",
       "      <td>12.965641</td>\n",
       "      <td>77.701841</td>\n",
       "      <td>15 mnt</td>\n",
       "      <td>15</td>\n",
       "    </tr>\n",
       "    <tr>\n",
       "      <th>1</th>\n",
       "      <td>177</td>\n",
       "      <td>Nilgiris Poorva - Marthahalli</td>\n",
       "      <td>MT</td>\n",
       "      <td>BL-Nilgiris(Franchise)</td>\n",
       "      <td>B1 01</td>\n",
       "      <td>NaN</td>\n",
       "      <td>12.959591</td>\n",
       "      <td>77.705512</td>\n",
       "      <td>15 mnt</td>\n",
       "      <td>15</td>\n",
       "    </tr>\n",
       "    <tr>\n",
       "      <th>2</th>\n",
       "      <td>8356</td>\n",
       "      <td>Big Basket Marthahalli Bangalore</td>\n",
       "      <td>ECOM</td>\n",
       "      <td>BL-Big Basket</td>\n",
       "      <td>B1 01</td>\n",
       "      <td>NaN</td>\n",
       "      <td>12.974617</td>\n",
       "      <td>77.706389</td>\n",
       "      <td>1 hr</td>\n",
       "      <td>60</td>\n",
       "    </tr>\n",
       "    <tr>\n",
       "      <th>3</th>\n",
       "      <td>202</td>\n",
       "      <td>Aditya Birla Retail Ltd (More)-(KUNDANHALLI)</td>\n",
       "      <td>MT</td>\n",
       "      <td>BL-More</td>\n",
       "      <td>B1 03</td>\n",
       "      <td>NaN</td>\n",
       "      <td>12.964483</td>\n",
       "      <td>77.714825</td>\n",
       "      <td>12 mnt</td>\n",
       "      <td>12</td>\n",
       "    </tr>\n",
       "    <tr>\n",
       "      <th>4</th>\n",
       "      <td>160</td>\n",
       "      <td>Hypercity Retail (India) Ltd-Kundanahalli</td>\n",
       "      <td>MT</td>\n",
       "      <td>BL-HyperCity</td>\n",
       "      <td>B1 03</td>\n",
       "      <td>NaN</td>\n",
       "      <td>12.957950</td>\n",
       "      <td>77.716101</td>\n",
       "      <td>30 mnt</td>\n",
       "      <td>30</td>\n",
       "    </tr>\n",
       "    <tr>\n",
       "      <th>...</th>\n",
       "      <td>...</td>\n",
       "      <td>...</td>\n",
       "      <td>...</td>\n",
       "      <td>...</td>\n",
       "      <td>...</td>\n",
       "      <td>...</td>\n",
       "      <td>...</td>\n",
       "      <td>...</td>\n",
       "      <td>...</td>\n",
       "      <td>...</td>\n",
       "    </tr>\n",
       "    <tr>\n",
       "      <th>347</th>\n",
       "      <td>74201</td>\n",
       "      <td>Dus Minute indwell super market pvt Ltd</td>\n",
       "      <td>MT</td>\n",
       "      <td>NaN</td>\n",
       "      <td>B1 15</td>\n",
       "      <td>NaN</td>\n",
       "      <td>12.952978</td>\n",
       "      <td>77.642087</td>\n",
       "      <td>10 mnt</td>\n",
       "      <td>10</td>\n",
       "    </tr>\n",
       "    <tr>\n",
       "      <th>348</th>\n",
       "      <td>74483</td>\n",
       "      <td>Reliance Retail Limited - DC</td>\n",
       "      <td>MT</td>\n",
       "      <td>BL-Reliance</td>\n",
       "      <td>B1 75</td>\n",
       "      <td>NaN</td>\n",
       "      <td>13.068908</td>\n",
       "      <td>77.446234</td>\n",
       "      <td>30 mnt</td>\n",
       "      <td>30</td>\n",
       "    </tr>\n",
       "    <tr>\n",
       "      <th>349</th>\n",
       "      <td>74660</td>\n",
       "      <td>Trent Hyper Market Pvt Ltd (Hennur)</td>\n",
       "      <td>MT</td>\n",
       "      <td>BL-Trent</td>\n",
       "      <td>B1 23</td>\n",
       "      <td>NaN</td>\n",
       "      <td>13.048515</td>\n",
       "      <td>77.645634</td>\n",
       "      <td>10 mnt</td>\n",
       "      <td>10</td>\n",
       "    </tr>\n",
       "    <tr>\n",
       "      <th>350</th>\n",
       "      <td>74706</td>\n",
       "      <td>AMAZON RETAIL INDIA PRIVATE LIMITED</td>\n",
       "      <td>ECOM</td>\n",
       "      <td>NaN</td>\n",
       "      <td>B1 09</td>\n",
       "      <td>NaN</td>\n",
       "      <td>12.988778</td>\n",
       "      <td>77.707244</td>\n",
       "      <td>30 mnt</td>\n",
       "      <td>30</td>\n",
       "    </tr>\n",
       "    <tr>\n",
       "      <th>351</th>\n",
       "      <td>74761</td>\n",
       "      <td>FUTURE RETAIL LIMITED - DC</td>\n",
       "      <td>MT</td>\n",
       "      <td>NaN</td>\n",
       "      <td>B1 75</td>\n",
       "      <td>NaN</td>\n",
       "      <td>13.328672</td>\n",
       "      <td>77.122346</td>\n",
       "      <td>15 mnt</td>\n",
       "      <td>15</td>\n",
       "    </tr>\n",
       "  </tbody>\n",
       "</table>\n",
       "<p>352 rows × 10 columns</p>\n",
       "</div>"
      ],
      "text/plain": [
       "     Outlet_id                                   Outlet_Name  Outlet_Type   \\\n",
       "0         11704             Reliance Retail  Ltd (Marathalli)           MT   \n",
       "1           177                 Nilgiris Poorva - Marthahalli           MT   \n",
       "2          8356              Big Basket Marthahalli Bangalore         ECOM   \n",
       "3           202  Aditya Birla Retail Ltd (More)-(KUNDANHALLI)           MT   \n",
       "4           160     Hypercity Retail (India) Ltd-Kundanahalli           MT   \n",
       "..          ...                                           ...          ...   \n",
       "347       74201       Dus Minute indwell super market pvt Ltd           MT   \n",
       "348       74483                  Reliance Retail Limited - DC           MT   \n",
       "349       74660           Trent Hyper Market Pvt Ltd (Hennur)           MT   \n",
       "350       74706           AMAZON RETAIL INDIA PRIVATE LIMITED         ECOM   \n",
       "351       74761                    FUTURE RETAIL LIMITED - DC           MT   \n",
       "\n",
       "    Discount_Category_Name  Beat_Name   TI  Latitude   Longitude   Timing  \\\n",
       "0               BL-Reliance      B1 01 NaN  12.965641   77.701841  15 mnt   \n",
       "1    BL-Nilgiris(Franchise)      B1 01 NaN  12.959591   77.705512  15 mnt   \n",
       "2             BL-Big Basket      B1 01 NaN  12.974617   77.706389    1 hr   \n",
       "3                   BL-More      B1 03 NaN  12.964483   77.714825  12 mnt   \n",
       "4              BL-HyperCity      B1 03 NaN  12.957950   77.716101  30 mnt   \n",
       "..                      ...        ...  ..        ...         ...     ...   \n",
       "347                     NaN      B1 15 NaN  12.952978   77.642087  10 mnt   \n",
       "348             BL-Reliance      B1 75 NaN  13.068908   77.446234  30 mnt   \n",
       "349                BL-Trent      B1 23 NaN  13.048515   77.645634  10 mnt   \n",
       "350                     NaN      B1 09 NaN  12.988778   77.707244  30 mnt   \n",
       "351                     NaN      B1 75 NaN  13.328672   77.122346  15 mnt   \n",
       "\n",
       "     Time(min)  \n",
       "0           15  \n",
       "1           15  \n",
       "2           60  \n",
       "3           12  \n",
       "4           30  \n",
       "..         ...  \n",
       "347         10  \n",
       "348         30  \n",
       "349         10  \n",
       "350         30  \n",
       "351         15  \n",
       "\n",
       "[352 rows x 10 columns]"
      ]
     },
     "execution_count": 5,
     "metadata": {},
     "output_type": "execute_result"
    }
   ],
   "source": [
    "df"
   ]
  },
  {
   "cell_type": "code",
   "execution_count": 6,
   "metadata": {},
   "outputs": [],
   "source": [
    "import pandas as pd\n",
    "from xml.etree import ElementTree\n",
    "import numpy as np\n",
    "import folium\n",
    "from folium.plugins import MarkerCluster"
   ]
  },
  {
   "cell_type": "code",
   "execution_count": 7,
   "metadata": {},
   "outputs": [],
   "source": [
    "df.columns = df.columns.str.strip()"
   ]
  },
  {
   "cell_type": "code",
   "execution_count": 8,
   "metadata": {},
   "outputs": [
    {
     "data": {
      "text/plain": [
       "Index(['Outlet_id', 'Outlet_Name', 'Outlet_Type', 'Discount_Category_Name',\n",
       "       'Beat_Name', 'TI', 'Latitude', 'Longitude', 'Timing', 'Time(min)'],\n",
       "      dtype='object')"
      ]
     },
     "execution_count": 8,
     "metadata": {},
     "output_type": "execute_result"
    }
   ],
   "source": [
    "df.columns"
   ]
  },
  {
   "cell_type": "code",
   "execution_count": 9,
   "metadata": {},
   "outputs": [
    {
     "data": {
      "text/html": [
       "<div>\n",
       "<style scoped>\n",
       "    .dataframe tbody tr th:only-of-type {\n",
       "        vertical-align: middle;\n",
       "    }\n",
       "\n",
       "    .dataframe tbody tr th {\n",
       "        vertical-align: top;\n",
       "    }\n",
       "\n",
       "    .dataframe thead th {\n",
       "        text-align: right;\n",
       "    }\n",
       "</style>\n",
       "<table border=\"1\" class=\"dataframe\">\n",
       "  <thead>\n",
       "    <tr style=\"text-align: right;\">\n",
       "      <th></th>\n",
       "      <th>Outlet_Name</th>\n",
       "      <th>Longitude</th>\n",
       "      <th>Latitude</th>\n",
       "    </tr>\n",
       "  </thead>\n",
       "  <tbody>\n",
       "    <tr>\n",
       "      <th>0</th>\n",
       "      <td>Reliance Retail  Ltd (Marathalli)</td>\n",
       "      <td>77.701841</td>\n",
       "      <td>12.965641</td>\n",
       "    </tr>\n",
       "    <tr>\n",
       "      <th>1</th>\n",
       "      <td>Nilgiris Poorva - Marthahalli</td>\n",
       "      <td>77.705512</td>\n",
       "      <td>12.959591</td>\n",
       "    </tr>\n",
       "    <tr>\n",
       "      <th>2</th>\n",
       "      <td>Big Basket Marthahalli Bangalore</td>\n",
       "      <td>77.706389</td>\n",
       "      <td>12.974617</td>\n",
       "    </tr>\n",
       "    <tr>\n",
       "      <th>3</th>\n",
       "      <td>Aditya Birla Retail Ltd (More)-(KUNDANHALLI)</td>\n",
       "      <td>77.714825</td>\n",
       "      <td>12.964483</td>\n",
       "    </tr>\n",
       "    <tr>\n",
       "      <th>4</th>\n",
       "      <td>Hypercity Retail (India) Ltd-Kundanahalli</td>\n",
       "      <td>77.716101</td>\n",
       "      <td>12.957950</td>\n",
       "    </tr>\n",
       "    <tr>\n",
       "      <th>5</th>\n",
       "      <td>Reliance Retail  Ltd (Versova Layout - Kagadas...</td>\n",
       "      <td>77.668994</td>\n",
       "      <td>12.985955</td>\n",
       "    </tr>\n",
       "    <tr>\n",
       "      <th>6</th>\n",
       "      <td>Trent Hyper Market Pvt Ltd (Star Bazar) Munnek...</td>\n",
       "      <td>77.712644</td>\n",
       "      <td>12.954353</td>\n",
       "    </tr>\n",
       "    <tr>\n",
       "      <th>7</th>\n",
       "      <td>Reliance Retail  Ltd (T.C. Palya)</td>\n",
       "      <td>77.696244</td>\n",
       "      <td>13.022638</td>\n",
       "    </tr>\n",
       "    <tr>\n",
       "      <th>8</th>\n",
       "      <td>Aditya Birla Retail Ltd (Mega More)-Marthahalli</td>\n",
       "      <td>77.698732</td>\n",
       "      <td>12.947898</td>\n",
       "    </tr>\n",
       "    <tr>\n",
       "      <th>9</th>\n",
       "      <td>Natures Basket Ltd-Godrej Devarabisenahalli</td>\n",
       "      <td>77.695287</td>\n",
       "      <td>12.923022</td>\n",
       "    </tr>\n",
       "  </tbody>\n",
       "</table>\n",
       "</div>"
      ],
      "text/plain": [
       "                                         Outlet_Name  Longitude   Latitude\n",
       "0                  Reliance Retail  Ltd (Marathalli)  77.701841  12.965641\n",
       "1                      Nilgiris Poorva - Marthahalli  77.705512  12.959591\n",
       "2                   Big Basket Marthahalli Bangalore  77.706389  12.974617\n",
       "3       Aditya Birla Retail Ltd (More)-(KUNDANHALLI)  77.714825  12.964483\n",
       "4          Hypercity Retail (India) Ltd-Kundanahalli  77.716101  12.957950\n",
       "5  Reliance Retail  Ltd (Versova Layout - Kagadas...  77.668994  12.985955\n",
       "6  Trent Hyper Market Pvt Ltd (Star Bazar) Munnek...  77.712644  12.954353\n",
       "7                  Reliance Retail  Ltd (T.C. Palya)  77.696244  13.022638\n",
       "8    Aditya Birla Retail Ltd (Mega More)-Marthahalli  77.698732  12.947898\n",
       "9        Natures Basket Ltd-Godrej Devarabisenahalli  77.695287  12.923022"
      ]
     },
     "execution_count": 9,
     "metadata": {},
     "output_type": "execute_result"
    }
   ],
   "source": [
    "# Variable with the Longitude and Latitude\n",
    "X=df.loc[:,('Outlet_Name','Longitude','Latitude')]\n",
    "X.head(10)"
   ]
  },
  {
   "cell_type": "code",
   "execution_count": 10,
   "metadata": {},
   "outputs": [
    {
     "data": {
      "text/plain": [
       "Index(['Outlet_Name', 'Longitude', 'Latitude'], dtype='object')"
      ]
     },
     "execution_count": 10,
     "metadata": {},
     "output_type": "execute_result"
    }
   ],
   "source": [
    "X.columns"
   ]
  },
  {
   "cell_type": "code",
   "execution_count": 11,
   "metadata": {},
   "outputs": [],
   "source": [
    "locations = X[['Longitude', 'Longitude']]"
   ]
  },
  {
   "cell_type": "code",
   "execution_count": 12,
   "metadata": {},
   "outputs": [],
   "source": [
    "locationlist = locations.values.tolist()"
   ]
  },
  {
   "cell_type": "code",
   "execution_count": 13,
   "metadata": {},
   "outputs": [
    {
     "data": {
      "text/plain": [
       "352"
      ]
     },
     "execution_count": 13,
     "metadata": {},
     "output_type": "execute_result"
    }
   ],
   "source": [
    "len(locationlist)"
   ]
  },
  {
   "cell_type": "code",
   "execution_count": 14,
   "metadata": {},
   "outputs": [
    {
     "data": {
      "text/plain": [
       "[77.6962442, 77.6962442]"
      ]
     },
     "execution_count": 14,
     "metadata": {},
     "output_type": "execute_result"
    }
   ],
   "source": [
    "locationlist[7]"
   ]
  },
  {
   "cell_type": "code",
   "execution_count": 16,
   "metadata": {},
   "outputs": [
    {
     "data": {
      "text/html": [
       "<div style=\"width:100%;\"><div style=\"position:relative;width:100%;height:0;padding-bottom:60%;\"><iframe src=\"data:text/html;charset=utf-8;base64,PCFET0NUWVBFIGh0bWw+CjxoZWFkPiAgICAKICAgIDxtZXRhIGh0dHAtZXF1aXY9ImNvbnRlbnQtdHlwZSIgY29udGVudD0idGV4dC9odG1sOyBjaGFyc2V0PVVURi04IiAvPgogICAgCiAgICAgICAgPHNjcmlwdD4KICAgICAgICAgICAgTF9OT19UT1VDSCA9IGZhbHNlOwogICAgICAgICAgICBMX0RJU0FCTEVfM0QgPSBmYWxzZTsKICAgICAgICA8L3NjcmlwdD4KICAgIAogICAgPHNjcmlwdCBzcmM9Imh0dHBzOi8vY2RuLmpzZGVsaXZyLm5ldC9ucG0vbGVhZmxldEAxLjUuMS9kaXN0L2xlYWZsZXQuanMiPjwvc2NyaXB0PgogICAgPHNjcmlwdCBzcmM9Imh0dHBzOi8vY29kZS5qcXVlcnkuY29tL2pxdWVyeS0xLjEyLjQubWluLmpzIj48L3NjcmlwdD4KICAgIDxzY3JpcHQgc3JjPSJodHRwczovL21heGNkbi5ib290c3RyYXBjZG4uY29tL2Jvb3RzdHJhcC8zLjIuMC9qcy9ib290c3RyYXAubWluLmpzIj48L3NjcmlwdD4KICAgIDxzY3JpcHQgc3JjPSJodHRwczovL2NkbmpzLmNsb3VkZmxhcmUuY29tL2FqYXgvbGlicy9MZWFmbGV0LmF3ZXNvbWUtbWFya2Vycy8yLjAuMi9sZWFmbGV0LmF3ZXNvbWUtbWFya2Vycy5qcyI+PC9zY3JpcHQ+CiAgICA8bGluayByZWw9InN0eWxlc2hlZXQiIGhyZWY9Imh0dHBzOi8vY2RuLmpzZGVsaXZyLm5ldC9ucG0vbGVhZmxldEAxLjUuMS9kaXN0L2xlYWZsZXQuY3NzIi8+CiAgICA8bGluayByZWw9InN0eWxlc2hlZXQiIGhyZWY9Imh0dHBzOi8vbWF4Y2RuLmJvb3RzdHJhcGNkbi5jb20vYm9vdHN0cmFwLzMuMi4wL2Nzcy9ib290c3RyYXAubWluLmNzcyIvPgogICAgPGxpbmsgcmVsPSJzdHlsZXNoZWV0IiBocmVmPSJodHRwczovL21heGNkbi5ib290c3RyYXBjZG4uY29tL2Jvb3RzdHJhcC8zLjIuMC9jc3MvYm9vdHN0cmFwLXRoZW1lLm1pbi5jc3MiLz4KICAgIDxsaW5rIHJlbD0ic3R5bGVzaGVldCIgaHJlZj0iaHR0cHM6Ly9tYXhjZG4uYm9vdHN0cmFwY2RuLmNvbS9mb250LWF3ZXNvbWUvNC42LjMvY3NzL2ZvbnQtYXdlc29tZS5taW4uY3NzIi8+CiAgICA8bGluayByZWw9InN0eWxlc2hlZXQiIGhyZWY9Imh0dHBzOi8vY2RuanMuY2xvdWRmbGFyZS5jb20vYWpheC9saWJzL0xlYWZsZXQuYXdlc29tZS1tYXJrZXJzLzIuMC4yL2xlYWZsZXQuYXdlc29tZS1tYXJrZXJzLmNzcyIvPgogICAgPGxpbmsgcmVsPSJzdHlsZXNoZWV0IiBocmVmPSJodHRwczovL3Jhd2Nkbi5naXRoYWNrLmNvbS9weXRob24tdmlzdWFsaXphdGlvbi9mb2xpdW0vbWFzdGVyL2ZvbGl1bS90ZW1wbGF0ZXMvbGVhZmxldC5hd2Vzb21lLnJvdGF0ZS5jc3MiLz4KICAgIDxzdHlsZT5odG1sLCBib2R5IHt3aWR0aDogMTAwJTtoZWlnaHQ6IDEwMCU7bWFyZ2luOiAwO3BhZGRpbmc6IDA7fTwvc3R5bGU+CiAgICA8c3R5bGU+I21hcCB7cG9zaXRpb246YWJzb2x1dGU7dG9wOjA7Ym90dG9tOjA7cmlnaHQ6MDtsZWZ0OjA7fTwvc3R5bGU+CiAgICAKICAgICAgICAgICAgPG1ldGEgbmFtZT0idmlld3BvcnQiIGNvbnRlbnQ9IndpZHRoPWRldmljZS13aWR0aCwKICAgICAgICAgICAgICAgIGluaXRpYWwtc2NhbGU9MS4wLCBtYXhpbXVtLXNjYWxlPTEuMCwgdXNlci1zY2FsYWJsZT1ubyIgLz4KICAgICAgICAgICAgPHN0eWxlPgogICAgICAgICAgICAgICAgI21hcF81YzEzYWYyM2YzOGQ0NzkxYjY4Mjg3N2YzYjYwMjhlYiB7CiAgICAgICAgICAgICAgICAgICAgcG9zaXRpb246IHJlbGF0aXZlOwogICAgICAgICAgICAgICAgICAgIHdpZHRoOiAxMDAuMCU7CiAgICAgICAgICAgICAgICAgICAgaGVpZ2h0OiAxMDAuMCU7CiAgICAgICAgICAgICAgICAgICAgbGVmdDogMC4wJTsKICAgICAgICAgICAgICAgICAgICB0b3A6IDAuMCU7CiAgICAgICAgICAgICAgICB9CiAgICAgICAgICAgIDwvc3R5bGU+CiAgICAgICAgCjwvaGVhZD4KPGJvZHk+ICAgIAogICAgCiAgICAgICAgICAgIDxkaXYgY2xhc3M9ImZvbGl1bS1tYXAiIGlkPSJtYXBfNWMxM2FmMjNmMzhkNDc5MWI2ODI4NzdmM2I2MDI4ZWIiID48L2Rpdj4KICAgICAgICAKPC9ib2R5Pgo8c2NyaXB0PiAgICAKICAgIAogICAgICAgICAgICB2YXIgbWFwXzVjMTNhZjIzZjM4ZDQ3OTFiNjgyODc3ZjNiNjAyOGViID0gTC5tYXAoCiAgICAgICAgICAgICAgICAibWFwXzVjMTNhZjIzZjM4ZDQ3OTFiNjgyODc3ZjNiNjAyOGViIiwKICAgICAgICAgICAgICAgIHsKICAgICAgICAgICAgICAgICAgICBjZW50ZXI6IFsxMi44ODAxODgsIDc3LjU3NjI3Ml0sCiAgICAgICAgICAgICAgICAgICAgY3JzOiBMLkNSUy5FUFNHMzg1NywKICAgICAgICAgICAgICAgICAgICB6b29tOiAxMiwKICAgICAgICAgICAgICAgICAgICB6b29tQ29udHJvbDogdHJ1ZSwKICAgICAgICAgICAgICAgICAgICBwcmVmZXJDYW52YXM6IGZhbHNlLAogICAgICAgICAgICAgICAgfQogICAgICAgICAgICApOwoKICAgICAgICAgICAgCgogICAgICAgIAogICAgCiAgICAgICAgICAgIHZhciB0aWxlX2xheWVyX2QwMzRkYTI4M2U2OTRjMzlhOGJhNjZmZGI0NWRlYmMyID0gTC50aWxlTGF5ZXIoCiAgICAgICAgICAgICAgICAiaHR0cHM6Ly97c30udGlsZS5vcGVuc3RyZWV0bWFwLm9yZy97en0ve3h9L3t5fS5wbmciLAogICAgICAgICAgICAgICAgeyJhdHRyaWJ1dGlvbiI6ICJEYXRhIGJ5IFx1MDAyNmNvcHk7IFx1MDAzY2EgaHJlZj1cImh0dHA6Ly9vcGVuc3RyZWV0bWFwLm9yZ1wiXHUwMDNlT3BlblN0cmVldE1hcFx1MDAzYy9hXHUwMDNlLCB1bmRlciBcdTAwM2NhIGhyZWY9XCJodHRwOi8vd3d3Lm9wZW5zdHJlZXRtYXAub3JnL2NvcHlyaWdodFwiXHUwMDNlT0RiTFx1MDAzYy9hXHUwMDNlLiIsICJkZXRlY3RSZXRpbmEiOiBmYWxzZSwgIm1heE5hdGl2ZVpvb20iOiAxOCwgIm1heFpvb20iOiAxOCwgIm1pblpvb20iOiAwLCAibm9XcmFwIjogZmFsc2UsICJvcGFjaXR5IjogMSwgInN1YmRvbWFpbnMiOiAiYWJjIiwgInRtcyI6IGZhbHNlfQogICAgICAgICAgICApLmFkZFRvKG1hcF81YzEzYWYyM2YzOGQ0NzkxYjY4Mjg3N2YzYjYwMjhlYik7CiAgICAgICAgCjwvc2NyaXB0Pg==\" style=\"position:absolute;width:100%;height:100%;left:0;top:0;border:none !important;\" allowfullscreen webkitallowfullscreen mozallowfullscreen></iframe></div></div>"
      ],
      "text/plain": [
       "<folium.folium.Map at 0x1ea7243a488>"
      ]
     },
     "execution_count": 16,
     "metadata": {},
     "output_type": "execute_result"
    }
   ],
   "source": [
    "# JP NAGAR(12.880188,77.576272)\n",
    "\n",
    "map = folium.Map(location=[12.880188,77.576272], zoom_start=12)\n",
    "map"
   ]
  },
  {
   "cell_type": "code",
   "execution_count": null,
   "metadata": {},
   "outputs": [],
   "source": [
    "X['Outlet_Name'][point]"
   ]
  },
  {
   "cell_type": "code",
   "execution_count": null,
   "metadata": {},
   "outputs": [],
   "source": [
    "for point in range(0, len(locationlist)):\n",
    "    folium.Marker(locationlist[point], popup=X['Outlet_Name'][point]).add_to(map)\n",
    "map"
   ]
  },
  {
   "cell_type": "code",
   "execution_count": null,
   "metadata": {},
   "outputs": [],
   "source": [
    "map3 = folium.Map(location=[12.880188,77.576272], tiles='CartoDB positron', zoom_start=11)\n",
    "\n",
    "marker_cluster = folium.MarkerCluster().add_to(map3)\n",
    "\n",
    "for point in range(0, len(locationlist)):\n",
    "    folium.Marker(locationlist[point], popup='ID:'+df_counters['ID'][point]+' '+df_counters['Name'][point], icon=folium.Icon(color=df_counters[\"color\"][point], icon_color='white', icon='male', angle=0, prefix='fa')).add_to(marker_cluster)\n",
    "map3"
   ]
  },
  {
   "cell_type": "code",
   "execution_count": null,
   "metadata": {},
   "outputs": [],
   "source": []
  }
 ],
 "metadata": {
  "kernelspec": {
   "display_name": "Python 3",
   "language": "python",
   "name": "python3"
  },
  "language_info": {
   "codemirror_mode": {
    "name": "ipython",
    "version": 3
   },
   "file_extension": ".py",
   "mimetype": "text/x-python",
   "name": "python",
   "nbconvert_exporter": "python",
   "pygments_lexer": "ipython3",
   "version": "3.7.6"
  }
 },
 "nbformat": 4,
 "nbformat_minor": 4
}
