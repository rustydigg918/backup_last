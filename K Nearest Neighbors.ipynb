{
 "cells": [
  {
   "cell_type": "code",
   "execution_count": 4,
   "metadata": {},
   "outputs": [
    {
     "name": "stdout",
     "output_type": "stream",
     "text": [
      "E:\\PYTHON\\K-NN\n"
     ]
    }
   ],
   "source": [
    "#Setting working directory\n",
    "import os\n",
    "os.chdir('E:\\\\PYTHON\\\\K-NN')\n",
    "print (os.getcwd())"
   ]
  },
  {
   "cell_type": "code",
   "execution_count": 5,
   "metadata": {},
   "outputs": [],
   "source": [
    "# Import necessary libraries\n",
    "import matplotlib.pyplot as plt\n",
    "import pandas as pd\n",
    "import numpy as np\n",
    "import seaborn as sns\n",
    "%matplotlib inline\n",
    "from IPython.display import Image"
   ]
  },
  {
   "cell_type": "code",
   "execution_count": 10,
   "metadata": {},
   "outputs": [
    {
     "data": {
      "image/png": "[encoded data removed]",
      "text/plain": [
       "<IPython.core.display.Image object>"
      ]
     },
     "execution_count": 10,
     "metadata": {},
     "output_type": "execute_result"
    }
   ],
   "source": [
    "#------------#\n",
    "# Some Basics\n",
    "#------------#\n",
    "\n",
    "# kNN and Decision Trees are believed to be two most simple and intuitive Algos\n",
    "# They are simple to understand and easy to explain\n",
    "\n",
    "# KNN can be used for both classification and regression predictive problems.\n",
    "    # Find k Nearest Neighbors and take the majority vote or average as applicable\n",
    "# If you would like to substitute a missing value, (whether continuous or\n",
    "# Categorical) kNN might work best in some cases\n",
    "# It is also very useful in building recommender systems\n",
    "\n",
    "# kNN is also called a Lazy Learner\n",
    "# A lazy learner, on the other hand, does not build any model beforehand; it waits for \n",
    "# the unclassified data and then winds it way through the algorithm to make classification \n",
    "# prediction. Lazy learners are, therefore, time consuming–each time a prediction is to be \n",
    "# made all the model building effort has to be performed again. We will see!\n",
    "\n",
    "# KNN algorithm fairs across all parameters of considerations. \n",
    "# It is commonly used for its easy of interpretation and low calculation time.\n",
    "# See below:\n",
    "Image('KNN comparison.png')"
   ]
  },
  {
   "cell_type": "code",
   "execution_count": null,
   "metadata": {},
   "outputs": [],
   "source": []
  },
  {
   "cell_type": "code",
   "execution_count": null,
   "metadata": {},
   "outputs": [],
   "source": []
  },
  {
   "cell_type": "code",
   "execution_count": 11,
   "metadata": {},
   "outputs": [],
   "source": [
    "#==============================#\n",
    "# Generic steps to KNN Modeling\n",
    "#==============================#\n",
    "\n",
    "# Load the data and clean/transform/standardize as applicable\n",
    "# Initialise the value of k\n",
    "# For getting the predicted class, iterate from 1 to total number of training data points\n",
    "    # Calculate the distance between test data and each row of training data. \n",
    "        # Here we will use Euclidean distance as our distance metric since it’s \n",
    "        # the most popular method and default one in many implementations.\n",
    "        # for 'n' data points, it is almost n^2 computations you do\n",
    "    # Add the distance and the index of the example to an ordered collection\n",
    "    # Sort the calculated distances in ascending order based on distance values\n",
    "    # Get top k rows from the sorted array (k is the number of nearest neighbors needed)\n",
    "    # Get the labels of those selected k entries\n",
    "    # If regression, return the mean of the K labels\n",
    "    # If classification, return the mode of the K labels\n",
    "\n",
    "# k-NN does not require an explicit training step. In k-nearest neighbor algorithm, \n",
    "# the example data is first plotted on an n-dimensional space where ‘n’ is the number \n",
    "# of data-attributes. Each point in ‘n’-dimensional space is labeled with its class value.\n",
    "\n",
    "# To discover classification of an unclassified data, the point is plotted on this n-dimensional \n",
    "# space and class labels of nearest k data points are noted. Generally k is an odd number.\n",
    "\n",
    "# In the generic k-NN model, each time a prediction is to be made for a data point, \n",
    "# first this data point’s distance from all other points is to be calculated and then \n",
    "# only nearest k-points can be discovered for voting. This approach is also \n",
    "# known as brute-force approach.\n",
    "\n",
    "\n",
    "\n",
    "# Python's SKLEARN implementation is a bit optimised:\n",
    "#---------------------------------------------------\n",
    "\n",
    "# When the volume of data is huge and its dimension is also very large, say, in hundreds \n",
    "# or thousands, this repeated distance calculations can be very tedious and time consuming. \n",
    "# To fasten up this process and so as to avoid measuring distances from all the points in \n",
    "# the data set, some prepossessing of training data is done. This per-processing helps to \n",
    "# search points which are likely to be in its neighborhood.\n",
    "# So, It may not be necessary to compute all n^2 pairs of distances. \n",
    "# Instead, you can use a Kd tree or a ball tree (both are data structures for \n",
    "# efficiently querying relations between a set of points).\n",
    "\n",
    "# Scipy has a package called scipy.spatial.kdtree. \n",
    "# It does not currently support hamming distance as a metric between points. \n",
    "# However, sklearn do have an implementation of ball tree with hamming distance/\n",
    "# link: https://stackoverflow.com/questions/40733497/optimize-hamming-distance-python"
   ]
  },
  {
   "cell_type": "markdown",
   "metadata": {},
   "source": [
    "# kNN for Classification"
   ]
  },
  {
   "cell_type": "code",
   "execution_count": 7,
   "metadata": {},
   "outputs": [
    {
     "data": {
      "text/html": [
       "<div>\n",
       "<style scoped>\n",
       "    .dataframe tbody tr th:only-of-type {\n",
       "        vertical-align: middle;\n",
       "    }\n",
       "\n",
       "    .dataframe tbody tr th {\n",
       "        vertical-align: top;\n",
       "    }\n",
       "\n",
       "    .dataframe thead th {\n",
       "        text-align: right;\n",
       "    }\n",
       "</style>\n",
       "<table border=\"1\" class=\"dataframe\">\n",
       "  <thead>\n",
       "    <tr style=\"text-align: right;\">\n",
       "      <th></th>\n",
       "      <th>WTT</th>\n",
       "      <th>PTI</th>\n",
       "      <th>EQW</th>\n",
       "      <th>SBI</th>\n",
       "      <th>LQE</th>\n",
       "      <th>QWG</th>\n",
       "      <th>FDJ</th>\n",
       "      <th>PJF</th>\n",
       "      <th>HQE</th>\n",
       "      <th>NXJ</th>\n",
       "      <th>TARGET CLASS</th>\n",
       "    </tr>\n",
       "  </thead>\n",
       "  <tbody>\n",
       "    <tr>\n",
       "      <th>0</th>\n",
       "      <td>0.913917</td>\n",
       "      <td>1.162073</td>\n",
       "      <td>0.567946</td>\n",
       "      <td>0.755464</td>\n",
       "      <td>0.780862</td>\n",
       "      <td>0.352608</td>\n",
       "      <td>0.759697</td>\n",
       "      <td>0.643798</td>\n",
       "      <td>0.879422</td>\n",
       "      <td>1.231409</td>\n",
       "      <td>1</td>\n",
       "    </tr>\n",
       "    <tr>\n",
       "      <th>1</th>\n",
       "      <td>0.635632</td>\n",
       "      <td>1.003722</td>\n",
       "      <td>0.535342</td>\n",
       "      <td>0.825645</td>\n",
       "      <td>0.924109</td>\n",
       "      <td>0.648450</td>\n",
       "      <td>0.675334</td>\n",
       "      <td>1.013546</td>\n",
       "      <td>0.621552</td>\n",
       "      <td>1.492702</td>\n",
       "      <td>0</td>\n",
       "    </tr>\n",
       "    <tr>\n",
       "      <th>2</th>\n",
       "      <td>0.721360</td>\n",
       "      <td>1.201493</td>\n",
       "      <td>0.921990</td>\n",
       "      <td>0.855595</td>\n",
       "      <td>1.526629</td>\n",
       "      <td>0.720781</td>\n",
       "      <td>1.626351</td>\n",
       "      <td>1.154483</td>\n",
       "      <td>0.957877</td>\n",
       "      <td>1.285597</td>\n",
       "      <td>0</td>\n",
       "    </tr>\n",
       "    <tr>\n",
       "      <th>3</th>\n",
       "      <td>1.234204</td>\n",
       "      <td>1.386726</td>\n",
       "      <td>0.653046</td>\n",
       "      <td>0.825624</td>\n",
       "      <td>1.142504</td>\n",
       "      <td>0.875128</td>\n",
       "      <td>1.409708</td>\n",
       "      <td>1.380003</td>\n",
       "      <td>1.522692</td>\n",
       "      <td>1.153093</td>\n",
       "      <td>1</td>\n",
       "    </tr>\n",
       "    <tr>\n",
       "      <th>4</th>\n",
       "      <td>1.279491</td>\n",
       "      <td>0.949750</td>\n",
       "      <td>0.627280</td>\n",
       "      <td>0.668976</td>\n",
       "      <td>1.232537</td>\n",
       "      <td>0.703727</td>\n",
       "      <td>1.115596</td>\n",
       "      <td>0.646691</td>\n",
       "      <td>1.463812</td>\n",
       "      <td>1.419167</td>\n",
       "      <td>1</td>\n",
       "    </tr>\n",
       "  </tbody>\n",
       "</table>\n",
       "</div>"
      ],
      "text/plain": [
       "        WTT       PTI       EQW       SBI       LQE       QWG       FDJ  \\\n",
       "0  0.913917  1.162073  0.567946  0.755464  0.780862  0.352608  0.759697   \n",
       "1  0.635632  1.003722  0.535342  0.825645  0.924109  0.648450  0.675334   \n",
       "2  0.721360  1.201493  0.921990  0.855595  1.526629  0.720781  1.626351   \n",
       "3  1.234204  1.386726  0.653046  0.825624  1.142504  0.875128  1.409708   \n",
       "4  1.279491  0.949750  0.627280  0.668976  1.232537  0.703727  1.115596   \n",
       "\n",
       "        PJF       HQE       NXJ  TARGET CLASS  \n",
       "0  0.643798  0.879422  1.231409             1  \n",
       "1  1.013546  0.621552  1.492702             0  \n",
       "2  1.154483  0.957877  1.285597             0  \n",
       "3  1.380003  1.522692  1.153093             1  \n",
       "4  0.646691  1.463812  1.419167             1  "
      ]
     },
     "execution_count": 7,
     "metadata": {},
     "output_type": "execute_result"
    }
   ],
   "source": [
    "# Read the data\n",
    "df = pd.read_csv('knn_Classified Data.txt', index_col=0)\n",
    "#df = pd.read_csv('http://khansingh.xyz/Datasets/BikramSr/knn_Classified Data.txt', index_col=0)\n",
    "df.head()"
   ]
  },
  {
   "cell_type": "code",
   "execution_count": 8,
   "metadata": {},
   "outputs": [
    {
     "data": {
      "text/plain": [
       "(1000, 11)"
      ]
     },
     "execution_count": 8,
     "metadata": {},
     "output_type": "execute_result"
    }
   ],
   "source": [
    "df.shape"
   ]
  },
  {
   "cell_type": "code",
   "execution_count": 9,
   "metadata": {},
   "outputs": [
    {
     "data": {
      "text/plain": [
       "StandardScaler(copy=True, with_mean=True, with_std=True)"
      ]
     },
     "execution_count": 9,
     "metadata": {},
     "output_type": "execute_result"
    }
   ],
   "source": [
    "# Import module to standardize the scale\n",
    "from sklearn.preprocessing import StandardScaler\n",
    "# Create instance (i.e. object) of the standard scaler\n",
    "scaler = StandardScaler()\n",
    "# Fit the object to all the data except the Target Class\n",
    "# use the .drop() method to gather all features except Target Class\n",
    "# axis -> argument refers to columns; a 0 would represent rows\n",
    "scaler.fit(df.drop('TARGET CLASS', axis=1))"
   ]
  },
  {
   "cell_type": "code",
   "execution_count": 10,
   "metadata": {},
   "outputs": [
    {
     "data": {
      "text/plain": [
       "array([[-0.12354188,  0.18590747, -0.91343069, ..., -1.48236813,\n",
       "        -0.9497194 , -0.64331425],\n",
       "       [-1.08483602, -0.43034845, -1.02531333, ..., -0.20224031,\n",
       "        -1.82805088,  0.63675862],\n",
       "       [-0.78870217,  0.33931821,  0.30151137, ...,  0.28570652,\n",
       "        -0.68249379, -0.37784986],\n",
       "       ...,\n",
       "       [ 0.64177714, -0.51308341, -0.17920486, ..., -2.36249443,\n",
       "        -0.81426092,  0.11159651],\n",
       "       [ 0.46707241, -0.98278576, -1.46519359, ..., -0.03677699,\n",
       "         0.40602453, -0.85567   ],\n",
       "       [-0.38765353, -0.59589427, -1.4313981 , ..., -0.56778932,\n",
       "         0.3369971 ,  0.01034996]])"
      ]
     },
     "execution_count": 10,
     "metadata": {},
     "output_type": "execute_result"
    }
   ],
   "source": [
    "# Use scaler object to conduct a transforms\n",
    "scaled_features = scaler.transform(df.drop('TARGET CLASS',axis=1))\n",
    "# Review the array of values generated from the scaled features process\n",
    "scaled_features\n",
    "# Notice that we have normalized our dataset minus the target column"
   ]
  },
  {
   "cell_type": "code",
   "execution_count": 11,
   "metadata": {},
   "outputs": [
    {
     "data": {
      "text/html": [
       "<div>\n",
       "<style scoped>\n",
       "    .dataframe tbody tr th:only-of-type {\n",
       "        vertical-align: middle;\n",
       "    }\n",
       "\n",
       "    .dataframe tbody tr th {\n",
       "        vertical-align: top;\n",
       "    }\n",
       "\n",
       "    .dataframe thead th {\n",
       "        text-align: right;\n",
       "    }\n",
       "</style>\n",
       "<table border=\"1\" class=\"dataframe\">\n",
       "  <thead>\n",
       "    <tr style=\"text-align: right;\">\n",
       "      <th></th>\n",
       "      <th>WTT</th>\n",
       "      <th>PTI</th>\n",
       "      <th>EQW</th>\n",
       "      <th>SBI</th>\n",
       "      <th>LQE</th>\n",
       "      <th>QWG</th>\n",
       "      <th>FDJ</th>\n",
       "      <th>PJF</th>\n",
       "      <th>HQE</th>\n",
       "      <th>NXJ</th>\n",
       "    </tr>\n",
       "  </thead>\n",
       "  <tbody>\n",
       "    <tr>\n",
       "      <th>0</th>\n",
       "      <td>-0.123542</td>\n",
       "      <td>0.185907</td>\n",
       "      <td>-0.913431</td>\n",
       "      <td>0.319629</td>\n",
       "      <td>-1.033637</td>\n",
       "      <td>-2.308375</td>\n",
       "      <td>-0.798951</td>\n",
       "      <td>-1.482368</td>\n",
       "      <td>-0.949719</td>\n",
       "      <td>-0.643314</td>\n",
       "    </tr>\n",
       "    <tr>\n",
       "      <th>1</th>\n",
       "      <td>-1.084836</td>\n",
       "      <td>-0.430348</td>\n",
       "      <td>-1.025313</td>\n",
       "      <td>0.625388</td>\n",
       "      <td>-0.444847</td>\n",
       "      <td>-1.152706</td>\n",
       "      <td>-1.129797</td>\n",
       "      <td>-0.202240</td>\n",
       "      <td>-1.828051</td>\n",
       "      <td>0.636759</td>\n",
       "    </tr>\n",
       "    <tr>\n",
       "      <th>2</th>\n",
       "      <td>-0.788702</td>\n",
       "      <td>0.339318</td>\n",
       "      <td>0.301511</td>\n",
       "      <td>0.755873</td>\n",
       "      <td>2.031693</td>\n",
       "      <td>-0.870156</td>\n",
       "      <td>2.599818</td>\n",
       "      <td>0.285707</td>\n",
       "      <td>-0.682494</td>\n",
       "      <td>-0.377850</td>\n",
       "    </tr>\n",
       "    <tr>\n",
       "      <th>3</th>\n",
       "      <td>0.982841</td>\n",
       "      <td>1.060193</td>\n",
       "      <td>-0.621399</td>\n",
       "      <td>0.625299</td>\n",
       "      <td>0.452820</td>\n",
       "      <td>-0.267220</td>\n",
       "      <td>1.750208</td>\n",
       "      <td>1.066491</td>\n",
       "      <td>1.241325</td>\n",
       "      <td>-1.026987</td>\n",
       "    </tr>\n",
       "    <tr>\n",
       "      <th>4</th>\n",
       "      <td>1.139275</td>\n",
       "      <td>-0.640392</td>\n",
       "      <td>-0.709819</td>\n",
       "      <td>-0.057175</td>\n",
       "      <td>0.822886</td>\n",
       "      <td>-0.936773</td>\n",
       "      <td>0.596782</td>\n",
       "      <td>-1.472352</td>\n",
       "      <td>1.040772</td>\n",
       "      <td>0.276510</td>\n",
       "    </tr>\n",
       "  </tbody>\n",
       "</table>\n",
       "</div>"
      ],
      "text/plain": [
       "        WTT       PTI       EQW       SBI       LQE       QWG       FDJ  \\\n",
       "0 -0.123542  0.185907 -0.913431  0.319629 -1.033637 -2.308375 -0.798951   \n",
       "1 -1.084836 -0.430348 -1.025313  0.625388 -0.444847 -1.152706 -1.129797   \n",
       "2 -0.788702  0.339318  0.301511  0.755873  2.031693 -0.870156  2.599818   \n",
       "3  0.982841  1.060193 -0.621399  0.625299  0.452820 -0.267220  1.750208   \n",
       "4  1.139275 -0.640392 -0.709819 -0.057175  0.822886 -0.936773  0.596782   \n",
       "\n",
       "        PJF       HQE       NXJ  \n",
       "0 -1.482368 -0.949719 -0.643314  \n",
       "1 -0.202240 -1.828051  0.636759  \n",
       "2  0.285707 -0.682494 -0.377850  \n",
       "3  1.066491  1.241325 -1.026987  \n",
       "4 -1.472352  1.040772  0.276510  "
      ]
     },
     "execution_count": 11,
     "metadata": {},
     "output_type": "execute_result"
    }
   ],
   "source": [
    "# Let us now create a dataframe of scaled features\n",
    "df_scaled = pd.DataFrame(scaled_features, columns = df.columns[:-1])\n",
    "df_scaled.head()"
   ]
  },
  {
   "cell_type": "code",
   "execution_count": 12,
   "metadata": {},
   "outputs": [],
   "source": [
    "# Let us now split the scaled data into training set and test set\n",
    "# Import module to split the data\n",
    "from sklearn.model_selection import train_test_split\n",
    "# Set the X and ys\n",
    "X = df_scaled\n",
    "y = df['TARGET CLASS']\n",
    "X_train, X_test, y_train, y_test = train_test_split(X, y, test_size=0.25, random_state=555)"
   ]
  },
  {
   "cell_type": "code",
   "execution_count": 13,
   "metadata": {},
   "outputs": [
    {
     "data": {
      "text/plain": [
       "KNeighborsClassifier(algorithm='auto', leaf_size=30, metric='minkowski',\n",
       "           metric_params=None, n_jobs=None, n_neighbors=1, p=2,\n",
       "           weights='uniform')"
      ]
     },
     "execution_count": 13,
     "metadata": {},
     "output_type": "execute_result"
    }
   ],
   "source": [
    "# We are now ready to train the kNN model\n",
    "# Import module for KNN\n",
    "from sklearn.neighbors import KNeighborsClassifier\n",
    "# Create KNN instance\n",
    "knn = KNeighborsClassifier(n_neighbors=1)\n",
    "# n_neighbors argument represents the k value, i.e. the amount of neighbors used to ID classification\n",
    "# n_neighbors=1 means each sample is using itself as reference, that’s an overfitting case\n",
    "\n",
    "# Fit (i.e. traing) the model\n",
    "knn.fit(X_train, y_train)"
   ]
  },
  {
   "cell_type": "code",
   "execution_count": 22,
   "metadata": {},
   "outputs": [],
   "source": [
    "# Notice metric='minkowski', which represents the distance metric\n",
    "# The Minkowski distance is a metric in a normed vector space which can be considered \n",
    "# as a generalization of both the Euclidean distance and the Manhattan distance.\n",
    "# when p=1, minkowski represents manhattan distance (L1) and\n",
    "# when p=2, minkowski represents Euclidian distance (L2)"
   ]
  },
  {
   "cell_type": "code",
   "execution_count": 14,
   "metadata": {},
   "outputs": [
    {
     "data": {
      "text/plain": [
       "array([0, 0, 0, 1, 0, 0, 0, 1, 0, 0, 1, 1, 1, 0, 1, 1, 1, 0, 0, 1, 0, 0,\n",
       "       1, 0, 1, 0, 0, 0, 0, 0, 1, 0, 1, 1, 1, 1, 1, 0, 0, 0, 1, 0, 1, 1,\n",
       "       1, 0, 0, 1, 1, 1, 1, 0, 0, 1, 1, 1, 1, 0, 1, 0, 0, 1, 1, 1, 1, 1,\n",
       "       0, 1, 1, 0, 1, 1, 1, 0, 1, 0, 1, 0, 1, 1, 0, 0, 0, 0, 0, 1, 1, 1,\n",
       "       1, 0, 0, 1, 1, 1, 0, 1, 1, 0, 1, 1, 1, 0, 0, 1, 0, 0, 0, 1, 0, 1,\n",
       "       1, 0, 0, 1, 1, 0, 1, 1, 1, 0, 0, 0, 1, 0, 0, 1, 0, 1, 1, 0, 1, 0,\n",
       "       1, 0, 0, 0, 0, 0, 1, 1, 0, 0, 0, 0, 1, 0, 1, 0, 0, 1, 1, 0, 0, 0,\n",
       "       1, 0, 1, 1, 1, 1, 0, 1, 1, 0, 1, 1, 0, 1, 1, 0, 0, 0, 1, 1, 0, 1,\n",
       "       1, 1, 0, 1, 1, 1, 0, 0, 0, 1, 1, 0, 0, 0, 0, 0, 0, 1, 0, 1, 1, 0,\n",
       "       0, 1, 1, 0, 1, 1, 1, 0, 1, 0, 0, 0, 1, 0, 1, 0, 1, 1, 1, 1, 1, 0,\n",
       "       1, 0, 0, 0, 1, 0, 0, 1, 1, 1, 0, 0, 0, 1, 0, 1, 0, 0, 1, 0, 0, 1,\n",
       "       1, 1, 0, 1, 0, 1, 1, 1], dtype=int64)"
      ]
     },
     "execution_count": 14,
     "metadata": {},
     "output_type": "execute_result"
    }
   ],
   "source": [
    "# Now that the model is built, let us use ir for prediction\n",
    "pred = knn.predict(X_test)\n",
    "# Review the predictions\n",
    "pred"
   ]
  },
  {
   "cell_type": "code",
   "execution_count": 15,
   "metadata": {},
   "outputs": [
    {
     "name": "stdout",
     "output_type": "stream",
     "text": [
      "              precision    recall  f1-score   support\n",
      "\n",
      "           0       0.90      0.86      0.88       127\n",
      "           1       0.86      0.90      0.88       123\n",
      "\n",
      "   micro avg       0.88      0.88      0.88       250\n",
      "   macro avg       0.88      0.88      0.88       250\n",
      "weighted avg       0.88      0.88      0.88       250\n",
      "\n"
     ]
    }
   ],
   "source": [
    "# Its time to evaluate our model\n",
    "# Import classification report and confusion matrix to evaluate predictions\n",
    "from sklearn.metrics import classification_report, confusion_matrix\n",
    "# Print out classification report\n",
    "print(classification_report(y_test, pred))"
   ]
  },
  {
   "cell_type": "code",
   "execution_count": 25,
   "metadata": {},
   "outputs": [],
   "source": [
    "# This tells us our model was 88% accurate"
   ]
  },
  {
   "cell_type": "code",
   "execution_count": 16,
   "metadata": {},
   "outputs": [
    {
     "name": "stdout",
     "output_type": "stream",
     "text": [
      "TN - True Negative 109\n",
      "FP - False Positive 18\n",
      "FN - False Negative 12\n",
      "TP - True Positive 111\n",
      "Accuracy Rate: 0.88\n",
      "Misclassification Rate: 0.12\n"
     ]
    }
   ],
   "source": [
    "# Print out confusion matrix\n",
    "cmat = confusion_matrix(y_test, pred)\n",
    "#print(cmat)\n",
    "print('TN - True Negative {}'.format(cmat[0,0]))\n",
    "print('FP - False Positive {}'.format(cmat[0,1]))\n",
    "print('FN - False Negative {}'.format(cmat[1,0]))\n",
    "print('TP - True Positive {}'.format(cmat[1,1]))\n",
    "print('Accuracy Rate: {}'.format(np.divide(np.sum([cmat[0,0],cmat[1,1]]),np.sum(cmat))))\n",
    "print('Misclassification Rate: {}'.format(np.divide(np.sum([cmat[0,1],cmat[1,0]]),np.sum(cmat))))"
   ]
  },
  {
   "cell_type": "code",
   "execution_count": 17,
   "metadata": {},
   "outputs": [],
   "source": [
    "# For determing the optimum value of k, you shoud ideally do multiple iterations while \n",
    "# training and then test it with testing data.\n",
    "# To select the K that’s right for your data, we run the KNN algorithm several times with \n",
    "# different values of K and choose the K that reduces the number of errors we encounter \n",
    "# while maintaining the algorithm’s ability to accurately make predictions when it’s given \n",
    "# data it hasn’t seen before.\n",
    "\n",
    "# Let us now evaluate the alternative k Values\n",
    "\n",
    "# Let us create an empty list to capture the errors\n",
    "error_rate = []\n",
    "# Let us try the k values from 1 to 24\n",
    "for i in range(1,25):\n",
    "    knn = KNeighborsClassifier(n_neighbors=i)\n",
    "    knn.fit(X_train, y_train)\n",
    "    pred_i = knn.predict(X_test)\n",
    "    error_rate.append(np.mean(pred_i != y_test))"
   ]
  },
  {
   "cell_type": "code",
   "execution_count": 18,
   "metadata": {},
   "outputs": [
    {
     "data": {
      "text/plain": [
       "Text(0, 0.5, 'Error Rate')"
      ]
     },
     "execution_count": 18,
     "metadata": {},
     "output_type": "execute_result"
    },
    {
     "data": {
      "image/png": "[encoded data removed]",
      "text/plain": [
       "<Figure size 720x360 with 1 Axes>"
      ]
     },
     "metadata": {
      "needs_background": "light"
     },
     "output_type": "display_data"
    }
   ],
   "source": [
    "# It will be good to plot error rate over different k values\n",
    "plt.figure(figsize=(10,5))\n",
    "plt.plot(range(1,25), error_rate, color='blue', linestyle='dashed', marker='o', markerfacecolor='red', markersize=10)\n",
    "plt.title('Error Rate vs. K-Values')\n",
    "plt.xlabel('K-Values')\n",
    "plt.ylabel('Error Rate')"
   ]
  },
  {
   "cell_type": "code",
   "execution_count": 19,
   "metadata": {},
   "outputs": [
    {
     "name": "stdout",
     "output_type": "stream",
     "text": [
      "              precision    recall  f1-score   support\n",
      "\n",
      "           0       0.95      0.93      0.94       127\n",
      "           1       0.93      0.95      0.94       123\n",
      "\n",
      "   micro avg       0.94      0.94      0.94       250\n",
      "   macro avg       0.94      0.94      0.94       250\n",
      "weighted avg       0.94      0.94      0.94       250\n",
      "\n"
     ]
    }
   ],
   "source": [
    "# We will retrain the model with an optimum k-value that we got from the above graph\n",
    "knn = KNeighborsClassifier(n_neighbors=8)\n",
    "knn.fit(X_train, y_train)\n",
    "pred_new = knn.predict(X_test)\n",
    "# Print out classification report to see how better it has gotten\n",
    "print(classification_report(y_test, pred_new))"
   ]
  },
  {
   "cell_type": "code",
   "execution_count": 20,
   "metadata": {},
   "outputs": [
    {
     "name": "stdout",
     "output_type": "stream",
     "text": [
      "TN - True Negative 118\n",
      "FP - False Positive 9\n",
      "FN - False Negative 6\n",
      "TP - True Positive 117\n",
      "Accuracy Rate: 0.94\n",
      "Misclassification Rate: 0.06\n"
     ]
    }
   ],
   "source": [
    "# Notice that our accuracy is 94% now.\n",
    "# Let us print the confusion matrix:\n",
    "cmat_new = confusion_matrix(y_test, pred_new)\n",
    "#print(cmat)\n",
    "print('TN - True Negative {}'.format(cmat_new[0,0]))\n",
    "print('FP - False Positive {}'.format(cmat_new[0,1]))\n",
    "print('FN - False Negative {}'.format(cmat_new[1,0]))\n",
    "print('TP - True Positive {}'.format(cmat_new[1,1]))\n",
    "print('Accuracy Rate: {}'.format(np.divide(np.sum([cmat_new[0,0],cmat_new[1,1]]),np.sum(cmat_new))))\n",
    "print('Misclassification Rate: {}'.format(np.divide(np.sum([cmat_new[0,1],cmat_new[1,0]]),np.sum(cmat_new))))"
   ]
  },
  {
   "cell_type": "code",
   "execution_count": 21,
   "metadata": {},
   "outputs": [
    {
     "name": "stdout",
     "output_type": "stream",
     "text": [
      "     Actual  Predicted\n",
      "0         0          0\n",
      "1         1          0\n",
      "2         0          0\n",
      "3         1          1\n",
      "4         0          0\n",
      "5         1          0\n",
      "6         0          0\n",
      "7         1          1\n",
      "8         0          0\n",
      "9         0          0\n",
      "10        1          1\n",
      "11        1          1\n",
      "12        1          1\n",
      "13        0          0\n",
      "14        1          1\n",
      "15        1          1\n",
      "16        1          1\n",
      "17        0          0\n",
      "18        0          0\n",
      "19        1          1\n",
      "20        0          0\n",
      "21        0          0\n",
      "22        1          1\n",
      "23        1          0\n",
      "24        1          1\n",
      "25        0          0\n",
      "26        0          0\n",
      "27        0          0\n",
      "28        0          0\n",
      "29        0          0\n",
      "..      ...        ...\n",
      "220       1          1\n",
      "221       0          0\n",
      "222       0          0\n",
      "223       0          0\n",
      "224       1          1\n",
      "225       0          0\n",
      "226       1          1\n",
      "227       1          1\n",
      "228       1          1\n",
      "229       1          0\n",
      "230       0          0\n",
      "231       0          0\n",
      "232       0          0\n",
      "233       1          1\n",
      "234       0          0\n",
      "235       1          1\n",
      "236       0          0\n",
      "237       0          1\n",
      "238       0          1\n",
      "239       0          0\n",
      "240       0          0\n",
      "241       0          1\n",
      "242       1          1\n",
      "243       1          1\n",
      "244       0          0\n",
      "245       1          1\n",
      "246       0          0\n",
      "247       1          1\n",
      "248       0          0\n",
      "249       1          1\n",
      "\n",
      "[250 rows x 2 columns]\n"
     ]
    }
   ],
   "source": [
    "# We can do a side by side comparison of the actual vs predicted values\n",
    "Analysis = A = np.vstack([y_test, pred_new])\n",
    "compare = pd.DataFrame({'Actual':Analysis[0],'Predicted':Analysis[1]})\n",
    "print(compare)"
   ]
  },
  {
   "cell_type": "code",
   "execution_count": 22,
   "metadata": {},
   "outputs": [
    {
     "name": "stdout",
     "output_type": "stream",
     "text": [
      "KNeighborsClassifier(algorithm='auto', leaf_size=30, metric='minkowski',\n",
      "           metric_params=None, n_jobs=None, n_neighbors=8, p=2,\n",
      "           weights='uniform')\n"
     ]
    }
   ],
   "source": [
    "# Let us take another look at the knn model\n",
    "print(knn)"
   ]
  },
  {
   "cell_type": "code",
   "execution_count": null,
   "metadata": {},
   "outputs": [],
   "source": []
  },
  {
   "cell_type": "code",
   "execution_count": 33,
   "metadata": {},
   "outputs": [],
   "source": [
    "# Notice that algorithm='auto', this represents the algorithm used to \n",
    "# find k nearest neighbors. Following Algos are supported in sklearn\n",
    "# ‘ball_tree’ will use BallTree\n",
    "# ‘kd_tree’ will use KDTree\n",
    "# ‘brute’ will use a brute-force search.\n",
    "# ‘auto’ will attempt to decide the most appropriate algorithm based on the values passed to fit method.\n",
    "\n",
    "# We learnt that each time a prediction is to be made for a data point, first this \n",
    "# data point’s distance from all other points is to be calculated and then only \n",
    "# nearest k-points can be discovered for voting. This is brute-force approach"
   ]
  },
  {
   "cell_type": "code",
   "execution_count": 4,
   "metadata": {},
   "outputs": [
    {
     "data": {
      "image/png": "[encoded data removed]",
      "text/plain": [
       "<IPython.core.display.Image object>"
      ]
     },
     "execution_count": 4,
     "metadata": {},
     "output_type": "execute_result"
    }
   ],
   "source": [
    "#==============================#\n",
    "# KD_tree Data Structure\n",
    "#==============================#\n",
    "\n",
    "# k-d tree or k-dimensional tree is a binary tree of sorted hierarchical data structure\n",
    "# To understand how it works, let us consider an example dataset with 3 columns a, b and c\n",
    "\n",
    "# Step-1\n",
    "#-------#\n",
    "# Among the columns, find the column with greatest variance\n",
    "# Then sort the data table with that attribute column\n",
    "# In the below example, it is attribute 'b' that has highest variance\n",
    "# Table-1 is the sorted table now\n",
    "Image('kdtree_step1.PNG')"
   ]
  },
  {
   "cell_type": "code",
   "execution_count": 5,
   "metadata": {},
   "outputs": [
    {
     "data": {
      "image/png": "[encoded data removed]",
      "text/plain": [
       "<IPython.core.display.Image object>"
      ]
     },
     "execution_count": 5,
     "metadata": {},
     "output_type": "execute_result"
    }
   ],
   "source": [
    "# Step-2\n",
    "#-------#\n",
    "# Divide the sorted table into two parts at the median value\n",
    "# here the median value is 32 for column 'b', \n",
    "# so (12,32,15) is the median record of the table and will be considered as root node\n",
    "# now divide the table-1 into two tables at the median record\n",
    "Image('kdtree_step2.PNG')"
   ]
  },
  {
   "cell_type": "code",
   "execution_count": null,
   "metadata": {},
   "outputs": [],
   "source": [
    "# Step-3\n",
    "#-------#\n",
    "# Consider these above two tables as two child nodes of the root node\n",
    "# Next, from among the remaining attributes, we select that dimension that has the greatest variance\n",
    "# Here out of 'a' and 'c', we see that highest variance is in column 'c'\n",
    "# Again sort the tables (both) on column 'c' and break them at their respective medians\n",
    "# Each of these tables will now create two more tables under them \n",
    "# and will go on till you stop on achieving a certain threshold"
   ]
  },
  {
   "cell_type": "code",
   "execution_count": null,
   "metadata": {},
   "outputs": [],
   "source": [
    "# using KD Tree\n",
    "#-------------#\n",
    "\n",
    "# Once this data structure is created, it is easy to descend down to the \n",
    "# the leaf node with a bunch of records and find out the (approx) neighborhood of any point.\n",
    "# The root node records can be included in any of left or right child nodes\n",
    "# if there are not enough records in child nodes, the adjacent (left or right)\n",
    "# child node points can also be considered\n",
    "# Instead of finding the distance with all data points, KD tree is very efficient\n",
    "# to find the nearest neighbors in a subset of the whole dataset\n",
    "# It works best when the number of dimensions is small\n",
    "# KD Tree supports only 'euclidean', 'minkowski', 'manhattan', 'chebyshev' distances"
   ]
  },
  {
   "cell_type": "code",
   "execution_count": 6,
   "metadata": {},
   "outputs": [],
   "source": [
    "#==============================#\n",
    "# Ball-tree Data Structure\n",
    "#==============================#\n",
    "\n",
    "# Ball-tree is also a binary tree\n",
    "# To start with, two clusters (each resembling a ball) are created\n",
    "# Any point in n-dimensional space will belong to either cluster but not to both\n",
    "# Next, each of the balls is again subdivided into two sub-clusters (like balls)\n",
    "# We keep on dividing upto a certain path or threshold is reached and stop there"
   ]
  },
  {
   "cell_type": "code",
   "execution_count": null,
   "metadata": {},
   "outputs": [],
   "source": [
    "# using Ball Tree\n",
    "#---------------#\n",
    "\n",
    "# An unclassified (target) point must fall within any one of the nested balls\n",
    "# Then identifying k nearest neighbors in that subset of data points is a lot faster\n",
    "# Ball tree data structure is very efficient in situations when number of dimensions is large \n",
    "# Ball tree formation initially requires a lot of time and memory but once nested \n",
    "# hyper-spheres are created and placed in memory discovery of nearest points becomes easier.\n",
    "# Ball tree supports a lot more distance metrics"
   ]
  },
  {
   "cell_type": "code",
   "execution_count": null,
   "metadata": {},
   "outputs": [],
   "source": [
    "# Both Ball Tree and KD Tree\n",
    "#--------------------------#\n",
    "# Both the ball tree and kd-tree implement k-neighbor and bounded neighbor \n",
    "# searches, and can use either a single tree or dual tree approach, with \n",
    "# either a breadth-first or depth-first tree traversal.\n",
    "\n",
    "# Both the ball tree and kd-tree have their memory pre-allocated entirely \n",
    "# by numpy: this not only leads to code that's easier to debug and \n",
    "# maintain (no memory errors!), but means that either data structure can be \n",
    "# serialized using Python's pickle module. This is a very important feature \n",
    "# in some contexts, most notably when estimators are being sent between multiple\n",
    "# machines in a parallel computing framework.\n",
    "\n",
    "# Both the ball tree and kd-tree implement fast kernel density estimation (KDE), \n",
    "# which can be used within any of the valid distance metrics. The supported kernels are\n",
    "# ['gaussian', 'tophat', 'epanechnikov', 'exponential', 'linear', 'cosine']"
   ]
  },
  {
   "cell_type": "code",
   "execution_count": 4,
   "metadata": {},
   "outputs": [
    {
     "data": {
      "image/png": "[encoded data removed]",
      "text/plain": [
       "<IPython.core.display.Image object>"
      ]
     },
     "execution_count": 4,
     "metadata": {},
     "output_type": "execute_result"
    }
   ],
   "source": [
    "#==============================#\n",
    "# Some more Insights\n",
    "#==============================#\n",
    "# The training phase of the kNN algorithm consists only of storing the \n",
    "# feature vectors and class labels of the training samples.\n",
    "# In the testing phase, a test point is classified by assigning the label \n",
    "# which are most frequent among the k training samples nearest to that \n",
    "# query point – hence higher computation.\n",
    "\n",
    "# k-NN performs much better if all of the data have the same scale \n",
    "\n",
    "# k-NN works well with a small number of input variables (p), but struggles \n",
    "# when the number of inputs is very large\n",
    "\n",
    "# Let us discuss a situation to understand kNN's behavior\n",
    "# Context is that you are doing a classification and using kNN for Predictive Modeling\n",
    "# If you increase the k-Size, the boundary of a given point increases \n",
    "# increasing the k, you are increasing the bias\n",
    "# In case of very large value of k, we may include points from other classes\n",
    "# If for k=3 it predicted class-A, it might have a different outcome if k=6\n",
    "# Similarly, if you decrease the size of k to 1, predictions become less stable\n",
    "# If our query point is surrounded by several class Bs and just one class A\n",
    "# which is a little closer than so many other class Bs, the model will predict class A\n",
    "\n",
    "# When you are dealing with noisy data, going ahead with small k is advisable\n",
    "# However, In case of too small value of k the algorithm is very sensitive to noise\n",
    "# We can choose optimal value of k with the help of cross validation (always)\n",
    "\n",
    "# kNN suffers from the curse of high-dimensionality and overfits,\n",
    "# you must either do feature selection or Dimensionality reduction\n",
    "\n",
    "# k-NN is a memory-based approach is that the classifier immediately adapts \n",
    "# as we collect new training data.\n",
    "\n",
    "# The computational complexity for classifying new samples grows linearly with \n",
    "# the number of samples in the training dataset in the worst-case scenario\n",
    "\n",
    "# k-NN does not require an explicit training step\n",
    "\n",
    "# You can implement a 2-NN classifier by ensembling 1-NN classifiers\n",
    "\n",
    "# Euclidean distance treats each feature as equally important\n",
    "\n",
    "# The training time for any value of k in kNN algorithm is the same (obvious, right?)\n",
    "# 1-NN ~ 2-NN ~ 3-NN\n",
    "\n",
    "# In cases where we are taking a majority vote (e.g. picking the mode in a \n",
    "# classification problem) among labels, we usually make K an odd number to have a tiebreaker.\n",
    "\n",
    "# The algorithm gets significantly slower as the volume of data increases\n",
    "Image('knn_kvalue.png')"
   ]
  },
  {
   "cell_type": "code",
   "execution_count": 12,
   "metadata": {},
   "outputs": [
    {
     "data": {
      "image/png": "[encoded data removed]",
      "text/plain": [
       "<IPython.core.display.Image object>"
      ]
     },
     "execution_count": 12,
     "metadata": {},
     "output_type": "execute_result"
    }
   ],
   "source": [
    "# What may happen if the data is not normalized. See the example below:\n",
    "# Remember that kNN relies on the distance between the data points\n",
    "Image('knn_data_normalization.png')"
   ]
  },
  {
   "cell_type": "code",
   "execution_count": 1,
   "metadata": {},
   "outputs": [],
   "source": [
    "#==============================#\n",
    "# kNN in Practice\n",
    "#==============================#\n",
    "\n",
    "# Since kNN gets slower with volume of data, it is not used that extensively for prediction\n",
    "# There are so many good algorithms for classification and regression that scale well\n",
    "\n",
    "# kNNs is best suitable in solving problems that have solutions that \n",
    "# depend on identifying similar objects. An example of this is using the \n",
    "# KNN algorithm in recommender systems, an application of KNN-search."
   ]
  },
  {
   "cell_type": "markdown",
   "metadata": {},
   "source": [
    "# kNN for recommender systems "
   ]
  },
  {
   "cell_type": "code",
   "execution_count": null,
   "metadata": {},
   "outputs": [],
   "source": [
    "#==============================#\n",
    "# Some basics\n",
    "#==============================#\n",
    "\n",
    "# Given our movies data set, what are the 5 most similar movies to a movie query?\n"
   ]
  },
  {
   "cell_type": "code",
   "execution_count": 23,
   "metadata": {},
   "outputs": [
    {
     "data": {
      "text/plain": [
       "NearestNeighbors(algorithm='ball_tree', leaf_size=30, metric='minkowski',\n",
       "         metric_params=None, n_jobs=None, n_neighbors=4, p=2, radius=1.0)"
      ]
     },
     "execution_count": 23,
     "metadata": {},
     "output_type": "execute_result"
    }
   ],
   "source": [
    "# Assuming that we already have scaled data and divided into X_train, X_test, y_train, y_test\n",
    "\n",
    "# We are now ready to train the kNN model for Recommendation\n",
    "\n",
    "# Import module for KNN\n",
    "from sklearn.neighbors import NearestNeighbors\n",
    "# Create KNN instance\n",
    "knn_rec = NearestNeighbors(n_neighbors=4, algorithm='ball_tree')\n",
    "# Alternatively, one can use the KDTree or BallTree classes directly to find nearest neighbors\n",
    "# kdt = KDTree(X, leaf_size=30, metric='euclidean')\n",
    "\n",
    "# Fit (i.e. traing) the model (It can take just one argument also)\n",
    "knn_rec.fit(X_train)"
   ]
  },
  {
   "cell_type": "code",
   "execution_count": 30,
   "metadata": {},
   "outputs": [],
   "source": [
    "distances, indices = knn_rec.kneighbors(X_train)"
   ]
  },
  {
   "cell_type": "code",
   "execution_count": 31,
   "metadata": {},
   "outputs": [
    {
     "data": {
      "text/plain": [
       "array([[0.        , 1.76734987, 1.92601215, 2.14037512],\n",
       "       [0.        , 1.69482904, 1.77677137, 1.80835615],\n",
       "       [0.        , 1.51524796, 1.78101852, 1.81458141],\n",
       "       ...,\n",
       "       [0.        , 1.59471376, 1.91973144, 1.948452  ],\n",
       "       [0.        , 1.52628727, 1.63696573, 1.76683087],\n",
       "       [0.        , 1.91311964, 1.97915637, 1.99927913]])"
      ]
     },
     "execution_count": 31,
     "metadata": {},
     "output_type": "execute_result"
    }
   ],
   "source": [
    "distances"
   ]
  },
  {
   "cell_type": "code",
   "execution_count": 29,
   "metadata": {},
   "outputs": [
    {
     "data": {
      "text/plain": [
       "array([[  0, 681, 729, 663],\n",
       "       [  1, 673, 477, 674],\n",
       "       [  2, 463,  90, 146],\n",
       "       ...,\n",
       "       [747, 595, 494, 231],\n",
       "       [748, 733, 348, 715],\n",
       "       [749, 471, 707, 589]], dtype=int64)"
      ]
     },
     "execution_count": 29,
     "metadata": {},
     "output_type": "execute_result"
    }
   ],
   "source": [
    "indices"
   ]
  },
  {
   "cell_type": "code",
   "execution_count": 47,
   "metadata": {},
   "outputs": [
    {
     "data": {
      "text/html": [
       "<div>\n",
       "<style scoped>\n",
       "    .dataframe tbody tr th:only-of-type {\n",
       "        vertical-align: middle;\n",
       "    }\n",
       "\n",
       "    .dataframe tbody tr th {\n",
       "        vertical-align: top;\n",
       "    }\n",
       "\n",
       "    .dataframe thead th {\n",
       "        text-align: right;\n",
       "    }\n",
       "</style>\n",
       "<table border=\"1\" class=\"dataframe\">\n",
       "  <thead>\n",
       "    <tr style=\"text-align: right;\">\n",
       "      <th></th>\n",
       "      <th>WTT</th>\n",
       "      <th>PTI</th>\n",
       "      <th>EQW</th>\n",
       "      <th>SBI</th>\n",
       "      <th>LQE</th>\n",
       "      <th>QWG</th>\n",
       "      <th>FDJ</th>\n",
       "      <th>PJF</th>\n",
       "      <th>HQE</th>\n",
       "      <th>NXJ</th>\n",
       "    </tr>\n",
       "  </thead>\n",
       "  <tbody>\n",
       "    <tr>\n",
       "      <th>561</th>\n",
       "      <td>0.276079</td>\n",
       "      <td>1.655702</td>\n",
       "      <td>2.208756</td>\n",
       "      <td>0.456246</td>\n",
       "      <td>-0.611321</td>\n",
       "      <td>0.933389</td>\n",
       "      <td>-0.012156</td>\n",
       "      <td>1.195924</td>\n",
       "      <td>-0.292094</td>\n",
       "      <td>0.447591</td>\n",
       "    </tr>\n",
       "    <tr>\n",
       "      <th>112</th>\n",
       "      <td>0.507293</td>\n",
       "      <td>-1.086983</td>\n",
       "      <td>-0.388851</td>\n",
       "      <td>-0.956887</td>\n",
       "      <td>-0.482266</td>\n",
       "      <td>-0.585602</td>\n",
       "      <td>-2.185038</td>\n",
       "      <td>-0.129050</td>\n",
       "      <td>0.951419</td>\n",
       "      <td>-1.584626</td>\n",
       "    </tr>\n",
       "  </tbody>\n",
       "</table>\n",
       "</div>"
      ],
      "text/plain": [
       "          WTT       PTI       EQW       SBI       LQE       QWG       FDJ  \\\n",
       "561  0.276079  1.655702  2.208756  0.456246 -0.611321  0.933389 -0.012156   \n",
       "112  0.507293 -1.086983 -0.388851 -0.956887 -0.482266 -0.585602 -2.185038   \n",
       "\n",
       "          PJF       HQE       NXJ  \n",
       "561  1.195924 -0.292094  0.447591  \n",
       "112 -0.129050  0.951419 -1.584626  "
      ]
     },
     "execution_count": 47,
     "metadata": {},
     "output_type": "execute_result"
    }
   ],
   "source": [
    "X_train.head(2)"
   ]
  },
  {
   "cell_type": "code",
   "execution_count": 55,
   "metadata": {},
   "outputs": [
    {
     "name": "stdout",
     "output_type": "stream",
     "text": [
      "(array([[2.57262672, 2.63682582, 2.74143077, 2.83988477]]), array([[338, 666,  35,  77]], dtype=int64))\n"
     ]
    }
   ],
   "source": [
    "# New data point check against our k neighbors classifier.\n",
    "# To search object X and identify the closest related record, we call the kneighbors() function on the new data point\n",
    "print(knn_rec.kneighbors([[1.276079, 1.655702, 1.208756, 0.456246, -1.611321, 1.233389, -2.012156, 1.495924, -1.292094, 0.447591]])) "
   ]
  },
  {
   "cell_type": "code",
   "execution_count": 56,
   "metadata": {},
   "outputs": [
    {
     "data": {
      "text/plain": [
       "array([[  0, 681, 729, 663],\n",
       "       [  1, 673, 477, 674]], dtype=int64)"
      ]
     },
     "execution_count": 56,
     "metadata": {},
     "output_type": "execute_result"
    }
   ],
   "source": [
    "indices[0:2]"
   ]
  },
  {
   "cell_type": "code",
   "execution_count": null,
   "metadata": {},
   "outputs": [],
   "source": []
  },
  {
   "cell_type": "code",
   "execution_count": null,
   "metadata": {},
   "outputs": [],
   "source": []
  },
  {
   "cell_type": "code",
   "execution_count": null,
   "metadata": {},
   "outputs": [],
   "source": []
  }
 ],
 "metadata": {
  "kernelspec": {
   "display_name": "Python 3",
   "language": "python",
   "name": "python3"
  },
  "language_info": {
   "codemirror_mode": {
    "name": "ipython",
    "version": 3
   },
   "file_extension": ".py",
   "mimetype": "text/x-python",
   "name": "python",
   "nbconvert_exporter": "python",
   "pygments_lexer": "ipython3",
   "version": "3.7.1"
  }
 },
 "nbformat": 4,
 "nbformat_minor": 2
}
