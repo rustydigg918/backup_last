{
 "cells": [
  {
   "cell_type": "markdown",
   "metadata": {},
   "source": [
    "# Lending club dataset("
   ]
  },
  {
   "cell_type": "code",
   "execution_count": 13,
   "metadata": {},
   "outputs": [
    {
     "name": "stdout",
     "output_type": "stream",
     "text": [
      "E:\\Finale Project\\Python Project\n"
     ]
    }
   ],
   "source": [
    "#Setting the working directory\n",
    "import os\n",
    "path = 'E:\\\\Finale Project\\\\Python Project'\n",
    "os.chdir(path)\n",
    "print(os.getcwd())"
   ]
  },
  {
   "cell_type": "code",
   "execution_count": 9,
   "metadata": {},
   "outputs": [],
   "source": [
    "#Importing necessary library\n",
    "import jovian\n",
    "import pandas as pd\n",
    "import numpy as np\n",
    "import matplotlib.pyplot as plt\n",
    "import seaborn as sns\n",
    "sns.set_style('whitegrid')\n",
    "import warnings\n",
    "import gc\n",
    "warnings.simplefilter(action='ignore', category=FutureWarning)\n",
    "warnings.simplefilter(action='ignore', category=DeprecationWarning)\n",
    "%matplotlib inline"
   ]
  },
  {
   "cell_type": "code",
   "execution_count": 18,
   "metadata": {},
   "outputs": [],
   "source": [
    "load_df = pd.read_csv('XYZCorp_LendingData.txt',sep=\"\\t\", low_memory=False)"
   ]
  },
  {
   "cell_type": "code",
   "execution_count": 19,
   "metadata": {},
   "outputs": [
    {
     "data": {
      "text/html": [
       "<div>\n",
       "<style scoped>\n",
       "    .dataframe tbody tr th:only-of-type {\n",
       "        vertical-align: middle;\n",
       "    }\n",
       "\n",
       "    .dataframe tbody tr th {\n",
       "        vertical-align: top;\n",
       "    }\n",
       "\n",
       "    .dataframe thead th {\n",
       "        text-align: right;\n",
       "    }\n",
       "</style>\n",
       "<table border=\"1\" class=\"dataframe\">\n",
       "  <thead>\n",
       "    <tr style=\"text-align: right;\">\n",
       "      <th></th>\n",
       "      <th>id</th>\n",
       "      <th>member_id</th>\n",
       "      <th>loan_amnt</th>\n",
       "      <th>funded_amnt</th>\n",
       "      <th>funded_amnt_inv</th>\n",
       "      <th>term</th>\n",
       "      <th>int_rate</th>\n",
       "      <th>installment</th>\n",
       "      <th>grade</th>\n",
       "      <th>sub_grade</th>\n",
       "      <th>...</th>\n",
       "      <th>il_util</th>\n",
       "      <th>open_rv_12m</th>\n",
       "      <th>open_rv_24m</th>\n",
       "      <th>max_bal_bc</th>\n",
       "      <th>all_util</th>\n",
       "      <th>total_rev_hi_lim</th>\n",
       "      <th>inq_fi</th>\n",
       "      <th>total_cu_tl</th>\n",
       "      <th>inq_last_12m</th>\n",
       "      <th>default_ind</th>\n",
       "    </tr>\n",
       "  </thead>\n",
       "  <tbody>\n",
       "    <tr>\n",
       "      <td>0</td>\n",
       "      <td>1077501</td>\n",
       "      <td>1296599</td>\n",
       "      <td>5000.0</td>\n",
       "      <td>5000.0</td>\n",
       "      <td>4975.0</td>\n",
       "      <td>36 months</td>\n",
       "      <td>10.65</td>\n",
       "      <td>162.87</td>\n",
       "      <td>B</td>\n",
       "      <td>B2</td>\n",
       "      <td>...</td>\n",
       "      <td>NaN</td>\n",
       "      <td>NaN</td>\n",
       "      <td>NaN</td>\n",
       "      <td>NaN</td>\n",
       "      <td>NaN</td>\n",
       "      <td>NaN</td>\n",
       "      <td>NaN</td>\n",
       "      <td>NaN</td>\n",
       "      <td>NaN</td>\n",
       "      <td>0</td>\n",
       "    </tr>\n",
       "    <tr>\n",
       "      <td>1</td>\n",
       "      <td>1077430</td>\n",
       "      <td>1314167</td>\n",
       "      <td>2500.0</td>\n",
       "      <td>2500.0</td>\n",
       "      <td>2500.0</td>\n",
       "      <td>60 months</td>\n",
       "      <td>15.27</td>\n",
       "      <td>59.83</td>\n",
       "      <td>C</td>\n",
       "      <td>C4</td>\n",
       "      <td>...</td>\n",
       "      <td>NaN</td>\n",
       "      <td>NaN</td>\n",
       "      <td>NaN</td>\n",
       "      <td>NaN</td>\n",
       "      <td>NaN</td>\n",
       "      <td>NaN</td>\n",
       "      <td>NaN</td>\n",
       "      <td>NaN</td>\n",
       "      <td>NaN</td>\n",
       "      <td>1</td>\n",
       "    </tr>\n",
       "    <tr>\n",
       "      <td>2</td>\n",
       "      <td>1077175</td>\n",
       "      <td>1313524</td>\n",
       "      <td>2400.0</td>\n",
       "      <td>2400.0</td>\n",
       "      <td>2400.0</td>\n",
       "      <td>36 months</td>\n",
       "      <td>15.96</td>\n",
       "      <td>84.33</td>\n",
       "      <td>C</td>\n",
       "      <td>C5</td>\n",
       "      <td>...</td>\n",
       "      <td>NaN</td>\n",
       "      <td>NaN</td>\n",
       "      <td>NaN</td>\n",
       "      <td>NaN</td>\n",
       "      <td>NaN</td>\n",
       "      <td>NaN</td>\n",
       "      <td>NaN</td>\n",
       "      <td>NaN</td>\n",
       "      <td>NaN</td>\n",
       "      <td>0</td>\n",
       "    </tr>\n",
       "    <tr>\n",
       "      <td>3</td>\n",
       "      <td>1076863</td>\n",
       "      <td>1277178</td>\n",
       "      <td>10000.0</td>\n",
       "      <td>10000.0</td>\n",
       "      <td>10000.0</td>\n",
       "      <td>36 months</td>\n",
       "      <td>13.49</td>\n",
       "      <td>339.31</td>\n",
       "      <td>C</td>\n",
       "      <td>C1</td>\n",
       "      <td>...</td>\n",
       "      <td>NaN</td>\n",
       "      <td>NaN</td>\n",
       "      <td>NaN</td>\n",
       "      <td>NaN</td>\n",
       "      <td>NaN</td>\n",
       "      <td>NaN</td>\n",
       "      <td>NaN</td>\n",
       "      <td>NaN</td>\n",
       "      <td>NaN</td>\n",
       "      <td>0</td>\n",
       "    </tr>\n",
       "    <tr>\n",
       "      <td>4</td>\n",
       "      <td>1075358</td>\n",
       "      <td>1311748</td>\n",
       "      <td>3000.0</td>\n",
       "      <td>3000.0</td>\n",
       "      <td>3000.0</td>\n",
       "      <td>60 months</td>\n",
       "      <td>12.69</td>\n",
       "      <td>67.79</td>\n",
       "      <td>B</td>\n",
       "      <td>B5</td>\n",
       "      <td>...</td>\n",
       "      <td>NaN</td>\n",
       "      <td>NaN</td>\n",
       "      <td>NaN</td>\n",
       "      <td>NaN</td>\n",
       "      <td>NaN</td>\n",
       "      <td>NaN</td>\n",
       "      <td>NaN</td>\n",
       "      <td>NaN</td>\n",
       "      <td>NaN</td>\n",
       "      <td>0</td>\n",
       "    </tr>\n",
       "  </tbody>\n",
       "</table>\n",
       "<p>5 rows × 73 columns</p>\n",
       "</div>"
      ],
      "text/plain": [
       "        id  member_id  loan_amnt  funded_amnt  funded_amnt_inv        term  \\\n",
       "0  1077501    1296599     5000.0       5000.0           4975.0   36 months   \n",
       "1  1077430    1314167     2500.0       2500.0           2500.0   60 months   \n",
       "2  1077175    1313524     2400.0       2400.0           2400.0   36 months   \n",
       "3  1076863    1277178    10000.0      10000.0          10000.0   36 months   \n",
       "4  1075358    1311748     3000.0       3000.0           3000.0   60 months   \n",
       "\n",
       "   int_rate  installment grade sub_grade  ... il_util open_rv_12m open_rv_24m  \\\n",
       "0     10.65       162.87     B        B2  ...     NaN         NaN         NaN   \n",
       "1     15.27        59.83     C        C4  ...     NaN         NaN         NaN   \n",
       "2     15.96        84.33     C        C5  ...     NaN         NaN         NaN   \n",
       "3     13.49       339.31     C        C1  ...     NaN         NaN         NaN   \n",
       "4     12.69        67.79     B        B5  ...     NaN         NaN         NaN   \n",
       "\n",
       "   max_bal_bc all_util total_rev_hi_lim inq_fi total_cu_tl inq_last_12m  \\\n",
       "0         NaN      NaN              NaN    NaN         NaN          NaN   \n",
       "1         NaN      NaN              NaN    NaN         NaN          NaN   \n",
       "2         NaN      NaN              NaN    NaN         NaN          NaN   \n",
       "3         NaN      NaN              NaN    NaN         NaN          NaN   \n",
       "4         NaN      NaN              NaN    NaN         NaN          NaN   \n",
       "\n",
       "  default_ind  \n",
       "0           0  \n",
       "1           1  \n",
       "2           0  \n",
       "3           0  \n",
       "4           0  \n",
       "\n",
       "[5 rows x 73 columns]"
      ]
     },
     "execution_count": 19,
     "metadata": {},
     "output_type": "execute_result"
    }
   ],
   "source": [
    "lcd = load_df.copy(deep=True)\n",
    "lcd.head()"
   ]
  },
  {
   "cell_type": "code",
   "execution_count": 20,
   "metadata": {},
   "outputs": [
    {
     "name": "stdout",
     "output_type": "stream",
     "text": [
      "<class 'pandas.core.frame.DataFrame'>\n",
      "RangeIndex: 855969 entries, 0 to 855968\n",
      "Data columns (total 73 columns):\n",
      "id                             855969 non-null int64\n",
      "member_id                      855969 non-null int64\n",
      "loan_amnt                      855969 non-null float64\n",
      "funded_amnt                    855969 non-null float64\n",
      "funded_amnt_inv                855969 non-null float64\n",
      "term                           855969 non-null object\n",
      "int_rate                       855969 non-null float64\n",
      "installment                    855969 non-null float64\n",
      "grade                          855969 non-null object\n",
      "sub_grade                      855969 non-null object\n",
      "emp_title                      806526 non-null object\n",
      "emp_length                     812908 non-null object\n",
      "home_ownership                 855969 non-null object\n",
      "annual_inc                     855969 non-null float64\n",
      "verification_status            855969 non-null object\n",
      "issue_d                        855969 non-null object\n",
      "pymnt_plan                     855969 non-null object\n",
      "desc                           121812 non-null object\n",
      "purpose                        855969 non-null object\n",
      "title                          855936 non-null object\n",
      "zip_code                       855969 non-null object\n",
      "addr_state                     855969 non-null object\n",
      "dti                            855969 non-null float64\n",
      "delinq_2yrs                    855969 non-null float64\n",
      "earliest_cr_line               855969 non-null object\n",
      "inq_last_6mths                 855969 non-null float64\n",
      "mths_since_last_delinq         416157 non-null float64\n",
      "mths_since_last_record         131184 non-null float64\n",
      "open_acc                       855969 non-null float64\n",
      "pub_rec                        855969 non-null float64\n",
      "revol_bal                      855969 non-null float64\n",
      "revol_util                     855523 non-null float64\n",
      "total_acc                      855969 non-null float64\n",
      "initial_list_status            855969 non-null object\n",
      "out_prncp                      855969 non-null float64\n",
      "out_prncp_inv                  855969 non-null float64\n",
      "total_pymnt                    855969 non-null float64\n",
      "total_pymnt_inv                855969 non-null float64\n",
      "total_rec_prncp                855969 non-null float64\n",
      "total_rec_int                  855969 non-null float64\n",
      "total_rec_late_fee             855969 non-null float64\n",
      "recoveries                     855969 non-null float64\n",
      "collection_recovery_fee        855969 non-null float64\n",
      "last_pymnt_d                   847107 non-null object\n",
      "last_pymnt_amnt                855969 non-null float64\n",
      "next_pymnt_d                   602998 non-null object\n",
      "last_credit_pull_d             855919 non-null object\n",
      "collections_12_mths_ex_med     855913 non-null float64\n",
      "mths_since_last_major_derog    213139 non-null float64\n",
      "policy_code                    855969 non-null float64\n",
      "application_type               855969 non-null object\n",
      "annual_inc_joint               442 non-null float64\n",
      "dti_joint                      440 non-null float64\n",
      "verification_status_joint      442 non-null object\n",
      "acc_now_delinq                 855969 non-null float64\n",
      "tot_coll_amt                   788656 non-null float64\n",
      "tot_cur_bal                    788656 non-null float64\n",
      "open_acc_6m                    13288 non-null float64\n",
      "open_il_6m                     13288 non-null float64\n",
      "open_il_12m                    13288 non-null float64\n",
      "open_il_24m                    13288 non-null float64\n",
      "mths_since_rcnt_il             12934 non-null float64\n",
      "total_bal_il                   13288 non-null float64\n",
      "il_util                        11609 non-null float64\n",
      "open_rv_12m                    13288 non-null float64\n",
      "open_rv_24m                    13288 non-null float64\n",
      "max_bal_bc                     13288 non-null float64\n",
      "all_util                       13288 non-null float64\n",
      "total_rev_hi_lim               788656 non-null float64\n",
      "inq_fi                         13288 non-null float64\n",
      "total_cu_tl                    13288 non-null float64\n",
      "inq_last_12m                   13288 non-null float64\n",
      "default_ind                    855969 non-null int64\n",
      "dtypes: float64(49), int64(3), object(21)\n",
      "memory usage: 476.7+ MB\n"
     ]
    }
   ],
   "source": [
    "lcd.info()"
   ]
  },
  {
   "cell_type": "code",
   "execution_count": 22,
   "metadata": {},
   "outputs": [
    {
     "data": {
      "text/plain": [
       "(855969, 73)"
      ]
     },
     "execution_count": 22,
     "metadata": {},
     "output_type": "execute_result"
    }
   ],
   "source": [
    "lcd.shape"
   ]
  },
  {
   "cell_type": "code",
   "execution_count": 24,
   "metadata": {},
   "outputs": [
    {
     "data": {
      "text/html": [
       "<div>\n",
       "<style scoped>\n",
       "    .dataframe tbody tr th:only-of-type {\n",
       "        vertical-align: middle;\n",
       "    }\n",
       "\n",
       "    .dataframe tbody tr th {\n",
       "        vertical-align: top;\n",
       "    }\n",
       "\n",
       "    .dataframe thead th {\n",
       "        text-align: right;\n",
       "    }\n",
       "</style>\n",
       "<table border=\"1\" class=\"dataframe\">\n",
       "  <thead>\n",
       "    <tr style=\"text-align: right;\">\n",
       "      <th></th>\n",
       "      <th>id</th>\n",
       "      <th>member_id</th>\n",
       "      <th>loan_amnt</th>\n",
       "      <th>funded_amnt</th>\n",
       "      <th>funded_amnt_inv</th>\n",
       "      <th>int_rate</th>\n",
       "      <th>installment</th>\n",
       "      <th>annual_inc</th>\n",
       "      <th>dti</th>\n",
       "      <th>delinq_2yrs</th>\n",
       "      <th>...</th>\n",
       "      <th>il_util</th>\n",
       "      <th>open_rv_12m</th>\n",
       "      <th>open_rv_24m</th>\n",
       "      <th>max_bal_bc</th>\n",
       "      <th>all_util</th>\n",
       "      <th>total_rev_hi_lim</th>\n",
       "      <th>inq_fi</th>\n",
       "      <th>total_cu_tl</th>\n",
       "      <th>inq_last_12m</th>\n",
       "      <th>default_ind</th>\n",
       "    </tr>\n",
       "  </thead>\n",
       "  <tbody>\n",
       "    <tr>\n",
       "      <td>count</td>\n",
       "      <td>8.559690e+05</td>\n",
       "      <td>8.559690e+05</td>\n",
       "      <td>855969.000000</td>\n",
       "      <td>855969.000000</td>\n",
       "      <td>855969.000000</td>\n",
       "      <td>855969.000000</td>\n",
       "      <td>855969.000000</td>\n",
       "      <td>8.559690e+05</td>\n",
       "      <td>855969.000000</td>\n",
       "      <td>855969.000000</td>\n",
       "      <td>...</td>\n",
       "      <td>11609.000000</td>\n",
       "      <td>13288.000000</td>\n",
       "      <td>13288.000000</td>\n",
       "      <td>13288.000000</td>\n",
       "      <td>13288.000000</td>\n",
       "      <td>7.886560e+05</td>\n",
       "      <td>13288.000000</td>\n",
       "      <td>13288.000000</td>\n",
       "      <td>13288.000000</td>\n",
       "      <td>855969.000000</td>\n",
       "    </tr>\n",
       "    <tr>\n",
       "      <td>mean</td>\n",
       "      <td>3.224073e+07</td>\n",
       "      <td>3.476269e+07</td>\n",
       "      <td>14745.571335</td>\n",
       "      <td>14732.378305</td>\n",
       "      <td>14700.061226</td>\n",
       "      <td>13.192320</td>\n",
       "      <td>436.238072</td>\n",
       "      <td>7.507119e+04</td>\n",
       "      <td>18.122165</td>\n",
       "      <td>0.311621</td>\n",
       "      <td>...</td>\n",
       "      <td>71.486993</td>\n",
       "      <td>1.354305</td>\n",
       "      <td>2.945515</td>\n",
       "      <td>5840.443332</td>\n",
       "      <td>61.024526</td>\n",
       "      <td>3.216357e+04</td>\n",
       "      <td>0.947772</td>\n",
       "      <td>1.524232</td>\n",
       "      <td>1.841963</td>\n",
       "      <td>0.054286</td>\n",
       "    </tr>\n",
       "    <tr>\n",
       "      <td>std</td>\n",
       "      <td>2.271969e+07</td>\n",
       "      <td>2.399418e+07</td>\n",
       "      <td>8425.340005</td>\n",
       "      <td>8419.471653</td>\n",
       "      <td>8425.805478</td>\n",
       "      <td>4.368365</td>\n",
       "      <td>243.726876</td>\n",
       "      <td>6.426447e+04</td>\n",
       "      <td>17.423629</td>\n",
       "      <td>0.857189</td>\n",
       "      <td>...</td>\n",
       "      <td>23.015293</td>\n",
       "      <td>1.483710</td>\n",
       "      <td>2.595313</td>\n",
       "      <td>5108.500262</td>\n",
       "      <td>20.018117</td>\n",
       "      <td>3.769964e+04</td>\n",
       "      <td>1.441667</td>\n",
       "      <td>2.697601</td>\n",
       "      <td>2.975049</td>\n",
       "      <td>0.226581</td>\n",
       "    </tr>\n",
       "    <tr>\n",
       "      <td>min</td>\n",
       "      <td>5.473400e+04</td>\n",
       "      <td>7.069900e+04</td>\n",
       "      <td>500.000000</td>\n",
       "      <td>500.000000</td>\n",
       "      <td>0.000000</td>\n",
       "      <td>5.320000</td>\n",
       "      <td>15.690000</td>\n",
       "      <td>0.000000e+00</td>\n",
       "      <td>0.000000</td>\n",
       "      <td>0.000000</td>\n",
       "      <td>...</td>\n",
       "      <td>0.000000</td>\n",
       "      <td>0.000000</td>\n",
       "      <td>0.000000</td>\n",
       "      <td>0.000000</td>\n",
       "      <td>0.000000</td>\n",
       "      <td>0.000000e+00</td>\n",
       "      <td>0.000000</td>\n",
       "      <td>0.000000</td>\n",
       "      <td>-4.000000</td>\n",
       "      <td>0.000000</td>\n",
       "    </tr>\n",
       "    <tr>\n",
       "      <td>25%</td>\n",
       "      <td>9.067986e+06</td>\n",
       "      <td>1.079273e+07</td>\n",
       "      <td>8000.000000</td>\n",
       "      <td>8000.000000</td>\n",
       "      <td>8000.000000</td>\n",
       "      <td>9.990000</td>\n",
       "      <td>260.550000</td>\n",
       "      <td>4.500000e+04</td>\n",
       "      <td>11.880000</td>\n",
       "      <td>0.000000</td>\n",
       "      <td>...</td>\n",
       "      <td>58.500000</td>\n",
       "      <td>0.000000</td>\n",
       "      <td>1.000000</td>\n",
       "      <td>2405.000000</td>\n",
       "      <td>47.900000</td>\n",
       "      <td>1.400000e+04</td>\n",
       "      <td>0.000000</td>\n",
       "      <td>0.000000</td>\n",
       "      <td>0.000000</td>\n",
       "      <td>0.000000</td>\n",
       "    </tr>\n",
       "    <tr>\n",
       "      <td>50%</td>\n",
       "      <td>3.431355e+07</td>\n",
       "      <td>3.697532e+07</td>\n",
       "      <td>13000.000000</td>\n",
       "      <td>13000.000000</td>\n",
       "      <td>13000.000000</td>\n",
       "      <td>12.990000</td>\n",
       "      <td>382.550000</td>\n",
       "      <td>6.500000e+04</td>\n",
       "      <td>17.610000</td>\n",
       "      <td>0.000000</td>\n",
       "      <td>...</td>\n",
       "      <td>75.000000</td>\n",
       "      <td>1.000000</td>\n",
       "      <td>2.000000</td>\n",
       "      <td>4485.500000</td>\n",
       "      <td>62.100000</td>\n",
       "      <td>2.380000e+04</td>\n",
       "      <td>0.000000</td>\n",
       "      <td>0.000000</td>\n",
       "      <td>2.000000</td>\n",
       "      <td>0.000000</td>\n",
       "    </tr>\n",
       "    <tr>\n",
       "      <td>75%</td>\n",
       "      <td>5.446311e+07</td>\n",
       "      <td>5.803559e+07</td>\n",
       "      <td>20000.000000</td>\n",
       "      <td>20000.000000</td>\n",
       "      <td>20000.000000</td>\n",
       "      <td>15.990000</td>\n",
       "      <td>571.560000</td>\n",
       "      <td>9.000000e+04</td>\n",
       "      <td>23.900000</td>\n",
       "      <td>0.000000</td>\n",
       "      <td>...</td>\n",
       "      <td>87.500000</td>\n",
       "      <td>2.000000</td>\n",
       "      <td>4.000000</td>\n",
       "      <td>7701.250000</td>\n",
       "      <td>75.300000</td>\n",
       "      <td>3.990000e+04</td>\n",
       "      <td>1.000000</td>\n",
       "      <td>2.000000</td>\n",
       "      <td>3.000000</td>\n",
       "      <td>0.000000</td>\n",
       "    </tr>\n",
       "    <tr>\n",
       "      <td>max</td>\n",
       "      <td>6.861687e+07</td>\n",
       "      <td>7.351969e+07</td>\n",
       "      <td>35000.000000</td>\n",
       "      <td>35000.000000</td>\n",
       "      <td>35000.000000</td>\n",
       "      <td>28.990000</td>\n",
       "      <td>1445.460000</td>\n",
       "      <td>9.500000e+06</td>\n",
       "      <td>9999.000000</td>\n",
       "      <td>39.000000</td>\n",
       "      <td>...</td>\n",
       "      <td>223.300000</td>\n",
       "      <td>22.000000</td>\n",
       "      <td>43.000000</td>\n",
       "      <td>83047.000000</td>\n",
       "      <td>151.400000</td>\n",
       "      <td>9.999999e+06</td>\n",
       "      <td>15.000000</td>\n",
       "      <td>33.000000</td>\n",
       "      <td>32.000000</td>\n",
       "      <td>1.000000</td>\n",
       "    </tr>\n",
       "  </tbody>\n",
       "</table>\n",
       "<p>8 rows × 52 columns</p>\n",
       "</div>"
      ],
      "text/plain": [
       "                 id     member_id      loan_amnt    funded_amnt  \\\n",
       "count  8.559690e+05  8.559690e+05  855969.000000  855969.000000   \n",
       "mean   3.224073e+07  3.476269e+07   14745.571335   14732.378305   \n",
       "std    2.271969e+07  2.399418e+07    8425.340005    8419.471653   \n",
       "min    5.473400e+04  7.069900e+04     500.000000     500.000000   \n",
       "25%    9.067986e+06  1.079273e+07    8000.000000    8000.000000   \n",
       "50%    3.431355e+07  3.697532e+07   13000.000000   13000.000000   \n",
       "75%    5.446311e+07  5.803559e+07   20000.000000   20000.000000   \n",
       "max    6.861687e+07  7.351969e+07   35000.000000   35000.000000   \n",
       "\n",
       "       funded_amnt_inv       int_rate    installment    annual_inc  \\\n",
       "count    855969.000000  855969.000000  855969.000000  8.559690e+05   \n",
       "mean      14700.061226      13.192320     436.238072  7.507119e+04   \n",
       "std        8425.805478       4.368365     243.726876  6.426447e+04   \n",
       "min           0.000000       5.320000      15.690000  0.000000e+00   \n",
       "25%        8000.000000       9.990000     260.550000  4.500000e+04   \n",
       "50%       13000.000000      12.990000     382.550000  6.500000e+04   \n",
       "75%       20000.000000      15.990000     571.560000  9.000000e+04   \n",
       "max       35000.000000      28.990000    1445.460000  9.500000e+06   \n",
       "\n",
       "                 dti    delinq_2yrs  ...       il_util   open_rv_12m  \\\n",
       "count  855969.000000  855969.000000  ...  11609.000000  13288.000000   \n",
       "mean       18.122165       0.311621  ...     71.486993      1.354305   \n",
       "std        17.423629       0.857189  ...     23.015293      1.483710   \n",
       "min         0.000000       0.000000  ...      0.000000      0.000000   \n",
       "25%        11.880000       0.000000  ...     58.500000      0.000000   \n",
       "50%        17.610000       0.000000  ...     75.000000      1.000000   \n",
       "75%        23.900000       0.000000  ...     87.500000      2.000000   \n",
       "max      9999.000000      39.000000  ...    223.300000     22.000000   \n",
       "\n",
       "        open_rv_24m    max_bal_bc      all_util  total_rev_hi_lim  \\\n",
       "count  13288.000000  13288.000000  13288.000000      7.886560e+05   \n",
       "mean       2.945515   5840.443332     61.024526      3.216357e+04   \n",
       "std        2.595313   5108.500262     20.018117      3.769964e+04   \n",
       "min        0.000000      0.000000      0.000000      0.000000e+00   \n",
       "25%        1.000000   2405.000000     47.900000      1.400000e+04   \n",
       "50%        2.000000   4485.500000     62.100000      2.380000e+04   \n",
       "75%        4.000000   7701.250000     75.300000      3.990000e+04   \n",
       "max       43.000000  83047.000000    151.400000      9.999999e+06   \n",
       "\n",
       "             inq_fi   total_cu_tl  inq_last_12m    default_ind  \n",
       "count  13288.000000  13288.000000  13288.000000  855969.000000  \n",
       "mean       0.947772      1.524232      1.841963       0.054286  \n",
       "std        1.441667      2.697601      2.975049       0.226581  \n",
       "min        0.000000      0.000000     -4.000000       0.000000  \n",
       "25%        0.000000      0.000000      0.000000       0.000000  \n",
       "50%        0.000000      0.000000      2.000000       0.000000  \n",
       "75%        1.000000      2.000000      3.000000       0.000000  \n",
       "max       15.000000     33.000000     32.000000       1.000000  \n",
       "\n",
       "[8 rows x 52 columns]"
      ]
     },
     "execution_count": 24,
     "metadata": {},
     "output_type": "execute_result"
    }
   ],
   "source": [
    "lcd.describe()"
   ]
  },
  {
   "cell_type": "code",
   "execution_count": 32,
   "metadata": {},
   "outputs": [
    {
     "data": {
      "text/plain": [
       "Index(['id', 'member_id', 'loan_amnt', 'funded_amnt', 'funded_amnt_inv',\n",
       "       'term', 'int_rate', 'installment', 'grade', 'sub_grade', 'emp_title',\n",
       "       'emp_length', 'home_ownership', 'annual_inc', 'verification_status',\n",
       "       'issue_d', 'pymnt_plan', 'desc', 'purpose', 'title', 'zip_code',\n",
       "       'addr_state', 'dti', 'delinq_2yrs', 'earliest_cr_line',\n",
       "       'inq_last_6mths', 'mths_since_last_delinq', 'mths_since_last_record',\n",
       "       'open_acc', 'pub_rec', 'revol_bal', 'revol_util', 'total_acc',\n",
       "       'initial_list_status', 'out_prncp', 'out_prncp_inv', 'total_pymnt',\n",
       "       'total_pymnt_inv', 'total_rec_prncp', 'total_rec_int',\n",
       "       'total_rec_late_fee', 'recoveries', 'collection_recovery_fee',\n",
       "       'last_pymnt_d', 'last_pymnt_amnt', 'next_pymnt_d', 'last_credit_pull_d',\n",
       "       'collections_12_mths_ex_med', 'mths_since_last_major_derog',\n",
       "       'policy_code', 'application_type', 'annual_inc_joint', 'dti_joint',\n",
       "       'verification_status_joint', 'acc_now_delinq', 'tot_coll_amt',\n",
       "       'tot_cur_bal', 'open_acc_6m', 'open_il_6m', 'open_il_12m',\n",
       "       'open_il_24m', 'mths_since_rcnt_il', 'total_bal_il', 'il_util',\n",
       "       'open_rv_12m', 'open_rv_24m', 'max_bal_bc', 'all_util',\n",
       "       'total_rev_hi_lim', 'inq_fi', 'total_cu_tl', 'inq_last_12m',\n",
       "       'default_ind'],\n",
       "      dtype='object')"
      ]
     },
     "execution_count": 32,
     "metadata": {},
     "output_type": "execute_result"
    }
   ],
   "source": [
    "lcd.columns"
   ]
  },
  {
   "cell_type": "code",
   "execution_count": 36,
   "metadata": {},
   "outputs": [],
   "source": [
    "# renaming the column 'default_ind' as 'loan_status' for better readibility\n",
    "lcd.rename(columns={'default_ind':'loan_status'},inplace = True)"
   ]
  },
  {
   "cell_type": "code",
   "execution_count": 40,
   "metadata": {},
   "outputs": [
    {
     "data": {
      "text/plain": [
       "0    809502\n",
       "1     46467\n",
       "Name: loan_status, dtype: int64"
      ]
     },
     "execution_count": 40,
     "metadata": {},
     "output_type": "execute_result"
    }
   ],
   "source": [
    "lcd.loan_status.value_counts()"
   ]
  },
  {
   "cell_type": "markdown",
   "metadata": {},
   "source": [
    "### Clearly a class imbalance dataset"
   ]
  },
  {
   "cell_type": "markdown",
   "metadata": {},
   "source": [
    "## Understanding the data through its data dictionary"
   ]
  },
  {
   "cell_type": "code",
   "execution_count": 42,
   "metadata": {},
   "outputs": [
    {
     "data": {
      "text/html": [
       "<style  type=\"text/css\" >\n",
       "    #T_49fbadae_1697_11ea_815b_74e6e2241a6arow0_col1 {\n",
       "            width:  1000px;\n",
       "        }    #T_49fbadae_1697_11ea_815b_74e6e2241a6arow1_col1 {\n",
       "            width:  1000px;\n",
       "        }    #T_49fbadae_1697_11ea_815b_74e6e2241a6arow2_col1 {\n",
       "            width:  1000px;\n",
       "        }    #T_49fbadae_1697_11ea_815b_74e6e2241a6arow3_col1 {\n",
       "            width:  1000px;\n",
       "        }    #T_49fbadae_1697_11ea_815b_74e6e2241a6arow4_col1 {\n",
       "            width:  1000px;\n",
       "        }    #T_49fbadae_1697_11ea_815b_74e6e2241a6arow5_col1 {\n",
       "            width:  1000px;\n",
       "        }    #T_49fbadae_1697_11ea_815b_74e6e2241a6arow6_col1 {\n",
       "            width:  1000px;\n",
       "        }    #T_49fbadae_1697_11ea_815b_74e6e2241a6arow7_col1 {\n",
       "            width:  1000px;\n",
       "        }    #T_49fbadae_1697_11ea_815b_74e6e2241a6arow8_col1 {\n",
       "            width:  1000px;\n",
       "        }    #T_49fbadae_1697_11ea_815b_74e6e2241a6arow9_col1 {\n",
       "            width:  1000px;\n",
       "        }    #T_49fbadae_1697_11ea_815b_74e6e2241a6arow10_col1 {\n",
       "            width:  1000px;\n",
       "        }    #T_49fbadae_1697_11ea_815b_74e6e2241a6arow11_col1 {\n",
       "            width:  1000px;\n",
       "        }    #T_49fbadae_1697_11ea_815b_74e6e2241a6arow12_col1 {\n",
       "            width:  1000px;\n",
       "        }    #T_49fbadae_1697_11ea_815b_74e6e2241a6arow13_col1 {\n",
       "            width:  1000px;\n",
       "        }    #T_49fbadae_1697_11ea_815b_74e6e2241a6arow14_col1 {\n",
       "            width:  1000px;\n",
       "        }    #T_49fbadae_1697_11ea_815b_74e6e2241a6arow15_col1 {\n",
       "            width:  1000px;\n",
       "        }    #T_49fbadae_1697_11ea_815b_74e6e2241a6arow16_col1 {\n",
       "            width:  1000px;\n",
       "        }    #T_49fbadae_1697_11ea_815b_74e6e2241a6arow17_col1 {\n",
       "            width:  1000px;\n",
       "        }    #T_49fbadae_1697_11ea_815b_74e6e2241a6arow18_col1 {\n",
       "            width:  1000px;\n",
       "        }    #T_49fbadae_1697_11ea_815b_74e6e2241a6arow19_col1 {\n",
       "            width:  1000px;\n",
       "        }    #T_49fbadae_1697_11ea_815b_74e6e2241a6arow20_col1 {\n",
       "            width:  1000px;\n",
       "        }    #T_49fbadae_1697_11ea_815b_74e6e2241a6arow21_col1 {\n",
       "            width:  1000px;\n",
       "        }    #T_49fbadae_1697_11ea_815b_74e6e2241a6arow22_col1 {\n",
       "            width:  1000px;\n",
       "        }    #T_49fbadae_1697_11ea_815b_74e6e2241a6arow23_col1 {\n",
       "            width:  1000px;\n",
       "        }    #T_49fbadae_1697_11ea_815b_74e6e2241a6arow24_col1 {\n",
       "            width:  1000px;\n",
       "        }    #T_49fbadae_1697_11ea_815b_74e6e2241a6arow25_col1 {\n",
       "            width:  1000px;\n",
       "        }    #T_49fbadae_1697_11ea_815b_74e6e2241a6arow26_col1 {\n",
       "            width:  1000px;\n",
       "        }    #T_49fbadae_1697_11ea_815b_74e6e2241a6arow27_col1 {\n",
       "            width:  1000px;\n",
       "        }    #T_49fbadae_1697_11ea_815b_74e6e2241a6arow28_col1 {\n",
       "            width:  1000px;\n",
       "        }    #T_49fbadae_1697_11ea_815b_74e6e2241a6arow29_col1 {\n",
       "            width:  1000px;\n",
       "        }    #T_49fbadae_1697_11ea_815b_74e6e2241a6arow30_col1 {\n",
       "            width:  1000px;\n",
       "        }    #T_49fbadae_1697_11ea_815b_74e6e2241a6arow31_col1 {\n",
       "            width:  1000px;\n",
       "        }    #T_49fbadae_1697_11ea_815b_74e6e2241a6arow32_col1 {\n",
       "            width:  1000px;\n",
       "        }    #T_49fbadae_1697_11ea_815b_74e6e2241a6arow33_col1 {\n",
       "            width:  1000px;\n",
       "        }    #T_49fbadae_1697_11ea_815b_74e6e2241a6arow34_col1 {\n",
       "            width:  1000px;\n",
       "        }    #T_49fbadae_1697_11ea_815b_74e6e2241a6arow35_col1 {\n",
       "            width:  1000px;\n",
       "        }    #T_49fbadae_1697_11ea_815b_74e6e2241a6arow36_col1 {\n",
       "            width:  1000px;\n",
       "        }    #T_49fbadae_1697_11ea_815b_74e6e2241a6arow37_col1 {\n",
       "            width:  1000px;\n",
       "        }    #T_49fbadae_1697_11ea_815b_74e6e2241a6arow38_col1 {\n",
       "            width:  1000px;\n",
       "        }    #T_49fbadae_1697_11ea_815b_74e6e2241a6arow39_col1 {\n",
       "            width:  1000px;\n",
       "        }    #T_49fbadae_1697_11ea_815b_74e6e2241a6arow40_col1 {\n",
       "            width:  1000px;\n",
       "        }    #T_49fbadae_1697_11ea_815b_74e6e2241a6arow41_col1 {\n",
       "            width:  1000px;\n",
       "        }    #T_49fbadae_1697_11ea_815b_74e6e2241a6arow42_col1 {\n",
       "            width:  1000px;\n",
       "        }    #T_49fbadae_1697_11ea_815b_74e6e2241a6arow43_col1 {\n",
       "            width:  1000px;\n",
       "        }    #T_49fbadae_1697_11ea_815b_74e6e2241a6arow44_col1 {\n",
       "            width:  1000px;\n",
       "        }    #T_49fbadae_1697_11ea_815b_74e6e2241a6arow45_col1 {\n",
       "            width:  1000px;\n",
       "        }    #T_49fbadae_1697_11ea_815b_74e6e2241a6arow46_col1 {\n",
       "            width:  1000px;\n",
       "        }    #T_49fbadae_1697_11ea_815b_74e6e2241a6arow47_col1 {\n",
       "            width:  1000px;\n",
       "        }    #T_49fbadae_1697_11ea_815b_74e6e2241a6arow48_col1 {\n",
       "            width:  1000px;\n",
       "        }    #T_49fbadae_1697_11ea_815b_74e6e2241a6arow49_col1 {\n",
       "            width:  1000px;\n",
       "        }    #T_49fbadae_1697_11ea_815b_74e6e2241a6arow50_col1 {\n",
       "            width:  1000px;\n",
       "        }    #T_49fbadae_1697_11ea_815b_74e6e2241a6arow51_col1 {\n",
       "            width:  1000px;\n",
       "        }    #T_49fbadae_1697_11ea_815b_74e6e2241a6arow52_col1 {\n",
       "            width:  1000px;\n",
       "        }    #T_49fbadae_1697_11ea_815b_74e6e2241a6arow53_col1 {\n",
       "            width:  1000px;\n",
       "        }    #T_49fbadae_1697_11ea_815b_74e6e2241a6arow54_col1 {\n",
       "            width:  1000px;\n",
       "        }    #T_49fbadae_1697_11ea_815b_74e6e2241a6arow55_col1 {\n",
       "            width:  1000px;\n",
       "        }    #T_49fbadae_1697_11ea_815b_74e6e2241a6arow56_col1 {\n",
       "            width:  1000px;\n",
       "        }    #T_49fbadae_1697_11ea_815b_74e6e2241a6arow57_col1 {\n",
       "            width:  1000px;\n",
       "        }    #T_49fbadae_1697_11ea_815b_74e6e2241a6arow58_col1 {\n",
       "            width:  1000px;\n",
       "        }    #T_49fbadae_1697_11ea_815b_74e6e2241a6arow59_col1 {\n",
       "            width:  1000px;\n",
       "        }    #T_49fbadae_1697_11ea_815b_74e6e2241a6arow60_col1 {\n",
       "            width:  1000px;\n",
       "        }    #T_49fbadae_1697_11ea_815b_74e6e2241a6arow61_col1 {\n",
       "            width:  1000px;\n",
       "        }    #T_49fbadae_1697_11ea_815b_74e6e2241a6arow62_col1 {\n",
       "            width:  1000px;\n",
       "        }    #T_49fbadae_1697_11ea_815b_74e6e2241a6arow63_col1 {\n",
       "            width:  1000px;\n",
       "        }    #T_49fbadae_1697_11ea_815b_74e6e2241a6arow64_col1 {\n",
       "            width:  1000px;\n",
       "        }    #T_49fbadae_1697_11ea_815b_74e6e2241a6arow65_col1 {\n",
       "            width:  1000px;\n",
       "        }    #T_49fbadae_1697_11ea_815b_74e6e2241a6arow66_col1 {\n",
       "            width:  1000px;\n",
       "        }    #T_49fbadae_1697_11ea_815b_74e6e2241a6arow67_col1 {\n",
       "            width:  1000px;\n",
       "        }    #T_49fbadae_1697_11ea_815b_74e6e2241a6arow68_col1 {\n",
       "            width:  1000px;\n",
       "        }    #T_49fbadae_1697_11ea_815b_74e6e2241a6arow69_col1 {\n",
       "            width:  1000px;\n",
       "        }    #T_49fbadae_1697_11ea_815b_74e6e2241a6arow70_col1 {\n",
       "            width:  1000px;\n",
       "        }    #T_49fbadae_1697_11ea_815b_74e6e2241a6arow71_col1 {\n",
       "            width:  1000px;\n",
       "        }    #T_49fbadae_1697_11ea_815b_74e6e2241a6arow72_col1 {\n",
       "            width:  1000px;\n",
       "        }</style><table id=\"T_49fbadae_1697_11ea_815b_74e6e2241a6a\" ><thead>    <tr>        <th class=\"blank level0\" ></th>        <th class=\"col_heading level0 col0\" >LoanStatNew</th>        <th class=\"col_heading level0 col1\" >Description</th>    </tr></thead><tbody>\n",
       "                <tr>\n",
       "                        <th id=\"T_49fbadae_1697_11ea_815b_74e6e2241a6alevel0_row0\" class=\"row_heading level0 row0\" >0</th>\n",
       "                        <td id=\"T_49fbadae_1697_11ea_815b_74e6e2241a6arow0_col0\" class=\"data row0 col0\" >addr_state</td>\n",
       "                        <td id=\"T_49fbadae_1697_11ea_815b_74e6e2241a6arow0_col1\" class=\"data row0 col1\" >The state provided by the borrower in the loan application</td>\n",
       "            </tr>\n",
       "            <tr>\n",
       "                        <th id=\"T_49fbadae_1697_11ea_815b_74e6e2241a6alevel0_row1\" class=\"row_heading level0 row1\" >1</th>\n",
       "                        <td id=\"T_49fbadae_1697_11ea_815b_74e6e2241a6arow1_col0\" class=\"data row1 col0\" >annual_inc</td>\n",
       "                        <td id=\"T_49fbadae_1697_11ea_815b_74e6e2241a6arow1_col1\" class=\"data row1 col1\" >The self-reported annual income provided by the borrower during registration.</td>\n",
       "            </tr>\n",
       "            <tr>\n",
       "                        <th id=\"T_49fbadae_1697_11ea_815b_74e6e2241a6alevel0_row2\" class=\"row_heading level0 row2\" >2</th>\n",
       "                        <td id=\"T_49fbadae_1697_11ea_815b_74e6e2241a6arow2_col0\" class=\"data row2 col0\" >annual_inc_joint</td>\n",
       "                        <td id=\"T_49fbadae_1697_11ea_815b_74e6e2241a6arow2_col1\" class=\"data row2 col1\" >The combined self-reported annual income provided by the co-borrowers during registration</td>\n",
       "            </tr>\n",
       "            <tr>\n",
       "                        <th id=\"T_49fbadae_1697_11ea_815b_74e6e2241a6alevel0_row3\" class=\"row_heading level0 row3\" >3</th>\n",
       "                        <td id=\"T_49fbadae_1697_11ea_815b_74e6e2241a6arow3_col0\" class=\"data row3 col0\" >application_type</td>\n",
       "                        <td id=\"T_49fbadae_1697_11ea_815b_74e6e2241a6arow3_col1\" class=\"data row3 col1\" >Indicates whether the loan is an individual application or a joint application with two co-borrowers</td>\n",
       "            </tr>\n",
       "            <tr>\n",
       "                        <th id=\"T_49fbadae_1697_11ea_815b_74e6e2241a6alevel0_row4\" class=\"row_heading level0 row4\" >4</th>\n",
       "                        <td id=\"T_49fbadae_1697_11ea_815b_74e6e2241a6arow4_col0\" class=\"data row4 col0\" >collection_recovery_fee</td>\n",
       "                        <td id=\"T_49fbadae_1697_11ea_815b_74e6e2241a6arow4_col1\" class=\"data row4 col1\" >post charge off collection fee</td>\n",
       "            </tr>\n",
       "            <tr>\n",
       "                        <th id=\"T_49fbadae_1697_11ea_815b_74e6e2241a6alevel0_row5\" class=\"row_heading level0 row5\" >5</th>\n",
       "                        <td id=\"T_49fbadae_1697_11ea_815b_74e6e2241a6arow5_col0\" class=\"data row5 col0\" >collections_12_mths_ex_med</td>\n",
       "                        <td id=\"T_49fbadae_1697_11ea_815b_74e6e2241a6arow5_col1\" class=\"data row5 col1\" >Number of collections in 12 months excluding medical collections</td>\n",
       "            </tr>\n",
       "            <tr>\n",
       "                        <th id=\"T_49fbadae_1697_11ea_815b_74e6e2241a6alevel0_row6\" class=\"row_heading level0 row6\" >6</th>\n",
       "                        <td id=\"T_49fbadae_1697_11ea_815b_74e6e2241a6arow6_col0\" class=\"data row6 col0\" >delinq_2yrs</td>\n",
       "                        <td id=\"T_49fbadae_1697_11ea_815b_74e6e2241a6arow6_col1\" class=\"data row6 col1\" >The number of 30+ days past-due incidences of delinquency in the borrower's credit file for the past 2 years</td>\n",
       "            </tr>\n",
       "            <tr>\n",
       "                        <th id=\"T_49fbadae_1697_11ea_815b_74e6e2241a6alevel0_row7\" class=\"row_heading level0 row7\" >7</th>\n",
       "                        <td id=\"T_49fbadae_1697_11ea_815b_74e6e2241a6arow7_col0\" class=\"data row7 col0\" >desc</td>\n",
       "                        <td id=\"T_49fbadae_1697_11ea_815b_74e6e2241a6arow7_col1\" class=\"data row7 col1\" >Loan description provided by the borrower</td>\n",
       "            </tr>\n",
       "            <tr>\n",
       "                        <th id=\"T_49fbadae_1697_11ea_815b_74e6e2241a6alevel0_row8\" class=\"row_heading level0 row8\" >8</th>\n",
       "                        <td id=\"T_49fbadae_1697_11ea_815b_74e6e2241a6arow8_col0\" class=\"data row8 col0\" >dti</td>\n",
       "                        <td id=\"T_49fbadae_1697_11ea_815b_74e6e2241a6arow8_col1\" class=\"data row8 col1\" >A ratio calculated using the borrower’s total monthly debt payments on the total debt obligations, excluding mortgage and the requested loan, divided by the borrower’s self-reported monthly income.</td>\n",
       "            </tr>\n",
       "            <tr>\n",
       "                        <th id=\"T_49fbadae_1697_11ea_815b_74e6e2241a6alevel0_row9\" class=\"row_heading level0 row9\" >9</th>\n",
       "                        <td id=\"T_49fbadae_1697_11ea_815b_74e6e2241a6arow9_col0\" class=\"data row9 col0\" >dti_joint</td>\n",
       "                        <td id=\"T_49fbadae_1697_11ea_815b_74e6e2241a6arow9_col1\" class=\"data row9 col1\" >A ratio calculated using the co-borrowers' total monthly payments on the total debt obligations, excluding mortgages and the requested loan, divided by the co-borrowers' combined self-reported monthly income</td>\n",
       "            </tr>\n",
       "            <tr>\n",
       "                        <th id=\"T_49fbadae_1697_11ea_815b_74e6e2241a6alevel0_row10\" class=\"row_heading level0 row10\" >10</th>\n",
       "                        <td id=\"T_49fbadae_1697_11ea_815b_74e6e2241a6arow10_col0\" class=\"data row10 col0\" >earliest_cr_line</td>\n",
       "                        <td id=\"T_49fbadae_1697_11ea_815b_74e6e2241a6arow10_col1\" class=\"data row10 col1\" >The month the borrower's earliest reported credit line was opened</td>\n",
       "            </tr>\n",
       "            <tr>\n",
       "                        <th id=\"T_49fbadae_1697_11ea_815b_74e6e2241a6alevel0_row11\" class=\"row_heading level0 row11\" >11</th>\n",
       "                        <td id=\"T_49fbadae_1697_11ea_815b_74e6e2241a6arow11_col0\" class=\"data row11 col0\" >emp_length</td>\n",
       "                        <td id=\"T_49fbadae_1697_11ea_815b_74e6e2241a6arow11_col1\" class=\"data row11 col1\" >Employment length in years. Possible values are between 0 and 10 where 0 means less than one year and 10 means ten or more years. </td>\n",
       "            </tr>\n",
       "            <tr>\n",
       "                        <th id=\"T_49fbadae_1697_11ea_815b_74e6e2241a6alevel0_row12\" class=\"row_heading level0 row12\" >12</th>\n",
       "                        <td id=\"T_49fbadae_1697_11ea_815b_74e6e2241a6arow12_col0\" class=\"data row12 col0\" >emp_title</td>\n",
       "                        <td id=\"T_49fbadae_1697_11ea_815b_74e6e2241a6arow12_col1\" class=\"data row12 col1\" >The job title supplied by the Borrower when applying for the loan.</td>\n",
       "            </tr>\n",
       "            <tr>\n",
       "                        <th id=\"T_49fbadae_1697_11ea_815b_74e6e2241a6alevel0_row13\" class=\"row_heading level0 row13\" >13</th>\n",
       "                        <td id=\"T_49fbadae_1697_11ea_815b_74e6e2241a6arow13_col0\" class=\"data row13 col0\" >funded_amnt</td>\n",
       "                        <td id=\"T_49fbadae_1697_11ea_815b_74e6e2241a6arow13_col1\" class=\"data row13 col1\" >The total amount committed to that loan at that point in time.</td>\n",
       "            </tr>\n",
       "            <tr>\n",
       "                        <th id=\"T_49fbadae_1697_11ea_815b_74e6e2241a6alevel0_row14\" class=\"row_heading level0 row14\" >14</th>\n",
       "                        <td id=\"T_49fbadae_1697_11ea_815b_74e6e2241a6arow14_col0\" class=\"data row14 col0\" >funded_amnt_inv</td>\n",
       "                        <td id=\"T_49fbadae_1697_11ea_815b_74e6e2241a6arow14_col1\" class=\"data row14 col1\" >The total amount committed by investors for that loan at that point in time.</td>\n",
       "            </tr>\n",
       "            <tr>\n",
       "                        <th id=\"T_49fbadae_1697_11ea_815b_74e6e2241a6alevel0_row15\" class=\"row_heading level0 row15\" >15</th>\n",
       "                        <td id=\"T_49fbadae_1697_11ea_815b_74e6e2241a6arow15_col0\" class=\"data row15 col0\" >grade</td>\n",
       "                        <td id=\"T_49fbadae_1697_11ea_815b_74e6e2241a6arow15_col1\" class=\"data row15 col1\" >XYZ corp. assigned loan grade</td>\n",
       "            </tr>\n",
       "            <tr>\n",
       "                        <th id=\"T_49fbadae_1697_11ea_815b_74e6e2241a6alevel0_row16\" class=\"row_heading level0 row16\" >16</th>\n",
       "                        <td id=\"T_49fbadae_1697_11ea_815b_74e6e2241a6arow16_col0\" class=\"data row16 col0\" >home_ownership</td>\n",
       "                        <td id=\"T_49fbadae_1697_11ea_815b_74e6e2241a6arow16_col1\" class=\"data row16 col1\" >The home ownership status provided by the borrower during registration. Our values are: RENT, OWN, MORTGAGE, OTHER.</td>\n",
       "            </tr>\n",
       "            <tr>\n",
       "                        <th id=\"T_49fbadae_1697_11ea_815b_74e6e2241a6alevel0_row17\" class=\"row_heading level0 row17\" >17</th>\n",
       "                        <td id=\"T_49fbadae_1697_11ea_815b_74e6e2241a6arow17_col0\" class=\"data row17 col0\" >id</td>\n",
       "                        <td id=\"T_49fbadae_1697_11ea_815b_74e6e2241a6arow17_col1\" class=\"data row17 col1\" >A unique assigned ID for the loan listing.</td>\n",
       "            </tr>\n",
       "            <tr>\n",
       "                        <th id=\"T_49fbadae_1697_11ea_815b_74e6e2241a6alevel0_row18\" class=\"row_heading level0 row18\" >18</th>\n",
       "                        <td id=\"T_49fbadae_1697_11ea_815b_74e6e2241a6arow18_col0\" class=\"data row18 col0\" >initial_list_status</td>\n",
       "                        <td id=\"T_49fbadae_1697_11ea_815b_74e6e2241a6arow18_col1\" class=\"data row18 col1\" >The initial listing status of the loan. Possible values are – W, F</td>\n",
       "            </tr>\n",
       "            <tr>\n",
       "                        <th id=\"T_49fbadae_1697_11ea_815b_74e6e2241a6alevel0_row19\" class=\"row_heading level0 row19\" >19</th>\n",
       "                        <td id=\"T_49fbadae_1697_11ea_815b_74e6e2241a6arow19_col0\" class=\"data row19 col0\" >inq_last_6mths</td>\n",
       "                        <td id=\"T_49fbadae_1697_11ea_815b_74e6e2241a6arow19_col1\" class=\"data row19 col1\" >The number of inquiries in past 6 months (excluding auto and mortgage inquiries)</td>\n",
       "            </tr>\n",
       "            <tr>\n",
       "                        <th id=\"T_49fbadae_1697_11ea_815b_74e6e2241a6alevel0_row20\" class=\"row_heading level0 row20\" >20</th>\n",
       "                        <td id=\"T_49fbadae_1697_11ea_815b_74e6e2241a6arow20_col0\" class=\"data row20 col0\" >installment</td>\n",
       "                        <td id=\"T_49fbadae_1697_11ea_815b_74e6e2241a6arow20_col1\" class=\"data row20 col1\" >The monthly payment owed by the borrower if the loan originates.</td>\n",
       "            </tr>\n",
       "            <tr>\n",
       "                        <th id=\"T_49fbadae_1697_11ea_815b_74e6e2241a6alevel0_row21\" class=\"row_heading level0 row21\" >21</th>\n",
       "                        <td id=\"T_49fbadae_1697_11ea_815b_74e6e2241a6arow21_col0\" class=\"data row21 col0\" >int_rate</td>\n",
       "                        <td id=\"T_49fbadae_1697_11ea_815b_74e6e2241a6arow21_col1\" class=\"data row21 col1\" >Interest Rate on the loan</td>\n",
       "            </tr>\n",
       "            <tr>\n",
       "                        <th id=\"T_49fbadae_1697_11ea_815b_74e6e2241a6alevel0_row22\" class=\"row_heading level0 row22\" >22</th>\n",
       "                        <td id=\"T_49fbadae_1697_11ea_815b_74e6e2241a6arow22_col0\" class=\"data row22 col0\" >issue_d</td>\n",
       "                        <td id=\"T_49fbadae_1697_11ea_815b_74e6e2241a6arow22_col1\" class=\"data row22 col1\" >The month which the loan was funded</td>\n",
       "            </tr>\n",
       "            <tr>\n",
       "                        <th id=\"T_49fbadae_1697_11ea_815b_74e6e2241a6alevel0_row23\" class=\"row_heading level0 row23\" >23</th>\n",
       "                        <td id=\"T_49fbadae_1697_11ea_815b_74e6e2241a6arow23_col0\" class=\"data row23 col0\" >last_credit_pull_d</td>\n",
       "                        <td id=\"T_49fbadae_1697_11ea_815b_74e6e2241a6arow23_col1\" class=\"data row23 col1\" >The most recent month XYZ corp. pulled credit for this loan</td>\n",
       "            </tr>\n",
       "            <tr>\n",
       "                        <th id=\"T_49fbadae_1697_11ea_815b_74e6e2241a6alevel0_row24\" class=\"row_heading level0 row24\" >24</th>\n",
       "                        <td id=\"T_49fbadae_1697_11ea_815b_74e6e2241a6arow24_col0\" class=\"data row24 col0\" >last_pymnt_amnt</td>\n",
       "                        <td id=\"T_49fbadae_1697_11ea_815b_74e6e2241a6arow24_col1\" class=\"data row24 col1\" >Last total payment amount received</td>\n",
       "            </tr>\n",
       "            <tr>\n",
       "                        <th id=\"T_49fbadae_1697_11ea_815b_74e6e2241a6alevel0_row25\" class=\"row_heading level0 row25\" >25</th>\n",
       "                        <td id=\"T_49fbadae_1697_11ea_815b_74e6e2241a6arow25_col0\" class=\"data row25 col0\" >last_pymnt_d</td>\n",
       "                        <td id=\"T_49fbadae_1697_11ea_815b_74e6e2241a6arow25_col1\" class=\"data row25 col1\" >Last month payment was received</td>\n",
       "            </tr>\n",
       "            <tr>\n",
       "                        <th id=\"T_49fbadae_1697_11ea_815b_74e6e2241a6alevel0_row26\" class=\"row_heading level0 row26\" >26</th>\n",
       "                        <td id=\"T_49fbadae_1697_11ea_815b_74e6e2241a6arow26_col0\" class=\"data row26 col0\" >loan_amnt</td>\n",
       "                        <td id=\"T_49fbadae_1697_11ea_815b_74e6e2241a6arow26_col1\" class=\"data row26 col1\" >The listed amount of the loan applied for by the borrower. If at some point in time, the credit department reduces the loan amount, then it will be reflected in this value.</td>\n",
       "            </tr>\n",
       "            <tr>\n",
       "                        <th id=\"T_49fbadae_1697_11ea_815b_74e6e2241a6alevel0_row27\" class=\"row_heading level0 row27\" >27</th>\n",
       "                        <td id=\"T_49fbadae_1697_11ea_815b_74e6e2241a6arow27_col0\" class=\"data row27 col0\" >loan_status</td>\n",
       "                        <td id=\"T_49fbadae_1697_11ea_815b_74e6e2241a6arow27_col1\" class=\"data row27 col1\" >Current status of the loan</td>\n",
       "            </tr>\n",
       "            <tr>\n",
       "                        <th id=\"T_49fbadae_1697_11ea_815b_74e6e2241a6alevel0_row28\" class=\"row_heading level0 row28\" >28</th>\n",
       "                        <td id=\"T_49fbadae_1697_11ea_815b_74e6e2241a6arow28_col0\" class=\"data row28 col0\" >member_id</td>\n",
       "                        <td id=\"T_49fbadae_1697_11ea_815b_74e6e2241a6arow28_col1\" class=\"data row28 col1\" >A unique Id for the borrower member.</td>\n",
       "            </tr>\n",
       "            <tr>\n",
       "                        <th id=\"T_49fbadae_1697_11ea_815b_74e6e2241a6alevel0_row29\" class=\"row_heading level0 row29\" >29</th>\n",
       "                        <td id=\"T_49fbadae_1697_11ea_815b_74e6e2241a6arow29_col0\" class=\"data row29 col0\" >mths_since_last_delinq</td>\n",
       "                        <td id=\"T_49fbadae_1697_11ea_815b_74e6e2241a6arow29_col1\" class=\"data row29 col1\" >The number of months since the borrower's last delinquency.</td>\n",
       "            </tr>\n",
       "            <tr>\n",
       "                        <th id=\"T_49fbadae_1697_11ea_815b_74e6e2241a6alevel0_row30\" class=\"row_heading level0 row30\" >30</th>\n",
       "                        <td id=\"T_49fbadae_1697_11ea_815b_74e6e2241a6arow30_col0\" class=\"data row30 col0\" >mths_since_last_major_derog</td>\n",
       "                        <td id=\"T_49fbadae_1697_11ea_815b_74e6e2241a6arow30_col1\" class=\"data row30 col1\" >Months since most recent 90-day or worse rating</td>\n",
       "            </tr>\n",
       "            <tr>\n",
       "                        <th id=\"T_49fbadae_1697_11ea_815b_74e6e2241a6alevel0_row31\" class=\"row_heading level0 row31\" >31</th>\n",
       "                        <td id=\"T_49fbadae_1697_11ea_815b_74e6e2241a6arow31_col0\" class=\"data row31 col0\" >mths_since_last_record</td>\n",
       "                        <td id=\"T_49fbadae_1697_11ea_815b_74e6e2241a6arow31_col1\" class=\"data row31 col1\" >The number of months since the last public record.</td>\n",
       "            </tr>\n",
       "            <tr>\n",
       "                        <th id=\"T_49fbadae_1697_11ea_815b_74e6e2241a6alevel0_row32\" class=\"row_heading level0 row32\" >32</th>\n",
       "                        <td id=\"T_49fbadae_1697_11ea_815b_74e6e2241a6arow32_col0\" class=\"data row32 col0\" >next_pymnt_d</td>\n",
       "                        <td id=\"T_49fbadae_1697_11ea_815b_74e6e2241a6arow32_col1\" class=\"data row32 col1\" >Next scheduled payment date</td>\n",
       "            </tr>\n",
       "            <tr>\n",
       "                        <th id=\"T_49fbadae_1697_11ea_815b_74e6e2241a6alevel0_row33\" class=\"row_heading level0 row33\" >33</th>\n",
       "                        <td id=\"T_49fbadae_1697_11ea_815b_74e6e2241a6arow33_col0\" class=\"data row33 col0\" >open_acc</td>\n",
       "                        <td id=\"T_49fbadae_1697_11ea_815b_74e6e2241a6arow33_col1\" class=\"data row33 col1\" >The number of open credit lines in the borrower's credit file.</td>\n",
       "            </tr>\n",
       "            <tr>\n",
       "                        <th id=\"T_49fbadae_1697_11ea_815b_74e6e2241a6alevel0_row34\" class=\"row_heading level0 row34\" >34</th>\n",
       "                        <td id=\"T_49fbadae_1697_11ea_815b_74e6e2241a6arow34_col0\" class=\"data row34 col0\" >out_prncp</td>\n",
       "                        <td id=\"T_49fbadae_1697_11ea_815b_74e6e2241a6arow34_col1\" class=\"data row34 col1\" >Remaining outstanding principal for total amount funded</td>\n",
       "            </tr>\n",
       "            <tr>\n",
       "                        <th id=\"T_49fbadae_1697_11ea_815b_74e6e2241a6alevel0_row35\" class=\"row_heading level0 row35\" >35</th>\n",
       "                        <td id=\"T_49fbadae_1697_11ea_815b_74e6e2241a6arow35_col0\" class=\"data row35 col0\" >out_prncp_inv</td>\n",
       "                        <td id=\"T_49fbadae_1697_11ea_815b_74e6e2241a6arow35_col1\" class=\"data row35 col1\" >Remaining outstanding principal for portion of total amount funded by investors</td>\n",
       "            </tr>\n",
       "            <tr>\n",
       "                        <th id=\"T_49fbadae_1697_11ea_815b_74e6e2241a6alevel0_row36\" class=\"row_heading level0 row36\" >36</th>\n",
       "                        <td id=\"T_49fbadae_1697_11ea_815b_74e6e2241a6arow36_col0\" class=\"data row36 col0\" >policy_code</td>\n",
       "                        <td id=\"T_49fbadae_1697_11ea_815b_74e6e2241a6arow36_col1\" class=\"data row36 col1\" >publicly available policy_code=1\n",
       "new products not publicly available policy_code=2</td>\n",
       "            </tr>\n",
       "            <tr>\n",
       "                        <th id=\"T_49fbadae_1697_11ea_815b_74e6e2241a6alevel0_row37\" class=\"row_heading level0 row37\" >37</th>\n",
       "                        <td id=\"T_49fbadae_1697_11ea_815b_74e6e2241a6arow37_col0\" class=\"data row37 col0\" >pub_rec</td>\n",
       "                        <td id=\"T_49fbadae_1697_11ea_815b_74e6e2241a6arow37_col1\" class=\"data row37 col1\" >Number of derogatory public records</td>\n",
       "            </tr>\n",
       "            <tr>\n",
       "                        <th id=\"T_49fbadae_1697_11ea_815b_74e6e2241a6alevel0_row38\" class=\"row_heading level0 row38\" >38</th>\n",
       "                        <td id=\"T_49fbadae_1697_11ea_815b_74e6e2241a6arow38_col0\" class=\"data row38 col0\" >purpose</td>\n",
       "                        <td id=\"T_49fbadae_1697_11ea_815b_74e6e2241a6arow38_col1\" class=\"data row38 col1\" >A category provided by the borrower for the loan request. </td>\n",
       "            </tr>\n",
       "            <tr>\n",
       "                        <th id=\"T_49fbadae_1697_11ea_815b_74e6e2241a6alevel0_row39\" class=\"row_heading level0 row39\" >39</th>\n",
       "                        <td id=\"T_49fbadae_1697_11ea_815b_74e6e2241a6arow39_col0\" class=\"data row39 col0\" >pymnt_plan</td>\n",
       "                        <td id=\"T_49fbadae_1697_11ea_815b_74e6e2241a6arow39_col1\" class=\"data row39 col1\" >Indicates if a payment plan has been put in place for the loan</td>\n",
       "            </tr>\n",
       "            <tr>\n",
       "                        <th id=\"T_49fbadae_1697_11ea_815b_74e6e2241a6alevel0_row40\" class=\"row_heading level0 row40\" >40</th>\n",
       "                        <td id=\"T_49fbadae_1697_11ea_815b_74e6e2241a6arow40_col0\" class=\"data row40 col0\" >recoveries</td>\n",
       "                        <td id=\"T_49fbadae_1697_11ea_815b_74e6e2241a6arow40_col1\" class=\"data row40 col1\" >post charge off gross recovery</td>\n",
       "            </tr>\n",
       "            <tr>\n",
       "                        <th id=\"T_49fbadae_1697_11ea_815b_74e6e2241a6alevel0_row41\" class=\"row_heading level0 row41\" >41</th>\n",
       "                        <td id=\"T_49fbadae_1697_11ea_815b_74e6e2241a6arow41_col0\" class=\"data row41 col0\" >revol_bal</td>\n",
       "                        <td id=\"T_49fbadae_1697_11ea_815b_74e6e2241a6arow41_col1\" class=\"data row41 col1\" >Total credit revolving balance</td>\n",
       "            </tr>\n",
       "            <tr>\n",
       "                        <th id=\"T_49fbadae_1697_11ea_815b_74e6e2241a6alevel0_row42\" class=\"row_heading level0 row42\" >42</th>\n",
       "                        <td id=\"T_49fbadae_1697_11ea_815b_74e6e2241a6arow42_col0\" class=\"data row42 col0\" >revol_util</td>\n",
       "                        <td id=\"T_49fbadae_1697_11ea_815b_74e6e2241a6arow42_col1\" class=\"data row42 col1\" >Revolving line utilization rate, or the amount of credit the borrower is using relative to all available revolving credit.</td>\n",
       "            </tr>\n",
       "            <tr>\n",
       "                        <th id=\"T_49fbadae_1697_11ea_815b_74e6e2241a6alevel0_row43\" class=\"row_heading level0 row43\" >43</th>\n",
       "                        <td id=\"T_49fbadae_1697_11ea_815b_74e6e2241a6arow43_col0\" class=\"data row43 col0\" >sub_grade</td>\n",
       "                        <td id=\"T_49fbadae_1697_11ea_815b_74e6e2241a6arow43_col1\" class=\"data row43 col1\" >XYZ assigned assigned loan subgrade</td>\n",
       "            </tr>\n",
       "            <tr>\n",
       "                        <th id=\"T_49fbadae_1697_11ea_815b_74e6e2241a6alevel0_row44\" class=\"row_heading level0 row44\" >44</th>\n",
       "                        <td id=\"T_49fbadae_1697_11ea_815b_74e6e2241a6arow44_col0\" class=\"data row44 col0\" >term</td>\n",
       "                        <td id=\"T_49fbadae_1697_11ea_815b_74e6e2241a6arow44_col1\" class=\"data row44 col1\" >The number of payments on the loan. Values are in months and can be either 36 or 60.</td>\n",
       "            </tr>\n",
       "            <tr>\n",
       "                        <th id=\"T_49fbadae_1697_11ea_815b_74e6e2241a6alevel0_row45\" class=\"row_heading level0 row45\" >45</th>\n",
       "                        <td id=\"T_49fbadae_1697_11ea_815b_74e6e2241a6arow45_col0\" class=\"data row45 col0\" >title</td>\n",
       "                        <td id=\"T_49fbadae_1697_11ea_815b_74e6e2241a6arow45_col1\" class=\"data row45 col1\" >The loan title provided by the borrower</td>\n",
       "            </tr>\n",
       "            <tr>\n",
       "                        <th id=\"T_49fbadae_1697_11ea_815b_74e6e2241a6alevel0_row46\" class=\"row_heading level0 row46\" >46</th>\n",
       "                        <td id=\"T_49fbadae_1697_11ea_815b_74e6e2241a6arow46_col0\" class=\"data row46 col0\" >total_acc</td>\n",
       "                        <td id=\"T_49fbadae_1697_11ea_815b_74e6e2241a6arow46_col1\" class=\"data row46 col1\" >The total number of credit lines currently in the borrower's credit file</td>\n",
       "            </tr>\n",
       "            <tr>\n",
       "                        <th id=\"T_49fbadae_1697_11ea_815b_74e6e2241a6alevel0_row47\" class=\"row_heading level0 row47\" >47</th>\n",
       "                        <td id=\"T_49fbadae_1697_11ea_815b_74e6e2241a6arow47_col0\" class=\"data row47 col0\" >total_pymnt</td>\n",
       "                        <td id=\"T_49fbadae_1697_11ea_815b_74e6e2241a6arow47_col1\" class=\"data row47 col1\" >Payments received to date for total amount funded</td>\n",
       "            </tr>\n",
       "            <tr>\n",
       "                        <th id=\"T_49fbadae_1697_11ea_815b_74e6e2241a6alevel0_row48\" class=\"row_heading level0 row48\" >48</th>\n",
       "                        <td id=\"T_49fbadae_1697_11ea_815b_74e6e2241a6arow48_col0\" class=\"data row48 col0\" >total_pymnt_inv</td>\n",
       "                        <td id=\"T_49fbadae_1697_11ea_815b_74e6e2241a6arow48_col1\" class=\"data row48 col1\" >Payments received to date for portion of total amount funded by investors</td>\n",
       "            </tr>\n",
       "            <tr>\n",
       "                        <th id=\"T_49fbadae_1697_11ea_815b_74e6e2241a6alevel0_row49\" class=\"row_heading level0 row49\" >49</th>\n",
       "                        <td id=\"T_49fbadae_1697_11ea_815b_74e6e2241a6arow49_col0\" class=\"data row49 col0\" >total_rec_int</td>\n",
       "                        <td id=\"T_49fbadae_1697_11ea_815b_74e6e2241a6arow49_col1\" class=\"data row49 col1\" >Interest received to date</td>\n",
       "            </tr>\n",
       "            <tr>\n",
       "                        <th id=\"T_49fbadae_1697_11ea_815b_74e6e2241a6alevel0_row50\" class=\"row_heading level0 row50\" >50</th>\n",
       "                        <td id=\"T_49fbadae_1697_11ea_815b_74e6e2241a6arow50_col0\" class=\"data row50 col0\" >total_rec_late_fee</td>\n",
       "                        <td id=\"T_49fbadae_1697_11ea_815b_74e6e2241a6arow50_col1\" class=\"data row50 col1\" >Late fees received to date</td>\n",
       "            </tr>\n",
       "            <tr>\n",
       "                        <th id=\"T_49fbadae_1697_11ea_815b_74e6e2241a6alevel0_row51\" class=\"row_heading level0 row51\" >51</th>\n",
       "                        <td id=\"T_49fbadae_1697_11ea_815b_74e6e2241a6arow51_col0\" class=\"data row51 col0\" >total_rec_prncp</td>\n",
       "                        <td id=\"T_49fbadae_1697_11ea_815b_74e6e2241a6arow51_col1\" class=\"data row51 col1\" >Principal received to date</td>\n",
       "            </tr>\n",
       "            <tr>\n",
       "                        <th id=\"T_49fbadae_1697_11ea_815b_74e6e2241a6alevel0_row52\" class=\"row_heading level0 row52\" >52</th>\n",
       "                        <td id=\"T_49fbadae_1697_11ea_815b_74e6e2241a6arow52_col0\" class=\"data row52 col0\" >verified_status_joint</td>\n",
       "                        <td id=\"T_49fbadae_1697_11ea_815b_74e6e2241a6arow52_col1\" class=\"data row52 col1\" >Indicates if the co-borrowers' joint income was verified by XYZ corp., not verified, or if the income source was verified</td>\n",
       "            </tr>\n",
       "            <tr>\n",
       "                        <th id=\"T_49fbadae_1697_11ea_815b_74e6e2241a6alevel0_row53\" class=\"row_heading level0 row53\" >53</th>\n",
       "                        <td id=\"T_49fbadae_1697_11ea_815b_74e6e2241a6arow53_col0\" class=\"data row53 col0\" >zip_code</td>\n",
       "                        <td id=\"T_49fbadae_1697_11ea_815b_74e6e2241a6arow53_col1\" class=\"data row53 col1\" >The first 3 numbers of the zip code provided by the borrower in the loan application.</td>\n",
       "            </tr>\n",
       "            <tr>\n",
       "                        <th id=\"T_49fbadae_1697_11ea_815b_74e6e2241a6alevel0_row54\" class=\"row_heading level0 row54\" >54</th>\n",
       "                        <td id=\"T_49fbadae_1697_11ea_815b_74e6e2241a6arow54_col0\" class=\"data row54 col0\" >open_acc_6m</td>\n",
       "                        <td id=\"T_49fbadae_1697_11ea_815b_74e6e2241a6arow54_col1\" class=\"data row54 col1\" >Number of open trades in last 6 months</td>\n",
       "            </tr>\n",
       "            <tr>\n",
       "                        <th id=\"T_49fbadae_1697_11ea_815b_74e6e2241a6alevel0_row55\" class=\"row_heading level0 row55\" >55</th>\n",
       "                        <td id=\"T_49fbadae_1697_11ea_815b_74e6e2241a6arow55_col0\" class=\"data row55 col0\" >open_il_6m</td>\n",
       "                        <td id=\"T_49fbadae_1697_11ea_815b_74e6e2241a6arow55_col1\" class=\"data row55 col1\" >Number of currently active installment trades</td>\n",
       "            </tr>\n",
       "            <tr>\n",
       "                        <th id=\"T_49fbadae_1697_11ea_815b_74e6e2241a6alevel0_row56\" class=\"row_heading level0 row56\" >56</th>\n",
       "                        <td id=\"T_49fbadae_1697_11ea_815b_74e6e2241a6arow56_col0\" class=\"data row56 col0\" >open_il_12m</td>\n",
       "                        <td id=\"T_49fbadae_1697_11ea_815b_74e6e2241a6arow56_col1\" class=\"data row56 col1\" >Number of installment accounts opened in past 12 months</td>\n",
       "            </tr>\n",
       "            <tr>\n",
       "                        <th id=\"T_49fbadae_1697_11ea_815b_74e6e2241a6alevel0_row57\" class=\"row_heading level0 row57\" >57</th>\n",
       "                        <td id=\"T_49fbadae_1697_11ea_815b_74e6e2241a6arow57_col0\" class=\"data row57 col0\" >open_il_24m</td>\n",
       "                        <td id=\"T_49fbadae_1697_11ea_815b_74e6e2241a6arow57_col1\" class=\"data row57 col1\" >Number of installment accounts opened in past 24 months</td>\n",
       "            </tr>\n",
       "            <tr>\n",
       "                        <th id=\"T_49fbadae_1697_11ea_815b_74e6e2241a6alevel0_row58\" class=\"row_heading level0 row58\" >58</th>\n",
       "                        <td id=\"T_49fbadae_1697_11ea_815b_74e6e2241a6arow58_col0\" class=\"data row58 col0\" >mths_since_rcnt_il</td>\n",
       "                        <td id=\"T_49fbadae_1697_11ea_815b_74e6e2241a6arow58_col1\" class=\"data row58 col1\" >Months since most recent installment accounts opened</td>\n",
       "            </tr>\n",
       "            <tr>\n",
       "                        <th id=\"T_49fbadae_1697_11ea_815b_74e6e2241a6alevel0_row59\" class=\"row_heading level0 row59\" >59</th>\n",
       "                        <td id=\"T_49fbadae_1697_11ea_815b_74e6e2241a6arow59_col0\" class=\"data row59 col0\" >total_bal_il</td>\n",
       "                        <td id=\"T_49fbadae_1697_11ea_815b_74e6e2241a6arow59_col1\" class=\"data row59 col1\" >Total current balance of all installment accounts</td>\n",
       "            </tr>\n",
       "            <tr>\n",
       "                        <th id=\"T_49fbadae_1697_11ea_815b_74e6e2241a6alevel0_row60\" class=\"row_heading level0 row60\" >60</th>\n",
       "                        <td id=\"T_49fbadae_1697_11ea_815b_74e6e2241a6arow60_col0\" class=\"data row60 col0\" >il_util</td>\n",
       "                        <td id=\"T_49fbadae_1697_11ea_815b_74e6e2241a6arow60_col1\" class=\"data row60 col1\" >Ratio of total current balance to high credit/credit limit on all install acct</td>\n",
       "            </tr>\n",
       "            <tr>\n",
       "                        <th id=\"T_49fbadae_1697_11ea_815b_74e6e2241a6alevel0_row61\" class=\"row_heading level0 row61\" >61</th>\n",
       "                        <td id=\"T_49fbadae_1697_11ea_815b_74e6e2241a6arow61_col0\" class=\"data row61 col0\" >open_rv_12m</td>\n",
       "                        <td id=\"T_49fbadae_1697_11ea_815b_74e6e2241a6arow61_col1\" class=\"data row61 col1\" >Number of revolving trades opened in past 12 months</td>\n",
       "            </tr>\n",
       "            <tr>\n",
       "                        <th id=\"T_49fbadae_1697_11ea_815b_74e6e2241a6alevel0_row62\" class=\"row_heading level0 row62\" >62</th>\n",
       "                        <td id=\"T_49fbadae_1697_11ea_815b_74e6e2241a6arow62_col0\" class=\"data row62 col0\" >open_rv_24m</td>\n",
       "                        <td id=\"T_49fbadae_1697_11ea_815b_74e6e2241a6arow62_col1\" class=\"data row62 col1\" >Number of revolving trades opened in past 24 months</td>\n",
       "            </tr>\n",
       "            <tr>\n",
       "                        <th id=\"T_49fbadae_1697_11ea_815b_74e6e2241a6alevel0_row63\" class=\"row_heading level0 row63\" >63</th>\n",
       "                        <td id=\"T_49fbadae_1697_11ea_815b_74e6e2241a6arow63_col0\" class=\"data row63 col0\" >max_bal_bc</td>\n",
       "                        <td id=\"T_49fbadae_1697_11ea_815b_74e6e2241a6arow63_col1\" class=\"data row63 col1\" >Maximum current balance owed on all revolving accounts</td>\n",
       "            </tr>\n",
       "            <tr>\n",
       "                        <th id=\"T_49fbadae_1697_11ea_815b_74e6e2241a6alevel0_row64\" class=\"row_heading level0 row64\" >64</th>\n",
       "                        <td id=\"T_49fbadae_1697_11ea_815b_74e6e2241a6arow64_col0\" class=\"data row64 col0\" >all_util</td>\n",
       "                        <td id=\"T_49fbadae_1697_11ea_815b_74e6e2241a6arow64_col1\" class=\"data row64 col1\" >Balance to credit limit on all trades</td>\n",
       "            </tr>\n",
       "            <tr>\n",
       "                        <th id=\"T_49fbadae_1697_11ea_815b_74e6e2241a6alevel0_row65\" class=\"row_heading level0 row65\" >65</th>\n",
       "                        <td id=\"T_49fbadae_1697_11ea_815b_74e6e2241a6arow65_col0\" class=\"data row65 col0\" >total_rev_hi_lim  </td>\n",
       "                        <td id=\"T_49fbadae_1697_11ea_815b_74e6e2241a6arow65_col1\" class=\"data row65 col1\" >Total revolving high credit/credit limit</td>\n",
       "            </tr>\n",
       "            <tr>\n",
       "                        <th id=\"T_49fbadae_1697_11ea_815b_74e6e2241a6alevel0_row66\" class=\"row_heading level0 row66\" >66</th>\n",
       "                        <td id=\"T_49fbadae_1697_11ea_815b_74e6e2241a6arow66_col0\" class=\"data row66 col0\" >inq_fi</td>\n",
       "                        <td id=\"T_49fbadae_1697_11ea_815b_74e6e2241a6arow66_col1\" class=\"data row66 col1\" >Number of personal finance inquiries</td>\n",
       "            </tr>\n",
       "            <tr>\n",
       "                        <th id=\"T_49fbadae_1697_11ea_815b_74e6e2241a6alevel0_row67\" class=\"row_heading level0 row67\" >67</th>\n",
       "                        <td id=\"T_49fbadae_1697_11ea_815b_74e6e2241a6arow67_col0\" class=\"data row67 col0\" >total_cu_tl</td>\n",
       "                        <td id=\"T_49fbadae_1697_11ea_815b_74e6e2241a6arow67_col1\" class=\"data row67 col1\" >Number of finance trades</td>\n",
       "            </tr>\n",
       "            <tr>\n",
       "                        <th id=\"T_49fbadae_1697_11ea_815b_74e6e2241a6alevel0_row68\" class=\"row_heading level0 row68\" >68</th>\n",
       "                        <td id=\"T_49fbadae_1697_11ea_815b_74e6e2241a6arow68_col0\" class=\"data row68 col0\" >inq_last_12m</td>\n",
       "                        <td id=\"T_49fbadae_1697_11ea_815b_74e6e2241a6arow68_col1\" class=\"data row68 col1\" >Number of credit inquiries in past 12 months</td>\n",
       "            </tr>\n",
       "            <tr>\n",
       "                        <th id=\"T_49fbadae_1697_11ea_815b_74e6e2241a6alevel0_row69\" class=\"row_heading level0 row69\" >69</th>\n",
       "                        <td id=\"T_49fbadae_1697_11ea_815b_74e6e2241a6arow69_col0\" class=\"data row69 col0\" >acc_now_delinq</td>\n",
       "                        <td id=\"T_49fbadae_1697_11ea_815b_74e6e2241a6arow69_col1\" class=\"data row69 col1\" >The number of accounts on which the borrower is now delinquent.</td>\n",
       "            </tr>\n",
       "            <tr>\n",
       "                        <th id=\"T_49fbadae_1697_11ea_815b_74e6e2241a6alevel0_row70\" class=\"row_heading level0 row70\" >70</th>\n",
       "                        <td id=\"T_49fbadae_1697_11ea_815b_74e6e2241a6arow70_col0\" class=\"data row70 col0\" >tot_coll_amt</td>\n",
       "                        <td id=\"T_49fbadae_1697_11ea_815b_74e6e2241a6arow70_col1\" class=\"data row70 col1\" >Total collection amounts ever owed</td>\n",
       "            </tr>\n",
       "            <tr>\n",
       "                        <th id=\"T_49fbadae_1697_11ea_815b_74e6e2241a6alevel0_row71\" class=\"row_heading level0 row71\" >71</th>\n",
       "                        <td id=\"T_49fbadae_1697_11ea_815b_74e6e2241a6arow71_col0\" class=\"data row71 col0\" >tot_cur_bal</td>\n",
       "                        <td id=\"T_49fbadae_1697_11ea_815b_74e6e2241a6arow71_col1\" class=\"data row71 col1\" >Total current balance of all accounts</td>\n",
       "            </tr>\n",
       "            <tr>\n",
       "                        <th id=\"T_49fbadae_1697_11ea_815b_74e6e2241a6alevel0_row72\" class=\"row_heading level0 row72\" >72</th>\n",
       "                        <td id=\"T_49fbadae_1697_11ea_815b_74e6e2241a6arow72_col0\" class=\"data row72 col0\" >verification_status</td>\n",
       "                        <td id=\"T_49fbadae_1697_11ea_815b_74e6e2241a6arow72_col1\" class=\"data row72 col1\" >Was the income source verified</td>\n",
       "            </tr>\n",
       "    </tbody></table>"
      ],
      "text/plain": [
       "<pandas.io.formats.style.Styler at 0x3519e42388>"
      ]
     },
     "execution_count": 42,
     "metadata": {},
     "output_type": "execute_result"
    }
   ],
   "source": [
    "#### Before we move on, let's have a look at the data dictionary\n",
    "lcd_description = pd.read_excel('DataDictionary-14-10-17.xlsx').dropna()\n",
    "lcd_description.style.set_properties(subset=['Description'], **{'width': '1000px'})"
   ]
  },
  {
   "cell_type": "markdown",
   "metadata": {},
   "source": [
    "### Let's look at the missing percentage values in a column"
   ]
  },
  {
   "cell_type": "code",
   "execution_count": 43,
   "metadata": {},
   "outputs": [],
   "source": [
    "def null_values(df):\n",
    "    mis_val = df.isnull().sum()\n",
    "    mis_val_percent = 100 * df.isnull().sum() / len(df)\n",
    "    mis_val_table = pd.concat([mis_val, mis_val_percent], axis=1)\n",
    "    mis_val_table_ren_columns = mis_val_table.rename(\n",
    "    columns = {0 : 'Missing Values', 1 : '% of Total Values'})\n",
    "    mis_val_table_ren_columns = mis_val_table_ren_columns[\n",
    "    mis_val_table_ren_columns.iloc[:,1] != 0].sort_values(\n",
    "    '% of Total Values', ascending=False).round(1)\n",
    "    print (\"Dataframe has \" + str(df.shape[1]) + \" columns.\\n\"      \n",
    "    \"There are \" + str(mis_val_table_ren_columns.shape[0]) +\n",
    "    \" columns that have missing values.\")\n",
    "    return mis_val_table_ren_columns\n",
    "    \n",
    "        "
   ]
  },
  {
   "cell_type": "code",
   "execution_count": 52,
   "metadata": {},
   "outputs": [
    {
     "name": "stdout",
     "output_type": "stream",
     "text": [
      "Dataframe has 73 columns.\n",
      "There are 32 columns that have missing values.\n"
     ]
    },
    {
     "data": {
      "text/html": [
       "<div>\n",
       "<style scoped>\n",
       "    .dataframe tbody tr th:only-of-type {\n",
       "        vertical-align: middle;\n",
       "    }\n",
       "\n",
       "    .dataframe tbody tr th {\n",
       "        vertical-align: top;\n",
       "    }\n",
       "\n",
       "    .dataframe thead th {\n",
       "        text-align: right;\n",
       "    }\n",
       "</style>\n",
       "<table border=\"1\" class=\"dataframe\">\n",
       "  <thead>\n",
       "    <tr style=\"text-align: right;\">\n",
       "      <th></th>\n",
       "      <th>Missing Values</th>\n",
       "      <th>% of Total Values</th>\n",
       "    </tr>\n",
       "  </thead>\n",
       "  <tbody>\n",
       "    <tr>\n",
       "      <td>dti_joint</td>\n",
       "      <td>855529</td>\n",
       "      <td>99.9</td>\n",
       "    </tr>\n",
       "    <tr>\n",
       "      <td>annual_inc_joint</td>\n",
       "      <td>855527</td>\n",
       "      <td>99.9</td>\n",
       "    </tr>\n",
       "    <tr>\n",
       "      <td>verification_status_joint</td>\n",
       "      <td>855527</td>\n",
       "      <td>99.9</td>\n",
       "    </tr>\n",
       "    <tr>\n",
       "      <td>il_util</td>\n",
       "      <td>844360</td>\n",
       "      <td>98.6</td>\n",
       "    </tr>\n",
       "    <tr>\n",
       "      <td>mths_since_rcnt_il</td>\n",
       "      <td>843035</td>\n",
       "      <td>98.5</td>\n",
       "    </tr>\n",
       "    <tr>\n",
       "      <td>inq_last_12m</td>\n",
       "      <td>842681</td>\n",
       "      <td>98.4</td>\n",
       "    </tr>\n",
       "    <tr>\n",
       "      <td>open_il_24m</td>\n",
       "      <td>842681</td>\n",
       "      <td>98.4</td>\n",
       "    </tr>\n",
       "    <tr>\n",
       "      <td>open_il_12m</td>\n",
       "      <td>842681</td>\n",
       "      <td>98.4</td>\n",
       "    </tr>\n",
       "    <tr>\n",
       "      <td>open_il_6m</td>\n",
       "      <td>842681</td>\n",
       "      <td>98.4</td>\n",
       "    </tr>\n",
       "    <tr>\n",
       "      <td>open_acc_6m</td>\n",
       "      <td>842681</td>\n",
       "      <td>98.4</td>\n",
       "    </tr>\n",
       "    <tr>\n",
       "      <td>open_rv_12m</td>\n",
       "      <td>842681</td>\n",
       "      <td>98.4</td>\n",
       "    </tr>\n",
       "    <tr>\n",
       "      <td>open_rv_24m</td>\n",
       "      <td>842681</td>\n",
       "      <td>98.4</td>\n",
       "    </tr>\n",
       "    <tr>\n",
       "      <td>total_bal_il</td>\n",
       "      <td>842681</td>\n",
       "      <td>98.4</td>\n",
       "    </tr>\n",
       "    <tr>\n",
       "      <td>max_bal_bc</td>\n",
       "      <td>842681</td>\n",
       "      <td>98.4</td>\n",
       "    </tr>\n",
       "    <tr>\n",
       "      <td>all_util</td>\n",
       "      <td>842681</td>\n",
       "      <td>98.4</td>\n",
       "    </tr>\n",
       "    <tr>\n",
       "      <td>inq_fi</td>\n",
       "      <td>842681</td>\n",
       "      <td>98.4</td>\n",
       "    </tr>\n",
       "    <tr>\n",
       "      <td>total_cu_tl</td>\n",
       "      <td>842681</td>\n",
       "      <td>98.4</td>\n",
       "    </tr>\n",
       "    <tr>\n",
       "      <td>desc</td>\n",
       "      <td>734157</td>\n",
       "      <td>85.8</td>\n",
       "    </tr>\n",
       "    <tr>\n",
       "      <td>mths_since_last_record</td>\n",
       "      <td>724785</td>\n",
       "      <td>84.7</td>\n",
       "    </tr>\n",
       "    <tr>\n",
       "      <td>mths_since_last_major_derog</td>\n",
       "      <td>642830</td>\n",
       "      <td>75.1</td>\n",
       "    </tr>\n",
       "    <tr>\n",
       "      <td>mths_since_last_delinq</td>\n",
       "      <td>439812</td>\n",
       "      <td>51.4</td>\n",
       "    </tr>\n",
       "    <tr>\n",
       "      <td>next_pymnt_d</td>\n",
       "      <td>252971</td>\n",
       "      <td>29.6</td>\n",
       "    </tr>\n",
       "    <tr>\n",
       "      <td>total_rev_hi_lim</td>\n",
       "      <td>67313</td>\n",
       "      <td>7.9</td>\n",
       "    </tr>\n",
       "    <tr>\n",
       "      <td>tot_cur_bal</td>\n",
       "      <td>67313</td>\n",
       "      <td>7.9</td>\n",
       "    </tr>\n",
       "    <tr>\n",
       "      <td>tot_coll_amt</td>\n",
       "      <td>67313</td>\n",
       "      <td>7.9</td>\n",
       "    </tr>\n",
       "    <tr>\n",
       "      <td>emp_title</td>\n",
       "      <td>49443</td>\n",
       "      <td>5.8</td>\n",
       "    </tr>\n",
       "    <tr>\n",
       "      <td>emp_length</td>\n",
       "      <td>43061</td>\n",
       "      <td>5.0</td>\n",
       "    </tr>\n",
       "    <tr>\n",
       "      <td>last_pymnt_d</td>\n",
       "      <td>8862</td>\n",
       "      <td>1.0</td>\n",
       "    </tr>\n",
       "    <tr>\n",
       "      <td>revol_util</td>\n",
       "      <td>446</td>\n",
       "      <td>0.1</td>\n",
       "    </tr>\n",
       "    <tr>\n",
       "      <td>collections_12_mths_ex_med</td>\n",
       "      <td>56</td>\n",
       "      <td>0.0</td>\n",
       "    </tr>\n",
       "    <tr>\n",
       "      <td>last_credit_pull_d</td>\n",
       "      <td>50</td>\n",
       "      <td>0.0</td>\n",
       "    </tr>\n",
       "    <tr>\n",
       "      <td>title</td>\n",
       "      <td>33</td>\n",
       "      <td>0.0</td>\n",
       "    </tr>\n",
       "  </tbody>\n",
       "</table>\n",
       "</div>"
      ],
      "text/plain": [
       "                             Missing Values  % of Total Values\n",
       "dti_joint                            855529               99.9\n",
       "annual_inc_joint                     855527               99.9\n",
       "verification_status_joint            855527               99.9\n",
       "il_util                              844360               98.6\n",
       "mths_since_rcnt_il                   843035               98.5\n",
       "inq_last_12m                         842681               98.4\n",
       "open_il_24m                          842681               98.4\n",
       "open_il_12m                          842681               98.4\n",
       "open_il_6m                           842681               98.4\n",
       "open_acc_6m                          842681               98.4\n",
       "open_rv_12m                          842681               98.4\n",
       "open_rv_24m                          842681               98.4\n",
       "total_bal_il                         842681               98.4\n",
       "max_bal_bc                           842681               98.4\n",
       "all_util                             842681               98.4\n",
       "inq_fi                               842681               98.4\n",
       "total_cu_tl                          842681               98.4\n",
       "desc                                 734157               85.8\n",
       "mths_since_last_record               724785               84.7\n",
       "mths_since_last_major_derog          642830               75.1\n",
       "mths_since_last_delinq               439812               51.4\n",
       "next_pymnt_d                         252971               29.6\n",
       "total_rev_hi_lim                      67313                7.9\n",
       "tot_cur_bal                           67313                7.9\n",
       "tot_coll_amt                          67313                7.9\n",
       "emp_title                             49443                5.8\n",
       "emp_length                            43061                5.0\n",
       "last_pymnt_d                           8862                1.0\n",
       "revol_util                              446                0.1\n",
       "collections_12_mths_ex_med               56                0.0\n",
       "last_credit_pull_d                       50                0.0\n",
       "title                                    33                0.0"
      ]
     },
     "execution_count": 52,
     "metadata": {},
     "output_type": "execute_result"
    }
   ],
   "source": [
    "# Missing values statistics\n",
    "miss_values = null_values(lcd)\n",
    "miss_values.head(33)"
   ]
  },
  {
   "cell_type": "markdown",
   "metadata": {},
   "source": [
    "#### The percentage of missing data in many columns are far more than we can work with. So, we'll have to remove columns having a certain percentage of data less than the total data later on."
   ]
  },
  {
   "cell_type": "code",
   "execution_count": 46,
   "metadata": {},
   "outputs": [
    {
     "data": {
      "text/plain": [
       "Text(0, 0.5, 'Data type')"
      ]
     },
     "execution_count": 46,
     "metadata": {},
     "output_type": "execute_result"
    },
    {
     "data": {
      "image/png": "[encoded data removed]",
      "text/plain": [
       "<Figure size 432x288 with 1 Axes>"
      ]
     },
     "metadata": {
      "needs_background": "light"
     },
     "output_type": "display_data"
    }
   ],
   "source": [
    "# Number of each type of column\n",
    "lcd.dtypes.value_counts().sort_values().plot(kind='barh')\n",
    "plt.title('Number of columns distributed by Data Types',fontsize=22)\n",
    "plt.xlabel('Number of columns',fontsize=16)\n",
    "plt.ylabel('Data type',fontsize=16)"
   ]
  },
  {
   "cell_type": "markdown",
   "metadata": {},
   "source": [
    "### So we have quite a number of columns having objects data type which are going to pose a problem while modelling."
   ]
  },
  {
   "cell_type": "markdown",
   "metadata": {},
   "source": [
    "#### Now, let us see how many categorical data do the columns having 'object' data types contain:"
   ]
  },
  {
   "cell_type": "code",
   "execution_count": 53,
   "metadata": {},
   "outputs": [
    {
     "data": {
      "text/plain": [
       "term                              2\n",
       "grade                             7\n",
       "sub_grade                        35\n",
       "emp_title                    290912\n",
       "emp_length                       11\n",
       "home_ownership                    6\n",
       "verification_status               3\n",
       "issue_d                         103\n",
       "pymnt_plan                        2\n",
       "desc                         120335\n",
       "purpose                          14\n",
       "title                         60991\n",
       "zip_code                        931\n",
       "addr_state                       51\n",
       "earliest_cr_line                697\n",
       "initial_list_status               2\n",
       "last_pymnt_d                     97\n",
       "next_pymnt_d                      3\n",
       "last_credit_pull_d              102\n",
       "application_type                  2\n",
       "verification_status_joint         3\n",
       "dtype: int64"
      ]
     },
     "execution_count": 53,
     "metadata": {},
     "output_type": "execute_result"
    }
   ],
   "source": [
    "lcd.select_dtypes('object').apply(pd.Series.nunique, axis = 0)"
   ]
  },
  {
   "cell_type": "markdown",
   "metadata": {},
   "source": [
    "### We would want to label encode the columns having only 2 categorical data and one-hot encode columns with more than 2 categorical data. Also, columns like emp_title, url, desc, etc. should be dropped because there aren't any large number of unique data for any of the categories they contain. Also, Principal Component Analysis can be carried out for the one-hot encoded columns to bring the feature dimensions down."
   ]
  },
  {
   "cell_type": "markdown",
   "metadata": {},
   "source": [
    "## Anomaly Detection"
   ]
  },
  {
   "cell_type": "markdown",
   "metadata": {},
   "source": [
    "#### Let us check for any anomalies on the data we might have. Possible data anamolies are often found in columns dealing with time like years of employment. Let's quickly go through them."
   ]
  },
  {
   "cell_type": "code",
   "execution_count": 54,
   "metadata": {},
   "outputs": [
    {
     "data": {
      "text/plain": [
       "0    10+ years\n",
       "1     < 1 year\n",
       "2    10+ years\n",
       "Name: emp_length, dtype: object"
      ]
     },
     "execution_count": 54,
     "metadata": {},
     "output_type": "execute_result"
    }
   ],
   "source": [
    "lcd['emp_length'].head(3)"
   ]
  },
  {
   "cell_type": "markdown",
   "metadata": {},
   "source": [
    "### I'll be filling the null values with 0 assuming that the borrower hasn't worked many years for his data to be recorded. Also, I'll be using regex to extract the number of years from all of the data."
   ]
  },
  {
   "cell_type": "code",
   "execution_count": 56,
   "metadata": {},
   "outputs": [
    {
     "data": {
      "image/png": "[encoded data removed]",
      "text/plain": [
       "<Figure size 1296x576 with 1 Axes>"
      ]
     },
     "metadata": {
      "needs_background": "light"
     },
     "output_type": "display_data"
    }
   ],
   "source": [
    "lcd['emp_length'].fillna(value=0,inplace=True)\n",
    "\n",
    "lcd['emp_length'].replace(to_replace='[^0-9]+', value='', inplace=True, regex=True)\n",
    "\n",
    "lcd['emp_length'].value_counts().sort_values().plot(kind='barh',figsize=(18,8))\n",
    "plt.title('Number of loans distributed by Employment Years',fontsize=20)\n",
    "plt.xlabel('Number of loans',fontsize=15)\n",
    "plt.ylabel('Years worked',fontsize=15);"
   ]
  },
  {
   "cell_type": "markdown",
   "metadata": {},
   "source": [
    "### The column looks fine. Also, it can be seen that people who have worked for 10 or more years are more likely to take a loan."
   ]
  },
  {
   "cell_type": "code",
   "execution_count": 59,
   "metadata": {},
   "outputs": [
    {
     "data": {
      "image/png": "[encoded data removed]",
      "text/plain": [
       "<Figure size 864x432 with 1 Axes>"
      ]
     },
     "metadata": {
      "needs_background": "light"
     },
     "output_type": "display_data"
    }
   ],
   "source": [
    "fig = plt.figure(figsize=(12,6))\n",
    "sns.violinplot(x=\"loan_status\",y=\"loan_amnt\",data=lcd, hue=\"pymnt_plan\", split=True)\n",
    "plt.title(\"Payment plan - Loan Amount\", fontsize=20)\n",
    "plt.xlabel(\"Loan Status\", fontsize=15)\n",
    "plt.ylabel(\"Loan Amount\", fontsize=15);"
   ]
  },
  {
   "cell_type": "markdown",
   "metadata": {},
   "source": [
    "### Naturally, the defaulted loans had no payment plan\n",
    "\n"
   ]
  },
  {
   "cell_type": "markdown",
   "metadata": {},
   "source": [
    "## Exploratory Data Analysis"
   ]
  },
  {
   "cell_type": "markdown",
   "metadata": {},
   "source": [
    "### Let me remove all the columns with more than 70% missing data as they won't be helping for modelling and exploration."
   ]
  },
  {
   "cell_type": "code",
   "execution_count": 60,
   "metadata": {},
   "outputs": [],
   "source": [
    "temp = [i for i in lcd.count()<887379 *0.30]\n",
    "lcd.drop(lcd.columns[temp],axis=1,inplace=True)"
   ]
  },
  {
   "cell_type": "code",
   "execution_count": 62,
   "metadata": {},
   "outputs": [
    {
     "name": "stdout",
     "output_type": "stream",
     "text": [
      "Most Positive Correlations:\n",
      " installment                0.004753\n",
      "revol_util                 0.044497\n",
      "total_rec_int              0.046050\n",
      "inq_last_6mths             0.074407\n",
      "total_rec_late_fee         0.140760\n",
      "int_rate                   0.155037\n",
      "collection_recovery_fee    0.330764\n",
      "recoveries                 0.475738\n",
      "loan_status                1.000000\n",
      "policy_code                     NaN\n",
      "Name: loan_status, dtype: float64\n",
      "\n",
      "Most Negative Correlations:\n",
      " out_prncp         -0.225960\n",
      "out_prncp_inv     -0.225959\n",
      "member_id         -0.220181\n",
      "id                -0.219832\n",
      "total_rec_prncp   -0.090336\n",
      "last_pymnt_amnt   -0.087217\n",
      "total_pymnt_inv   -0.040232\n",
      "total_pymnt       -0.039220\n",
      "annual_inc        -0.037066\n",
      "tot_cur_bal       -0.036335\n",
      "Name: loan_status, dtype: float64\n"
     ]
    }
   ],
   "source": [
    "corr = lcd.corr()['loan_status'].sort_values()\n",
    "\n",
    "# Display correlations\n",
    "print('Most Positive Correlations:\\n', corr.tail(10))\n",
    "print('\\nMost Negative Correlations:\\n', corr.head(10))"
   ]
  },
  {
   "cell_type": "markdown",
   "metadata": {},
   "source": [
    "#### Besides from the perfect correlation of loan_status column with itself, columns like int_rate which is interest rate, out_prncp_inv which is remaining outstanding principal, etc. have high positive correlation with the loan_status column and these are quite true as higher the interest rate, higher it is harder for a borrower to pay back a loan. However, columns like out_prncp_inv, out_prncp, total_rec_int, total_rec_late_fee, inq_last_6mths and revol_util are bound to be higher when a borrower doesn't pay back a loan and thus doesn't carry much significance. So, the column of interest after int_rate could be the dti which is the Debt to Income ratio which understandably will affect if a borrower can pay back a loan or not.Also, columns like recoveries, total_rev_hi_lim, etc. have negative correlation with the loan_status column as a borrower who has paid back money is more likely to repay the loan.\n",
    "\n"
   ]
  },
  {
   "cell_type": "markdown",
   "metadata": {},
   "source": [
    "### Examining further on debt to income ratio and interest rate,"
   ]
  },
  {
   "cell_type": "code",
   "execution_count": 63,
   "metadata": {},
   "outputs": [
    {
     "data": {
      "text/plain": [
       "int_rate       0.078454\n",
       "revol_util     0.086649\n",
       "total_acc      0.106266\n",
       "open_acc       0.142068\n",
       "dti            1.000000\n",
       "policy_code         NaN\n",
       "Name: dti, dtype: float64"
      ]
     },
     "execution_count": 63,
     "metadata": {},
     "output_type": "execute_result"
    }
   ],
   "source": [
    "lcd.corr()['dti'].sort_values().tail(6)"
   ]
  },
  {
   "cell_type": "markdown",
   "metadata": {},
   "source": [
    "#### It can be seen that the interest rate is also highly positively correlated with the debt to income ratio."
   ]
  },
  {
   "cell_type": "markdown",
   "metadata": {},
   "source": [
    "### Let us do plot some Kernel Density Estimation Plots to see how the interest rate and debt to income ratio are distributed for the two classes in the loan_status column."
   ]
  },
  {
   "cell_type": "code",
   "execution_count": 66,
   "metadata": {},
   "outputs": [
    {
     "data": {
      "image/png": "[encoded data removed]",
      "text/plain": [
       "<Figure size 1584x432 with 1 Axes>"
      ]
     },
     "metadata": {
      "needs_background": "light"
     },
     "output_type": "display_data"
    }
   ],
   "source": [
    "fig = plt.figure(figsize=(22,6))\n",
    "sns.kdeplot(lcd.loc[lcd['loan_status'] == 1, 'int_rate'], label = 'loan_status = 1')\n",
    "sns.kdeplot(lcd.loc[lcd['loan_status'] == 0, 'int_rate'], label = 'loan_status = 0');\n",
    "plt.xlabel('Interest Rate (%)',fontsize=15)\n",
    "plt.ylabel('Density',fontsize=15)\n",
    "plt.title('Distribution of Interest Rate',fontsize=20);"
   ]
  },
  {
   "cell_type": "markdown",
   "metadata": {},
   "source": [
    "####  _The density of interest rates follow kind of a Gaussian distribution with more density on interest rates between 12%-18%."
   ]
  },
  {
   "cell_type": "markdown",
   "metadata": {},
   "source": [
    "### While we are looking at distributions, some other distributions that would be interesting to examine are,"
   ]
  },
  {
   "cell_type": "markdown",
   "metadata": {},
   "source": [
    "\n",
    "\n",
    "##### Violin-plot of loan_status classes with distribution of loan amount differentiated by the terms.\n"
   ]
  },
  {
   "cell_type": "code",
   "execution_count": 68,
   "metadata": {},
   "outputs": [
    {
     "data": {
      "image/png": "[encoded data removed]",
      "text/plain": [
       "<Figure size 864x432 with 1 Axes>"
      ]
     },
     "metadata": {
      "needs_background": "light"
     },
     "output_type": "display_data"
    }
   ],
   "source": [
    "fig = plt.figure(figsize=(12,6))\n",
    "sns.violinplot(x=\"loan_status\",y=\"loan_amnt\",data=lcd, hue=\"term\", split=True,color='pink')\n",
    "plt.title(\"Term - Loan Amount\", fontsize=20)\n",
    "plt.xlabel(\"Loan Status\", fontsize=15)\n",
    "plt.ylabel(\"Loan Amount\", fontsize=15);"
   ]
  },
  {
   "cell_type": "markdown",
   "metadata": {},
   "source": [
    "### Most of the Loans of higher terms have high amount and vice versa for the TARGET classes."
   ]
  },
  {
   "cell_type": "markdown",
   "metadata": {},
   "source": [
    "##### Violin-plot of loan_status classes with distribution of loan amount differentiated by the application type. "
   ]
  },
  {
   "cell_type": "code",
   "execution_count": 69,
   "metadata": {},
   "outputs": [
    {
     "data": {
      "image/png": "[encoded data removed]",
      "text/plain": [
       "<Figure size 864x432 with 1 Axes>"
      ]
     },
     "metadata": {
      "needs_background": "light"
     },
     "output_type": "display_data"
    }
   ],
   "source": [
    "fig = plt.figure(figsize=(12,6))\n",
    "sns.violinplot(x=\"loan_status\",y=\"loan_amnt\",data=lcd, hue=\"application_type\", split=True,color='red')\n",
    "plt.title(\"Application Type - Loan Amount\", fontsize=20)\n",
    "plt.xlabel(\"Loan Status\", fontsize=15)\n",
    "plt.ylabel(\"Loan Amount\", fontsize=15);"
   ]
  },
  {
   "cell_type": "markdown",
   "metadata": {},
   "source": [
    "### So all the loans that have been defaulted are from individuals rather than from two or more people."
   ]
  },
  {
   "cell_type": "code",
   "execution_count": 71,
   "metadata": {},
   "outputs": [
    {
     "data": {
      "text/plain": [
       "INDIVIDUAL    855527\n",
       "JOINT            442\n",
       "Name: application_type, dtype: int64"
      ]
     },
     "execution_count": 71,
     "metadata": {},
     "output_type": "execute_result"
    }
   ],
   "source": [
    "lcd['application_type'].value_counts()"
   ]
  },
  {
   "cell_type": "markdown",
   "metadata": {},
   "source": [
    "#### Seeing the number of joint applicants in comparison to the the total applicants, it isn't significant enough to conclude that the loan taken by all Joint applicants are paid back."
   ]
  },
  {
   "cell_type": "markdown",
   "metadata": {},
   "source": [
    "##### Violin-plot of loan_Status classes with distribution of interest rate differentiated by the loan grades. "
   ]
  },
  {
   "cell_type": "code",
   "execution_count": 73,
   "metadata": {},
   "outputs": [
    {
     "data": {
      "image/png": "[encoded data removed]",
      "text/plain": [
       "<Figure size 1296x576 with 1 Axes>"
      ]
     },
     "metadata": {
      "needs_background": "light"
     },
     "output_type": "display_data"
    }
   ],
   "source": [
    "fig = plt.figure(figsize=(18,8))\n",
    "sns.violinplot(x=\"loan_status\",y=\"int_rate\",data=lcd, hue=\"grade\")\n",
    "plt.title(\"Grade - Interest Rate\", fontsize=20)\n",
    "plt.xlabel(\"Loan Status\", fontsize=14)\n",
    "plt.ylabel(\"Interest Rate\", fontsize=14);"
   ]
  },
  {
   "cell_type": "markdown",
   "metadata": {},
   "source": [
    "#### Both target classes have similar kind of interest rates by grades."
   ]
  },
  {
   "cell_type": "markdown",
   "metadata": {},
   "source": [
    "### Let us also check the correlation of annual income with loan amount taken."
   ]
  },
  {
   "cell_type": "code",
   "execution_count": 74,
   "metadata": {},
   "outputs": [
    {
     "data": {
      "text/plain": [
       "out_prncp           0.211549\n",
       "out_prncp_inv       0.211591\n",
       "total_rev_hi_lim    0.271059\n",
       "revol_bal           0.298569\n",
       "installment         0.328578\n",
       "funded_amnt_inv     0.334356\n",
       "funded_amnt         0.335002\n",
       "loan_amnt           0.335209\n",
       "tot_cur_bal         0.422618\n",
       "annual_inc          1.000000\n",
       "policy_code              NaN\n",
       "Name: annual_inc, dtype: float64"
      ]
     },
     "execution_count": 74,
     "metadata": {},
     "output_type": "execute_result"
    }
   ],
   "source": [
    "lcd.corr()['annual_inc'].sort_values().tail(11)"
   ]
  },
  {
   "cell_type": "markdown",
   "metadata": {},
   "source": [
    "##### The annual income of the applicant has high positive correlation with the amount of loan they have taken."
   ]
  },
  {
   "cell_type": "markdown",
   "metadata": {},
   "source": [
    "### From where do most of the loans tend to be defaulted? "
   ]
  },
  {
   "cell_type": "code",
   "execution_count": 75,
   "metadata": {},
   "outputs": [
    {
     "data": {
      "image/png": "[encoded data removed]",
      "text/plain": [
       "<Figure size 1296x720 with 1 Axes>"
      ]
     },
     "metadata": {
      "needs_background": "light"
     },
     "output_type": "display_data"
    }
   ],
   "source": [
    "fig = plt.figure(figsize=(18,10))\n",
    "lcd[lcd['loan_status']==1].groupby('addr_state')['loan_status'].count().sort_values().plot(kind='barh')\n",
    "plt.ylabel('State',fontsize=15)\n",
    "plt.xlabel('Number of loans',fontsize=15)\n",
    "plt.title('Number of defaulted loans per state',fontsize=20);"
   ]
  },
  {
   "cell_type": "code",
   "execution_count": 77,
   "metadata": {},
   "outputs": [
    {
     "data": {
      "image/png": "[encoded data removed]",
      "text/plain": [
       "<Figure size 1296x720 with 1 Axes>"
      ]
     },
     "metadata": {
      "needs_background": "light"
     },
     "output_type": "display_data"
    }
   ],
   "source": [
    "fig = plt.figure(figsize=(18,10))\n",
    "lcd[lcd['loan_status']==0].groupby('addr_state')['loan_status'].count().sort_values().plot(kind='barh')\n",
    "plt.ylabel('State')\n",
    "plt.xlabel('Number of loans')\n",
    "plt.title('Number of not-defaulted loans per state');"
   ]
  },
  {
   "cell_type": "markdown",
   "metadata": {},
   "source": [
    "##### It can be seen that there are more number of loans taken amount from the same states where there are more number of defaulted risk. This is why the state cannot be taken as a major feature for knowing if a loan will be defaulted or not."
   ]
  },
  {
   "cell_type": "markdown",
   "metadata": {},
   "source": [
    "### Let's see if we have any members taking multiple loans."
   ]
  },
  {
   "cell_type": "code",
   "execution_count": 79,
   "metadata": {},
   "outputs": [
    {
     "data": {
      "text/plain": [
       "58732538    1\n",
       "58722650    1\n",
       "1622595     1\n",
       "Name: member_id, dtype: int64"
      ]
     },
     "execution_count": 79,
     "metadata": {},
     "output_type": "execute_result"
    }
   ],
   "source": [
    "lcd['member_id'].value_counts().head(3)"
   ]
  },
  {
   "cell_type": "markdown",
   "metadata": {},
   "source": [
    "##### Dang!!! Suprisingly there is not a single member taking loan more than once. So, member id column can also be dropped along with the id column."
   ]
  },
  {
   "cell_type": "markdown",
   "metadata": {},
   "source": [
    "## Data Cleaning"
   ]
  },
  {
   "cell_type": "markdown",
   "metadata": {},
   "source": [
    "#### As we had observe, some columns like annual_inc, int_rate, etc. may be much useful for building our model but on the other hand, some columns like id, member_id, etc. will not be helping. \n",
    "\n",
    "#### Also, columns like 'title' and 'emp_title' are text which cannot be one-hot encoded / label encoded as they have arbitrary categorical text and very less unique data for each of their categories, Let's have a look at it"
   ]
  },
  {
   "cell_type": "code",
   "execution_count": 80,
   "metadata": {},
   "outputs": [
    {
     "data": {
      "text/plain": [
       "Teacher             12965\n",
       "Manager             10821\n",
       "Registered Nurse     5341\n",
       "RN                   5182\n",
       "Owner                5157\n",
       "Name: emp_title, dtype: int64"
      ]
     },
     "execution_count": 80,
     "metadata": {},
     "output_type": "execute_result"
    }
   ],
   "source": [
    "lcd['emp_title'].value_counts().head()"
   ]
  },
  {
   "cell_type": "code",
   "execution_count": 82,
   "metadata": {},
   "outputs": [],
   "source": [
    "lcd.drop(['id','member_id','emp_title','title','zip_code'],axis=1,inplace=True)"
   ]
  },
  {
   "cell_type": "code",
   "execution_count": 83,
   "metadata": {},
   "outputs": [
    {
     "data": {
      "text/plain": [
       "(855969, 48)"
      ]
     },
     "execution_count": 83,
     "metadata": {},
     "output_type": "execute_result"
    }
   ],
   "source": [
    "lcd.shape"
   ]
  },
  {
   "cell_type": "markdown",
   "metadata": {},
   "source": [
    "###### So, now we have 48 columns remaining. Let's print them out to get a quick look of what we are dealing with,"
   ]
  },
  {
   "cell_type": "code",
   "execution_count": 84,
   "metadata": {},
   "outputs": [
    {
     "name": "stdout",
     "output_type": "stream",
     "text": [
      "<class 'pandas.core.frame.DataFrame'>\n",
      "RangeIndex: 855969 entries, 0 to 855968\n",
      "Data columns (total 48 columns):\n",
      "loan_amnt                     855969 non-null float64\n",
      "funded_amnt                   855969 non-null float64\n",
      "funded_amnt_inv               855969 non-null float64\n",
      "term                          855969 non-null object\n",
      "int_rate                      855969 non-null float64\n",
      "installment                   855969 non-null float64\n",
      "grade                         855969 non-null object\n",
      "sub_grade                     855969 non-null object\n",
      "emp_length                    855969 non-null object\n",
      "home_ownership                855969 non-null object\n",
      "annual_inc                    855969 non-null float64\n",
      "verification_status           855969 non-null object\n",
      "issue_d                       855969 non-null object\n",
      "pymnt_plan                    855969 non-null object\n",
      "purpose                       855969 non-null object\n",
      "addr_state                    855969 non-null object\n",
      "dti                           855969 non-null float64\n",
      "delinq_2yrs                   855969 non-null float64\n",
      "earliest_cr_line              855969 non-null object\n",
      "inq_last_6mths                855969 non-null float64\n",
      "mths_since_last_delinq        416157 non-null float64\n",
      "open_acc                      855969 non-null float64\n",
      "pub_rec                       855969 non-null float64\n",
      "revol_bal                     855969 non-null float64\n",
      "revol_util                    855523 non-null float64\n",
      "total_acc                     855969 non-null float64\n",
      "initial_list_status           855969 non-null object\n",
      "out_prncp                     855969 non-null float64\n",
      "out_prncp_inv                 855969 non-null float64\n",
      "total_pymnt                   855969 non-null float64\n",
      "total_pymnt_inv               855969 non-null float64\n",
      "total_rec_prncp               855969 non-null float64\n",
      "total_rec_int                 855969 non-null float64\n",
      "total_rec_late_fee            855969 non-null float64\n",
      "recoveries                    855969 non-null float64\n",
      "collection_recovery_fee       855969 non-null float64\n",
      "last_pymnt_d                  847107 non-null object\n",
      "last_pymnt_amnt               855969 non-null float64\n",
      "next_pymnt_d                  602998 non-null object\n",
      "last_credit_pull_d            855919 non-null object\n",
      "collections_12_mths_ex_med    855913 non-null float64\n",
      "policy_code                   855969 non-null float64\n",
      "application_type              855969 non-null object\n",
      "acc_now_delinq                855969 non-null float64\n",
      "tot_coll_amt                  788656 non-null float64\n",
      "tot_cur_bal                   788656 non-null float64\n",
      "total_rev_hi_lim              788656 non-null float64\n",
      "loan_status                   855969 non-null int64\n",
      "dtypes: float64(31), int64(1), object(16)\n",
      "memory usage: 313.5+ MB\n"
     ]
    }
   ],
   "source": [
    "lcd.info()"
   ]
  },
  {
   "cell_type": "markdown",
   "metadata": {},
   "source": [
    "##### The memory usage is 310+ MB. Some of these columns still look like they could be more cleaning!\n",
    "\n",
    "#####  will be fixing the data types and then handling the missing data.\n"
   ]
  },
  {
   "cell_type": "markdown",
   "metadata": {},
   "source": [
    "#### First, I'll be converting the date object columns into integer number of years or months just because I do not want to blow up the number of feature columns by performing one-hot encoding on them. For filling the null values I have taken the dates with the highest number of counts."
   ]
  },
  {
   "cell_type": "code",
   "execution_count": 86,
   "metadata": {},
   "outputs": [],
   "source": [
    "lcd['issue_d']= pd.to_datetime(lcd['issue_d']).apply(lambda x: int(x.strftime('%Y')))\n",
    "lcd['last_pymnt_d']= pd.to_datetime(lcd['last_pymnt_d'].fillna('2016-01-01')).apply(lambda x: int(x.strftime('%m')))\n",
    "lcd['last_credit_pull_d']= pd.to_datetime(lcd['last_credit_pull_d'].fillna(\"2016-01-01\")).apply(lambda x: int(x.strftime('%m')))\n",
    "lcd['earliest_cr_line']= pd.to_datetime(lcd['earliest_cr_line'].fillna('2001-08-01')).apply(lambda x: int(x.strftime('%m')))\n",
    "lcd['next_pymnt_d'] = pd.to_datetime(lcd['next_pymnt_d'].fillna(value = '2016-02-01')).apply(lambda x:int(x.strftime(\"%Y\")))"
   ]
  },
  {
   "cell_type": "markdown",
   "metadata": {},
   "source": [
    "#####  Let's see how we can handle our categorical data. Two methods we can use are Label Encoding and One Hot Encoding.\n",
    "\n",
    "##### The problem with label encoding is that it gives the categories an arbitrary ordering. The value assigned to each of the categories is random and does not reflect any inherent aspect of the category. So, If we only have two unique values for a categorical variable (such as Yes/No), then label encoding is fine, but for more than 2 unique categories, one-hot encoding is the better option.\n",
    "\n",
    "##### However, due to the large number of columns originated after One-Hot Encoding, we may have to conduct Principle Component Analysis (PCA) for dimensionality reduction.\n"
   ]
  },
  {
   "cell_type": "code",
   "execution_count": 87,
   "metadata": {},
   "outputs": [],
   "source": [
    "from sklearn import preprocessing"
   ]
  },
  {
   "cell_type": "code",
   "execution_count": 89,
   "metadata": {},
   "outputs": [
    {
     "name": "stdout",
     "output_type": "stream",
     "text": [
      "term\n",
      "pymnt_plan\n",
      "initial_list_status\n",
      "application_type\n",
      "4 columns were label encoded.\n"
     ]
    }
   ],
   "source": [
    "count = 0\n",
    "\n",
    "for col in lcd:\n",
    "    if lcd[col].dtype == 'object':\n",
    "        if len(list(lcd[col].unique())) <= 2:     \n",
    "            le = preprocessing.LabelEncoder()\n",
    "            lcd[col] = le.fit_transform(lcd[col])\n",
    "            count += 1\n",
    "            print (col)\n",
    "            \n",
    "print('%d columns were label encoded.' % count)"
   ]
  },
  {
   "cell_type": "markdown",
   "metadata": {},
   "source": [
    "###### And one-hot encoding the rest categorical columns,"
   ]
  },
  {
   "cell_type": "code",
   "execution_count": 90,
   "metadata": {},
   "outputs": [
    {
     "name": "stdout",
     "output_type": "stream",
     "text": [
      "(855969, 168)\n"
     ]
    }
   ],
   "source": [
    "lcd = pd.get_dummies(lcd)\n",
    "print(lcd.shape)"
   ]
  },
  {
   "cell_type": "markdown",
   "metadata": {},
   "source": [
    "##### For the 'mths_since_last_delinq' column, I'll be filling in the missing value with the median of the columns as the data in the column is continuous."
   ]
  },
  {
   "cell_type": "code",
   "execution_count": 91,
   "metadata": {},
   "outputs": [],
   "source": [
    "lcd['mths_since_last_delinq'] = lcd['mths_since_last_delinq'].fillna(lcd['mths_since_last_delinq'].median())"
   ]
  },
  {
   "cell_type": "markdown",
   "metadata": {},
   "source": [
    "### However for columns like 'total_rev_hi_lim','tot_coll_amt',etc. , I won't be filling in the missing data because they will certainly be of high feature importance due to their description. If they do not seem to be of high importance we can always re-iterate and fill the missing values later.\n",
    "\n",
    "\n",
    "### So, dropping all remaining null values in them"
   ]
  },
  {
   "cell_type": "code",
   "execution_count": 95,
   "metadata": {},
   "outputs": [],
   "source": [
    "lcd.dropna(inplace=True)"
   ]
  },
  {
   "cell_type": "markdown",
   "metadata": {},
   "source": [
    "#### Now, let's the count,\n"
   ]
  },
  {
   "cell_type": "code",
   "execution_count": 96,
   "metadata": {},
   "outputs": [
    {
     "data": {
      "text/plain": [
       "loan_amnt                   788290\n",
       "purpose_home_improvement    788290\n",
       "purpose_house               788290\n",
       "dtype: int64"
      ]
     },
     "execution_count": 96,
     "metadata": {},
     "output_type": "execute_result"
    }
   ],
   "source": [
    "lcd.count().sort_values().head(3)"
   ]
  },
  {
   "cell_type": "code",
   "execution_count": 98,
   "metadata": {},
   "outputs": [
    {
     "data": {
      "text/plain": [
       "0    751884\n",
       "1     36406\n",
       "Name: loan_status, dtype: int64"
      ]
     },
     "execution_count": 98,
     "metadata": {},
     "output_type": "execute_result"
    }
   ],
   "source": [
    "lcd['loan_status'].value_counts()"
   ]
  },
  {
   "cell_type": "markdown",
   "metadata": {},
   "source": [
    "#### We are now left with a reasonable amount of data for modelling."
   ]
  },
  {
   "cell_type": "markdown",
   "metadata": {},
   "source": [
    "## Modeling"
   ]
  },
  {
   "cell_type": "markdown",
   "metadata": {},
   "source": [
    "\n",
    "\n",
    "### Now, for modeling I will be using some ensemble methods and comparing them.\n",
    "\n",
    "#### i) Bootstrap Aggregrating or Bagging\n",
    "\n",
    "#### ii) Boosting(XGboost)\n",
    "\n",
    "#### iii) Boosting(Lightgbm)\n",
    "\n",
    "#### iv) Boosting(catboost)\n",
    "\n",
    "\n"
   ]
  },
  {
   "cell_type": "markdown",
   "metadata": {},
   "source": [
    "### 1) Bagging - Random Forest\n",
    "\n",
    "   ####           -(a) Ensemble of Decision Trees\n",
    "   \n",
    "\n",
    "   ####           -(b) Training via the bagging method (Repeated sampling with replacement)\n",
    "             -Bagging: Sample from samples\n",
    "             -RF: Sample from predictors. m=sqrt(p) for classification and m=p/3 for regression problems. Utilise uncorrelated trees\n"
   ]
  },
  {
   "cell_type": "code",
   "execution_count": 99,
   "metadata": {},
   "outputs": [],
   "source": [
    "from sklearn.ensemble import RandomForestClassifier\n",
    "from sklearn.model_selection import cross_val_score, cross_val_predict\n",
    "from sklearn.metrics import accuracy_score, classification_report, confusion_matrix"
   ]
  },
  {
   "cell_type": "markdown",
   "metadata": {},
   "source": [
    "  \n",
    "  Creating a classification report function...\n",
    "  "
   ]
  },
  {
   "cell_type": "code",
   "execution_count": 100,
   "metadata": {},
   "outputs": [],
   "source": [
    "def print_score(clf, X_train, y_train, X_test, y_test, train=True):\n",
    "    if train:\n",
    "        print(\"Train Result:\\n\")\n",
    "        print(\"accuracy score: {0:.4f}\\n\".format(accuracy_score(y_train, clf.predict(X_train))))\n",
    "        print(\"Classification Report: \\n {}\\n\".format(classification_report(y_train, clf.predict(X_train))))\n",
    "        print(\"Confusion Matrix: \\n {}\\n\".format(confusion_matrix(y_train, clf.predict(X_train))))\n",
    "\n",
    "        res = cross_val_score(clf, X_train, y_train, cv=10, scoring='accuracy')\n",
    "        print(\"Average Accuracy: \\t {0:.4f}\".format(np.mean(res)))\n",
    "        print(\"Accuracy SD: \\t\\t {0:.4f}\".format(np.std(res)))\n",
    "        \n",
    "    elif train==False:\n",
    "        print(\"Test Result:\\n\")        \n",
    "        print(\"accuracy score: {0:.4f}\\n\".format(accuracy_score(y_test, clf.predict(X_test))))\n",
    "        print(\"Classification Report: \\n {}\\n\".format(classification_report(y_test, clf.predict(X_test))))\n",
    "        print(\"Confusion Matrix: \\n {}\\n\".format(confusion_matrix(y_test, clf.predict(X_test))))    \n",
    "        "
   ]
  },
  {
   "cell_type": "markdown",
   "metadata": {},
   "source": [
    "#### Conducting train test split."
   ]
  },
  {
   "cell_type": "code",
   "execution_count": 102,
   "metadata": {},
   "outputs": [],
   "source": [
    "from sklearn.model_selection import train_test_split"
   ]
  },
  {
   "cell_type": "code",
   "execution_count": 106,
   "metadata": {},
   "outputs": [],
   "source": [
    "X = lcd.drop('loan_status',axis=1)\n",
    "y = lcd['loan_status']\n",
    "\n",
    "X_train, X_test, y_train, y_test = train_test_split(X,y,test_size=0.15,random_state=101, stratify = y)\n"
   ]
  },
  {
   "cell_type": "markdown",
   "metadata": {},
   "source": [
    "#### Freeing up the memory"
   ]
  },
  {
   "cell_type": "code",
   "execution_count": 107,
   "metadata": {},
   "outputs": [
    {
     "data": {
      "text/plain": [
       "235"
      ]
     },
     "execution_count": 107,
     "metadata": {},
     "output_type": "execute_result"
    }
   ],
   "source": [
    "del load_df\n",
    "gc.collect()"
   ]
  },
  {
   "cell_type": "markdown",
   "metadata": {},
   "source": [
    "#### Standardizing features by removing the mean and scaling to unit variance"
   ]
  },
  {
   "cell_type": "code",
   "execution_count": 108,
   "metadata": {},
   "outputs": [],
   "source": [
    "from sklearn.preprocessing import StandardScaler"
   ]
  },
  {
   "cell_type": "code",
   "execution_count": 109,
   "metadata": {},
   "outputs": [],
   "source": [
    "sc = StandardScaler()\n",
    "X_train = sc.fit_transform(X_train)\n",
    "X_test=sc.transform(X_test)"
   ]
  },
  {
   "cell_type": "markdown",
   "metadata": {},
   "source": [
    "#### Oversampling only the training set using Synthetic Minority Oversampling Technique (SMOTE)"
   ]
  },
  {
   "cell_type": "code",
   "execution_count": 111,
   "metadata": {},
   "outputs": [
    {
     "name": "stderr",
     "output_type": "stream",
     "text": [
      "C:\\Users\\P RAJ\\Anaconda3\\lib\\site-packages\\sklearn\\externals\\six.py:31: DeprecationWarning: The module is deprecated in version 0.21 and will be removed in version 0.23 since we've dropped support for Python 2.7. Please rely on the official version of six (https://pypi.org/project/six/).\n",
      "  \"(https://pypi.org/project/six/).\", DeprecationWarning)\n"
     ]
    }
   ],
   "source": [
    "from imblearn.over_sampling import SMOTE"
   ]
  },
  {
   "cell_type": "code",
   "execution_count": 112,
   "metadata": {},
   "outputs": [],
   "source": [
    "sm = SMOTE(random_state=12, ratio = 1.0)\n",
    "x_train_r, y_train_r = sm.fit_sample(X_train, y_train)"
   ]
  },
  {
   "cell_type": "markdown",
   "metadata": {},
   "source": [
    "### Now, I'll be trying out different models to get the best prediction score."
   ]
  },
  {
   "cell_type": "markdown",
   "metadata": {},
   "source": [
    "#### Creating a baseline for accuracy and recall using Logistic regression"
   ]
  },
  {
   "cell_type": "code",
   "execution_count": 113,
   "metadata": {},
   "outputs": [
    {
     "data": {
      "text/plain": [
       "LogisticRegression(C=0.0001, class_weight=None, dual=False, fit_intercept=True,\n",
       "                   intercept_scaling=1, l1_ratio=None, max_iter=100,\n",
       "                   multi_class='warn', n_jobs=None, penalty='l2',\n",
       "                   random_state=21, solver='warn', tol=0.0001, verbose=0,\n",
       "                   warm_start=False)"
      ]
     },
     "execution_count": 113,
     "metadata": {},
     "output_type": "execute_result"
    }
   ],
   "source": [
    "from sklearn.linear_model import LogisticRegression\n",
    "\n",
    "log_reg = LogisticRegression(C = 0.0001,random_state=21)\n",
    "\n",
    "log_reg.fit(x_train_r, y_train_r)"
   ]
  },
  {
   "cell_type": "code",
   "execution_count": 114,
   "metadata": {},
   "outputs": [
    {
     "name": "stdout",
     "output_type": "stream",
     "text": [
      "Test Result:\n",
      "\n",
      "accuracy score: 0.9813\n",
      "\n",
      "Classification Report: \n",
      "               precision    recall  f1-score   support\n",
      "\n",
      "           0       1.00      0.98      0.99    112783\n",
      "           1       0.73      0.96      0.83      5461\n",
      "\n",
      "    accuracy                           0.98    118244\n",
      "   macro avg       0.86      0.97      0.91    118244\n",
      "weighted avg       0.99      0.98      0.98    118244\n",
      "\n",
      "\n",
      "Confusion Matrix: \n",
      " [[110814   1969]\n",
      " [   244   5217]]\n",
      "\n"
     ]
    }
   ],
   "source": [
    "print_score(log_reg, x_train_r, y_train_r, X_test, y_test, train=False)"
   ]
  },
  {
   "cell_type": "markdown",
   "metadata": {},
   "source": [
    "#### The accuracy came out to be satisfactory for the baseline along with the recall score. However, precision seems to be a bit off."
   ]
  },
  {
   "cell_type": "markdown",
   "metadata": {},
   "source": [
    "##### For our case, overfitting will be a huge concern. So, I'm using Random Forest as it is known to decrease overfitting by selecting features at random."
   ]
  },
  {
   "cell_type": "code",
   "execution_count": 115,
   "metadata": {},
   "outputs": [],
   "source": [
    "from sklearn.ensemble import RandomForestClassifier"
   ]
  },
  {
   "cell_type": "code",
   "execution_count": 116,
   "metadata": {},
   "outputs": [
    {
     "data": {
      "text/plain": [
       "RandomForestClassifier(bootstrap=True, class_weight=None, criterion='gini',\n",
       "                       max_depth=None, max_features='auto', max_leaf_nodes=None,\n",
       "                       min_impurity_decrease=0.0, min_impurity_split=None,\n",
       "                       min_samples_leaf=1, min_samples_split=2,\n",
       "                       min_weight_fraction_leaf=0.0, n_estimators=40,\n",
       "                       n_jobs=None, oob_score=False, random_state=21, verbose=0,\n",
       "                       warm_start=False)"
      ]
     },
     "execution_count": 116,
     "metadata": {},
     "output_type": "execute_result"
    }
   ],
   "source": [
    "clf_rf = RandomForestClassifier(n_estimators=40, random_state=21)\n",
    "clf_rf.fit(x_train_r, y_train_r)"
   ]
  },
  {
   "cell_type": "code",
   "execution_count": 117,
   "metadata": {},
   "outputs": [
    {
     "name": "stdout",
     "output_type": "stream",
     "text": [
      "Test Result:\n",
      "\n",
      "accuracy score: 0.9982\n",
      "\n",
      "Classification Report: \n",
      "               precision    recall  f1-score   support\n",
      "\n",
      "           0       1.00      1.00      1.00    112783\n",
      "           1       1.00      0.96      0.98      5461\n",
      "\n",
      "    accuracy                           1.00    118244\n",
      "   macro avg       1.00      0.98      0.99    118244\n",
      "weighted avg       1.00      1.00      1.00    118244\n",
      "\n",
      "\n",
      "Confusion Matrix: \n",
      " [[112782      1]\n",
      " [   208   5253]]\n",
      "\n"
     ]
    }
   ],
   "source": [
    "print_score(clf_rf, x_train_r, y_train_r, X_test, y_test, train=False)"
   ]
  },
  {
   "cell_type": "markdown",
   "metadata": {},
   "source": [
    "#### We have high precision but a low recall for our validation set. Using this model is not a good idea as most of our default loans will be falsely classified."
   ]
  },
  {
   "cell_type": "markdown",
   "metadata": {},
   "source": [
    "### 2) Boosting:\n",
    "\n",
    "    _Train weak classifiers\n",
    "    _Add them to a final strong classifier by weighting. Weighting by accuracy (typically)\n",
    "    _Once added, the data are reweighted\n",
    "        __Misclassified samples gain weight\n",
    "        __Algo is forced to learn more from misclassified samples\n",
    "\n"
   ]
  },
  {
   "cell_type": "markdown",
   "metadata": {},
   "source": [
    "### For boosting I will be using the LightGBM classifier (evalulation metric as AUC) along with Kfold cross validation."
   ]
  },
  {
   "cell_type": "code",
   "execution_count": 118,
   "metadata": {},
   "outputs": [],
   "source": [
    "from sklearn.metrics import roc_auc_score, roc_curve\n",
    "from sklearn.model_selection import KFold, StratifiedKFold\n",
    "from lightgbm import LGBMClassifier"
   ]
  },
  {
   "cell_type": "code",
   "execution_count": 123,
   "metadata": {},
   "outputs": [],
   "source": [
    "def kfold_lightgbm(train_df, num_folds, stratified = False):\n",
    "    print(\"Starting LightGBM. Train shape: {}\".format(train_df.shape))\n",
    "    \n",
    "    # Cross validation model\n",
    "    if stratified:\n",
    "        folds = StratifiedKFold(n_splits= num_folds, shuffle=True, random_state=47)\n",
    "    else:\n",
    "        folds = KFold(n_splits= num_folds, shuffle=True, random_state=47)\n",
    "\n",
    "    oof_preds = np.zeros(train_df.shape[0])\n",
    "\n",
    "    feature_importance_df = pd.DataFrame()\n",
    "    feats = [f for f in train_df.columns if f not in ['loan_status']]\n",
    "    \n",
    "    # Splitting the training set into folds for Cross Validation\n",
    "    for n_fold, (train_idx, valid_idx) in enumerate(folds.split(train_df[feats], train_df['loan_status'])):\n",
    "        train_x, train_y = train_df[feats].iloc[train_idx], train_df['loan_status'].iloc[train_idx]\n",
    "        valid_x, valid_y = train_df[feats].iloc[valid_idx], train_df['loan_status'].iloc[valid_idx]\n",
    "\n",
    "        # LightGBM parameters found by Bayesian optimization\n",
    "        clf = LGBMClassifier(\n",
    "            nthread=4,\n",
    "            n_estimators=10000,\n",
    "            learning_rate=0.02,\n",
    "            num_leaves=32,\n",
    "            colsample_bytree=0.9497036,\n",
    "            subsample=0.8715623,\n",
    "            max_depth=8,\n",
    "            reg_alpha=0.04,\n",
    "            reg_lambda=0.073,\n",
    "            min_split_gain=0.0222415,\n",
    "            min_child_weight=40,\n",
    "            silent=-1,\n",
    "            verbose=-1,\n",
    "            )\n",
    "\n",
    "        # Fitting the model and evaluating by AUC\n",
    "        clf.fit(train_x, train_y, eval_set=[(train_x, train_y), (valid_x, valid_y)], \n",
    "            eval_metric= 'auc', verbose= 1000, early_stopping_rounds= 200)\n",
    "        print_score(clf, train_x, train_y, valid_x, valid_y, train=False)\n",
    "        # Dataframe holding the different features and their importance\n",
    "        fold_importance_df = pd.DataFrame()\n",
    "        fold_importance_df[\"feature\"] = feats\n",
    "        fold_importance_df[\"importance\"] = clf.feature_importances_\n",
    "        fold_importance_df[\"fold\"] = n_fold + 1\n",
    "        feature_importance_df = pd.concat([feature_importance_df, fold_importance_df], axis=0)\n",
    "        \n",
    "        # Freeing up memory\n",
    "        del clf, train_x, train_y, valid_x, valid_y\n",
    "        gc.collect()\n",
    "\n",
    "    display_importances(feature_importance_df)\n",
    "    return feature_importance_df"
   ]
  },
  {
   "cell_type": "markdown",
   "metadata": {},
   "source": [
    "### Function for displaying the importance of the features,"
   ]
  },
  {
   "cell_type": "code",
   "execution_count": 124,
   "metadata": {},
   "outputs": [],
   "source": [
    "def display_importances(feature_importance_df_):\n",
    "    cols = feature_importance_df_[[\"feature\", \"importance\"]].groupby(\"feature\").mean().sort_values(by=\"importance\", ascending=False)[:40].index\n",
    "    best_features = feature_importance_df_.loc[feature_importance_df_.feature.isin(cols)]\n",
    "    plt.figure(figsize=(15, 12))\n",
    "    sns.barplot(x=\"importance\", y=\"feature\", data=best_features.sort_values(by=\"importance\", ascending=False))\n",
    "    plt.title('LightGBM Features (avg over folds)')\n",
    "    plt.tight_layout()\n",
    "    plt.savefig('lgbm_importances.png')"
   ]
  },
  {
   "cell_type": "code",
   "execution_count": 125,
   "metadata": {},
   "outputs": [
    {
     "name": "stdout",
     "output_type": "stream",
     "text": [
      "Starting LightGBM. Train shape: (788290, 168)\n",
      "Training until validation scores don't improve for 200 rounds\n",
      "[1000]\ttraining's auc: 0.999891\ttraining's binary_logloss: 0.00112096\tvalid_1's auc: 0.999789\tvalid_1's binary_logloss: 0.00120705\n",
      "[2000]\ttraining's auc: 0.999942\ttraining's binary_logloss: 0.00097849\tvalid_1's auc: 0.999831\tvalid_1's binary_logloss: 0.00115346\n",
      "Early stopping, best iteration is:\n",
      "[2685]\ttraining's auc: 0.999957\ttraining's binary_logloss: 0.000930088\tvalid_1's auc: 0.999842\tvalid_1's binary_logloss: 0.0011439\n",
      "Test Result:\n",
      "\n",
      "accuracy score: 0.9998\n",
      "\n",
      "Classification Report: \n",
      "               precision    recall  f1-score   support\n",
      "\n",
      "           0       1.00      1.00      1.00    250711\n",
      "           1       1.00      0.99      1.00     12053\n",
      "\n",
      "    accuracy                           1.00    262764\n",
      "   macro avg       1.00      1.00      1.00    262764\n",
      "weighted avg       1.00      1.00      1.00    262764\n",
      "\n",
      "\n",
      "Confusion Matrix: \n",
      " [[250710      1]\n",
      " [    63  11990]]\n",
      "\n",
      "Training until validation scores don't improve for 200 rounds\n",
      "[1000]\ttraining's auc: 0.999895\ttraining's binary_logloss: 0.00102527\tvalid_1's auc: 0.999751\tvalid_1's binary_logloss: 0.00150265\n",
      "Early stopping, best iteration is:\n",
      "[1781]\ttraining's auc: 0.99994\ttraining's binary_logloss: 0.00091088\tvalid_1's auc: 0.999792\tvalid_1's binary_logloss: 0.00144736\n",
      "Test Result:\n",
      "\n",
      "accuracy score: 0.9997\n",
      "\n",
      "Classification Report: \n",
      "               precision    recall  f1-score   support\n",
      "\n",
      "           0       1.00      1.00      1.00    250642\n",
      "           1       1.00      0.99      1.00     12121\n",
      "\n",
      "    accuracy                           1.00    262763\n",
      "   macro avg       1.00      1.00      1.00    262763\n",
      "weighted avg       1.00      1.00      1.00    262763\n",
      "\n",
      "\n",
      "Confusion Matrix: \n",
      " [[250642      0]\n",
      " [    77  12044]]\n",
      "\n",
      "Training until validation scores don't improve for 200 rounds\n",
      "Early stopping, best iteration is:\n",
      "[373]\ttraining's auc: 0.999799\ttraining's binary_logloss: 0.00174341\tvalid_1's auc: 0.999892\tvalid_1's binary_logloss: 0.00178912\n",
      "Test Result:\n",
      "\n",
      "accuracy score: 0.9996\n",
      "\n",
      "Classification Report: \n",
      "               precision    recall  f1-score   support\n",
      "\n",
      "           0       1.00      1.00      1.00    250531\n",
      "           1       1.00      0.99      1.00     12232\n",
      "\n",
      "    accuracy                           1.00    262763\n",
      "   macro avg       1.00      1.00      1.00    262763\n",
      "weighted avg       1.00      1.00      1.00    262763\n",
      "\n",
      "\n",
      "Confusion Matrix: \n",
      " [[250529      2]\n",
      " [    94  12138]]\n",
      "\n"
     ]
    },
    {
     "data": {
      "image/png": "[encoded data removed]",
      "text/plain": [
       "<Figure size 1080x864 with 1 Axes>"
      ]
     },
     "metadata": {
      "needs_background": "light"
     },
     "output_type": "display_data"
    }
   ],
   "source": [
    "feat_importance = kfold_lightgbm(lcd, num_folds= 3, stratified= False)"
   ]
  },
  {
   "cell_type": "code",
   "execution_count": null,
   "metadata": {},
   "outputs": [],
   "source": []
  }
 ],
 "metadata": {
  "kernelspec": {
   "display_name": "Python 3",
   "language": "python",
   "name": "python3"
  },
  "language_info": {
   "codemirror_mode": {
    "name": "ipython",
    "version": 3
   },
   "file_extension": ".py",
   "mimetype": "text/x-python",
   "name": "python",
   "nbconvert_exporter": "python",
   "pygments_lexer": "ipython3",
   "version": "3.7.4"
  }
 },
 "nbformat": 4,
 "nbformat_minor": 4
}
