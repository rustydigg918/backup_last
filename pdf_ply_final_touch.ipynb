{
 "cells": [
  {
   "cell_type": "code",
   "execution_count": 2,
   "metadata": {},
   "outputs": [
    {
     "name": "stdout",
     "output_type": "stream",
     "text": [
      "Index Error occured with these following files['GSTR3B_29AACCK7004R1Z1_072019.pdf', 'GSTR3B_29AACCK7004R1Z1_092019.pdf']\n"
     ]
    }
   ],
   "source": [
    "# importing Necessary libraries\n",
    "import camelot as cm\n",
    "import pandas as pd\n",
    "# Some base library\n",
    "import re,os\n",
    "\n",
    "# resizing the figures\n",
    "# #TKINTER START\n",
    "# from tkinter import filedialog\n",
    "# from tkinter import *\n",
    "# root = Tk()\n",
    "# root.withdraw()\n",
    "# folder_selected = filedialog.askdirectory()\n",
    "# # print(folder_selected)\n",
    "\n",
    "\n",
    "\n",
    "# #Setting the path directory\n",
    "# os.chdir(folder_selected)\n",
    "\n",
    "#Setting the path directory\n",
    "path = r'C:\\Users\\pushkar\\Downloads\\Pushkar\\Pushkar\\GST'\n",
    "os.chdir(path)\n",
    "\n",
    "# Implementing the Stream flovor to get the names\n",
    "tot = os.listdir()\n",
    "excp = []\n",
    "for i in tot:\n",
    "\tx = cm.read_pdf(i, flavor='stream',  row_tol=10)\n",
    "\ty = x[0].df\n",
    "\t \n",
    "\ttry:\n",
    "\t\tfilename = (str(y.at[2,3].split('\\n')[1])+\"_\"+str(y.at[3,3].split('\\n')[1])+\"_\"+str(y.at[4,3]))\n",
    "\texcept IndexError:\n",
    "\t\texcp.append(i)\n",
    "\n",
    "\tfor j in excp:\n",
    "\t\tif i == j:\n",
    "\t\t\ttot.remove(i)\n",
    "\t\telse:\n",
    "\t\t\t   pass\t\n",
    "# Lattice starts from here\n",
    "\ttabs = cm.read_pdf(i , pages='1,2,3', flag_size=True)\n",
    "\tdf1 = tabs[0].df\n",
    "\tdf2 = tabs[1].df\n",
    "\tdf3 = tabs[2].df\n",
    "\tdf4 = tabs[3].df\n",
    "\tdf5 = tabs[4].df\n",
    "\tdf6 = tabs[5].df\n",
    "\tdf7 = tabs[6].df\n",
    "# Starting a multiple sheet workbook\n",
    "\twriter = pd.ExcelWriter(f'{filename}.xlsx'.format(filename), engine='xlsxwriter')\n",
    "\t\t  \n",
    "# Write each dataframe to a different worksheet.\n",
    "\tdf1.to_excel(writer, sheet_name='Sheet1')\n",
    "\tdf2.to_excel(writer, sheet_name='Sheet2')\n",
    "\tdf3.to_excel(writer, sheet_name='Sheet3')\n",
    "\tdf4.to_excel(writer, sheet_name='Sheet4')\n",
    "\tdf5.to_excel(writer, sheet_name='Sheet5')\n",
    "\tdf6.to_excel(writer, sheet_name='Sheet6')\n",
    "\tdf7.to_excel(writer, sheet_name='Sheet7')\n",
    "\t\t  \n",
    "# Close the Pandas Excel writer and output the Excel file.\n",
    "\twriter.save()\n",
    "\t\t  \n",
    "\t\t  \t\t  \n",
    "print(\"Index Error occured with these following files\"+ str([x for x in excp]))"
   ]
  },
  {
   "cell_type": "code",
   "execution_count": null,
   "metadata": {},
   "outputs": [],
   "source": []
  }
 ],
 "metadata": {
  "kernelspec": {
   "display_name": "Python 3",
   "language": "python",
   "name": "python3"
  },
  "language_info": {
   "codemirror_mode": {
    "name": "ipython",
    "version": 3
   },
   "file_extension": ".py",
   "mimetype": "text/x-python",
   "name": "python",
   "nbconvert_exporter": "python",
   "pygments_lexer": "ipython3",
   "version": "3.7.6"
  }
 },
 "nbformat": 4,
 "nbformat_minor": 4
}
