{
 "cells": [
  {
   "cell_type": "code",
   "execution_count": 1,
   "metadata": {},
   "outputs": [
    {
     "name": "stdout",
     "output_type": "stream",
     "text": [
      "Enter the integer: 1\n",
      "Enter the integer: 1\n",
      "Enter the integer: 1\n",
      "Enter the integer: 1\n",
      "Enter the integer: 1\n",
      "Enter the integer: 1\n",
      "Enter the integer: 1\n",
      "Enter the integer: 1\n",
      "Enter the integer: 1\n",
      "Enter the integer: 1\n",
      "1\n"
     ]
    }
   ],
   "source": [
    "ram = 0\n",
    "for i in range(10):\n",
    "    integr = int(input('Enter the integer: '))\n",
    "    if(integr % 2 != 0 and integr > ram):\n",
    "        ram = integr\n",
    "        continue\n",
    "if(ram == 0):\n",
    "    print('You have not enered any odd number')\n",
    "else:\n",
    "    print(ram)"
   ]
  },
  {
   "cell_type": "code",
   "execution_count": 2,
   "metadata": {},
   "outputs": [
    {
     "name": "stdout",
     "output_type": "stream",
     "text": [
      "Enter the integer: \n"
     ]
    },
    {
     "ename": "ValueError",
     "evalue": "invalid literal for int() with base 10: ''",
     "output_type": "error",
     "traceback": [
      "\u001b[1;31m---------------------------------------------------------------------------\u001b[0m",
      "\u001b[1;31mValueError\u001b[0m                                Traceback (most recent call last)",
      "\u001b[1;32m<ipython-input-2-5452297f11ef>\u001b[0m in \u001b[0;36m<module>\u001b[1;34m\u001b[0m\n\u001b[0;32m      1\u001b[0m \u001b[0mram\u001b[0m \u001b[1;33m=\u001b[0m \u001b[1;33m[\u001b[0m\u001b[1;36m0\u001b[0m\u001b[1;33m]\u001b[0m\u001b[1;33m\u001b[0m\u001b[1;33m\u001b[0m\u001b[0m\n\u001b[0;32m      2\u001b[0m \u001b[1;32mfor\u001b[0m \u001b[0mi\u001b[0m \u001b[1;32min\u001b[0m \u001b[0mrange\u001b[0m\u001b[1;33m(\u001b[0m\u001b[1;36m10\u001b[0m\u001b[1;33m)\u001b[0m\u001b[1;33m:\u001b[0m\u001b[1;33m\u001b[0m\u001b[1;33m\u001b[0m\u001b[0m\n\u001b[1;32m----> 3\u001b[1;33m     \u001b[0mintegr\u001b[0m \u001b[1;33m=\u001b[0m \u001b[0mint\u001b[0m\u001b[1;33m(\u001b[0m\u001b[0minput\u001b[0m\u001b[1;33m(\u001b[0m\u001b[1;34m'Enter the integer: '\u001b[0m\u001b[1;33m)\u001b[0m\u001b[1;33m)\u001b[0m\u001b[1;33m\u001b[0m\u001b[1;33m\u001b[0m\u001b[0m\n\u001b[0m\u001b[0;32m      4\u001b[0m     \u001b[1;32mif\u001b[0m\u001b[1;33m(\u001b[0m\u001b[0mintegr\u001b[0m \u001b[1;33m%\u001b[0m \u001b[1;36m2\u001b[0m \u001b[1;33m!=\u001b[0m \u001b[1;36m0\u001b[0m \u001b[1;32mand\u001b[0m \u001b[0mintegr\u001b[0m \u001b[1;33m>\u001b[0m \u001b[0mram\u001b[0m\u001b[1;33m[\u001b[0m\u001b[0mi\u001b[0m\u001b[1;33m]\u001b[0m\u001b[1;33m)\u001b[0m\u001b[1;33m:\u001b[0m\u001b[1;33m\u001b[0m\u001b[1;33m\u001b[0m\u001b[0m\n\u001b[0;32m      5\u001b[0m         \u001b[0mram\u001b[0m\u001b[1;33m[\u001b[0m\u001b[0mi\u001b[0m\u001b[1;33m]\u001b[0m \u001b[1;33m=\u001b[0m \u001b[0mintegr\u001b[0m\u001b[1;33m\u001b[0m\u001b[1;33m\u001b[0m\u001b[0m\n",
      "\u001b[1;31mValueError\u001b[0m: invalid literal for int() with base 10: ''"
     ]
    }
   ],
   "source": [
    "ram = [0]\n",
    "for i in range(10):\n",
    "    integr = int(input('Enter the integer: '))\n",
    "    if(integr % 2 != 0 and integr > ram[i]):\n",
    "        ram[i] = integr\n",
    "        continue\n",
    "if(ram[i] ==0):\n",
    "    print('You have not entered any odd number')\n",
    "else:\n",
    "    print(ram[i])"
   ]
  },
  {
   "cell_type": "code",
   "execution_count": null,
   "metadata": {},
   "outputs": [],
   "source": [
    "ram = [0]\n",
    "for i in range(10):\n",
    "    integr = int(input('Enter the integer: '))\n",
    "    if(integr % 2 != 0 and integr > ram[i]):\n",
    "        ram[i] = integr\n",
    "        continue\n",
    "if(ram[i] ==0):\n",
    "    print('You have not entered any odd number')\n",
    "else:\n",
    "    print(ram[i])"
   ]
  },
  {
   "cell_type": "code",
   "execution_count": null,
   "metadata": {},
   "outputs": [],
   "source": [
    "ram =[0]\n",
    "mylist = list(map(int, input(\"Enter multiple value: \").split()))\n",
    "for i in range(len(mylist)):\n",
    "    if(mylist[i] % 2 != 0 and mylist[i]> ram[0]):\n",
    "        ram.append(mylist)\n",
    "    else:\n",
    "        break\n",
    "print(ram[i])\n",
    "        \n",
    "\n",
    "    \n",
    "    \n",
    "    \n",
    "        \n",
    "    \n",
    "\n"
   ]
  },
  {
   "cell_type": "code",
   "execution_count": 51,
   "metadata": {},
   "outputs": [
    {
     "name": "stdout",
     "output_type": "stream",
     "text": [
      "Enter multiple value: 8796 88 98\n",
      "you have not entered any odd val.\n",
      "you have not entered any odd val.\n",
      "you have not entered any odd val.\n"
     ]
    }
   ],
   "source": [
    "\n",
    "mylist = list(map(int, input(\"Enter multiple value: \").split()))\n",
    "def greatest_odd(mylist):\n",
    "    num = 0\n",
    "    for x in mylist:\n",
    "        if(x % 2 != 0 and x > num):\n",
    "            num = x\n",
    "            print (num, 'is me!!!')\n",
    "        else:\n",
    "            print(\"you have not entered any odd val.\")\n",
    "greatest_odd(mylist)            \n",
    "        \n",
    "    \n",
    "\n",
    "    "
   ]
  },
  {
   "cell_type": "code",
   "execution_count": null,
   "metadata": {},
   "outputs": [],
   "source": [
    "ram =[0]\n",
    "mylist = list(map(int, input(\"Enter multiple value: \").split()))\n",
    "for i in range(len(mylist)):\n",
    "    ram.append(mylist)\n",
    "    if(mylist[i] % 2 !=0 and ram[i]  )"
   ]
  },
  {
   "cell_type": "code",
   "execution_count": 25,
   "metadata": {},
   "outputs": [
    {
     "name": "stdout",
     "output_type": "stream",
     "text": [
      "Enter multiple value: 45 46 47\n",
      "That;s odd\n",
      "That;s dumb!!!\n",
      "That;s odd\n"
     ]
    }
   ],
   "source": [
    "a = [0]\n",
    "mylist = list(map(int, input(\"Enter multiple value: \").split()))\n",
    "for i in range(len(mylist)):\n",
    "    if(mylist[i] % 2 != 0 and (mylist[i])\n",
    "    \n"
   ]
  },
  {
   "cell_type": "code",
   "execution_count": 29,
   "metadata": {},
   "outputs": [
    {
     "ename": "IndexError",
     "evalue": "list index out of range",
     "output_type": "error",
     "traceback": [
      "\u001b[1;31m---------------------------------------------------------------------------\u001b[0m",
      "\u001b[1;31mIndexError\u001b[0m                                Traceback (most recent call last)",
      "\u001b[1;32m<ipython-input-29-7cf05c55447b>\u001b[0m in \u001b[0;36m<module>\u001b[1;34m\u001b[0m\n\u001b[0;32m      1\u001b[0m \u001b[0mmylist\u001b[0m \u001b[1;33m=\u001b[0m \u001b[1;33m[\u001b[0m\u001b[1;33m]\u001b[0m\u001b[1;33m\u001b[0m\u001b[1;33m\u001b[0m\u001b[0m\n\u001b[1;32m----> 2\u001b[1;33m \u001b[1;32mif\u001b[0m \u001b[1;33m(\u001b[0m\u001b[0mmylist\u001b[0m\u001b[1;33m[\u001b[0m\u001b[1;36m0\u001b[0m\u001b[1;33m]\u001b[0m \u001b[1;33m<\u001b[0m \u001b[1;36m2\u001b[0m\u001b[1;33m)\u001b[0m\u001b[1;33m:\u001b[0m\u001b[1;33m\u001b[0m\u001b[1;33m\u001b[0m\u001b[0m\n\u001b[0m\u001b[0;32m      3\u001b[0m     \u001b[0mprint\u001b[0m\u001b[1;33m(\u001b[0m\u001b[1;34m\"wow\"\u001b[0m\u001b[1;33m)\u001b[0m\u001b[1;33m\u001b[0m\u001b[1;33m\u001b[0m\u001b[0m\n",
      "\u001b[1;31mIndexError\u001b[0m: list index out of range"
     ]
    }
   ],
   "source": [
    "mylist = []\n",
    "if (mylist[0] < 2):\n",
    "    print(\"wow\")\n"
   ]
  },
  {
   "cell_type": "code",
   "execution_count": 43,
   "metadata": {},
   "outputs": [
    {
     "data": {
      "text/plain": [
       "100"
      ]
     },
     "execution_count": 43,
     "metadata": {},
     "output_type": "execute_result"
    }
   ],
   "source": [
    "t = [10,25,3,4,5,6,7,8,9,10,13]\n",
    "def add_all(t):\n",
    "    total = 0\n",
    "    for x in t:\n",
    "        total += x\n",
    "    return total\n",
    "add_all(t)\n",
    "\n"
   ]
  },
  {
   "cell_type": "code",
   "execution_count": 58,
   "metadata": {},
   "outputs": [
    {
     "name": "stdout",
     "output_type": "stream",
     "text": [
      "511\n"
     ]
    }
   ],
   "source": [
    "# Write a function called nested_sum that takes a nested list of integers and add up\n",
    "# the elements from all of the nested lists\n",
    "nested_list = [1,10,100, [100, 100, [100,100]]]\n",
    "def nested_sum(nested_list):\n",
    "    result = 0 \n",
    "    for item in nested_list:\n",
    "        if type(item) == list:\n",
    "            result += nested_sum(item)\n",
    "        else:\n",
    "            result += item \n",
    "    return result\n",
    "print (nested_sum(nested_list))\n",
    "\n",
    "    "
   ]
  },
  {
   "cell_type": "code",
   "execution_count": 60,
   "metadata": {},
   "outputs": [
    {
     "name": "stdout",
     "output_type": "stream",
     "text": [
      "Nooooo!!!\n",
      "Nooooo!!!\n",
      "Nooooo!!!\n",
      "yes!!!\n"
     ]
    }
   ],
   "source": [
    "nested_list = [1,10,100, [100, 100, [100,100]]]\n",
    "for item in nested_list:\n",
    "    if type(item) ==list:\n",
    "        print(\"yes!!!\")\n",
    "    else:\n",
    "        print(\"Nooooo!!!\")"
   ]
  },
  {
   "cell_type": "code",
   "execution_count": 63,
   "metadata": {},
   "outputs": [
    {
     "data": {
      "text/plain": [
       "['P', 'D', 'T', 'L', 'F']"
      ]
     },
     "execution_count": 63,
     "metadata": {},
     "output_type": "execute_result"
    }
   ],
   "source": [
    "t = ['pot','dot','tot','lot','fot']\n",
    "def capitalize_all(t):\n",
    "    res = []\n",
    "    for s in t:\n",
    "        res.append(s.capitalize())\n",
    "    return res\n",
    "capitalize_all(t)\n",
    "\n"
   ]
  },
  {
   "cell_type": "code",
   "execution_count": 81,
   "metadata": {},
   "outputs": [
    {
     "name": "stdout",
     "output_type": "stream",
     "text": [
      "['Hi', 'Hello', 'A']\n",
      "['Hi', 'Hello', 'A']\n"
     ]
    }
   ],
   "source": [
    "#  Use capitalize_all to write a function named capitalize_nested that takes\n",
    "# a nested list of strings and returns a new nested list with all strings capitalized.\n",
    "\n",
    "list = [\"hi\", \"hello\", \"a\"]\n",
    "def capitalize_all(list):\n",
    "    result = []\n",
    "    for string in list:\n",
    "        result.append(string.capitalize())\n",
    "    return(result)\n",
    "print (capitalize_all(list))\n",
    "\n",
    "def capitalize_nested(nested_list):\n",
    "    result = []\n",
    "    for item in nested_list:\n",
    "        if type(item) == list:\n",
    "            result.append(capitalize_all(item))\n",
    "        else:\n",
    "            result.append(item.capitalize())\n",
    "    return result \n",
    "\n",
    "print (capitalize_nested(list))\n",
    "\n",
    "\n",
    "\n"
   ]
  },
  {
   "cell_type": "code",
   "execution_count": 93,
   "metadata": {},
   "outputs": [
    {
     "data": {
      "text/plain": [
       "['R', 'S']"
      ]
     },
     "execution_count": 93,
     "metadata": {},
     "output_type": "execute_result"
    }
   ],
   "source": [
    "t = ['R', 'r', 'S', 's']\n",
    "def only_upper(t):\n",
    "    res = []\n",
    "    for s in t:\n",
    "        if s.isupper():\n",
    "            res.append(s)\n",
    "    return res \n",
    "        \n",
    "only_upper(t)\n",
    "        \n",
    "\n",
    "    \n",
    "    \n",
    "\n",
    "\n",
    "\n",
    "    "
   ]
  },
  {
   "cell_type": "code",
   "execution_count": 95,
   "metadata": {},
   "outputs": [
    {
     "name": "stdout",
     "output_type": "stream",
     "text": [
      "[1, 3, 6]\n"
     ]
    }
   ],
   "source": [
    "# Write a function that takes a list of numbers and returns the cumulative sum; that\n",
    "# is, a new list where the ith element is the sum of the first i + 1 elements from the original list. For\n",
    "# example, the cumulative sum of [1, 2, 3] is [1, 3, 6].\n",
    "\n",
    "def cumulative_sum(numbers):\n",
    "    result = [] \n",
    "    acc = 0 \n",
    "    for number in numbers:\n",
    "        acc += number \n",
    "        result.append(acc) \n",
    "    return result \n",
    "\n",
    "print (cumulative_sum([1, 2, 3]))\n",
    "\n"
   ]
  },
  {
   "cell_type": "code",
   "execution_count": 2,
   "metadata": {},
   "outputs": [
    {
     "data": {
      "text/plain": [
       "10"
      ]
     },
     "execution_count": 2,
     "metadata": {},
     "output_type": "execute_result"
    }
   ],
   "source": [
    "# Each new term in the Fibonacci sequence is generated by adding the previous two terms. \n",
    "# By starting with 1 and 2, the first 10 terms will be:\n",
    "# 1, 2, 3, 5, 8, 13, 21, 34, 55, 89, ...\n",
    "# By considering the terms in the Fibonacci sequence whose values do not exceed four million, \n",
    "# find the sum of the even-valued terms.\n",
    "# Creating a function to add them\n",
    "def fibo_add(fibona):\n",
    "    sum = 0\n",
    "    for item in fibona:\n",
    "        sum +=item\n",
    "    return sum\n",
    "fibo_add([1,2,3,4])\n",
    "# Creating the fibbonacci series\n",
    "fir = 1; sec = 2\n",
    "fibona = []\n",
    "while(fir < 4000000):\n",
    "    fibona.append(fir)\n",
    "    nxt = fir+sec\n",
    "    fir = sec\n",
    "    sec = nxt\n",
    "    term +=1\n",
    "print(fibona)    \n",
    "fibo_add(fibona) "
   ]
  },
  {
   "cell_type": "code",
   "execution_count": null,
   "metadata": {},
   "outputs": [],
   "source": [
    "x = list(map(int, input(\"Enter multiple values: \").split()))\n",
    "x\n",
    "    \n"
   ]
  }
 ],
 "metadata": {
  "kernelspec": {
   "display_name": "Python 3",
   "language": "python",
   "name": "python3"
  },
  "language_info": {
   "codemirror_mode": {
    "name": "ipython",
    "version": 3
   },
   "file_extension": ".py",
   "mimetype": "text/x-python",
   "name": "python",
   "nbconvert_exporter": "python",
   "pygments_lexer": "ipython3",
   "version": "3.7.1"
  }
 },
 "nbformat": 4,
 "nbformat_minor": 2
}
