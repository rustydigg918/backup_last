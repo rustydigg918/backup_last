{
 "cells": [
  {
   "cell_type": "code",
   "execution_count": null,
   "metadata": {},
   "outputs": [],
   "source": [
    "import sys\n",
    "\n",
    "C = 4\n",
    "\n",
    "\n",
    "def generate_primes(n):\n",
    "   if n == 2:\n",
    "       return [2]\n",
    "   elif n < 2:\n",
    "       return []\n",
    "   \n",
    "   sieve = list(range(3, n + 1, 2))\n",
    "   root_n = n**0.5\n",
    "   mid = (n + 1) // 2 - 1\n",
    "   i = 0\n",
    "   m = 3\n",
    "   \n",
    "   while m <= root_n:\n",
    "       if sieve[i]:\n",
    "           j = (m * m - 3) // 2\n",
    "           sieve[j] = 0\n",
    "           while j < mid:\n",
    "               sieve[j] = 0\n",
    "               j += m\n",
    "       \n",
    "       i += 1\n",
    "       m = 2 * i + 3\n",
    "   \n",
    "   return [2] + [p for p in sieve if p]\n",
    "\n",
    "def choose(n, k):\n",
    "   if k < 0 or k > n:\n",
    "       return 0\n",
    "   \n",
    "   else:\n",
    "        p, q = 1, 1\n",
    "       \n",
    "        for i in range(1, min(k, n - k) + 1):\n",
    "           p *= n\n",
    "           q *= i\n",
    "           n -= 1\n",
    "       \n",
    "        return p // q\n",
    "\n",
    "\n",
    "if __name__ == '__main__':\n",
    "   T = int(input())\n",
    "   \n",
    "   for _ in range(T):\n",
    "       N = int(input())\n",
    "       \n",
    "       count, n = 1, 1\n",
    "       \n",
    "       if N % C == 0:\n",
    "           count += 1\n",
    "       \n",
    "       while N - (n * C) > 0:\n",
    "           count += choose(N - (C - 1) * n, n)\n",
    "           n += 1\n",
    "       \n",
    "       print(len(generate_primes(count)))"
   ]
  },
  {
   "cell_type": "code",
   "execution_count": 6,
   "metadata": {},
   "outputs": [
    {
     "data": {
      "text/plain": [
       "str"
      ]
     },
     "execution_count": 6,
     "metadata": {},
     "output_type": "execute_result"
    }
   ],
   "source": []
  },
  {
   "cell_type": "code",
   "execution_count": null,
   "metadata": {},
   "outputs": [],
   "source": []
  }
 ],
 "metadata": {
  "kernelspec": {
   "display_name": "Python 3",
   "language": "python",
   "name": "python3"
  },
  "language_info": {
   "codemirror_mode": {
    "name": "ipython",
    "version": 3
   },
   "file_extension": ".py",
   "mimetype": "text/x-python",
   "name": "python",
   "nbconvert_exporter": "python",
   "pygments_lexer": "ipython3",
   "version": "3.7.1"
  }
 },
 "nbformat": 4,
 "nbformat_minor": 2
}
