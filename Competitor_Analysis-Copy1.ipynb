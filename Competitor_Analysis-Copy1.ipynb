{
 "cells": [
  {
   "cell_type": "markdown",
   "metadata": {},
   "source": [
    "# <p style=\"color:red;\">Competitor Analysis</p>\n",
    "\n",
    "***\n",
    "\n",
    "\n",
    "## Types of Analysis\n",
    "\n",
    "  - **[Social Visibility](#sv)**\n",
    "  \n",
    "  - **[Social Presence](#sp)**\n",
    "\n",
    "### Firms Considered\n",
    "\n",
    ">**<p style=\"color:green;\">Guru & Jana**</p>\n",
    "    \n",
    ">**Suresh & Co.**\n",
    "\n",
    ">**Singhvi Dev and Unni**\n",
    "\n",
    ">**Vasan and Sampath**\n",
    "\n",
    ">**JCSS**\n",
    "\n",
    ">**TSMT**\n"
   ]
  },
  {
   "cell_type": "markdown",
   "metadata": {},
   "source": [
    "## <a id='sv'>Social Visibility</a>\n",
    "\n",
    "> **Considered Parameters**\n",
    "          \n",
    "        1. Google Ratings \n",
    "          \n",
    "        2. Glassdoor Ratings\n",
    "        \n",
    "        3. Justdial\n",
    "        \n",
    "        4. Ambition Box"
   ]
  },
  {
   "cell_type": "code",
   "execution_count": 3,
   "metadata": {},
   "outputs": [
    {
     "name": "stdout",
     "output_type": "stream",
     "text": [
      "[WinError 2] The system cannot find the file specified: 'Desktop/'\n",
      "C:\\Users\\pushkar\\Desktop\n"
     ]
    }
   ],
   "source": [
    "cd Desktop/"
   ]
  },
  {
   "cell_type": "code",
   "execution_count": 21,
   "metadata": {},
   "outputs": [],
   "source": [
    "import pandas as pd\n",
    "import matplotlib.pyplot as plt"
   ]
  },
  {
   "cell_type": "code",
   "execution_count": 5,
   "metadata": {},
   "outputs": [
    {
     "data": {
      "text/html": [
       "<div>\n",
       "<style scoped>\n",
       "    .dataframe tbody tr th:only-of-type {\n",
       "        vertical-align: middle;\n",
       "    }\n",
       "\n",
       "    .dataframe tbody tr th {\n",
       "        vertical-align: top;\n",
       "    }\n",
       "\n",
       "    .dataframe thead th {\n",
       "        text-align: right;\n",
       "    }\n",
       "</style>\n",
       "<table border=\"1\" class=\"dataframe\">\n",
       "  <thead>\n",
       "    <tr style=\"text-align: right;\">\n",
       "      <th></th>\n",
       "      <th>Company _id</th>\n",
       "      <th>Companies</th>\n",
       "      <th>Google</th>\n",
       "      <th>Justdial</th>\n",
       "      <th>Glassdoor</th>\n",
       "      <th>Ambition Box</th>\n",
       "    </tr>\n",
       "  </thead>\n",
       "  <tbody>\n",
       "    <tr>\n",
       "      <th>0</th>\n",
       "      <td>101</td>\n",
       "      <td>Guru &amp; Jana</td>\n",
       "      <td>53</td>\n",
       "      <td>91</td>\n",
       "      <td>15</td>\n",
       "      <td>12</td>\n",
       "    </tr>\n",
       "    <tr>\n",
       "      <th>1</th>\n",
       "      <td>102</td>\n",
       "      <td>Vasan and Sampath</td>\n",
       "      <td>48</td>\n",
       "      <td>43</td>\n",
       "      <td>6</td>\n",
       "      <td>2</td>\n",
       "    </tr>\n",
       "    <tr>\n",
       "      <th>2</th>\n",
       "      <td>103</td>\n",
       "      <td>Suresh &amp; Co.</td>\n",
       "      <td>10</td>\n",
       "      <td>17</td>\n",
       "      <td>4</td>\n",
       "      <td>15</td>\n",
       "    </tr>\n",
       "    <tr>\n",
       "      <th>3</th>\n",
       "      <td>104</td>\n",
       "      <td>Singhvi Dev and Unni</td>\n",
       "      <td>29</td>\n",
       "      <td>91</td>\n",
       "      <td>12</td>\n",
       "      <td>8</td>\n",
       "    </tr>\n",
       "    <tr>\n",
       "      <th>4</th>\n",
       "      <td>105</td>\n",
       "      <td>JCSS</td>\n",
       "      <td>7</td>\n",
       "      <td>22</td>\n",
       "      <td>18</td>\n",
       "      <td>12</td>\n",
       "    </tr>\n",
       "    <tr>\n",
       "      <th>5</th>\n",
       "      <td>106</td>\n",
       "      <td>TSMT</td>\n",
       "      <td>22</td>\n",
       "      <td>15</td>\n",
       "      <td>0</td>\n",
       "      <td>16</td>\n",
       "    </tr>\n",
       "  </tbody>\n",
       "</table>\n",
       "</div>"
      ],
      "text/plain": [
       "   Company _id             Companies  Google  Justdial  Glassdoor  \\\n",
       "0          101           Guru & Jana      53        91         15   \n",
       "1          102     Vasan and Sampath      48        43          6   \n",
       "2          103          Suresh & Co.      10        17          4   \n",
       "3          104  Singhvi Dev and Unni      29        91         12   \n",
       "4          105                  JCSS       7        22         18   \n",
       "5          106                  TSMT      22        15          0   \n",
       "\n",
       "   Ambition Box  \n",
       "0            12  \n",
       "1             2  \n",
       "2            15  \n",
       "3             8  \n",
       "4            12  \n",
       "5            16  "
      ]
     },
     "execution_count": 5,
     "metadata": {},
     "output_type": "execute_result"
    }
   ],
   "source": [
    "sv1 = pd.read_excel('Final_Competitor.xlsx',sheet_name='Reviews_Num')\n",
    "sv1"
   ]
  },
  {
   "cell_type": "code",
   "execution_count": 7,
   "metadata": {},
   "outputs": [
    {
     "data": {
      "text/html": [
       "<div>\n",
       "<style scoped>\n",
       "    .dataframe tbody tr th:only-of-type {\n",
       "        vertical-align: middle;\n",
       "    }\n",
       "\n",
       "    .dataframe tbody tr th {\n",
       "        vertical-align: top;\n",
       "    }\n",
       "\n",
       "    .dataframe thead th {\n",
       "        text-align: right;\n",
       "    }\n",
       "</style>\n",
       "<table border=\"1\" class=\"dataframe\">\n",
       "  <thead>\n",
       "    <tr style=\"text-align: right;\">\n",
       "      <th></th>\n",
       "      <th>Google</th>\n",
       "      <th>Justdial</th>\n",
       "      <th>Glassdoor</th>\n",
       "      <th>Ambition Box</th>\n",
       "    </tr>\n",
       "    <tr>\n",
       "      <th>Companies</th>\n",
       "      <th></th>\n",
       "      <th></th>\n",
       "      <th></th>\n",
       "      <th></th>\n",
       "    </tr>\n",
       "  </thead>\n",
       "  <tbody>\n",
       "    <tr>\n",
       "      <th>Guru &amp; Jana</th>\n",
       "      <td>53</td>\n",
       "      <td>91</td>\n",
       "      <td>15</td>\n",
       "      <td>12</td>\n",
       "    </tr>\n",
       "    <tr>\n",
       "      <th>Vasan and Sampath</th>\n",
       "      <td>48</td>\n",
       "      <td>43</td>\n",
       "      <td>6</td>\n",
       "      <td>2</td>\n",
       "    </tr>\n",
       "    <tr>\n",
       "      <th>Suresh &amp; Co.</th>\n",
       "      <td>10</td>\n",
       "      <td>17</td>\n",
       "      <td>4</td>\n",
       "      <td>15</td>\n",
       "    </tr>\n",
       "    <tr>\n",
       "      <th>Singhvi Dev and Unni</th>\n",
       "      <td>29</td>\n",
       "      <td>91</td>\n",
       "      <td>12</td>\n",
       "      <td>8</td>\n",
       "    </tr>\n",
       "    <tr>\n",
       "      <th>JCSS</th>\n",
       "      <td>7</td>\n",
       "      <td>22</td>\n",
       "      <td>18</td>\n",
       "      <td>12</td>\n",
       "    </tr>\n",
       "    <tr>\n",
       "      <th>TSMT</th>\n",
       "      <td>22</td>\n",
       "      <td>15</td>\n",
       "      <td>0</td>\n",
       "      <td>16</td>\n",
       "    </tr>\n",
       "  </tbody>\n",
       "</table>\n",
       "</div>"
      ],
      "text/plain": [
       "                      Google  Justdial  Glassdoor  Ambition Box\n",
       "Companies                                                      \n",
       "Guru & Jana               53        91         15            12\n",
       "Vasan and Sampath         48        43          6             2\n",
       "Suresh & Co.              10        17          4            15\n",
       "Singhvi Dev and Unni      29        91         12             8\n",
       "JCSS                       7        22         18            12\n",
       "TSMT                      22        15          0            16"
      ]
     },
     "execution_count": 7,
     "metadata": {},
     "output_type": "execute_result"
    }
   ],
   "source": [
    "sv1.drop('Company _id', axis =1,inplace =True)\n",
    "fig1= sv1.set_index('Companies')\n",
    "fig1"
   ]
  },
  {
   "cell_type": "markdown",
   "metadata": {},
   "source": [
    "#### <p style=\"color:red;\">Total Number of Reviews at different Platforms</p>"
   ]
  },
  {
   "cell_type": "code",
   "execution_count": 8,
   "metadata": {},
   "outputs": [
    {
     "data": {
      "image/png": "[encoded data removed]",
      "text/plain": [
       "<Figure size 1152x576 with 1 Axes>"
      ]
     },
     "metadata": {
      "needs_background": "light"
     },
     "output_type": "display_data"
    }
   ],
   "source": [
    "fig1.plot(kind= 'bar', use_index= True, figsize=(16,8))\n",
    "plt.xticks(fontsize=15, rotation=0)\n",
    "plt.show()"
   ]
  },
  {
   "cell_type": "code",
   "execution_count": 9,
   "metadata": {},
   "outputs": [
    {
     "data": {
      "text/html": [
       "<div>\n",
       "<style scoped>\n",
       "    .dataframe tbody tr th:only-of-type {\n",
       "        vertical-align: middle;\n",
       "    }\n",
       "\n",
       "    .dataframe tbody tr th {\n",
       "        vertical-align: top;\n",
       "    }\n",
       "\n",
       "    .dataframe thead th {\n",
       "        text-align: right;\n",
       "    }\n",
       "</style>\n",
       "<table border=\"1\" class=\"dataframe\">\n",
       "  <thead>\n",
       "    <tr style=\"text-align: right;\">\n",
       "      <th></th>\n",
       "      <th>Company _id</th>\n",
       "      <th>Companies</th>\n",
       "      <th>Google_Rating</th>\n",
       "      <th>Justdial_Rating</th>\n",
       "      <th>Glassdoor_Rating</th>\n",
       "      <th>Ambition Box_Rating</th>\n",
       "    </tr>\n",
       "  </thead>\n",
       "  <tbody>\n",
       "    <tr>\n",
       "      <th>0</th>\n",
       "      <td>101</td>\n",
       "      <td>Guru &amp; Jana</td>\n",
       "      <td>4.6</td>\n",
       "      <td>4.3</td>\n",
       "      <td>4.2</td>\n",
       "      <td>3.5</td>\n",
       "    </tr>\n",
       "    <tr>\n",
       "      <th>1</th>\n",
       "      <td>102</td>\n",
       "      <td>Vasan and Sampath</td>\n",
       "      <td>4.2</td>\n",
       "      <td>4.1</td>\n",
       "      <td>3.4</td>\n",
       "      <td>5.0</td>\n",
       "    </tr>\n",
       "    <tr>\n",
       "      <th>2</th>\n",
       "      <td>103</td>\n",
       "      <td>Suresh &amp; Co.</td>\n",
       "      <td>4.1</td>\n",
       "      <td>3.8</td>\n",
       "      <td>4.2</td>\n",
       "      <td>4.1</td>\n",
       "    </tr>\n",
       "    <tr>\n",
       "      <th>3</th>\n",
       "      <td>104</td>\n",
       "      <td>Singhvi Dev and Unni</td>\n",
       "      <td>4.7</td>\n",
       "      <td>4.4</td>\n",
       "      <td>3.9</td>\n",
       "      <td>4.4</td>\n",
       "    </tr>\n",
       "    <tr>\n",
       "      <th>4</th>\n",
       "      <td>105</td>\n",
       "      <td>JCSS</td>\n",
       "      <td>4.3</td>\n",
       "      <td>4.0</td>\n",
       "      <td>3.6</td>\n",
       "      <td>4.6</td>\n",
       "    </tr>\n",
       "    <tr>\n",
       "      <th>5</th>\n",
       "      <td>106</td>\n",
       "      <td>TSMT</td>\n",
       "      <td>4.8</td>\n",
       "      <td>4.8</td>\n",
       "      <td>0.0</td>\n",
       "      <td>3.9</td>\n",
       "    </tr>\n",
       "  </tbody>\n",
       "</table>\n",
       "</div>"
      ],
      "text/plain": [
       "   Company _id             Companies  Google_Rating  Justdial_Rating  \\\n",
       "0          101           Guru & Jana            4.6              4.3   \n",
       "1          102     Vasan and Sampath            4.2              4.1   \n",
       "2          103          Suresh & Co.            4.1              3.8   \n",
       "3          104  Singhvi Dev and Unni            4.7              4.4   \n",
       "4          105                  JCSS            4.3              4.0   \n",
       "5          106                  TSMT            4.8              4.8   \n",
       "\n",
       "   Glassdoor_Rating  Ambition Box_Rating  \n",
       "0               4.2                  3.5  \n",
       "1               3.4                  5.0  \n",
       "2               4.2                  4.1  \n",
       "3               3.9                  4.4  \n",
       "4               3.6                  4.6  \n",
       "5               0.0                  3.9  "
      ]
     },
     "execution_count": 9,
     "metadata": {},
     "output_type": "execute_result"
    }
   ],
   "source": [
    "sv2 = pd.read_excel('Final_Competitor.xlsx',sheet_name='Ratings')\n",
    "sv2"
   ]
  },
  {
   "cell_type": "code",
   "execution_count": 10,
   "metadata": {},
   "outputs": [],
   "source": [
    "def div_by_5(x):\n",
    "    float(x)\n",
    "    return (x/5)*100\n",
    "\n",
    "sv2['Google_Rating'] = sv2.Google_Rating.apply(lambda x: div_by_5(x))\n",
    "sv2['Justdial_Rating'] = sv2.Justdial_Rating.apply(lambda x: div_by_5(x))\n",
    "sv2['Glassdoor_Rating'] = sv2.Glassdoor_Rating.apply(lambda x: div_by_5(x))\n",
    "sv2['Ambition Box_Rating'] = sv2['Ambition Box_Rating'].apply(lambda x: div_by_5(x))\n"
   ]
  },
  {
   "cell_type": "code",
   "execution_count": 11,
   "metadata": {},
   "outputs": [
    {
     "data": {
      "text/html": [
       "<div>\n",
       "<style scoped>\n",
       "    .dataframe tbody tr th:only-of-type {\n",
       "        vertical-align: middle;\n",
       "    }\n",
       "\n",
       "    .dataframe tbody tr th {\n",
       "        vertical-align: top;\n",
       "    }\n",
       "\n",
       "    .dataframe thead th {\n",
       "        text-align: right;\n",
       "    }\n",
       "</style>\n",
       "<table border=\"1\" class=\"dataframe\">\n",
       "  <thead>\n",
       "    <tr style=\"text-align: right;\">\n",
       "      <th></th>\n",
       "      <th>Company _id</th>\n",
       "      <th>Companies</th>\n",
       "      <th>Google_Rating</th>\n",
       "      <th>Justdial_Rating</th>\n",
       "      <th>Glassdoor_Rating</th>\n",
       "      <th>Ambition Box_Rating</th>\n",
       "    </tr>\n",
       "  </thead>\n",
       "  <tbody>\n",
       "    <tr>\n",
       "      <th>0</th>\n",
       "      <td>101</td>\n",
       "      <td>Guru &amp; Jana</td>\n",
       "      <td>92.0</td>\n",
       "      <td>86.0</td>\n",
       "      <td>84.0</td>\n",
       "      <td>70.0</td>\n",
       "    </tr>\n",
       "  </tbody>\n",
       "</table>\n",
       "</div>"
      ],
      "text/plain": [
       "   Company _id    Companies  Google_Rating  Justdial_Rating  Glassdoor_Rating  \\\n",
       "0          101  Guru & Jana           92.0             86.0              84.0   \n",
       "\n",
       "   Ambition Box_Rating  \n",
       "0                 70.0  "
      ]
     },
     "execution_count": 11,
     "metadata": {},
     "output_type": "execute_result"
    }
   ],
   "source": [
    "sv2.head(1)"
   ]
  },
  {
   "cell_type": "code",
   "execution_count": 12,
   "metadata": {},
   "outputs": [
    {
     "data": {
      "text/plain": [
       "Index(['Companies', 'Google', 'Justdial', 'Glassdoor', 'Ambition Box'], dtype='object')"
      ]
     },
     "execution_count": 12,
     "metadata": {},
     "output_type": "execute_result"
    }
   ],
   "source": [
    "sv1.columns"
   ]
  },
  {
   "cell_type": "code",
   "execution_count": 13,
   "metadata": {},
   "outputs": [],
   "source": [
    "# df1['b+c']=df1['b']+df2['c']\n",
    "sv1['Google_BAZ'] = round((((sv2['Google_Rating']/100) * sv1['Google'])+1)/(sv1['Google']+2),2)\n",
    "sv1['Justdial_BAZ'] = round((((sv2['Justdial_Rating']/100) * sv1['Justdial'])+1)/(sv1['Justdial']+2),2)\n",
    "sv1['Glassdoor_BAZ'] = round((((sv2['Glassdoor_Rating']/100) * sv1['Glassdoor'])+1)/(sv1['Glassdoor']+2),2)\n",
    "sv1['Ambition_Box_BAZ'] = round((((sv2['Ambition Box_Rating']/100) * sv1['Ambition Box'])+1)/(sv1['Ambition Box']+2),2)"
   ]
  },
  {
   "cell_type": "code",
   "execution_count": 14,
   "metadata": {},
   "outputs": [
    {
     "data": {
      "text/html": [
       "<div>\n",
       "<style scoped>\n",
       "    .dataframe tbody tr th:only-of-type {\n",
       "        vertical-align: middle;\n",
       "    }\n",
       "\n",
       "    .dataframe tbody tr th {\n",
       "        vertical-align: top;\n",
       "    }\n",
       "\n",
       "    .dataframe thead th {\n",
       "        text-align: right;\n",
       "    }\n",
       "</style>\n",
       "<table border=\"1\" class=\"dataframe\">\n",
       "  <thead>\n",
       "    <tr style=\"text-align: right;\">\n",
       "      <th></th>\n",
       "      <th>Companies</th>\n",
       "      <th>Google</th>\n",
       "      <th>Justdial</th>\n",
       "      <th>Glassdoor</th>\n",
       "      <th>Ambition Box</th>\n",
       "      <th>Google_BAZ</th>\n",
       "      <th>Justdial_BAZ</th>\n",
       "      <th>Glassdoor_BAZ</th>\n",
       "      <th>Ambition_Box_BAZ</th>\n",
       "    </tr>\n",
       "  </thead>\n",
       "  <tbody>\n",
       "    <tr>\n",
       "      <th>0</th>\n",
       "      <td>Guru &amp; Jana</td>\n",
       "      <td>53</td>\n",
       "      <td>91</td>\n",
       "      <td>15</td>\n",
       "      <td>12</td>\n",
       "      <td>0.90</td>\n",
       "      <td>0.85</td>\n",
       "      <td>0.80</td>\n",
       "      <td>0.67</td>\n",
       "    </tr>\n",
       "    <tr>\n",
       "      <th>1</th>\n",
       "      <td>Vasan and Sampath</td>\n",
       "      <td>48</td>\n",
       "      <td>43</td>\n",
       "      <td>6</td>\n",
       "      <td>2</td>\n",
       "      <td>0.83</td>\n",
       "      <td>0.81</td>\n",
       "      <td>0.64</td>\n",
       "      <td>0.75</td>\n",
       "    </tr>\n",
       "    <tr>\n",
       "      <th>2</th>\n",
       "      <td>Suresh &amp; Co.</td>\n",
       "      <td>10</td>\n",
       "      <td>17</td>\n",
       "      <td>4</td>\n",
       "      <td>15</td>\n",
       "      <td>0.77</td>\n",
       "      <td>0.73</td>\n",
       "      <td>0.73</td>\n",
       "      <td>0.78</td>\n",
       "    </tr>\n",
       "    <tr>\n",
       "      <th>3</th>\n",
       "      <td>Singhvi Dev and Unni</td>\n",
       "      <td>29</td>\n",
       "      <td>91</td>\n",
       "      <td>12</td>\n",
       "      <td>8</td>\n",
       "      <td>0.91</td>\n",
       "      <td>0.87</td>\n",
       "      <td>0.74</td>\n",
       "      <td>0.80</td>\n",
       "    </tr>\n",
       "    <tr>\n",
       "      <th>4</th>\n",
       "      <td>JCSS</td>\n",
       "      <td>7</td>\n",
       "      <td>22</td>\n",
       "      <td>18</td>\n",
       "      <td>12</td>\n",
       "      <td>0.78</td>\n",
       "      <td>0.78</td>\n",
       "      <td>0.70</td>\n",
       "      <td>0.86</td>\n",
       "    </tr>\n",
       "  </tbody>\n",
       "</table>\n",
       "</div>"
      ],
      "text/plain": [
       "              Companies  Google  Justdial  Glassdoor  Ambition Box  \\\n",
       "0           Guru & Jana      53        91         15            12   \n",
       "1     Vasan and Sampath      48        43          6             2   \n",
       "2          Suresh & Co.      10        17          4            15   \n",
       "3  Singhvi Dev and Unni      29        91         12             8   \n",
       "4                  JCSS       7        22         18            12   \n",
       "\n",
       "   Google_BAZ  Justdial_BAZ  Glassdoor_BAZ  Ambition_Box_BAZ  \n",
       "0        0.90          0.85           0.80              0.67  \n",
       "1        0.83          0.81           0.64              0.75  \n",
       "2        0.77          0.73           0.73              0.78  \n",
       "3        0.91          0.87           0.74              0.80  \n",
       "4        0.78          0.78           0.70              0.86  "
      ]
     },
     "execution_count": 14,
     "metadata": {},
     "output_type": "execute_result"
    }
   ],
   "source": [
    "sv1.head()"
   ]
  },
  {
   "cell_type": "code",
   "execution_count": 16,
   "metadata": {},
   "outputs": [
    {
     "data": {
      "text/html": [
       "<div>\n",
       "<style scoped>\n",
       "    .dataframe tbody tr th:only-of-type {\n",
       "        vertical-align: middle;\n",
       "    }\n",
       "\n",
       "    .dataframe tbody tr th {\n",
       "        vertical-align: top;\n",
       "    }\n",
       "\n",
       "    .dataframe thead th {\n",
       "        text-align: right;\n",
       "    }\n",
       "</style>\n",
       "<table border=\"1\" class=\"dataframe\">\n",
       "  <thead>\n",
       "    <tr style=\"text-align: right;\">\n",
       "      <th></th>\n",
       "      <th>Companies</th>\n",
       "      <th>Google_BAZ</th>\n",
       "      <th>Justdial_BAZ</th>\n",
       "      <th>Glassdoor_BAZ</th>\n",
       "      <th>Ambition_Box_BAZ</th>\n",
       "    </tr>\n",
       "  </thead>\n",
       "  <tbody>\n",
       "    <tr>\n",
       "      <th>0</th>\n",
       "      <td>Guru &amp; Jana</td>\n",
       "      <td>0.90</td>\n",
       "      <td>0.85</td>\n",
       "      <td>0.80</td>\n",
       "      <td>0.67</td>\n",
       "    </tr>\n",
       "    <tr>\n",
       "      <th>1</th>\n",
       "      <td>Vasan and Sampath</td>\n",
       "      <td>0.83</td>\n",
       "      <td>0.81</td>\n",
       "      <td>0.64</td>\n",
       "      <td>0.75</td>\n",
       "    </tr>\n",
       "    <tr>\n",
       "      <th>2</th>\n",
       "      <td>Suresh &amp; Co.</td>\n",
       "      <td>0.77</td>\n",
       "      <td>0.73</td>\n",
       "      <td>0.73</td>\n",
       "      <td>0.78</td>\n",
       "    </tr>\n",
       "    <tr>\n",
       "      <th>3</th>\n",
       "      <td>Singhvi Dev and Unni</td>\n",
       "      <td>0.91</td>\n",
       "      <td>0.87</td>\n",
       "      <td>0.74</td>\n",
       "      <td>0.80</td>\n",
       "    </tr>\n",
       "    <tr>\n",
       "      <th>4</th>\n",
       "      <td>JCSS</td>\n",
       "      <td>0.78</td>\n",
       "      <td>0.78</td>\n",
       "      <td>0.70</td>\n",
       "      <td>0.86</td>\n",
       "    </tr>\n",
       "    <tr>\n",
       "      <th>5</th>\n",
       "      <td>TSMT</td>\n",
       "      <td>0.92</td>\n",
       "      <td>0.91</td>\n",
       "      <td>0.50</td>\n",
       "      <td>0.75</td>\n",
       "    </tr>\n",
       "  </tbody>\n",
       "</table>\n",
       "</div>"
      ],
      "text/plain": [
       "              Companies  Google_BAZ  Justdial_BAZ  Glassdoor_BAZ  \\\n",
       "0           Guru & Jana        0.90          0.85           0.80   \n",
       "1     Vasan and Sampath        0.83          0.81           0.64   \n",
       "2          Suresh & Co.        0.77          0.73           0.73   \n",
       "3  Singhvi Dev and Unni        0.91          0.87           0.74   \n",
       "4                  JCSS        0.78          0.78           0.70   \n",
       "5                  TSMT        0.92          0.91           0.50   \n",
       "\n",
       "   Ambition_Box_BAZ  \n",
       "0              0.67  \n",
       "1              0.75  \n",
       "2              0.78  \n",
       "3              0.80  \n",
       "4              0.86  \n",
       "5              0.75  "
      ]
     },
     "execution_count": 16,
     "metadata": {},
     "output_type": "execute_result"
    }
   ],
   "source": [
    "sv1.drop(['Google', 'Justdial', 'Glassdoor', 'Ambition Box'], axis =1, inplace = True)\n",
    "sv1"
   ]
  },
  {
   "cell_type": "code",
   "execution_count": 18,
   "metadata": {},
   "outputs": [
    {
     "data": {
      "text/html": [
       "<div>\n",
       "<style scoped>\n",
       "    .dataframe tbody tr th:only-of-type {\n",
       "        vertical-align: middle;\n",
       "    }\n",
       "\n",
       "    .dataframe tbody tr th {\n",
       "        vertical-align: top;\n",
       "    }\n",
       "\n",
       "    .dataframe thead th {\n",
       "        text-align: right;\n",
       "    }\n",
       "</style>\n",
       "<table border=\"1\" class=\"dataframe\">\n",
       "  <thead>\n",
       "    <tr style=\"text-align: right;\">\n",
       "      <th></th>\n",
       "      <th>Companies</th>\n",
       "      <th>Google_BAZ</th>\n",
       "      <th>Justdial_BAZ</th>\n",
       "      <th>Glassdoor_BAZ</th>\n",
       "      <th>Ambition_Box_BAZ</th>\n",
       "    </tr>\n",
       "  </thead>\n",
       "  <tbody>\n",
       "    <tr>\n",
       "      <th>0</th>\n",
       "      <td>Guru &amp; Jana</td>\n",
       "      <td>0.90</td>\n",
       "      <td>0.85</td>\n",
       "      <td>0.80</td>\n",
       "      <td>0.67</td>\n",
       "    </tr>\n",
       "    <tr>\n",
       "      <th>1</th>\n",
       "      <td>Vasan and Sampath</td>\n",
       "      <td>0.83</td>\n",
       "      <td>0.81</td>\n",
       "      <td>0.64</td>\n",
       "      <td>0.75</td>\n",
       "    </tr>\n",
       "    <tr>\n",
       "      <th>2</th>\n",
       "      <td>Suresh &amp; Co.</td>\n",
       "      <td>0.77</td>\n",
       "      <td>0.73</td>\n",
       "      <td>0.73</td>\n",
       "      <td>0.78</td>\n",
       "    </tr>\n",
       "    <tr>\n",
       "      <th>3</th>\n",
       "      <td>Singhvi Dev and Unni</td>\n",
       "      <td>0.91</td>\n",
       "      <td>0.87</td>\n",
       "      <td>0.74</td>\n",
       "      <td>0.80</td>\n",
       "    </tr>\n",
       "    <tr>\n",
       "      <th>4</th>\n",
       "      <td>JCSS</td>\n",
       "      <td>0.78</td>\n",
       "      <td>0.78</td>\n",
       "      <td>0.70</td>\n",
       "      <td>0.86</td>\n",
       "    </tr>\n",
       "    <tr>\n",
       "      <th>5</th>\n",
       "      <td>TSMT</td>\n",
       "      <td>0.92</td>\n",
       "      <td>0.91</td>\n",
       "      <td>0.50</td>\n",
       "      <td>0.75</td>\n",
       "    </tr>\n",
       "  </tbody>\n",
       "</table>\n",
       "</div>"
      ],
      "text/plain": [
       "              Companies  Google_BAZ  Justdial_BAZ  Glassdoor_BAZ  \\\n",
       "0           Guru & Jana        0.90          0.85           0.80   \n",
       "1     Vasan and Sampath        0.83          0.81           0.64   \n",
       "2          Suresh & Co.        0.77          0.73           0.73   \n",
       "3  Singhvi Dev and Unni        0.91          0.87           0.74   \n",
       "4                  JCSS        0.78          0.78           0.70   \n",
       "5                  TSMT        0.92          0.91           0.50   \n",
       "\n",
       "   Ambition_Box_BAZ  \n",
       "0              0.67  \n",
       "1              0.75  \n",
       "2              0.78  \n",
       "3              0.80  \n",
       "4              0.86  \n",
       "5              0.75  "
      ]
     },
     "execution_count": 18,
     "metadata": {},
     "output_type": "execute_result"
    }
   ],
   "source": [
    "fig2= sv1.copy()\n",
    "fig2"
   ]
  },
  {
   "cell_type": "code",
   "execution_count": 19,
   "metadata": {},
   "outputs": [
    {
     "data": {
      "text/html": [
       "<div>\n",
       "<style scoped>\n",
       "    .dataframe tbody tr th:only-of-type {\n",
       "        vertical-align: middle;\n",
       "    }\n",
       "\n",
       "    .dataframe tbody tr th {\n",
       "        vertical-align: top;\n",
       "    }\n",
       "\n",
       "    .dataframe thead th {\n",
       "        text-align: right;\n",
       "    }\n",
       "</style>\n",
       "<table border=\"1\" class=\"dataframe\">\n",
       "  <thead>\n",
       "    <tr style=\"text-align: right;\">\n",
       "      <th></th>\n",
       "      <th>Google_BAZ</th>\n",
       "      <th>Justdial_BAZ</th>\n",
       "      <th>Glassdoor_BAZ</th>\n",
       "      <th>Ambition_Box_BAZ</th>\n",
       "    </tr>\n",
       "    <tr>\n",
       "      <th>Companies</th>\n",
       "      <th></th>\n",
       "      <th></th>\n",
       "      <th></th>\n",
       "      <th></th>\n",
       "    </tr>\n",
       "  </thead>\n",
       "  <tbody>\n",
       "    <tr>\n",
       "      <th>Guru &amp; Jana</th>\n",
       "      <td>0.90</td>\n",
       "      <td>0.85</td>\n",
       "      <td>0.80</td>\n",
       "      <td>0.67</td>\n",
       "    </tr>\n",
       "    <tr>\n",
       "      <th>Vasan and Sampath</th>\n",
       "      <td>0.83</td>\n",
       "      <td>0.81</td>\n",
       "      <td>0.64</td>\n",
       "      <td>0.75</td>\n",
       "    </tr>\n",
       "    <tr>\n",
       "      <th>Suresh &amp; Co.</th>\n",
       "      <td>0.77</td>\n",
       "      <td>0.73</td>\n",
       "      <td>0.73</td>\n",
       "      <td>0.78</td>\n",
       "    </tr>\n",
       "    <tr>\n",
       "      <th>Singhvi Dev and Unni</th>\n",
       "      <td>0.91</td>\n",
       "      <td>0.87</td>\n",
       "      <td>0.74</td>\n",
       "      <td>0.80</td>\n",
       "    </tr>\n",
       "    <tr>\n",
       "      <th>JCSS</th>\n",
       "      <td>0.78</td>\n",
       "      <td>0.78</td>\n",
       "      <td>0.70</td>\n",
       "      <td>0.86</td>\n",
       "    </tr>\n",
       "  </tbody>\n",
       "</table>\n",
       "</div>"
      ],
      "text/plain": [
       "                      Google_BAZ  Justdial_BAZ  Glassdoor_BAZ  \\\n",
       "Companies                                                       \n",
       "Guru & Jana                 0.90          0.85           0.80   \n",
       "Vasan and Sampath           0.83          0.81           0.64   \n",
       "Suresh & Co.                0.77          0.73           0.73   \n",
       "Singhvi Dev and Unni        0.91          0.87           0.74   \n",
       "JCSS                        0.78          0.78           0.70   \n",
       "\n",
       "                      Ambition_Box_BAZ  \n",
       "Companies                               \n",
       "Guru & Jana                       0.67  \n",
       "Vasan and Sampath                 0.75  \n",
       "Suresh & Co.                      0.78  \n",
       "Singhvi Dev and Unni              0.80  \n",
       "JCSS                              0.86  "
      ]
     },
     "execution_count": 19,
     "metadata": {},
     "output_type": "execute_result"
    }
   ],
   "source": [
    "fig2= sv1.set_index('Companies')\n",
    "fig2.head()"
   ]
  },
  {
   "cell_type": "code",
   "execution_count": 22,
   "metadata": {},
   "outputs": [
    {
     "ename": "SyntaxError",
     "evalue": "invalid syntax (<ipython-input-22-aa0ddf0458e8>, line 2)",
     "output_type": "error",
     "traceback": [
      "\u001b[1;36m  File \u001b[1;32m\"<ipython-input-22-aa0ddf0458e8>\"\u001b[1;36m, line \u001b[1;32m2\u001b[0m\n\u001b[1;33m    plt.xticks(fontsize=15, rotation=0)\u001b[0m\n\u001b[1;37m      ^\u001b[0m\n\u001b[1;31mSyntaxError\u001b[0m\u001b[1;31m:\u001b[0m invalid syntax\n"
     ]
    }
   ],
   "source": [
    "fig2.plot(kind= 'bar', use_index= True, figsize=(16,8)\n",
    "plt.xticks(fontsize=15, rotation=0)\n",
    "plt.show()"
   ]
  },
  {
   "cell_type": "code",
   "execution_count": 23,
   "metadata": {},
   "outputs": [
    {
     "ename": "KeyError",
     "evalue": "\"['Google&Justdial'] not found in axis\"",
     "output_type": "error",
     "traceback": [
      "\u001b[1;31m---------------------------------------------------------------------------\u001b[0m",
      "\u001b[1;31mKeyError\u001b[0m                                  Traceback (most recent call last)",
      "\u001b[1;32m<ipython-input-23-cd985cabc7ec>\u001b[0m in \u001b[0;36m<module>\u001b[1;34m\u001b[0m\n\u001b[0;32m      1\u001b[0m \u001b[0mfig2\u001b[0m\u001b[1;33m[\u001b[0m\u001b[1;34m'ensemble_rating'\u001b[0m\u001b[1;33m]\u001b[0m \u001b[1;33m=\u001b[0m \u001b[0mround\u001b[0m\u001b[1;33m(\u001b[0m\u001b[1;33m(\u001b[0m\u001b[1;33m(\u001b[0m\u001b[1;36m1.75\u001b[0m\u001b[1;33m*\u001b[0m\u001b[0mfig2\u001b[0m\u001b[1;33m[\u001b[0m\u001b[1;34m'Google_BAZ'\u001b[0m\u001b[1;33m]\u001b[0m\u001b[1;33m)\u001b[0m \u001b[1;33m+\u001b[0m \u001b[1;36m1.5\u001b[0m\u001b[1;33m*\u001b[0m\u001b[0mfig2\u001b[0m\u001b[1;33m[\u001b[0m\u001b[1;34m'Justdial_BAZ'\u001b[0m\u001b[1;33m]\u001b[0m \u001b[1;33m+\u001b[0m \u001b[1;36m1.25\u001b[0m\u001b[1;33m*\u001b[0m\u001b[0mfig2\u001b[0m\u001b[1;33m[\u001b[0m\u001b[1;34m'Glassdoor_BAZ'\u001b[0m\u001b[1;33m]\u001b[0m \u001b[1;33m+\u001b[0m \u001b[1;36m0.5\u001b[0m\u001b[1;33m*\u001b[0m\u001b[0mfig2\u001b[0m\u001b[1;33m[\u001b[0m\u001b[1;34m'Ambition_Box_BAZ'\u001b[0m\u001b[1;33m]\u001b[0m\u001b[1;33m)\u001b[0m\u001b[1;33m/\u001b[0m\u001b[1;36m5\u001b[0m\u001b[1;33m,\u001b[0m\u001b[1;36m3\u001b[0m\u001b[1;33m)\u001b[0m\u001b[1;33m\u001b[0m\u001b[1;33m\u001b[0m\u001b[0m\n\u001b[1;32m----> 2\u001b[1;33m \u001b[0mfig2\u001b[0m\u001b[1;33m.\u001b[0m\u001b[0mdrop\u001b[0m\u001b[1;33m(\u001b[0m\u001b[1;34m'Google&Justdial'\u001b[0m\u001b[1;33m,\u001b[0m\u001b[0maxis\u001b[0m \u001b[1;33m=\u001b[0m\u001b[1;36m1\u001b[0m\u001b[1;33m,\u001b[0m \u001b[0minplace\u001b[0m\u001b[1;33m=\u001b[0m\u001b[1;32mTrue\u001b[0m\u001b[1;33m)\u001b[0m\u001b[1;33m\u001b[0m\u001b[1;33m\u001b[0m\u001b[0m\n\u001b[0m\u001b[0;32m      3\u001b[0m \u001b[0mfig2\u001b[0m\u001b[1;33m.\u001b[0m\u001b[0mhead\u001b[0m\u001b[1;33m(\u001b[0m\u001b[1;33m)\u001b[0m\u001b[1;33m\u001b[0m\u001b[1;33m\u001b[0m\u001b[0m\n",
      "\u001b[1;32mC:\\ProgramData\\Anaconda3\\lib\\site-packages\\pandas\\core\\frame.py\u001b[0m in \u001b[0;36mdrop\u001b[1;34m(self, labels, axis, index, columns, level, inplace, errors)\u001b[0m\n\u001b[0;32m   3995\u001b[0m             \u001b[0mlevel\u001b[0m\u001b[1;33m=\u001b[0m\u001b[0mlevel\u001b[0m\u001b[1;33m,\u001b[0m\u001b[1;33m\u001b[0m\u001b[1;33m\u001b[0m\u001b[0m\n\u001b[0;32m   3996\u001b[0m             \u001b[0minplace\u001b[0m\u001b[1;33m=\u001b[0m\u001b[0minplace\u001b[0m\u001b[1;33m,\u001b[0m\u001b[1;33m\u001b[0m\u001b[1;33m\u001b[0m\u001b[0m\n\u001b[1;32m-> 3997\u001b[1;33m             \u001b[0merrors\u001b[0m\u001b[1;33m=\u001b[0m\u001b[0merrors\u001b[0m\u001b[1;33m,\u001b[0m\u001b[1;33m\u001b[0m\u001b[1;33m\u001b[0m\u001b[0m\n\u001b[0m\u001b[0;32m   3998\u001b[0m         )\n\u001b[0;32m   3999\u001b[0m \u001b[1;33m\u001b[0m\u001b[0m\n",
      "\u001b[1;32mC:\\ProgramData\\Anaconda3\\lib\\site-packages\\pandas\\core\\generic.py\u001b[0m in \u001b[0;36mdrop\u001b[1;34m(self, labels, axis, index, columns, level, inplace, errors)\u001b[0m\n\u001b[0;32m   3934\u001b[0m         \u001b[1;32mfor\u001b[0m \u001b[0maxis\u001b[0m\u001b[1;33m,\u001b[0m \u001b[0mlabels\u001b[0m \u001b[1;32min\u001b[0m \u001b[0maxes\u001b[0m\u001b[1;33m.\u001b[0m\u001b[0mitems\u001b[0m\u001b[1;33m(\u001b[0m\u001b[1;33m)\u001b[0m\u001b[1;33m:\u001b[0m\u001b[1;33m\u001b[0m\u001b[1;33m\u001b[0m\u001b[0m\n\u001b[0;32m   3935\u001b[0m             \u001b[1;32mif\u001b[0m \u001b[0mlabels\u001b[0m \u001b[1;32mis\u001b[0m \u001b[1;32mnot\u001b[0m \u001b[1;32mNone\u001b[0m\u001b[1;33m:\u001b[0m\u001b[1;33m\u001b[0m\u001b[1;33m\u001b[0m\u001b[0m\n\u001b[1;32m-> 3936\u001b[1;33m                 \u001b[0mobj\u001b[0m \u001b[1;33m=\u001b[0m \u001b[0mobj\u001b[0m\u001b[1;33m.\u001b[0m\u001b[0m_drop_axis\u001b[0m\u001b[1;33m(\u001b[0m\u001b[0mlabels\u001b[0m\u001b[1;33m,\u001b[0m \u001b[0maxis\u001b[0m\u001b[1;33m,\u001b[0m \u001b[0mlevel\u001b[0m\u001b[1;33m=\u001b[0m\u001b[0mlevel\u001b[0m\u001b[1;33m,\u001b[0m \u001b[0merrors\u001b[0m\u001b[1;33m=\u001b[0m\u001b[0merrors\u001b[0m\u001b[1;33m)\u001b[0m\u001b[1;33m\u001b[0m\u001b[1;33m\u001b[0m\u001b[0m\n\u001b[0m\u001b[0;32m   3937\u001b[0m \u001b[1;33m\u001b[0m\u001b[0m\n\u001b[0;32m   3938\u001b[0m         \u001b[1;32mif\u001b[0m \u001b[0minplace\u001b[0m\u001b[1;33m:\u001b[0m\u001b[1;33m\u001b[0m\u001b[1;33m\u001b[0m\u001b[0m\n",
      "\u001b[1;32mC:\\ProgramData\\Anaconda3\\lib\\site-packages\\pandas\\core\\generic.py\u001b[0m in \u001b[0;36m_drop_axis\u001b[1;34m(self, labels, axis, level, errors)\u001b[0m\n\u001b[0;32m   3968\u001b[0m                 \u001b[0mnew_axis\u001b[0m \u001b[1;33m=\u001b[0m \u001b[0maxis\u001b[0m\u001b[1;33m.\u001b[0m\u001b[0mdrop\u001b[0m\u001b[1;33m(\u001b[0m\u001b[0mlabels\u001b[0m\u001b[1;33m,\u001b[0m \u001b[0mlevel\u001b[0m\u001b[1;33m=\u001b[0m\u001b[0mlevel\u001b[0m\u001b[1;33m,\u001b[0m \u001b[0merrors\u001b[0m\u001b[1;33m=\u001b[0m\u001b[0merrors\u001b[0m\u001b[1;33m)\u001b[0m\u001b[1;33m\u001b[0m\u001b[1;33m\u001b[0m\u001b[0m\n\u001b[0;32m   3969\u001b[0m             \u001b[1;32melse\u001b[0m\u001b[1;33m:\u001b[0m\u001b[1;33m\u001b[0m\u001b[1;33m\u001b[0m\u001b[0m\n\u001b[1;32m-> 3970\u001b[1;33m                 \u001b[0mnew_axis\u001b[0m \u001b[1;33m=\u001b[0m \u001b[0maxis\u001b[0m\u001b[1;33m.\u001b[0m\u001b[0mdrop\u001b[0m\u001b[1;33m(\u001b[0m\u001b[0mlabels\u001b[0m\u001b[1;33m,\u001b[0m \u001b[0merrors\u001b[0m\u001b[1;33m=\u001b[0m\u001b[0merrors\u001b[0m\u001b[1;33m)\u001b[0m\u001b[1;33m\u001b[0m\u001b[1;33m\u001b[0m\u001b[0m\n\u001b[0m\u001b[0;32m   3971\u001b[0m             \u001b[0mresult\u001b[0m \u001b[1;33m=\u001b[0m \u001b[0mself\u001b[0m\u001b[1;33m.\u001b[0m\u001b[0mreindex\u001b[0m\u001b[1;33m(\u001b[0m\u001b[1;33m**\u001b[0m\u001b[1;33m{\u001b[0m\u001b[0maxis_name\u001b[0m\u001b[1;33m:\u001b[0m \u001b[0mnew_axis\u001b[0m\u001b[1;33m}\u001b[0m\u001b[1;33m)\u001b[0m\u001b[1;33m\u001b[0m\u001b[1;33m\u001b[0m\u001b[0m\n\u001b[0;32m   3972\u001b[0m \u001b[1;33m\u001b[0m\u001b[0m\n",
      "\u001b[1;32mC:\\ProgramData\\Anaconda3\\lib\\site-packages\\pandas\\core\\indexes\\base.py\u001b[0m in \u001b[0;36mdrop\u001b[1;34m(self, labels, errors)\u001b[0m\n\u001b[0;32m   5016\u001b[0m         \u001b[1;32mif\u001b[0m \u001b[0mmask\u001b[0m\u001b[1;33m.\u001b[0m\u001b[0many\u001b[0m\u001b[1;33m(\u001b[0m\u001b[1;33m)\u001b[0m\u001b[1;33m:\u001b[0m\u001b[1;33m\u001b[0m\u001b[1;33m\u001b[0m\u001b[0m\n\u001b[0;32m   5017\u001b[0m             \u001b[1;32mif\u001b[0m \u001b[0merrors\u001b[0m \u001b[1;33m!=\u001b[0m \u001b[1;34m\"ignore\"\u001b[0m\u001b[1;33m:\u001b[0m\u001b[1;33m\u001b[0m\u001b[1;33m\u001b[0m\u001b[0m\n\u001b[1;32m-> 5018\u001b[1;33m                 \u001b[1;32mraise\u001b[0m \u001b[0mKeyError\u001b[0m\u001b[1;33m(\u001b[0m\u001b[1;34mf\"{labels[mask]} not found in axis\"\u001b[0m\u001b[1;33m)\u001b[0m\u001b[1;33m\u001b[0m\u001b[1;33m\u001b[0m\u001b[0m\n\u001b[0m\u001b[0;32m   5019\u001b[0m             \u001b[0mindexer\u001b[0m \u001b[1;33m=\u001b[0m \u001b[0mindexer\u001b[0m\u001b[1;33m[\u001b[0m\u001b[1;33m~\u001b[0m\u001b[0mmask\u001b[0m\u001b[1;33m]\u001b[0m\u001b[1;33m\u001b[0m\u001b[1;33m\u001b[0m\u001b[0m\n\u001b[0;32m   5020\u001b[0m         \u001b[1;32mreturn\u001b[0m \u001b[0mself\u001b[0m\u001b[1;33m.\u001b[0m\u001b[0mdelete\u001b[0m\u001b[1;33m(\u001b[0m\u001b[0mindexer\u001b[0m\u001b[1;33m)\u001b[0m\u001b[1;33m\u001b[0m\u001b[1;33m\u001b[0m\u001b[0m\n",
      "\u001b[1;31mKeyError\u001b[0m: \"['Google&Justdial'] not found in axis\""
     ]
    }
   ],
   "source": [
    "fig2['ensemble_rating'] = round(((1.75*fig2['Google_BAZ']) + 1.5*fig2['Justdial_BAZ'] + 1.25*fig2['Glassdoor_BAZ'] + 0.5*fig2['Ambition_Box_BAZ'])/5,3)\n",
    "fig2.drop('Google&Justdial',axis =1, inplace=True)\n",
    "fig2.head()"
   ]
  },
  {
   "cell_type": "code",
   "execution_count": 178,
   "metadata": {},
   "outputs": [
    {
     "data": {
      "image/png": "[encoded data removed]",
      "text/plain": [
       "<Figure size 1008x504 with 1 Axes>"
      ]
     },
     "metadata": {
      "needs_background": "light"
     },
     "output_type": "display_data"
    }
   ],
   "source": [
    "fig2['ensemble_rating'].plot(kind = 'barh', figsize=(14,7), grid=True)\n",
    "plt.xticks(fontsize=18, rotation=0)\n",
    "plt.show()"
   ]
  },
  {
   "cell_type": "markdown",
   "metadata": {},
   "source": [
    "## <a id='sp'>Social Presence</a>\n",
    "\n",
    "> **Activity Online**\n",
    "\n",
    "        1. Integrated Report\n",
    "        \n",
    "        2. Distribution of Web Mentions\n",
    "\n"
   ]
  },
  {
   "cell_type": "code",
   "execution_count": 179,
   "metadata": {},
   "outputs": [
    {
     "data": {
      "text/plain": [
       "'C:\\\\Users\\\\pushkar\\\\Desktop'"
      ]
     },
     "execution_count": 179,
     "metadata": {},
     "output_type": "execute_result"
    }
   ],
   "source": [
    "pwd"
   ]
  },
  {
   "cell_type": "code",
   "execution_count": 180,
   "metadata": {},
   "outputs": [
    {
     "name": "stdout",
     "output_type": "stream",
     "text": [
      "C:\\Users\\pushkar\n"
     ]
    }
   ],
   "source": [
    "cd .."
   ]
  },
  {
   "cell_type": "code",
   "execution_count": 181,
   "metadata": {},
   "outputs": [
    {
     "name": "stdout",
     "output_type": "stream",
     "text": [
      "C:\\Users\\pushkar\\Downloads\\Companies\n"
     ]
    }
   ],
   "source": [
    "cd Downloads/Companies/"
   ]
  },
  {
   "cell_type": "markdown",
   "metadata": {},
   "source": [
    "## Suresh & Co"
   ]
  },
  {
   "cell_type": "code",
   "execution_count": 195,
   "metadata": {},
   "outputs": [
    {
     "name": "stderr",
     "output_type": "stream",
     "text": [
      "C:\\ProgramData\\Anaconda3\\lib\\site-packages\\ipykernel_launcher.py:4: FutureWarning: Passing a negative integer is deprecated in version 1.0 and will not be supported in future version. Instead, use None to not limit the column width.\n",
      "  after removing the cwd from sys.path.\n"
     ]
    }
   ],
   "source": [
    "suresh = pd.read_csv('_Suresh__Co_MentionsReport.csv')\n",
    "suresh.drop(['TWEET','FACEBOOK','LINKEDIN','PINTEREST','RETWEETS','FAVOURITES','TWITTER USER','TWITTER NAME','FOLLOWERS'],axis=1,inplace=True)"
   ]
  },
  {
   "cell_type": "code",
   "execution_count": 197,
   "metadata": {},
   "outputs": [
    {
     "data": {
      "text/html": [
       "<div>\n",
       "<style scoped>\n",
       "    .dataframe tbody tr th:only-of-type {\n",
       "        vertical-align: middle;\n",
       "    }\n",
       "\n",
       "    .dataframe tbody tr th {\n",
       "        vertical-align: top;\n",
       "    }\n",
       "\n",
       "    .dataframe thead th {\n",
       "        text-align: right;\n",
       "    }\n",
       "</style>\n",
       "<table border=\"1\" class=\"dataframe\">\n",
       "  <thead>\n",
       "    <tr style=\"text-align: right;\">\n",
       "      <th></th>\n",
       "      <th>MENTION</th>\n",
       "      <th>SOURCES</th>\n",
       "      <th>TITLE</th>\n",
       "      <th>URL</th>\n",
       "      <th>DATE</th>\n",
       "      <th>PERFORMANCE</th>\n",
       "      <th>SUBDOMAIN INFLUENCE</th>\n",
       "    </tr>\n",
       "  </thead>\n",
       "  <tbody>\n",
       "    <tr>\n",
       "      <th>0</th>\n",
       "      <td>\"Suresh &amp; Co\"</td>\n",
       "      <td>facebook</td>\n",
       "      <td>LOCKDOWN 2.0 - Guidelines - T Sriram, Mehta &amp; Tadimalla ...</td>\n",
       "      <td>https://www.facebook.com/tsmt.in/posts/lockdown-20-guidelines/3211976515487963/</td>\n",
       "      <td>17 Apr, 16:46</td>\n",
       "      <td>45</td>\n",
       "      <td>99</td>\n",
       "    </tr>\n",
       "    <tr>\n",
       "      <th>1</th>\n",
       "      <td>\"Suresh &amp; Co\"</td>\n",
       "      <td>facebook</td>\n",
       "      <td>Kanabec Hospital | Kanagana Maradi | Places Directory</td>\n",
       "      <td>https://www.facebook.com/directory/places/K-662396-663080</td>\n",
       "      <td>22 Apr, 18:58</td>\n",
       "      <td>50</td>\n",
       "      <td>99</td>\n",
       "    </tr>\n",
       "    <tr>\n",
       "      <th>2</th>\n",
       "      <td>\"Suresh &amp; Co\"</td>\n",
       "      <td>facebook</td>\n",
       "      <td>H.P.H Pet Home 宠物用品专卖店 | H.R. ART | Pages Directory</td>\n",
       "      <td>https://www.facebook.com/directory/pages/H-134301-136275</td>\n",
       "      <td>12 Apr, 18:58</td>\n",
       "      <td>50</td>\n",
       "      <td>99</td>\n",
       "    </tr>\n",
       "    <tr>\n",
       "      <th>3</th>\n",
       "      <td>\"Suresh &amp; Co\"</td>\n",
       "      <td>facebook</td>\n",
       "      <td>Anuj Kushwaha | Anukool travels | Pages Directory - Facebook</td>\n",
       "      <td>https://www.facebook.com/directory/pages/A-15465143-15469883</td>\n",
       "      <td>19 Apr, 18:58</td>\n",
       "      <td>50</td>\n",
       "      <td>99</td>\n",
       "    </tr>\n",
       "    <tr>\n",
       "      <th>4</th>\n",
       "      <td>\"Suresh &amp; Co\"</td>\n",
       "      <td>facebook</td>\n",
       "      <td>Kanada'dan Düşen Meteor; Justin Bieber | Kanaipur high ...</td>\n",
       "      <td>https://www.facebook.com/directory/pages/K-2010241-2012160</td>\n",
       "      <td>19 Apr, 18:58</td>\n",
       "      <td>50</td>\n",
       "      <td>99</td>\n",
       "    </tr>\n",
       "  </tbody>\n",
       "</table>\n",
       "</div>"
      ],
      "text/plain": [
       "          MENTION   SOURCES  \\\n",
       "0   \"Suresh & Co\"  facebook   \n",
       "1   \"Suresh & Co\"  facebook   \n",
       "2   \"Suresh & Co\"  facebook   \n",
       "3   \"Suresh & Co\"  facebook   \n",
       "4   \"Suresh & Co\"  facebook   \n",
       "\n",
       "                                                          TITLE  \\\n",
       "0  LOCKDOWN 2.0 - Guidelines - T Sriram, Mehta & Tadimalla ...    \n",
       "1  Kanabec Hospital | Kanagana Maradi | Places Directory          \n",
       "2  H.P.H Pet Home 宠物用品专卖店 | H.R. ART | Pages Directory            \n",
       "3  Anuj Kushwaha | Anukool travels | Pages Directory - Facebook   \n",
       "4  Kanada'dan Düşen Meteor; Justin Bieber | Kanaipur high ...     \n",
       "\n",
       "                                                                               URL  \\\n",
       "0  https://www.facebook.com/tsmt.in/posts/lockdown-20-guidelines/3211976515487963/   \n",
       "1  https://www.facebook.com/directory/places/K-662396-663080                         \n",
       "2  https://www.facebook.com/directory/pages/H-134301-136275                          \n",
       "3  https://www.facebook.com/directory/pages/A-15465143-15469883                      \n",
       "4  https://www.facebook.com/directory/pages/K-2010241-2012160                        \n",
       "\n",
       "            DATE PERFORMANCE SUBDOMAIN INFLUENCE  \n",
       "0  17 Apr, 16:46  45          99                  \n",
       "1  22 Apr, 18:58  50          99                  \n",
       "2  12 Apr, 18:58  50          99                  \n",
       "3  19 Apr, 18:58  50          99                  \n",
       "4  19 Apr, 18:58  50          99                  "
      ]
     },
     "execution_count": 197,
     "metadata": {},
     "output_type": "execute_result"
    }
   ],
   "source": [
    "suresh.head()"
   ]
  },
  {
   "cell_type": "code",
   "execution_count": 201,
   "metadata": {},
   "outputs": [
    {
     "data": {
      "text/plain": [
       "<matplotlib.axes._subplots.AxesSubplot at 0x1b077ccd148>"
      ]
     },
     "execution_count": 201,
     "metadata": {},
     "output_type": "execute_result"
    },
    {
     "data": {
      "image/png": "[encoded data removed]",
      "text/plain": [
       "<Figure size 432x288 with 1 Axes>"
      ]
     },
     "metadata": {
      "needs_background": "light"
     },
     "output_type": "display_data"
    }
   ],
   "source": [
    "suresh.SOURCES.value_counts().plot(kind ='bar', grid = True)"
   ]
  },
  {
   "cell_type": "markdown",
   "metadata": {},
   "source": [
    "## Singhvi Dev and Unni"
   ]
  },
  {
   "cell_type": "code",
   "execution_count": 202,
   "metadata": {},
   "outputs": [
    {
     "data": {
      "text/html": [
       "<div>\n",
       "<style scoped>\n",
       "    .dataframe tbody tr th:only-of-type {\n",
       "        vertical-align: middle;\n",
       "    }\n",
       "\n",
       "    .dataframe tbody tr th {\n",
       "        vertical-align: top;\n",
       "    }\n",
       "\n",
       "    .dataframe thead th {\n",
       "        text-align: right;\n",
       "    }\n",
       "</style>\n",
       "<table border=\"1\" class=\"dataframe\">\n",
       "  <thead>\n",
       "    <tr style=\"text-align: right;\">\n",
       "      <th></th>\n",
       "      <th>MENTION</th>\n",
       "      <th>SOURCES</th>\n",
       "      <th>TITLE</th>\n",
       "      <th>URL</th>\n",
       "      <th>DATE</th>\n",
       "      <th>PERFORMANCE</th>\n",
       "      <th>SUBDOMAIN INFLUENCE</th>\n",
       "    </tr>\n",
       "  </thead>\n",
       "  <tbody>\n",
       "    <tr>\n",
       "      <th>0</th>\n",
       "      <td>Singhvi Dev and Unni</td>\n",
       "      <td>linkedin</td>\n",
       "      <td>Singhvi, Dev &amp; Unni, Chartered Accountants hiring Associate ...</td>\n",
       "      <td>https://in.linkedin.com/jobs/view/associate-risk-and-assurance-at-singhvi-dev-unni-chartered-accountants-1812773707</td>\n",
       "      <td>03 Apr, 18:41</td>\n",
       "      <td>28</td>\n",
       "      <td>56</td>\n",
       "    </tr>\n",
       "    <tr>\n",
       "      <th>1</th>\n",
       "      <td>Singhvi Dev and Unni</td>\n",
       "      <td>web</td>\n",
       "      <td>KPMG Associate_Tax_ Canada Assurance - Fidanto</td>\n",
       "      <td>https://in.fidanto.com/jobs/job-opening/insurance-claims-and-policy-processing-clerks/associate_tax_-canada-assurance-72540519</td>\n",
       "      <td>18 Apr, 18:41</td>\n",
       "      <td>2</td>\n",
       "      <td>3</td>\n",
       "    </tr>\n",
       "    <tr>\n",
       "      <th>2</th>\n",
       "      <td>Singhvi Dev and Unni</td>\n",
       "      <td>web</td>\n",
       "      <td>Narayanan Patil and Ramesh Chartered Accountants in ...</td>\n",
       "      <td>https://www.grotal.com/Bangalore/Narayanan-Patil-and-Ramesh-Chartered-Accountants-C67/</td>\n",
       "      <td>04 Apr, 18:41</td>\n",
       "      <td>13</td>\n",
       "      <td>25</td>\n",
       "    </tr>\n",
       "    <tr>\n",
       "      <th>3</th>\n",
       "      <td>Singhvi Dev and Unni</td>\n",
       "      <td>web</td>\n",
       "      <td>Singhvi, Dev &amp; Unni, Chartered Accountants Article Trainee</td>\n",
       "      <td>https://in.fidanto.com/jobs/job-opening/accountants/article-trainee-72527931</td>\n",
       "      <td>18 Apr, 18:41</td>\n",
       "      <td>2</td>\n",
       "      <td>3</td>\n",
       "    </tr>\n",
       "    <tr>\n",
       "      <th>4</th>\n",
       "      <td>Singhvi Dev and Unni</td>\n",
       "      <td>web</td>\n",
       "      <td>Proctor Consulting Pvt Ltd Chartered Accountants - Fidanto</td>\n",
       "      <td>https://in.fidanto.com/jobs/job-opening/administrative-services-managers/chartered-accountants-72446060</td>\n",
       "      <td>17 Apr, 18:41</td>\n",
       "      <td>2</td>\n",
       "      <td>3</td>\n",
       "    </tr>\n",
       "    <tr>\n",
       "      <th>5</th>\n",
       "      <td>Singhvi Dev and Unni</td>\n",
       "      <td>web</td>\n",
       "      <td>Singhvi, Dev &amp; Unni, Chartered Accountants Associate, Audit ...</td>\n",
       "      <td>https://in.fidanto.com/jobs/job-opening/accountants/associate-audit-assurance-72826730</td>\n",
       "      <td>20 Apr, 18:41</td>\n",
       "      <td>2</td>\n",
       "      <td>3</td>\n",
       "    </tr>\n",
       "    <tr>\n",
       "      <th>6</th>\n",
       "      <td>Singhvi Dev and Unni</td>\n",
       "      <td>web</td>\n",
       "      <td>MRO-TEK Realty Ltd Stock Price - The Financial Express</td>\n",
       "      <td>https://www.financialexpress.com/market/stock-market/mro-tek-realty-ltd-stock-price/</td>\n",
       "      <td>09 Apr, 18:41</td>\n",
       "      <td>30</td>\n",
       "      <td>59</td>\n",
       "    </tr>\n",
       "    <tr>\n",
       "      <th>7</th>\n",
       "      <td>Singhvi Dev and Unni</td>\n",
       "      <td>web</td>\n",
       "      <td>SHANKARANARAYANA CONSTRUCTIONS PVT LTD (SNC ...</td>\n",
       "      <td>https://in.fidanto.com/jobs/job-opening/administrative-services-managers/executive-sr-executive-indirect-taxation-72438895</td>\n",
       "      <td>17 Apr, 18:41</td>\n",
       "      <td>2</td>\n",
       "      <td>3</td>\n",
       "    </tr>\n",
       "    <tr>\n",
       "      <th>8</th>\n",
       "      <td>Singhvi Dev and Unni</td>\n",
       "      <td>web</td>\n",
       "      <td>https://leadhunt.in/sales/company_profile/silicon-city-public ...</td>\n",
       "      <td>https://leadhunt.in/sitemap_44.xml</td>\n",
       "      <td>06 Apr, 18:41</td>\n",
       "      <td></td>\n",
       "      <td>0</td>\n",
       "    </tr>\n",
       "    <tr>\n",
       "      <th>9</th>\n",
       "      <td>Singhvi Dev and Unni</td>\n",
       "      <td>web</td>\n",
       "      <td>https://leadhunt.in/sales/profile/yashwant-singh-oswal-traders ...</td>\n",
       "      <td>https://leadhunt.in/sitemap_770.xml</td>\n",
       "      <td>06 Apr, 18:41</td>\n",
       "      <td></td>\n",
       "      <td>0</td>\n",
       "    </tr>\n",
       "  </tbody>\n",
       "</table>\n",
       "</div>"
      ],
      "text/plain": [
       "                MENTION   SOURCES  \\\n",
       "0  Singhvi Dev and Unni  linkedin   \n",
       "1  Singhvi Dev and Unni  web        \n",
       "2  Singhvi Dev and Unni  web        \n",
       "3  Singhvi Dev and Unni  web        \n",
       "4  Singhvi Dev and Unni  web        \n",
       "5  Singhvi Dev and Unni  web        \n",
       "6  Singhvi Dev and Unni  web        \n",
       "7  Singhvi Dev and Unni  web        \n",
       "8  Singhvi Dev and Unni  web        \n",
       "9  Singhvi Dev and Unni  web        \n",
       "\n",
       "                                                                TITLE  \\\n",
       "0  Singhvi, Dev & Unni, Chartered Accountants hiring Associate ...      \n",
       "1  KPMG Associate_Tax_ Canada Assurance - Fidanto                       \n",
       "2  Narayanan Patil and Ramesh Chartered Accountants in ...              \n",
       "3  Singhvi, Dev & Unni, Chartered Accountants Article Trainee           \n",
       "4  Proctor Consulting Pvt Ltd Chartered Accountants - Fidanto           \n",
       "5  Singhvi, Dev & Unni, Chartered Accountants Associate, Audit ...      \n",
       "6  MRO-TEK Realty Ltd Stock Price - The Financial Express               \n",
       "7  SHANKARANARAYANA CONSTRUCTIONS PVT LTD (SNC ...                      \n",
       "8  https://leadhunt.in/sales/company_profile/silicon-city-public ...    \n",
       "9  https://leadhunt.in/sales/profile/yashwant-singh-oswal-traders ...   \n",
       "\n",
       "                                                                                                                              URL  \\\n",
       "0  https://in.linkedin.com/jobs/view/associate-risk-and-assurance-at-singhvi-dev-unni-chartered-accountants-1812773707              \n",
       "1  https://in.fidanto.com/jobs/job-opening/insurance-claims-and-policy-processing-clerks/associate_tax_-canada-assurance-72540519   \n",
       "2  https://www.grotal.com/Bangalore/Narayanan-Patil-and-Ramesh-Chartered-Accountants-C67/                                           \n",
       "3  https://in.fidanto.com/jobs/job-opening/accountants/article-trainee-72527931                                                     \n",
       "4  https://in.fidanto.com/jobs/job-opening/administrative-services-managers/chartered-accountants-72446060                          \n",
       "5  https://in.fidanto.com/jobs/job-opening/accountants/associate-audit-assurance-72826730                                           \n",
       "6  https://www.financialexpress.com/market/stock-market/mro-tek-realty-ltd-stock-price/                                             \n",
       "7  https://in.fidanto.com/jobs/job-opening/administrative-services-managers/executive-sr-executive-indirect-taxation-72438895       \n",
       "8  https://leadhunt.in/sitemap_44.xml                                                                                               \n",
       "9  https://leadhunt.in/sitemap_770.xml                                                                                              \n",
       "\n",
       "            DATE PERFORMANCE  SUBDOMAIN INFLUENCE  \n",
       "0  03 Apr, 18:41  28          56                   \n",
       "1  18 Apr, 18:41  2           3                    \n",
       "2  04 Apr, 18:41  13          25                   \n",
       "3  18 Apr, 18:41  2           3                    \n",
       "4  17 Apr, 18:41  2           3                    \n",
       "5  20 Apr, 18:41  2           3                    \n",
       "6  09 Apr, 18:41  30          59                   \n",
       "7  17 Apr, 18:41  2           3                    \n",
       "8  06 Apr, 18:41              0                    \n",
       "9  06 Apr, 18:41              0                    "
      ]
     },
     "execution_count": 202,
     "metadata": {},
     "output_type": "execute_result"
    }
   ],
   "source": [
    "sdu = pd.read_csv('Singhvi_Dev_and_Unni_MentionsReport.csv')\n",
    "sdu.drop(['TWEET','FACEBOOK','LINKEDIN','PINTEREST','RETWEETS','FAVOURITES','TWITTER USER','TWITTER NAME','FOLLOWERS'],axis=1,inplace=True)\n",
    "sdu"
   ]
  },
  {
   "cell_type": "code",
   "execution_count": 203,
   "metadata": {},
   "outputs": [
    {
     "data": {
      "text/plain": [
       "<matplotlib.axes._subplots.AxesSubplot at 0x1b077e37388>"
      ]
     },
     "execution_count": 203,
     "metadata": {},
     "output_type": "execute_result"
    },
    {
     "data": {
      "image/png": "[encoded data removed]",
      "text/plain": [
       "<Figure size 432x288 with 1 Axes>"
      ]
     },
     "metadata": {
      "needs_background": "light"
     },
     "output_type": "display_data"
    }
   ],
   "source": [
    "sdu.SOURCES.value_counts().plot(kind ='bar', grid = True)"
   ]
  },
  {
   "cell_type": "markdown",
   "metadata": {},
   "source": [
    "## Vasan & Sampath LLP"
   ]
  },
  {
   "cell_type": "code",
   "execution_count": 204,
   "metadata": {},
   "outputs": [
    {
     "data": {
      "text/html": [
       "<div>\n",
       "<style scoped>\n",
       "    .dataframe tbody tr th:only-of-type {\n",
       "        vertical-align: middle;\n",
       "    }\n",
       "\n",
       "    .dataframe tbody tr th {\n",
       "        vertical-align: top;\n",
       "    }\n",
       "\n",
       "    .dataframe thead th {\n",
       "        text-align: right;\n",
       "    }\n",
       "</style>\n",
       "<table border=\"1\" class=\"dataframe\">\n",
       "  <thead>\n",
       "    <tr style=\"text-align: right;\">\n",
       "      <th></th>\n",
       "      <th>MENTION</th>\n",
       "      <th>SOURCES</th>\n",
       "      <th>TITLE</th>\n",
       "      <th>URL</th>\n",
       "      <th>DATE</th>\n",
       "      <th>PERFORMANCE</th>\n",
       "      <th>SUBDOMAIN INFLUENCE</th>\n",
       "    </tr>\n",
       "  </thead>\n",
       "  <tbody>\n",
       "    <tr>\n",
       "      <th>0</th>\n",
       "      <td>\"Vasan &amp; Sampath LLP\"</td>\n",
       "      <td>linkedin</td>\n",
       "      <td>T Sriram, Mehta &amp; Tadimalla, Chartered Accountants (TSMT ...</td>\n",
       "      <td>https://in.linkedin.com/company/t-sriram-mehta-tadimalla</td>\n",
       "      <td>30 Apr, 4:55</td>\n",
       "      <td>28</td>\n",
       "      <td>56</td>\n",
       "    </tr>\n",
       "    <tr>\n",
       "      <th>1</th>\n",
       "      <td>\"Vasan &amp; Sampath LLP\"</td>\n",
       "      <td>linkedin</td>\n",
       "      <td>G. Joseph &amp; Associates | LinkedIn</td>\n",
       "      <td>https://www.linkedin.com/company/g-joseph-&amp;-associates</td>\n",
       "      <td>30 Apr, 6:55</td>\n",
       "      <td>49</td>\n",
       "      <td>98</td>\n",
       "    </tr>\n",
       "    <tr>\n",
       "      <th>2</th>\n",
       "      <td>\"Vasan &amp; Sampath LLP\"</td>\n",
       "      <td>linkedin</td>\n",
       "      <td>PM Power Consulting | LinkedIn</td>\n",
       "      <td>https://www.linkedin.com/company/pm-power-consulting</td>\n",
       "      <td>30 Apr, 15:55</td>\n",
       "      <td>49</td>\n",
       "      <td>98</td>\n",
       "    </tr>\n",
       "    <tr>\n",
       "      <th>3</th>\n",
       "      <td>\"Vasan &amp; Sampath LLP\"</td>\n",
       "      <td>web</td>\n",
       "      <td>COVID-19 Useful links and information - INPACT Global</td>\n",
       "      <td>https://inpactglobal.org/inpact-insights/2020/04/covid-19-useful-links-and-information/</td>\n",
       "      <td>23 Apr, 18:49</td>\n",
       "      <td>11</td>\n",
       "      <td>22</td>\n",
       "    </tr>\n",
       "    <tr>\n",
       "      <th>4</th>\n",
       "      <td>\"Vasan &amp; Sampath LLP\"</td>\n",
       "      <td>web</td>\n",
       "      <td>Manoj bought two radios for Rs. 3200. He sold one radio at 25 ...</td>\n",
       "      <td>https://www.quora.com/Manoj-bought-two-radios-for-Rs-3200-He-sold-one-radio-at-25-profit-and-the-other-at-25-loss-If-the-selling-price-of-both-is-equal-then-what-will-be-the-selling-price-of-each</td>\n",
       "      <td>16 Apr, 18:50</td>\n",
       "      <td>27</td>\n",
       "      <td>53</td>\n",
       "    </tr>\n",
       "    <tr>\n",
       "      <th>5</th>\n",
       "      <td>\"Vasan &amp; Sampath LLP\"</td>\n",
       "      <td>web</td>\n",
       "      <td>Request for Proposal (RFP) - VINAY NAVEEN &amp; CO.</td>\n",
       "      <td>http://cavinaymittal.com/Image/PO-%20National-Health-Mission_jammu.pdf</td>\n",
       "      <td>01 Apr, 0:5</td>\n",
       "      <td></td>\n",
       "      <td>0</td>\n",
       "    </tr>\n",
       "  </tbody>\n",
       "</table>\n",
       "</div>"
      ],
      "text/plain": [
       "                 MENTION   SOURCES  \\\n",
       "0  \"Vasan & Sampath LLP\"  linkedin   \n",
       "1  \"Vasan & Sampath LLP\"  linkedin   \n",
       "2  \"Vasan & Sampath LLP\"  linkedin   \n",
       "3  \"Vasan & Sampath LLP\"  web        \n",
       "4  \"Vasan & Sampath LLP\"  web        \n",
       "5  \"Vasan & Sampath LLP\"  web        \n",
       "\n",
       "                                                               TITLE  \\\n",
       "0  T Sriram, Mehta & Tadimalla, Chartered Accountants (TSMT ...        \n",
       "1  G. Joseph & Associates | LinkedIn                                   \n",
       "2  PM Power Consulting | LinkedIn                                      \n",
       "3  COVID-19 Useful links and information - INPACT Global               \n",
       "4  Manoj bought two radios for Rs. 3200. He sold one radio at 25 ...   \n",
       "5  Request for Proposal (RFP) - VINAY NAVEEN & CO.                     \n",
       "\n",
       "                                                                                                                                                                                                   URL  \\\n",
       "0  https://in.linkedin.com/company/t-sriram-mehta-tadimalla                                                                                                                                              \n",
       "1  https://www.linkedin.com/company/g-joseph-&-associates                                                                                                                                                \n",
       "2  https://www.linkedin.com/company/pm-power-consulting                                                                                                                                                  \n",
       "3  https://inpactglobal.org/inpact-insights/2020/04/covid-19-useful-links-and-information/                                                                                                               \n",
       "4  https://www.quora.com/Manoj-bought-two-radios-for-Rs-3200-He-sold-one-radio-at-25-profit-and-the-other-at-25-loss-If-the-selling-price-of-both-is-equal-then-what-will-be-the-selling-price-of-each   \n",
       "5  http://cavinaymittal.com/Image/PO-%20National-Health-Mission_jammu.pdf                                                                                                                                \n",
       "\n",
       "            DATE PERFORMANCE  SUBDOMAIN INFLUENCE  \n",
       "0  30 Apr, 4:55   28          56                   \n",
       "1  30 Apr, 6:55   49          98                   \n",
       "2  30 Apr, 15:55  49          98                   \n",
       "3  23 Apr, 18:49  11          22                   \n",
       "4  16 Apr, 18:50  27          53                   \n",
       "5  01 Apr, 0:5                0                    "
      ]
     },
     "execution_count": 204,
     "metadata": {},
     "output_type": "execute_result"
    }
   ],
   "source": [
    "vsl = pd.read_csv('Vasan__Sampath_LLP_MentionsReport.csv')\n",
    "vsl.drop(['TWEET','FACEBOOK','LINKEDIN','PINTEREST','RETWEETS','FAVOURITES','TWITTER USER','TWITTER NAME','FOLLOWERS'],axis=1,inplace=True)\n",
    "vsl"
   ]
  },
  {
   "cell_type": "code",
   "execution_count": 205,
   "metadata": {},
   "outputs": [
    {
     "data": {
      "text/plain": [
       "<matplotlib.axes._subplots.AxesSubplot at 0x1b077d7e6c8>"
      ]
     },
     "execution_count": 205,
     "metadata": {},
     "output_type": "execute_result"
    },
    {
     "data": {
      "image/png": "[encoded data removed]",
      "text/plain": [
       "<Figure size 432x288 with 1 Axes>"
      ]
     },
     "metadata": {
      "needs_background": "light"
     },
     "output_type": "display_data"
    }
   ],
   "source": [
    "vsl.SOURCES.value_counts().plot(kind ='bar', grid = True)"
   ]
  },
  {
   "cell_type": "code",
   "execution_count": null,
   "metadata": {},
   "outputs": [],
   "source": []
  }
 ],
 "metadata": {
  "kernelspec": {
   "display_name": "Python 3",
   "language": "python",
   "name": "python3"
  },
  "language_info": {
   "codemirror_mode": {
    "name": "ipython",
    "version": 3
   },
   "file_extension": ".py",
   "mimetype": "text/x-python",
   "name": "python",
   "nbconvert_exporter": "python",
   "pygments_lexer": "ipython3",
   "version": "3.7.6"
  }
 },
 "nbformat": 4,
 "nbformat_minor": 4
}
