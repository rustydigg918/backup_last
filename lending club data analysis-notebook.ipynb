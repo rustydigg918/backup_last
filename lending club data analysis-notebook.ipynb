{
 "cells": [
  {
   "cell_type": "code",
   "execution_count": 2,
   "metadata": {},
   "outputs": [],
   "source": [
    "import pandas as pd\n",
    "import numpy as np\n",
    "import matplotlib.pyplot as plt\n",
    "import seaborn as sns\n",
    "from matplotlib import rcParams\n",
    "%matplotlib inline\n",
    "\n",
    "rcParams['figure.figsize'] = 8,6"
   ]
  },
  {
   "cell_type": "markdown",
   "metadata": {},
   "source": [
    "Reading the combined file. Individual csv files were downloaded from LendingClub site - https://www.lendingclub.com/info/download-data.action .\n",
    "The headers for these individual files can be removed before combining into a single file.\n",
    "\n",
    "These individual files were combined using command prompt in Windows. \n",
    "How to combine csv using cmd- http://www.tomnash.eu/how-to-combine-multiple-csv-files-into-one-using-cmd/"
   ]
  },
  {
   "cell_type": "code",
   "execution_count": 3,
   "metadata": {},
   "outputs": [
    {
     "name": "stdout",
     "output_type": "stream",
     "text": [
      "<class 'pandas.core.frame.DataFrame'>\n",
      "RangeIndex: 985850 entries, 0 to 985849\n",
      "Columns: 145 entries, id to settlement_term\n",
      "dtypes: float64(56), int64(55), object(34)\n",
      "memory usage: 1.1+ GB\n"
     ]
    },
    {
     "data": {
      "text/html": [
       "<div>\n",
       "<style scoped>\n",
       "    .dataframe tbody tr th:only-of-type {\n",
       "        vertical-align: middle;\n",
       "    }\n",
       "\n",
       "    .dataframe tbody tr th {\n",
       "        vertical-align: top;\n",
       "    }\n",
       "\n",
       "    .dataframe thead th {\n",
       "        text-align: right;\n",
       "    }\n",
       "</style>\n",
       "<table border=\"1\" class=\"dataframe\">\n",
       "  <thead>\n",
       "    <tr style=\"text-align: right;\">\n",
       "      <th></th>\n",
       "      <th>id</th>\n",
       "      <th>member_id</th>\n",
       "      <th>loan_amnt</th>\n",
       "      <th>funded_amnt</th>\n",
       "      <th>funded_amnt_inv</th>\n",
       "      <th>term</th>\n",
       "      <th>int_rate</th>\n",
       "      <th>installment</th>\n",
       "      <th>annual_inc</th>\n",
       "      <th>url</th>\n",
       "      <th>...</th>\n",
       "      <th>deferral_term</th>\n",
       "      <th>hardship_amount</th>\n",
       "      <th>hardship_length</th>\n",
       "      <th>hardship_dpd</th>\n",
       "      <th>orig_projected_additional_accrued_interest</th>\n",
       "      <th>hardship_payoff_balance_amount</th>\n",
       "      <th>hardship_last_payment_amount</th>\n",
       "      <th>settlement_amount</th>\n",
       "      <th>settlement_percentage</th>\n",
       "      <th>settlement_term</th>\n",
       "    </tr>\n",
       "  </thead>\n",
       "  <tbody>\n",
       "    <tr>\n",
       "      <th>count</th>\n",
       "      <td>0.0</td>\n",
       "      <td>0.0</td>\n",
       "      <td>985850.000000</td>\n",
       "      <td>985850.000000</td>\n",
       "      <td>985850.000000</td>\n",
       "      <td>985850.000000</td>\n",
       "      <td>985850.000000</td>\n",
       "      <td>985850.000000</td>\n",
       "      <td>9.858500e+05</td>\n",
       "      <td>0.0</td>\n",
       "      <td>...</td>\n",
       "      <td>4122.0</td>\n",
       "      <td>4122.000000</td>\n",
       "      <td>4122.0</td>\n",
       "      <td>4122.000000</td>\n",
       "      <td>3301.000000</td>\n",
       "      <td>4122.000000</td>\n",
       "      <td>4122.000000</td>\n",
       "      <td>5188.000000</td>\n",
       "      <td>5188.000000</td>\n",
       "      <td>5188.000000</td>\n",
       "    </tr>\n",
       "    <tr>\n",
       "      <th>mean</th>\n",
       "      <td>NaN</td>\n",
       "      <td>NaN</td>\n",
       "      <td>14938.690952</td>\n",
       "      <td>14938.662550</td>\n",
       "      <td>14933.575503</td>\n",
       "      <td>42.488387</td>\n",
       "      <td>0.129686</td>\n",
       "      <td>446.190079</td>\n",
       "      <td>7.966692e+04</td>\n",
       "      <td>NaN</td>\n",
       "      <td>...</td>\n",
       "      <td>3.0</td>\n",
       "      <td>173.965842</td>\n",
       "      <td>3.0</td>\n",
       "      <td>11.045852</td>\n",
       "      <td>510.217725</td>\n",
       "      <td>13163.534272</td>\n",
       "      <td>190.549423</td>\n",
       "      <td>6224.270532</td>\n",
       "      <td>49.832951</td>\n",
       "      <td>15.358327</td>\n",
       "    </tr>\n",
       "    <tr>\n",
       "      <th>std</th>\n",
       "      <td>NaN</td>\n",
       "      <td>NaN</td>\n",
       "      <td>9428.934759</td>\n",
       "      <td>9428.935435</td>\n",
       "      <td>9426.730366</td>\n",
       "      <td>10.659373</td>\n",
       "      <td>0.051171</td>\n",
       "      <td>278.543968</td>\n",
       "      <td>1.483972e+05</td>\n",
       "      <td>NaN</td>\n",
       "      <td>...</td>\n",
       "      <td>0.0</td>\n",
       "      <td>135.091869</td>\n",
       "      <td>0.0</td>\n",
       "      <td>10.238793</td>\n",
       "      <td>392.896055</td>\n",
       "      <td>7803.055192</td>\n",
       "      <td>206.604582</td>\n",
       "      <td>4120.127752</td>\n",
       "      <td>7.426984</td>\n",
       "      <td>7.521819</td>\n",
       "    </tr>\n",
       "    <tr>\n",
       "      <th>min</th>\n",
       "      <td>NaN</td>\n",
       "      <td>NaN</td>\n",
       "      <td>1000.000000</td>\n",
       "      <td>1000.000000</td>\n",
       "      <td>775.000000</td>\n",
       "      <td>36.000000</td>\n",
       "      <td>0.050000</td>\n",
       "      <td>30.000000</td>\n",
       "      <td>0.000000e+00</td>\n",
       "      <td>NaN</td>\n",
       "      <td>...</td>\n",
       "      <td>3.0</td>\n",
       "      <td>5.380000</td>\n",
       "      <td>3.0</td>\n",
       "      <td>0.000000</td>\n",
       "      <td>18.180000</td>\n",
       "      <td>556.570000</td>\n",
       "      <td>0.010000</td>\n",
       "      <td>259.000000</td>\n",
       "      <td>0.650000</td>\n",
       "      <td>0.000000</td>\n",
       "    </tr>\n",
       "    <tr>\n",
       "      <th>25%</th>\n",
       "      <td>NaN</td>\n",
       "      <td>NaN</td>\n",
       "      <td>7800.000000</td>\n",
       "      <td>7800.000000</td>\n",
       "      <td>7800.000000</td>\n",
       "      <td>36.000000</td>\n",
       "      <td>0.090000</td>\n",
       "      <td>243.000000</td>\n",
       "      <td>4.700000e+04</td>\n",
       "      <td>NaN</td>\n",
       "      <td>...</td>\n",
       "      <td>3.0</td>\n",
       "      <td>72.212500</td>\n",
       "      <td>3.0</td>\n",
       "      <td>0.000000</td>\n",
       "      <td>215.520000</td>\n",
       "      <td>6974.910000</td>\n",
       "      <td>26.070000</td>\n",
       "      <td>3018.050000</td>\n",
       "      <td>45.000000</td>\n",
       "      <td>12.000000</td>\n",
       "    </tr>\n",
       "    <tr>\n",
       "      <th>50%</th>\n",
       "      <td>NaN</td>\n",
       "      <td>NaN</td>\n",
       "      <td>12000.000000</td>\n",
       "      <td>12000.000000</td>\n",
       "      <td>12000.000000</td>\n",
       "      <td>36.000000</td>\n",
       "      <td>0.130000</td>\n",
       "      <td>372.000000</td>\n",
       "      <td>6.600000e+04</td>\n",
       "      <td>NaN</td>\n",
       "      <td>...</td>\n",
       "      <td>3.0</td>\n",
       "      <td>137.050000</td>\n",
       "      <td>3.0</td>\n",
       "      <td>11.000000</td>\n",
       "      <td>407.820000</td>\n",
       "      <td>11614.910000</td>\n",
       "      <td>124.530000</td>\n",
       "      <td>5324.000000</td>\n",
       "      <td>48.225000</td>\n",
       "      <td>18.000000</td>\n",
       "    </tr>\n",
       "    <tr>\n",
       "      <th>75%</th>\n",
       "      <td>NaN</td>\n",
       "      <td>NaN</td>\n",
       "      <td>20000.000000</td>\n",
       "      <td>20000.000000</td>\n",
       "      <td>20000.000000</td>\n",
       "      <td>60.000000</td>\n",
       "      <td>0.160000</td>\n",
       "      <td>598.000000</td>\n",
       "      <td>9.500000e+04</td>\n",
       "      <td>NaN</td>\n",
       "      <td>...</td>\n",
       "      <td>3.0</td>\n",
       "      <td>238.272500</td>\n",
       "      <td>3.0</td>\n",
       "      <td>20.000000</td>\n",
       "      <td>694.230000</td>\n",
       "      <td>18125.165000</td>\n",
       "      <td>286.975000</td>\n",
       "      <td>8406.500000</td>\n",
       "      <td>55.000000</td>\n",
       "      <td>20.000000</td>\n",
       "    </tr>\n",
       "    <tr>\n",
       "      <th>max</th>\n",
       "      <td>NaN</td>\n",
       "      <td>NaN</td>\n",
       "      <td>40000.000000</td>\n",
       "      <td>40000.000000</td>\n",
       "      <td>40000.000000</td>\n",
       "      <td>60.000000</td>\n",
       "      <td>0.310000</td>\n",
       "      <td>1720.000000</td>\n",
       "      <td>1.100000e+08</td>\n",
       "      <td>NaN</td>\n",
       "      <td>...</td>\n",
       "      <td>3.0</td>\n",
       "      <td>893.050000</td>\n",
       "      <td>3.0</td>\n",
       "      <td>37.000000</td>\n",
       "      <td>2679.150000</td>\n",
       "      <td>40306.410000</td>\n",
       "      <td>1407.860000</td>\n",
       "      <td>27850.000000</td>\n",
       "      <td>95.050000</td>\n",
       "      <td>181.000000</td>\n",
       "    </tr>\n",
       "  </tbody>\n",
       "</table>\n",
       "<p>8 rows × 111 columns</p>\n",
       "</div>"
      ],
      "text/plain": [
       "        id  member_id      loan_amnt    funded_amnt  funded_amnt_inv  \\\n",
       "count  0.0        0.0  985850.000000  985850.000000    985850.000000   \n",
       "mean   NaN        NaN   14938.690952   14938.662550     14933.575503   \n",
       "std    NaN        NaN    9428.934759    9428.935435      9426.730366   \n",
       "min    NaN        NaN    1000.000000    1000.000000       775.000000   \n",
       "25%    NaN        NaN    7800.000000    7800.000000      7800.000000   \n",
       "50%    NaN        NaN   12000.000000   12000.000000     12000.000000   \n",
       "75%    NaN        NaN   20000.000000   20000.000000     20000.000000   \n",
       "max    NaN        NaN   40000.000000   40000.000000     40000.000000   \n",
       "\n",
       "                term       int_rate    installment    annual_inc  url  \\\n",
       "count  985850.000000  985850.000000  985850.000000  9.858500e+05  0.0   \n",
       "mean       42.488387       0.129686     446.190079  7.966692e+04  NaN   \n",
       "std        10.659373       0.051171     278.543968  1.483972e+05  NaN   \n",
       "min        36.000000       0.050000      30.000000  0.000000e+00  NaN   \n",
       "25%        36.000000       0.090000     243.000000  4.700000e+04  NaN   \n",
       "50%        36.000000       0.130000     372.000000  6.600000e+04  NaN   \n",
       "75%        60.000000       0.160000     598.000000  9.500000e+04  NaN   \n",
       "max        60.000000       0.310000    1720.000000  1.100000e+08  NaN   \n",
       "\n",
       "            ...         deferral_term  hardship_amount  hardship_length  \\\n",
       "count       ...                4122.0      4122.000000           4122.0   \n",
       "mean        ...                   3.0       173.965842              3.0   \n",
       "std         ...                   0.0       135.091869              0.0   \n",
       "min         ...                   3.0         5.380000              3.0   \n",
       "25%         ...                   3.0        72.212500              3.0   \n",
       "50%         ...                   3.0       137.050000              3.0   \n",
       "75%         ...                   3.0       238.272500              3.0   \n",
       "max         ...                   3.0       893.050000              3.0   \n",
       "\n",
       "       hardship_dpd  orig_projected_additional_accrued_interest  \\\n",
       "count   4122.000000                                 3301.000000   \n",
       "mean      11.045852                                  510.217725   \n",
       "std       10.238793                                  392.896055   \n",
       "min        0.000000                                   18.180000   \n",
       "25%        0.000000                                  215.520000   \n",
       "50%       11.000000                                  407.820000   \n",
       "75%       20.000000                                  694.230000   \n",
       "max       37.000000                                 2679.150000   \n",
       "\n",
       "       hardship_payoff_balance_amount  hardship_last_payment_amount  \\\n",
       "count                     4122.000000                   4122.000000   \n",
       "mean                     13163.534272                    190.549423   \n",
       "std                       7803.055192                    206.604582   \n",
       "min                        556.570000                      0.010000   \n",
       "25%                       6974.910000                     26.070000   \n",
       "50%                      11614.910000                    124.530000   \n",
       "75%                      18125.165000                    286.975000   \n",
       "max                      40306.410000                   1407.860000   \n",
       "\n",
       "       settlement_amount  settlement_percentage  settlement_term  \n",
       "count        5188.000000            5188.000000      5188.000000  \n",
       "mean         6224.270532              49.832951        15.358327  \n",
       "std          4120.127752               7.426984         7.521819  \n",
       "min           259.000000               0.650000         0.000000  \n",
       "25%          3018.050000              45.000000        12.000000  \n",
       "50%          5324.000000              48.225000        18.000000  \n",
       "75%          8406.500000              55.000000        20.000000  \n",
       "max         27850.000000              95.050000       181.000000  \n",
       "\n",
       "[8 rows x 111 columns]"
      ]
     },
     "execution_count": 3,
     "metadata": {},
     "output_type": "execute_result"
    }
   ],
   "source": [
    "loan_all = pd.read_csv(\"C:\\\\Users\\\\Madhava\\\\OneDrive\\\\Documents\\\\imarticus\\\\data.csv\",low_memory=False)\n",
    "loan_all.info()\n",
    "loan_all.describe()"
   ]
  },
  {
   "cell_type": "code",
   "execution_count": null,
   "metadata": {},
   "outputs": [],
   "source": [
    "Pre-processing Data- It appears there are a lot of NaNs. \n",
    "Few cols with 100% NAs- id, member_id, url; zip_code info is masked. Also dropping cols with < 1/3 data."
   ]
  },
  {
   "cell_type": "code",
   "execution_count": 4,
   "metadata": {},
   "outputs": [],
   "source": [
    "loan_all.drop(['id', 'member_id', 'url', 'zip_code' ,'title' ], axis=1, inplace=True)"
   ]
  },
  {
   "cell_type": "code",
   "execution_count": 5,
   "metadata": {},
   "outputs": [
    {
     "data": {
      "text/plain": [
       "Index(['loan_amnt', 'funded_amnt', 'funded_amnt_inv', 'term', 'int_rate',\n",
       "       'installment', 'grade', 'sub_grade', 'emp_title', 'emp_length',\n",
       "       ...\n",
       "       'percent_bc_gt_75', 'pub_rec_bankruptcies', 'tax_liens',\n",
       "       'tot_hi_cred_lim', 'total_bal_ex_mort', 'total_bc_limit',\n",
       "       'total_il_high_credit_limit', 'hardship_flag', 'disbursement_method',\n",
       "       'debt_settlement_flag'],\n",
       "      dtype='object', length=102)"
      ]
     },
     "execution_count": 5,
     "metadata": {},
     "output_type": "execute_result"
    }
   ],
   "source": [
    "missingdata = [x for x in loan_all.count() < len(loan_all)*0.33]\n",
    "loan_all.drop(loan_all.columns[missingdata], axis=1, inplace=True)\n",
    "loan_all.shape\n",
    "loan_all.columns"
   ]
  },
  {
   "cell_type": "markdown",
   "metadata": {},
   "source": [
    "Checking and dropping columns with just one unique value"
   ]
  },
  {
   "cell_type": "code",
   "execution_count": 6,
   "metadata": {},
   "outputs": [],
   "source": [
    "unique = loan_all.nunique()\n",
    "unique = unique[unique.values == 1]\n",
    "loan_all.drop(labels = list(unique.index), axis =1, inplace=True)"
   ]
  },
  {
   "cell_type": "markdown",
   "metadata": {},
   "source": [
    "Checking for outliers Data types for numeric columns"
   ]
  },
  {
   "cell_type": "code",
   "execution_count": 7,
   "metadata": {},
   "outputs": [],
   "source": [
    "loan_all['annual_inc']= loan_all['annual_inc'].astype(float)\n",
    "loan_all['annual_inc'].describe()\n",
    "loan=loan_all.drop(loan_all[loan_all.annual_inc>1e+06].index)"
   ]
  },
  {
   "cell_type": "markdown",
   "metadata": {},
   "source": [
    "Bucketing and dropping extra columns"
   ]
  },
  {
   "cell_type": "code",
   "execution_count": 8,
   "metadata": {},
   "outputs": [
    {
     "data": {
      "text/plain": [
       "0"
      ]
     },
     "execution_count": 8,
     "metadata": {},
     "output_type": "execute_result"
    }
   ],
   "source": [
    "loan['revol_util'].isnull().sum() #856 NAs\n",
    "loan[loan['revol_util'].isnull()]['loan_status'].value_counts() #mostly current loans\n",
    "loan.dropna(subset=['revol_util'],inplace=True)\n",
    "loan['revol_util'].isna().sum()"
   ]
  },
  {
   "cell_type": "code",
   "execution_count": 9,
   "metadata": {},
   "outputs": [],
   "source": [
    "loan['int_rate']=loan['int_rate'].astype(str)\n",
    "loan['int_rate']= loan['int_rate'].map(lambda x: x.rstrip('%'))\n",
    "loan['int_rate']= loan['int_rate'].astype(float)\n",
    "loan['int_rate'].describe() # 5-30.9\n",
    "buck = [0, 5, 10, 15, 20,25, 35]\n",
    "lab = ['0-5', '5-10', '10-15', '15-20', '20-25','>25']\n",
    "loan['int_rate_range'] = pd.cut(loan['int_rate'], buck, labels=lab)"
   ]
  },
  {
   "cell_type": "code",
   "execution_count": 10,
   "metadata": {},
   "outputs": [],
   "source": [
    "loan['loan_amnt'].describe() #0-40k\n",
    "buck = [0, 5000, 10000, 15000, 20000, 25000,40000]\n",
    "lab = ['0-5000', '5000-10000', '10000-15000', '15000-20000', '20000-25000','25000 and above']\n",
    "loan['loan_amnt_range'] = pd.cut(loan['loan_amnt'], buck, labels=lab)"
   ]
  },
  {
   "cell_type": "code",
   "execution_count": 11,
   "metadata": {},
   "outputs": [],
   "source": [
    "loan['annual_inc'].describe() #range 1 to 1 mill\n",
    "buck = [0, 25000, 50000, 75000, 100000,1000000]\n",
    "lab = ['0-25000', '25000-50000', '50000-75000', '75000-100000', '100000 and above']\n",
    "loan['annual_inc_range'] = pd.cut(loan['annual_inc'], buck, labels=lab)"
   ]
  },
  {
   "cell_type": "markdown",
   "metadata": {},
   "source": [
    "Some basic plots to understand variable distribution- Univariate and bivariate relationships"
   ]
  },
  {
   "cell_type": "code",
   "execution_count": 13,
   "metadata": {},
   "outputs": [
    {
     "name": "stderr",
     "output_type": "stream",
     "text": [
      "C:\\Users\\Madhava\\Anaconda3\\lib\\site-packages\\matplotlib\\axes\\_axes.py:6462: UserWarning: The 'normed' kwarg is deprecated, and has been replaced by the 'density' kwarg.\n",
      "  warnings.warn(\"The 'normed' kwarg is deprecated, and has been \"\n"
     ]
    },
    {
     "data": {
      "text/plain": [
       "<matplotlib.axes._subplots.AxesSubplot at 0x23480b5c198>"
      ]
     },
     "execution_count": 13,
     "metadata": {},
     "output_type": "execute_result"
    },
    {
     "data": {
      "image/png": "[encoded data removed]",
      "text/plain": [
       "<Figure size 576x432 with 1 Axes>"
      ]
     },
     "metadata": {},
     "output_type": "display_data"
    }
   ],
   "source": [
    "sns.distplot(loan['loan_amnt'])"
   ]
  },
  {
   "cell_type": "code",
   "execution_count": 14,
   "metadata": {},
   "outputs": [
    {
     "name": "stderr",
     "output_type": "stream",
     "text": [
      "C:\\Users\\Madhava\\Anaconda3\\lib\\site-packages\\matplotlib\\axes\\_axes.py:6462: UserWarning: The 'normed' kwarg is deprecated, and has been replaced by the 'density' kwarg.\n",
      "  warnings.warn(\"The 'normed' kwarg is deprecated, and has been \"\n"
     ]
    },
    {
     "data": {
      "text/plain": [
       "<matplotlib.axes._subplots.AxesSubplot at 0x23480ccb0f0>"
      ]
     },
     "execution_count": 14,
     "metadata": {},
     "output_type": "execute_result"
    },
    {
     "data": {
      "image/png": "[encoded data removed]",
      "text/plain": [
       "<Figure size 576x432 with 1 Axes>"
      ]
     },
     "metadata": {},
     "output_type": "display_data"
    }
   ],
   "source": [
    "sns.distplot(loan['int_rate'])"
   ]
  },
  {
   "cell_type": "code",
   "execution_count": 15,
   "metadata": {},
   "outputs": [
    {
     "name": "stderr",
     "output_type": "stream",
     "text": [
      "C:\\Users\\Madhava\\Anaconda3\\lib\\site-packages\\matplotlib\\axes\\_axes.py:6462: UserWarning: The 'normed' kwarg is deprecated, and has been replaced by the 'density' kwarg.\n",
      "  warnings.warn(\"The 'normed' kwarg is deprecated, and has been \"\n"
     ]
    },
    {
     "data": {
      "text/plain": [
       "<matplotlib.axes._subplots.AxesSubplot at 0x23480df0860>"
      ]
     },
     "execution_count": 15,
     "metadata": {},
     "output_type": "execute_result"
    },
    {
     "data": {
      "image/png": "[encoded data removed]",
      "text/plain": [
       "<Figure size 576x432 with 1 Axes>"
      ]
     },
     "metadata": {},
     "output_type": "display_data"
    }
   ],
   "source": [
    "sns.distplot(loan['annual_inc'])"
   ]
  },
  {
   "cell_type": "markdown",
   "metadata": {},
   "source": [
    "The classification label is the loan status column. Good loans are the ones that are fully paid and current status.  Bad loans are those classified as charged off,default, late, in grace period.\n",
    "Issued loans do not have any information yet so can delete from data."
   ]
  },
  {
   "cell_type": "code",
   "execution_count": 16,
   "metadata": {},
   "outputs": [
    {
     "data": {
      "text/plain": [
       "Current               703989\n",
       "Fully Paid            182459\n",
       "Charged Off            52937\n",
       "Issued                 18959\n",
       "Late (31-120 days)     15118\n",
       "In Grace Period         6577\n",
       "Late (16-30 days)       4421\n",
       "Default                  283\n",
       "Name: loan_status, dtype: int64"
      ]
     },
     "execution_count": 16,
     "metadata": {},
     "output_type": "execute_result"
    },
    {
     "data": {
      "image/png": "[encoded data removed]",
      "text/plain": [
       "<Figure size 576x432 with 1 Axes>"
      ]
     },
     "metadata": {},
     "output_type": "display_data"
    }
   ],
   "source": [
    "sns.countplot(loan['loan_status'])\n",
    "loan['loan_status'].value_counts()"
   ]
  },
  {
   "cell_type": "code",
   "execution_count": 17,
   "metadata": {},
   "outputs": [
    {
     "data": {
      "text/plain": [
       "1    0.917853\n",
       "0    0.082147\n",
       "Name: good_loan, dtype: float64"
      ]
     },
     "execution_count": 17,
     "metadata": {},
     "output_type": "execute_result"
    }
   ],
   "source": [
    "loan['loan_status'].value_counts()/len(loan)\n",
    "loan.drop(loan[loan.loan_status== 'Issued'].index, inplace=True)\n",
    "loan['good_loan'] = np.where((loan.loan_status == 'Fully Paid') |\n",
    "                        (loan.loan_status == 'Current'), 1, 0)\n",
    "loan['good_loan'].value_counts()/len(loan)"
   ]
  },
  {
   "cell_type": "code",
   "execution_count": 18,
   "metadata": {},
   "outputs": [
    {
     "data": {
      "text/plain": [
       "<matplotlib.axes._subplots.AxesSubplot at 0x23480f60470>"
      ]
     },
     "execution_count": 18,
     "metadata": {},
     "output_type": "execute_result"
    },
    {
     "data": {
      "image/png": "[encoded data removed]",
      "text/plain": [
       "<Figure size 576x432 with 1 Axes>"
      ]
     },
     "metadata": {},
     "output_type": "display_data"
    }
   ],
   "source": [
    "sns.countplot(loan['good_loan'])\n",
    "sns.countplot(loan['purpose'],hue=loan['good_loan'])\n",
    "sns.countplot(loan['purpose'],hue=loan['loan_amnt_range'])"
   ]
  },
  {
   "cell_type": "markdown",
   "metadata": {},
   "source": [
    "Home ownership variable- any and none levels do not signify anything so can be dropped"
   ]
  },
  {
   "cell_type": "code",
   "execution_count": 19,
   "metadata": {},
   "outputs": [
    {
     "data": {
      "text/plain": [
       "<matplotlib.axes._subplots.AxesSubplot at 0x234810e15c0>"
      ]
     },
     "execution_count": 19,
     "metadata": {},
     "output_type": "execute_result"
    },
    {
     "data": {
      "image/png": "[encoded data removed]",
      "text/plain": [
       "<Figure size 576x432 with 1 Axes>"
      ]
     },
     "metadata": {},
     "output_type": "display_data"
    }
   ],
   "source": [
    "loan.drop(loan[loan['home_ownership']== 'ANY'].index, inplace=True)\n",
    "loan.drop(loan[loan['home_ownership']== 'NONE'].index, inplace=True)\n",
    "sns.countplot(loan['home_ownership'],hue=loan['good_loan']) "
   ]
  },
  {
   "cell_type": "code",
   "execution_count": 20,
   "metadata": {},
   "outputs": [
    {
     "data": {
      "text/plain": [
       "<matplotlib.axes._subplots.AxesSubplot at 0x234811864e0>"
      ]
     },
     "execution_count": 20,
     "metadata": {},
     "output_type": "execute_result"
    },
    {
     "data": {
      "image/png": "[encoded data removed]",
      "text/plain": [
       "<Figure size 576x432 with 1 Axes>"
      ]
     },
     "metadata": {},
     "output_type": "display_data"
    }
   ],
   "source": [
    "#employment length\n",
    "sns.countplot(loan['emp_length'],hue=loan['good_loan'])\n",
    "sns.countplot(loan['emp_length'],hue=loan['loan_amnt_range'])"
   ]
  },
  {
   "cell_type": "code",
   "execution_count": 21,
   "metadata": {},
   "outputs": [
    {
     "data": {
      "text/plain": [
       "<matplotlib.axes._subplots.AxesSubplot at 0x234811c3400>"
      ]
     },
     "execution_count": 21,
     "metadata": {},
     "output_type": "execute_result"
    },
    {
     "data": {
      "image/png": "[encoded data removed]",
      "text/plain": [
       "<Figure size 576x432 with 1 Axes>"
      ]
     },
     "metadata": {},
     "output_type": "display_data"
    }
   ],
   "source": [
    "#geography\n",
    "sns.countplot(loan['addr_state'],hue=loan['good_loan']) \n",
    "sns.countplot(loan['addr_state'],hue=loan['loan_amnt_range']) "
   ]
  },
  {
   "cell_type": "code",
   "execution_count": 22,
   "metadata": {},
   "outputs": [
    {
     "data": {
      "text/plain": [
       "<matplotlib.axes._subplots.AxesSubplot at 0x23480f3d278>"
      ]
     },
     "execution_count": 22,
     "metadata": {},
     "output_type": "execute_result"
    },
    {
     "data": {
      "image/png": "[encoded data removed]",
      "text/plain": [
       "<Figure size 576x432 with 1 Axes>"
      ]
     },
     "metadata": {},
     "output_type": "display_data"
    }
   ],
   "source": [
    "#monthly trend\n",
    "loan['issue_yr']=pd.DatetimeIndex(loan['issue_d']).year\n",
    "loan['issue_mon']=pd.DatetimeIndex(loan['issue_d']).month\n",
    "sns.countplot(loan['issue_mon'],hue=loan['good_loan'])"
   ]
  },
  {
   "cell_type": "markdown",
   "metadata": {},
   "source": [
    "Checking correlation between a few key business variables"
   ]
  },
  {
   "cell_type": "code",
   "execution_count": 23,
   "metadata": {},
   "outputs": [
    {
     "data": {
      "image/png": "[encoded data removed]",
      "text/plain": [
       "<Figure size 1008x648 with 2 Axes>"
      ]
     },
     "metadata": {},
     "output_type": "display_data"
    }
   ],
   "source": [
    "cor_loan=loan[['loan_amnt','annual_inc', 'good_loan', 'int_rate', 'dti', \n",
    "               'tot_cur_bal', 'funded_amnt']]\n",
    "f, ax = plt.subplots(figsize=(14, 9))\n",
    "sns.heatmap(cor_loan.corr(), \n",
    "            xticklabels=cor_loan.columns.values,\n",
    "            yticklabels=cor_loan.columns.values,annot= True)\n",
    "plt.show()"
   ]
  },
  {
   "cell_type": "markdown",
   "metadata": {},
   "source": [
    "Variable selection: Dropping retrospective variables that would not have been known at the time of loan issuance and thus can skew the prediction."
   ]
  },
  {
   "cell_type": "code",
   "execution_count": 24,
   "metadata": {},
   "outputs": [],
   "source": [
    "loan.drop(['funded_amnt', 'funded_amnt_inv', 'total_pymnt', \n",
    "'total_pymnt_inv', 'total_rec_prncp', 'total_rec_int', \n",
    "'last_pymnt_d', 'last_pymnt_amnt', 'last_credit_pull_d', \n",
    "'recoveries', 'collection_recovery_fee'], axis=1, inplace=True)"
   ]
  },
  {
   "cell_type": "code",
   "execution_count": null,
   "metadata": {},
   "outputs": [],
   "source": [
    "For categorical variables- Hot encoding used wherever clear levels could not be established\n",
    "'earliest_cr_line', 'emp_length'"
   ]
  },
  {
   "cell_type": "code",
   "execution_count": 25,
   "metadata": {},
   "outputs": [
    {
     "data": {
      "text/plain": [
       "10.0    324839\n",
       "2.0      88290\n",
       "0.5      81672\n",
       "3.0      77594\n",
       "1.0      63944\n",
       "5.0      58697\n",
       "4.0      58407\n",
       "6.0      41476\n",
       "9.0      34700\n",
       "8.0      34573\n",
       "7.0      33372\n",
       "Name: emplen, dtype: int64"
      ]
     },
     "execution_count": 25,
     "metadata": {},
     "output_type": "execute_result"
    }
   ],
   "source": [
    "loan['emp_length'].value_counts()\n",
    "emp_range= {'< 1 year':0.5, '1 year':1, '2 years': 2, '3 years':3,\n",
    "            '4 years':4, '5 years':5,'6 years':6,'7 years':7,\n",
    "            '8 years':8,'9 years':9, '10+ years':10}\n",
    "loan['emplen'] = loan[\"emp_length\"].map(emp_range)\n",
    "loan['emplen'].isnull().sum() \n",
    "loan['emplen'].value_counts() "
   ]
  },
  {
   "cell_type": "markdown",
   "metadata": {},
   "source": [
    "Missing value imputation"
   ]
  },
  {
   "cell_type": "code",
   "execution_count": 26,
   "metadata": {},
   "outputs": [],
   "source": [
    "nullseries=pd.isnull(loan).sum()\n",
    "nullseries[nullseries>0]\n",
    "\n",
    "loan['emplen'] = loan['emplen'].replace(np.nan, 10)\n",
    "loan.drop(['emp_length'],axis=1,inplace=True)\n",
    "\n",
    "loan['mths_since_last_delinq'] = loan['mths_since_last_delinq'].fillna(loan['mths_since_last_delinq'].median()) #mean and median v similar\n",
    "loan['mths_since_recent_revol_delinq']=loan['mths_since_recent_revol_delinq'].fillna(loan['mths_since_recent_revol_delinq'].median())\n",
    "\n",
    "#very few missing values for all of them\n",
    "loan['dti'] = loan['dti'].fillna(loan['dti'].mean())\n",
    "loan['inq_last_6mths'] = loan['inq_last_6mths'].fillna(loan['inq_last_6mths'].mean())\n",
    "loan['open_acc_6m'] = loan['open_acc_6m'].fillna(loan['open_acc_6m'].median())\n",
    "loan['open_act_il'] = loan['open_act_il'].fillna(loan['open_act_il'].median())\n",
    "loan['open_il_12m'] = loan['open_il_12m'].fillna(loan['open_il_12m'].median())\n",
    "loan['open_il_24m'] = loan['open_il_24m'].fillna(loan['open_il_24m'].median())\n",
    "loan['open_rv_12m'] = loan['open_rv_12m'].fillna(loan['open_rv_12m'].median())\n",
    "loan['open_rv_24m'] = loan['open_rv_24m'].fillna(loan['open_rv_24m'].median())\n",
    "loan['max_bal_bc'] = loan['max_bal_bc'].fillna(loan['max_bal_bc'].median())\n",
    "loan['all_util'] = loan['all_util'].fillna(loan['all_util'].median())\n",
    "loan['inq_fi'] = loan['inq_fi'].fillna(loan['inq_fi'].median())\n",
    "loan['total_cu_tl'] = loan['total_cu_tl'].fillna(loan['total_cu_tl'].median())\n",
    "loan['total_bal_il']=loan['total_bal_il'].fillna(loan['total_bal_il'].mean())\n",
    "loan['inq_last_12m'] = loan['inq_last_12m'].fillna(loan['inq_last_12m'].median())\n",
    "\n",
    "#A lot of NAs- with integer values so median replacement\n",
    "loan['mths_since_rcnt_il']=loan['mths_since_rcnt_il'].fillna(loan['mths_since_rcnt_il'].median())\n",
    "loan['il_util']=loan['il_util'].fillna(loan['il_util'].median())\n",
    "\n",
    "loan['bc_open_to_buy'].value_counts() # 0s occur the most\n",
    "loan['bc_open_to_buy']=loan['bc_open_to_buy'].fillna(0)\n",
    "\n",
    "# bc_util= total current balance/credit limit\n",
    "loan[loan['bc_util'].isnull()]['bc_open_to_buy'].value_counts() #mostly 0s\n",
    "loan[loan['bc_open_to_buy']==0]['bc_util'].value_counts() #bcutil is~100\n",
    "loan['bc_util']=loan['bc_util'].fillna(100)\n",
    "loan['mo_sin_old_il_acct']=loan['il_util'].fillna(loan['il_util'].median()) #mostly around 120-130\n",
    "loan['mths_since_recent_bc']=loan['mths_since_recent_bc'].fillna(loan['mths_since_recent_bc'].median()) #no corr found\n",
    "loan['mths_since_recent_inq']=loan['mths_since_recent_inq'].fillna(loan['mths_since_recent_inq'].median()) #no corr found\n",
    "loan['num_tl_120dpd_2m']=loan['num_tl_120dpd_2m'].fillna(0) #0 common"
   ]
  },
  {
   "cell_type": "markdown",
   "metadata": {},
   "source": [
    "Feature Engineering- Credit Length and for other categorical variables, introduced levels/encoding where not ordinality could not be established. Variables such as- verification status,subgrade, purpose,addr_state.\n",
    "Hot encoding needs to be done for purpose.\n"
   ]
  },
  {
   "cell_type": "code",
   "execution_count": 27,
   "metadata": {},
   "outputs": [],
   "source": [
    "loan['earliest_crline_yr']=pd.DatetimeIndex(loan['earliest_cr_line']).year"
   ]
  },
  {
   "cell_type": "code",
   "execution_count": 28,
   "metadata": {},
   "outputs": [],
   "source": [
    "loan['issue_yr'].apply(int)\n",
    "loan.loc[loan['issue_yr'].apply(pd.to_numeric, args=('coerce',))> 18, 'issue_yr'] = '19' + loan['issue_yr'].astype(str)\n",
    "loan.loc[loan['issue_yr'].apply(pd.to_numeric, args=('coerce',))< 19, 'issue_yr'] = '20' + loan['issue_yr'].astype(str)\n",
    "loan['issue_yr'].apply(int)\n",
    "loan.drop(['issue_d', 'issue_mon'], axis=1, inplace=True)\n",
    "\n",
    "#now to introduce new variable for checking the difference of these 2 and drop them\n",
    "loan['credit_len']=loan['issue_yr'].apply(int)-loan['earliest_crline_yr'].apply(int)\n",
    "loan.drop(['issue_yr', 'earliest_crline_yr'],axis=1, inplace=True)\n"
   ]
  },
  {
   "cell_type": "code",
   "execution_count": 29,
   "metadata": {},
   "outputs": [],
   "source": [
    "verification_map={'Source Verified':3, 'Verified':2, 'Not Verified':1}\n",
    "loan['verification_status']=loan['verification_status'].map(verification_map)\n",
    "\n",
    "ownership_map={'MORTGAGE':1, 'RENT':2, 'OWN':3}\n",
    "loan['home_ownership']=loan['home_ownership'].map(ownership_map)\n",
    "\n",
    "subgrade_map={'A1':1,'A2':2, 'A3':3, 'A4':4, 'A5':5, 'B1':6, 'B2':7, 'B3':8, 'B4':9, 'B5':10, \n",
    "              'C1':11, 'C2':12, 'C3':13, 'C4':14, 'C5':15, 'D1':16, 'D2':17, 'D3':18, \n",
    "              'D4':19, 'D5':20, 'E1':21, 'E2':22, 'E3':23, 'E4':24, 'E5':25, 'F1':26, \n",
    "              'F2':27, 'F3':28, 'F4':29, 'F5':30, 'G1':31, 'G2':32, 'G3':33, 'G4':34, 'G5':35}\n",
    "loan['sub_grade']=loan['sub_grade'].map(subgrade_map)\n",
    "loan.drop(['grade'],axis=1, inplace=True)\n",
    "\n",
    "hardship_map={'N':0, 'Y':1}\n",
    "loan['hardship_flag']=loan['hardship_flag'].map(hardship_map)\n",
    "\n",
    "debtsett_map={'N':0, 'Y':1}\n",
    "loan['debt_settlement_flag']=loan['debt_settlement_flag'].map(debtsett_map)"
   ]
  },
  {
   "cell_type": "code",
   "execution_count": 30,
   "metadata": {},
   "outputs": [
    {
     "data": {
      "text/plain": [
       "(895988, 93)"
      ]
     },
     "execution_count": 30,
     "metadata": {},
     "output_type": "execute_result"
    }
   ],
   "source": [
    "loan= loan[loan['purpose'] != 'educational']\n",
    "loan= loan[loan['purpose'] !='wedding']\n",
    "loan= loan[loan['purpose'] !='other']\n",
    "\n",
    "loan['loan_amnt'].isna().sum()\n",
    "loan.shape"
   ]
  },
  {
   "cell_type": "code",
   "execution_count": 31,
   "metadata": {},
   "outputs": [],
   "source": [
    "enc1= pd.get_dummies(loan['purpose'])\n",
    "loan=pd.concat((loan,enc1), axis=1)\n",
    "loan.drop(['purpose'],axis=1,inplace=True)\n",
    "\n",
    "enc2= pd.get_dummies(loan['addr_state'])\n",
    "loan=pd.concat((loan,enc2), axis=1)\n",
    "loan.drop(['addr_state'],axis=1,inplace=True)\n",
    "\n",
    "enc3= pd.get_dummies(loan['disbursement_method'])\n",
    "loan=pd.concat((loan,enc3), axis=1)\n",
    "loan.drop(['disbursement_method'],axis=1,inplace=True)\n",
    "\n",
    "enc4= pd.get_dummies(loan['application_type'])\n",
    "loan=pd.concat((loan,enc4), axis=1)\n",
    "loan.drop(['application_type'],axis=1,inplace=True)\n"
   ]
  },
  {
   "cell_type": "code",
   "execution_count": 32,
   "metadata": {},
   "outputs": [
    {
     "data": {
      "text/plain": [
       "loan_amnt                     0\n",
       "term                          0\n",
       "int_rate                      0\n",
       "installment                   0\n",
       "sub_grade                     0\n",
       "home_ownership                0\n",
       "annual_inc                    0\n",
       "verification_status           0\n",
       "dti                           0\n",
       "delinq_2yrs                   0\n",
       "inq_last_6mths                0\n",
       "mths_since_last_delinq        0\n",
       "open_acc                      0\n",
       "pub_rec                       0\n",
       "revol_bal                     0\n",
       "revol_util                    0\n",
       "total_acc                     0\n",
       "out_prncp                     0\n",
       "out_prncp_inv                 0\n",
       "collections_12_mths_ex_med    0\n",
       "acc_now_delinq                0\n",
       "tot_coll_amt                  0\n",
       "tot_cur_bal                   0\n",
       "open_acc_6m                   0\n",
       "open_act_il                   0\n",
       "open_il_12m                   0\n",
       "open_il_24m                   0\n",
       "mths_since_rcnt_il            0\n",
       "total_bal_il                  0\n",
       "il_util                       0\n",
       "                             ..\n",
       "MS                            0\n",
       "MT                            0\n",
       "NC                            0\n",
       "ND                            0\n",
       "NE                            0\n",
       "NH                            0\n",
       "NJ                            0\n",
       "NM                            0\n",
       "NV                            0\n",
       "NY                            0\n",
       "OH                            0\n",
       "OK                            0\n",
       "OR                            0\n",
       "PA                            0\n",
       "RI                            0\n",
       "SC                            0\n",
       "SD                            0\n",
       "TN                            0\n",
       "TX                            0\n",
       "UT                            0\n",
       "VA                            0\n",
       "VT                            0\n",
       "WA                            0\n",
       "WI                            0\n",
       "WV                            0\n",
       "WY                            0\n",
       "Cash                          0\n",
       "DirectPay                     0\n",
       "Individual                    0\n",
       "Joint App                     0\n",
       "Length: 144, dtype: int64"
      ]
     },
     "execution_count": 32,
     "metadata": {},
     "output_type": "execute_result"
    }
   ],
   "source": [
    "loan.drop(['earliest_cr_line','loan_amnt_range', 'annual_inc_range',\n",
    "           'int_rate_range','loan_status', 'next_pymnt_d','emp_title'\n",
    "           ,'pymnt_plan','initial_list_status', 'total_rec_late_fee'],axis=1, inplace=True)\n",
    "loan.isna()\n",
    "loan.isnull().sum()"
   ]
  },
  {
   "cell_type": "markdown",
   "metadata": {},
   "source": [
    "Sampling procedures- \n",
    "SMOTE: can increase recall at the cost of precision\n",
    "Undersampling: if less data overall, minority class gets you less data\n",
    "ADASYN will focus on samples which are difficult to classify with NN\n",
    "\n",
    "Split original data-oversample training set-test on original test data\n",
    "http://contrib.scikit-learn.org/imbalanced-learn/stable/auto_examples/under-sampling/plot_random_under_sampler.html#sphx-glr-auto-examples-under-sampling-plot-random-under-sampler-py\n"
   ]
  },
  {
   "cell_type": "code",
   "execution_count": 33,
   "metadata": {},
   "outputs": [],
   "source": [
    "\n",
    "from collections import Counter\n",
    "from imblearn.under_sampling import RandomUnderSampler\n",
    "from sklearn.model_selection import StratifiedKFold\n"
   ]
  },
  {
   "cell_type": "code",
   "execution_count": 34,
   "metadata": {},
   "outputs": [],
   "source": [
    "X= loan[loan.columns.difference(['good_loan'])] #except label\n",
    "y= loan['good_loan']\n"
   ]
  },
  {
   "cell_type": "code",
   "execution_count": 35,
   "metadata": {},
   "outputs": [],
   "source": [
    "from sklearn.model_selection import train_test_split\n",
    "from imblearn.over_sampling import ADASYN, RandomOverSampler, SMOTE \n",
    "from imblearn.under_sampling import RandomUnderSampler\n"
   ]
  },
  {
   "cell_type": "code",
   "execution_count": 36,
   "metadata": {},
   "outputs": [],
   "source": [
    "X_train, X_test, y_train, y_test = train_test_split(X, y,test_size=0.2, random_state=0, stratify=y)\n",
    "\n",
    "#OVERSAMPLING-ADASYN\n",
    "ada = ADASYN(random_state=42)\n",
    "X_res, y_res = ada.fit_sample(X_train, y_train)\n",
    "Counter(y_res) #data exploded to 1mn records with 145 variables\n",
    "\n",
    "#OVERSAMPLING-SMOTE\n",
    "sm= SMOTE(random_state=42)\n",
    "X_sm, y_sm = sm.fit_sample(X_train, y_train)\n",
    "#Counter(y_res) #data exploded to 1mn records with 145 variables\n",
    "\n",
    "#OVERSAMPLING-RANDOM\n",
    "ros= RandomOverSampler(random_state=555)\n",
    "X_over, y_over= ros.fit_sample(X_train, y_train)\n",
    "\n",
    "#Undersampling\n",
    "rus = RandomUnderSampler(return_indices=True, random_state=555)\n",
    "X_resampled, y_resampled, idx_resampled= rus.fit_sample(X_train, y_train)\n"
   ]
  },
  {
   "cell_type": "markdown",
   "metadata": {},
   "source": [
    "Standardization of Data"
   ]
  },
  {
   "cell_type": "code",
   "execution_count": 37,
   "metadata": {},
   "outputs": [],
   "source": [
    "from sklearn import preprocessing\n",
    "from sklearn.preprocessing import StandardScaler\n",
    "scaler = StandardScaler()\n",
    "X_std= scaler.fit_transform(X_sm)\n",
    "X_std_test= scaler.fit_transform(X_test)\n"
   ]
  },
  {
   "cell_type": "markdown",
   "metadata": {},
   "source": [
    "Testing out which sampling gives best results- SMOTE, ADASYN, Random Oversampling, Random Undersampling. \n",
    "It was observed that SMOTE gave the best results in this case and that sampling was chosen. "
   ]
  },
  {
   "cell_type": "code",
   "execution_count": 39,
   "metadata": {},
   "outputs": [],
   "source": [
    "from sklearn.linear_model import LogisticRegression\n",
    "from sklearn.metrics import accuracy_score, roc_auc_score, f1_score,classification_report"
   ]
  },
  {
   "cell_type": "code",
   "execution_count": 40,
   "metadata": {},
   "outputs": [
    {
     "data": {
      "text/plain": [
       "(1, 143)"
      ]
     },
     "execution_count": 40,
     "metadata": {},
     "output_type": "execute_result"
    }
   ],
   "source": [
    "#1. Logistic Regression\n",
    "\n",
    "#SMOTE\n",
    "lr_sm = LogisticRegression() \n",
    "lr_sm.fit(X_sm, y_sm)\n",
    "lr_sm.score(X_sm, y_sm)\n",
    "y_pred_sm= lr_sm.predict(X_test)\n",
    "accuracy_score(y_test, y_pred_sm)\n",
    "roc_auc_score(y_test, y_pred_sm)\n",
    "classification_report(y_test, y_pred_sm)\n",
    "f1_score(y_test, y_pred_sm)\n",
    "\n",
    "lr_sm.coef_.shape"
   ]
  },
  {
   "cell_type": "code",
   "execution_count": null,
   "metadata": {},
   "outputs": [],
   "source": [
    "\n",
    "#ADASYN\n",
    "model = LogisticRegression() \n",
    "model.fit(X_res, y_res)\n",
    "model.score(X_res, y_res)\n",
    "y_pred= model.predict(X_test)\n",
    "accuracy_score(y_test, y_pred)\n",
    "roc_auc_score(y_test, y_pred)\n",
    "classification_report(y_test, y_pred)\n"
   ]
  },
  {
   "cell_type": "code",
   "execution_count": null,
   "metadata": {},
   "outputs": [],
   "source": [
    "\n",
    "#oversample- random\n",
    "model_over = LogisticRegression()\n",
    "model_over.fit(X_over, y_over) \n",
    "model_over.score(X_over, y_over)\n",
    "y_pred_over= model_over.predict(X_test) \n",
    "accuracy_score(y_test, y_pred_over)\n",
    "roc_auc_score(y_test, y_pred_over)\n",
    "classification_report(y_test, y_pred_over)\n"
   ]
  },
  {
   "cell_type": "code",
   "execution_count": null,
   "metadata": {},
   "outputs": [],
   "source": [
    "#undersample\n",
    "model_under = LogisticRegression()\n",
    "model_under.fit(X_resampled, y_resampled) \n",
    "model_under.score(X_resampled, y_resampled)\n",
    "y_pred_under= model_under.predict(X_test) \n",
    "accuracy_score(y_test, y_pred_under)\n",
    "roc_auc_score(y_test, y_pred_under)\n",
    "classification_report(y_test, y_pred_under)"
   ]
  },
  {
   "cell_type": "markdown",
   "metadata": {},
   "source": [
    "Training and Testing Decision Trees"
   ]
  },
  {
   "cell_type": "code",
   "execution_count": 41,
   "metadata": {},
   "outputs": [
    {
     "data": {
      "text/plain": [
       "0.9275932186780342"
      ]
     },
     "execution_count": 41,
     "metadata": {},
     "output_type": "execute_result"
    }
   ],
   "source": [
    "#2 Decision Tree\n",
    "from sklearn.tree import tree, DecisionTreeClassifier\n",
    "dt = tree.DecisionTreeClassifier(criterion='gini')\n",
    "dt.fit(X_sm, y_sm)\n",
    "dt.score(X_sm, y_sm)\n",
    "y_pred_sm= dt.predict(X_test)\n",
    "accuracy_score(y_test, y_pred_sm)\n",
    "roc_auc_score(y_test, y_pred_sm)\n",
    "classification_report(y_test, y_pred_sm)\n",
    "f1_score(y_test, y_pred_sm)    "
   ]
  },
  {
   "cell_type": "code",
   "execution_count": null,
   "metadata": {},
   "outputs": [],
   "source": [
    "\n",
    "#visualization\n",
    "from os import system\n",
    "dotfile = open(\"C:/Users/Madhava/OneDrive/Documents/UC-BANA/Summer 2018/Capstone:/dtree2.dot\", 'w')\n",
    "tree.export_graphviz(dt, out_file = dotfile, feature_names = X_sm.columns)\n",
    "dotfile.close()\n",
    "system(\"dot -Tpng D:.dot -o D:/dtree2.png\")\n",
    "\n",
    "with open(\"dt.txt\", \"w\") as f:\n",
    "    f = tree.export_graphviz(dt, out_file=f)"
   ]
  },
  {
   "cell_type": "markdown",
   "metadata": {},
   "source": [
    "Traiing, testing and tuning Random Forests"
   ]
  },
  {
   "cell_type": "code",
   "execution_count": 42,
   "metadata": {},
   "outputs": [
    {
     "data": {
      "text/plain": [
       "0.9591028520263625"
      ]
     },
     "execution_count": 42,
     "metadata": {},
     "output_type": "execute_result"
    }
   ],
   "source": [
    "#3 Random Forests\n",
    "from sklearn.ensemble import RandomForestClassifier \n",
    "rf = RandomForestClassifier(n_estimators=80, max_features= 'log2')\n",
    "rf.fit(X_sm, y_sm)\n",
    "#rf.score(X_sm, y_sm)\n",
    "y_rf= rf.predict(X_test)\n",
    "accuracy_score(y_test, y_rf)\n",
    "roc_auc_score(y_test, y_rf)\n",
    "classification_report(y_test, y_rf)\n",
    "f1_score(y_test, y_rf)    "
   ]
  },
  {
   "cell_type": "code",
   "execution_count": null,
   "metadata": {},
   "outputs": [],
   "source": [
    "#tuning RF\n",
    "from sklearn.grid_search import GridSearchCV\n",
    "param_grid = { \n",
    "    'n_estimators': [20, 80],\n",
    "    'max_features': [None, 'log2', 'sqrt']\n",
    "}\n",
    "CV_rf = GridSearchCV(estimator=rf, param_grid=param_grid, cv= 5)\n",
    "CV_rf.fit(X_sm, y_sm)\n",
    "print (CV_rf.best_params)"
   ]
  },
  {
   "cell_type": "code",
   "execution_count": 43,
   "metadata": {},
   "outputs": [],
   "source": [
    "\n",
    "#variable importance\n",
    "importances = rf.feature_importances_\n",
    "std = np.std([tree.feature_importances_ for tree in rf.estimators_],\n",
    "             axis=0)\n",
    "indices = np.argsort(importances)[::-1]\n"
   ]
  },
  {
   "cell_type": "code",
   "execution_count": 44,
   "metadata": {},
   "outputs": [
    {
     "name": "stdout",
     "output_type": "stream",
     "text": [
      "Feature ranking:\n",
      "1. feature 119 (0.056414)\n",
      "2. feature 118 (0.047634)\n",
      "3. feature 142 (0.044134)\n",
      "4. feature 128 (0.039670)\n",
      "5. feature 79 (0.036693)\n",
      "6. feature 81 (0.033858)\n",
      "7. feature 66 (0.029947)\n",
      "8. feature 77 (0.029449)\n",
      "9. feature 78 (0.028685)\n",
      "10. feature 112 (0.026727)\n",
      "11. feature 110 (0.026627)\n",
      "12. feature 64 (0.026142)\n",
      "13. feature 116 (0.023071)\n",
      "14. feature 130 (0.021202)\n",
      "15. feature 121 (0.019818)\n",
      "16. feature 138 (0.018281)\n",
      "17. feature 67 (0.018225)\n",
      "18. feature 114 (0.017600)\n",
      "19. feature 71 (0.015566)\n",
      "20. feature 89 (0.015473)\n",
      "21. feature 55 (0.014827)\n",
      "22. feature 122 (0.013533)\n",
      "23. feature 68 (0.013183)\n",
      "24. feature 88 (0.013065)\n",
      "25. feature 117 (0.013054)\n",
      "26. feature 74 (0.012142)\n",
      "27. feature 95 (0.011942)\n",
      "28. feature 115 (0.011377)\n",
      "29. feature 98 (0.010892)\n",
      "30. feature 97 (0.010799)\n",
      "31. feature 4 (0.009456)\n",
      "32. feature 99 (0.009439)\n",
      "33. feature 93 (0.009101)\n",
      "34. feature 92 (0.008610)\n",
      "35. feature 123 (0.008237)\n",
      "36. feature 94 (0.007716)\n",
      "37. feature 105 (0.007693)\n",
      "38. feature 80 (0.006948)\n",
      "39. feature 82 (0.006912)\n",
      "40. feature 96 (0.006684)\n",
      "41. feature 46 (0.006618)\n",
      "42. feature 100 (0.006435)\n",
      "43. feature 73 (0.006363)\n",
      "44. feature 133 (0.006237)\n",
      "45. feature 132 (0.005915)\n",
      "46. feature 59 (0.005780)\n",
      "47. feature 90 (0.005749)\n",
      "48. feature 101 (0.005733)\n",
      "49. feature 70 (0.005716)\n",
      "50. feature 58 (0.005638)\n",
      "51. feature 57 (0.005573)\n",
      "52. feature 60 (0.005552)\n",
      "53. feature 11 (0.005454)\n",
      "54. feature 126 (0.005447)\n",
      "55. feature 113 (0.005434)\n",
      "56. feature 140 (0.005352)\n",
      "57. feature 56 (0.005323)\n",
      "58. feature 137 (0.005154)\n",
      "59. feature 135 (0.005098)\n",
      "60. feature 84 (0.005074)\n",
      "61. feature 37 (0.005071)\n",
      "62. feature 125 (0.005062)\n",
      "63. feature 139 (0.004976)\n",
      "64. feature 87 (0.004897)\n",
      "65. feature 103 (0.004828)\n",
      "66. feature 102 (0.004823)\n",
      "67. feature 136 (0.004823)\n",
      "68. feature 86 (0.004770)\n",
      "69. feature 104 (0.004757)\n",
      "70. feature 65 (0.004705)\n",
      "71. feature 76 (0.004696)\n",
      "72. feature 111 (0.004517)\n",
      "73. feature 134 (0.004451)\n",
      "74. feature 106 (0.004284)\n",
      "75. feature 131 (0.003982)\n",
      "76. feature 18 (0.003226)\n",
      "77. feature 17 (0.002587)\n",
      "78. feature 109 (0.002029)\n",
      "79. feature 15 (0.001679)\n",
      "80. feature 41 (0.001362)\n",
      "81. feature 129 (0.001354)\n",
      "82. feature 34 (0.001249)\n",
      "83. feature 83 (0.001163)\n",
      "84. feature 12 (0.001076)\n",
      "85. feature 38 (0.001049)\n",
      "86. feature 25 (0.000895)\n",
      "87. feature 72 (0.000832)\n",
      "88. feature 48 (0.000813)\n",
      "89. feature 30 (0.000805)\n",
      "90. feature 3 (0.000742)\n",
      "91. feature 127 (0.000731)\n",
      "92. feature 22 (0.000721)\n",
      "93. feature 85 (0.000643)\n",
      "94. feature 5 (0.000603)\n",
      "95. feature 23 (0.000584)\n",
      "96. feature 50 (0.000569)\n",
      "97. feature 63 (0.000548)\n",
      "98. feature 16 (0.000496)\n",
      "99. feature 27 (0.000477)\n",
      "100. feature 45 (0.000459)\n",
      "101. feature 26 (0.000432)\n",
      "102. feature 36 (0.000428)\n",
      "103. feature 6 (0.000398)\n",
      "104. feature 91 (0.000383)\n",
      "105. feature 61 (0.000380)\n",
      "106. feature 21 (0.000360)\n",
      "107. feature 51 (0.000350)\n",
      "108. feature 1 (0.000345)\n",
      "109. feature 43 (0.000306)\n",
      "110. feature 141 (0.000292)\n",
      "111. feature 40 (0.000291)\n",
      "112. feature 20 (0.000274)\n",
      "113. feature 39 (0.000252)\n",
      "114. feature 75 (0.000235)\n",
      "115. feature 2 (0.000217)\n",
      "116. feature 62 (0.000211)\n",
      "117. feature 28 (0.000206)\n",
      "118. feature 47 (0.000198)\n",
      "119. feature 32 (0.000191)\n",
      "120. feature 35 (0.000177)\n",
      "121. feature 19 (0.000174)\n",
      "122. feature 33 (0.000152)\n",
      "123. feature 69 (0.000148)\n",
      "124. feature 7 (0.000143)\n",
      "125. feature 54 (0.000136)\n",
      "126. feature 42 (0.000134)\n",
      "127. feature 10 (0.000134)\n",
      "128. feature 13 (0.000132)\n",
      "129. feature 9 (0.000115)\n",
      "130. feature 108 (0.000099)\n",
      "131. feature 14 (0.000098)\n",
      "132. feature 31 (0.000087)\n",
      "133. feature 29 (0.000086)\n",
      "134. feature 0 (0.000081)\n",
      "135. feature 53 (0.000079)\n",
      "136. feature 24 (0.000079)\n",
      "137. feature 44 (0.000072)\n",
      "138. feature 8 (0.000071)\n",
      "139. feature 120 (0.000069)\n",
      "140. feature 49 (0.000056)\n",
      "141. feature 52 (0.000048)\n",
      "142. feature 124 (0.000043)\n",
      "143. feature 107 (0.000032)\n"
     ]
    },
    {
     "data": {
      "image/png": "[encoded data removed]",
      "text/plain": [
       "<Figure size 576x432 with 1 Axes>"
      ]
     },
     "metadata": {},
     "output_type": "display_data"
    }
   ],
   "source": [
    "print(\"Feature ranking:\")\n",
    "\n",
    "for f in range(X.shape[1]):\n",
    "    print(\"%d. feature %d (%f)\" % (f + 1, indices[f], importances[indices[f]]))\n",
    "\n",
    "plt.figure()\n",
    "plt.title(\"Feature importances\")\n",
    "plt.bar(range(X.shape[1]), importances[indices],\n",
    "       color=\"r\", yerr=std[indices], align=\"center\")\n",
    "plt.xticks(range(X.shape[1]), indices)\n",
    "plt.xlim([-1, X.shape[1]])\n",
    "plt.show()\n"
   ]
  },
  {
   "cell_type": "markdown",
   "metadata": {},
   "source": [
    "Gradient Boosted Trees"
   ]
  },
  {
   "cell_type": "code",
   "execution_count": 45,
   "metadata": {},
   "outputs": [
    {
     "data": {
      "text/plain": [
       "0.960281335638592"
      ]
     },
     "execution_count": 45,
     "metadata": {},
     "output_type": "execute_result"
    }
   ],
   "source": [
    "from sklearn.ensemble import GradientBoostingClassifier  \n",
    "gb = GradientBoostingClassifier(n_estimators=80, learning_rate=1, \n",
    "                                random_state=42)\n",
    "gb.fit(X_sm, y_sm)\n",
    "#rf.score(X_sm, y_sm)\n",
    "y_gb= gb.predict(X_test)\n",
    "#accuracy_score(y_test, y_rf)\n",
    "roc_auc_score(y_test, y_gb)\n",
    "classification_report(y_test, y_gb)\n",
    "f1_score(y_test, y_gb) \n"
   ]
  },
  {
   "cell_type": "markdown",
   "metadata": {},
   "source": [
    "Support Vector Machines"
   ]
  },
  {
   "cell_type": "code",
   "execution_count": null,
   "metadata": {},
   "outputs": [],
   "source": [
    "from sklearn import svm\n",
    "from sklearn.svm import SVC\n",
    "\n",
    "model_svm = svm.SVC(random_state=42, tol=100,class_weight='balanced')\n",
    "model_svm.fit(X_std, y_sm)\n",
    "y_svm= model_svm.predict(X_std_test)\n",
    "accuracy_score(y_test, y_svm)\n",
    "roc_auc_score(y_test, y_svm)\n",
    "classification_report(y_test, y_svm)\n",
    "f1_score(y_test, y_svm)\n"
   ]
  },
  {
   "cell_type": "markdown",
   "metadata": {},
   "source": [
    "For Neural Networks and Deep Learning- https://machinelearningmastery.com/tutorial-first-neural-network-python-keras/"
   ]
  },
  {
   "cell_type": "code",
   "execution_count": null,
   "metadata": {},
   "outputs": [],
   "source": [
    "from keras.models import Sequential\n",
    "from keras.layers import Dense\n",
    "np.random.seed(777)\n"
   ]
  },
  {
   "cell_type": "code",
   "execution_count": null,
   "metadata": {},
   "outputs": [],
   "source": [
    "# create model\n",
    "model = Sequential()\n",
    "model.add(Dense(12, input_dim=143, activation='relu'))\n",
    "model.add(Dense(143, activation='relu'))\n",
    "model.add(Dense(1, activation='sigmoid'))\n",
    "# Compile model\n",
    "model.compile(loss='binary_crossentropy', optimizer='adam', metrics=['accuracy'])\n",
    "# Fit the model\n",
    "model.fit(X_std, y_sm, epochs=50, batch_size=10)\n",
    "# evaluate the model\n",
    "scores = model.evaluate(X_std, y_sm)\n",
    "print(\"\\n%s: %.2f%%\" % (model.metrics_names[1], scores[1]*100))\n",
    "\n",
    "predictions = model.predict(X_std_test)\n",
    "y_rounded = [round(x[0]) for x in predictions]\n",
    "scores_test = model.evaluate(X_std_test, y_test)\n",
    "print(\"\\n%s: %.2f%%\" % (model.metrics_names[1], scores_test[1]*100))\n",
    "\n",
    "accuracy_score(y_test, y_rounded)\n",
    "f1_score(y_test, y_rounded)\n",
    "roc_auc_score(y_test, y_rounded)"
   ]
  }
 ],
 "metadata": {
  "kernelspec": {
   "display_name": "Python 3",
   "language": "python",
   "name": "python3"
  },
  "language_info": {
   "codemirror_mode": {
    "name": "ipython",
    "version": 3
   },
   "file_extension": ".py",
   "mimetype": "text/x-python",
   "name": "python",
   "nbconvert_exporter": "python",
   "pygments_lexer": "ipython3",
   "version": "3.7.1"
  }
 },
 "nbformat": 4,
 "nbformat_minor": 2
}
