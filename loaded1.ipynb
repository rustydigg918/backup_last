{
 "cells": [
  {
   "cell_type": "code",
   "execution_count": null,
   "metadata": {},
   "outputs": [],
   "source": [
    "ram = 0\n",
    "for i in range(10):\n",
    "    integr = int(input('Enter the integer: '))\n",
    "    if(integr % 2 != 0 and integr > ram):\n",
    "        ram = integr\n",
    "        continue\n",
    "if(ram == 0):\n",
    "    print('You have not enered any odd number')\n",
    "else:\n",
    "    print(ram)"
   ]
  },
  {
   "cell_type": "raw",
   "metadata": {},
   "source": [
    "ram = [0]\n",
    "for i in range(10):\n",
    "    integr = int(input('Enter the integer: '))\n",
    "    if(integr % 2 != 0 and integr > ram[i]):\n",
    "        ram[i] = integr\n",
    "        continue\n",
    "if(ram[i] ==0):\n",
    "    print('You have not entered any odd number')\n",
    "else:\n",
    "    print(ram[i])"
   ]
  }
 ],
 "metadata": {
  "kernelspec": {
   "display_name": "Python 3",
   "language": "python",
   "name": "python3"
  },
  "language_info": {
   "codemirror_mode": {
    "name": "ipython",
    "version": 3
   },
   "file_extension": ".py",
   "mimetype": "text/x-python",
   "name": "python",
   "nbconvert_exporter": "python",
   "pygments_lexer": "ipython3",
   "version": "3.7.1"
  }
 },
 "nbformat": 4,
 "nbformat_minor": 2
}
