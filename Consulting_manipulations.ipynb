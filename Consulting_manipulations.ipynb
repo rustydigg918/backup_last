{
 "cells": [
  {
   "cell_type": "code",
   "execution_count": 77,
   "metadata": {},
   "outputs": [
    {
     "name": "stdout",
     "output_type": "stream",
     "text": [
      "C:\\Users\\pushkar\\Downloads\\RERA - S&G - Bank Statements - 02.06.2020\n"
     ]
    }
   ],
   "source": [
    "cd C:\\Users\\pushkar\\Downloads\\RERA - S&G - Bank Statements - 02.06.2020"
   ]
  },
  {
   "cell_type": "code",
   "execution_count": 9,
   "metadata": {},
   "outputs": [
    {
     "name": "stdout",
     "output_type": "stream",
     "text": [
      " Volume in drive C has no label.\n",
      " Volume Serial Number is E463-CE57\n",
      "\n",
      " Directory of C:\\Users\\pushkar\n",
      "\n",
      "23-06-2020  17:37    <DIR>          .\n",
      "23-06-2020  17:37    <DIR>          ..\n",
      "24-01-2020  17:35    <DIR>          .anaconda\n",
      "24-06-2020  14:34    <DIR>          .atom\n",
      "22-06-2020  17:21            12,926 .bash_history\n",
      "27-01-2020  08:17    <DIR>          .conda\n",
      "02-06-2020  12:59                43 .condarc\n",
      "14-04-2020  16:48    <DIR>          .config\n",
      "08-05-2020  12:07    <DIR>          .continuum\n",
      "08-02-2020  17:57    <DIR>          .idlerc\n",
      "22-06-2020  17:20    <DIR>          .ipynb_checkpoints\n",
      "24-01-2020  18:13    <DIR>          .ipython\n",
      "09-05-2020  11:46    <DIR>          .jupyter\n",
      "27-01-2020  14:48    <DIR>          .matplotlib\n",
      "17-02-2020  10:55    <DIR>          .ssh\n",
      "23-02-2020  23:15               963 .viminfo\n",
      "24-01-2020  17:43    <DIR>          .vscode\n",
      "27-05-2020  03:45            22,850 _viminfo\n",
      "12-06-2020  14:56    <DIR>          3D Objects\n",
      "09-02-2020  11:04                 0 5\n",
      "09-02-2020  11:04                 0 7\n",
      "15-02-2020  22:13    <DIR>          back\n",
      "15-02-2020  22:15        80,541,648 back.rar\n",
      "08-05-2020  16:44    <DIR>          back1\n",
      "15-02-2020  22:14        85,488,410 back1.zip\n",
      "27-03-2020  12:08    <DIR>          base_backup\n",
      "19-03-2020  18:42    <DIR>          base_file_imgprocessing\n",
      "03-06-2020  16:01    <DIR>          Big Basket\n",
      "17-04-2020  00:31           327,587 CardioGoodFitness - Descriptive Statistics.ipynb\n",
      "17-04-2020  00:32             7,460 CardioGoodFitness-1.csv\n",
      "08-05-2020  18:55            22,825 checking_numpy_randomState.ipynb\n",
      "02-05-2020  05:26           126,942 Competitor_Analysis.ipynb\n",
      "03-05-2020  15:08           122,653 Competitor_Analysis-Copy1.ipynb\n",
      "23-06-2020  17:12           123,265 Consulting_manipulations.ipynb\n",
      "12-06-2020  14:56    <DIR>          Contacts\n",
      "19-04-2020  17:29    <DIR>          CorePython\n",
      "17-02-2020  15:33    <DIR>          Data_Science\n",
      "09-05-2020  11:27    <DIR>          datasets\n",
      "27-01-2020  08:54         8,840,065 datasets.zip\n",
      "05-06-2020  21:34    <DIR>          Dell_Inspiron_works\n",
      "24-06-2020  16:22    <DIR>          Desktop\n",
      "12-06-2020  14:56    <DIR>          Documents\n",
      "25-06-2020  12:35    <DIR>          Downloads\n",
      "07-05-2020  17:56           902,226 eda-on-top-spotify-songs.ipynb\n",
      "09-03-2020  10:13    <DIR>          effective-pandas\n",
      "12-06-2020  14:56    <DIR>          Favorites\n",
      "19-04-2020  16:29    <DIR>          Great_Learning\n",
      "04-06-2020  23:29    <DIR>          Guru-Jana\n",
      "02-06-2020  17:41           812,092 ipl-a-complete-analysis.ipynb\n",
      "07-05-2020  00:36    <DIR>          ipldata\n",
      "07-05-2020  00:35         1,260,993 ipldata.zip\n",
      "29-04-2020  20:04            26,269 Joking_Bad.ipynb\n",
      "23-02-2020  23:27    <DIR>          Jupyter\n",
      "09-02-2020  11:04                 0 Keyboard\n",
      "12-06-2020  14:56    <DIR>          Links\n",
      "27-01-2020  11:47        15,627,310 Master-Data-Analysis-with-Python-Intro-to-pandas.zip\n",
      "05-02-2020  21:33    <DIR>          MediumArticle-FuzzyWuzzy-master\n",
      "05-02-2020  21:32           947,116 MediumArticle-FuzzyWuzzy-master.zip\n",
      "12-06-2020  14:56    <DIR>          Music\n",
      "25-06-2020  16:24    <DIR>          OneDrive\n",
      "23-01-2020  11:44    <DIR>          OpenVPN\n",
      "29-01-2020  10:20    <DIR>          Opinionated pandas\n",
      "24-02-2020  00:09    <DIR>          pandas\n",
      "27-01-2020  21:58           345,905 Pandas_Cheat_Sheet.pdf\n",
      "09-03-2020  10:13    <DIR>          pandas_exercises\n",
      "27-01-2020  22:16    <DIR>          pandas_justMark\n",
      "06-05-2020  22:51    <DIR>          Pandas_reference\n",
      "17-02-2020  15:33    <DIR>          Pandas-Data-Science-Tasks\n",
      "23-06-2020  17:37           347,800 pdf_ply.ipynb\n",
      "12-06-2020  14:56    <DIR>          Pictures\n",
      "06-05-2020  23:37         8,923,131 plotting-with-python-learn-80-plots-step-by-step.ipynb\n",
      "24-01-2020  17:43    <DIR>          Postman\n",
      "27-01-2020  22:26    <DIR>          pycon-2018-tutorial-master\n",
      "27-01-2020  22:26    <DIR>          pycon-2019-tutorial-master\n",
      "27-01-2020  22:24    <DIR>          pyconuk-2017-pandas-steveSimmons\n",
      "27-01-2020  22:19    <DIR>          pydata-amsterdam2017 SteveSimmons\n",
      "09-04-2020  18:16    <DIR>          python_oops\n",
      "27-01-2020  22:26    <DIR>          python-reference-justMark\n",
      "17-08-2019  23:45    <DIR>          Roaming\n",
      "12-06-2020  14:56    <DIR>          Saved Games\n",
      "12-06-2020  14:56    <DIR>          Searches\n",
      "12-06-2020  16:37    <DIR>          Store_KING\n",
      "09-02-2020  11:04                 0 str\n",
      "07-05-2020  17:57    <DIR>          top-spotify-songs-from-20102019-by-year\n",
      "07-05-2020  17:56            19,774 top-spotify-songs-from-20102019-by-year.zip\n",
      "27-01-2020  12:01    <DIR>          udemy_pandas\n",
      "12-06-2020  14:56    <DIR>          Videos\n",
      "19-06-2020  07:18           127,799 Wallet_Report.ipynb\n",
      "27-01-2020  12:00    <DIR>          webScrapping\n",
      "08-03-2020  10:31    <DIR>          Whatsapp_chat-Analyser-master\n",
      "24-01-2020  18:05        35,112,741 Whatsapp_chat-Analyser-master.zip\n",
      "              29 File(s)    240,090,793 bytes\n",
      "              62 Dir(s)  32,520,667,136 bytes free\n"
     ]
    }
   ],
   "source": [
    "ls"
   ]
  },
  {
   "cell_type": "code",
   "execution_count": 79,
   "metadata": {},
   "outputs": [
    {
     "name": "stderr",
     "output_type": "stream",
     "text": [
      "C:\\ProgramData\\Anaconda3\\lib\\site-packages\\ipykernel_launcher.py:10: FutureWarning: Passing a negative integer is deprecated in version 1.0 and will not be supported in future version. Instead, use None to not limit the column width.\n",
      "  # Remove the CWD from sys.path while we load stuff.\n"
     ]
    }
   ],
   "source": [
    "# Importing some necessary libraries\n",
    "import pandas as pd\n",
    "import numpy as np\n",
    "import re,os,datetime\n",
    "import io\n",
    "\n",
    "pd.set_option('display.max_rows', 500)\n",
    "pd.options.display.max_columns = 500\n",
    "pd.set_option('display.width', 1000)\n",
    "pd.set_option('display.max_colwidth', -1)"
   ]
  },
  {
   "cell_type": "markdown",
   "metadata": {},
   "source": [
    "### Loading `Corporation Bank - Akshay Nagar 1`"
   ]
  },
  {
   "cell_type": "code",
   "execution_count": 81,
   "metadata": {},
   "outputs": [],
   "source": [
    "cb_aks1_13_14 = pd.read_excel('Corporation Bank - Akshay Nagar 1.xlsx', sheet_name = '01-04-13 to 31-03-14')\n",
    "cb_aks1_14_15 = pd.read_excel('Corporation Bank - Akshay Nagar 1.xlsx', sheet_name = '01-04-2014 to 31-03-2015')\n",
    "cb_aks1_15_16 = pd.read_excel('Corporation Bank - Akshay Nagar 1.xlsx', sheet_name = '01-04-2015 to 25-07-2015')\n",
    "cb_aks1_16_17 = pd.read_excel('Corporation Bank - Akshay Nagar 1.xlsx', sheet_name = '01-04-16 to 31-03-17')\n",
    "cb_aks1_18_18 = pd.read_excel('Corporation Bank - Akshay Nagar 1.xlsx', sheet_name = '01-04-18 to 20-08-18')"
   ]
  },
  {
   "cell_type": "code",
   "execution_count": 82,
   "metadata": {},
   "outputs": [
    {
     "data": {
      "text/plain": [
       "Date           datetime64[ns]\n",
       "Particulars    object        \n",
       "Cheque No      object        \n",
       "Debit          float64       \n",
       "Credits        float64       \n",
       "Balance        object        \n",
       "dtype: object"
      ]
     },
     "execution_count": 82,
     "metadata": {},
     "output_type": "execute_result"
    }
   ],
   "source": [
    "cb_aks1_13_14.dtypes"
   ]
  },
  {
   "cell_type": "code",
   "execution_count": 83,
   "metadata": {},
   "outputs": [
    {
     "data": {
      "text/plain": [
       "Date           datetime64[ns]\n",
       "Particulars    object        \n",
       "Cheque No      object        \n",
       "Debit          float64       \n",
       "Credits        float64       \n",
       "Balance        object        \n",
       "dtype: object"
      ]
     },
     "execution_count": 83,
     "metadata": {},
     "output_type": "execute_result"
    }
   ],
   "source": [
    "cb_aks1_14_15.dtypes"
   ]
  },
  {
   "cell_type": "code",
   "execution_count": 84,
   "metadata": {},
   "outputs": [
    {
     "data": {
      "text/plain": [
       "Date           datetime64[ns]\n",
       "Particulars    object        \n",
       "Cheque No      object        \n",
       "Debit          float64       \n",
       "Credits        float64       \n",
       "Balance        object        \n",
       "dtype: object"
      ]
     },
     "execution_count": 84,
     "metadata": {},
     "output_type": "execute_result"
    }
   ],
   "source": [
    "cb_aks1_15_16.dtypes"
   ]
  },
  {
   "cell_type": "code",
   "execution_count": 85,
   "metadata": {},
   "outputs": [
    {
     "data": {
      "text/plain": [
       "Date           datetime64[ns]\n",
       "Particulars    object        \n",
       "Cheque No      object        \n",
       "Debit          object        \n",
       "Credits        object        \n",
       "Balance        object        \n",
       "dtype: object"
      ]
     },
     "execution_count": 85,
     "metadata": {},
     "output_type": "execute_result"
    }
   ],
   "source": [
    "cb_aks1_16_17.dtypes"
   ]
  },
  {
   "cell_type": "code",
   "execution_count": 86,
   "metadata": {},
   "outputs": [
    {
     "data": {
      "text/plain": [
       "Date             datetime64[ns]\n",
       "Trans Num        object        \n",
       "Reference Num    float64       \n",
       "Particulars      object        \n",
       "Debit            float64       \n",
       "Credits          float64       \n",
       "Balance          object        \n",
       "dtype: object"
      ]
     },
     "execution_count": 86,
     "metadata": {},
     "output_type": "execute_result"
    }
   ],
   "source": [
    "cb_aks1_18_18.dtypes"
   ]
  },
  {
   "cell_type": "code",
   "execution_count": 87,
   "metadata": {},
   "outputs": [],
   "source": [
    "def rolling_group(val):\n",
    "      if pd.notnull(val): rolling_group.group +=1 #pd.notnull is signal to switch group\n",
    "      return rolling_group.group\n",
    "rolling_group.group = 0 #static variable"
   ]
  },
  {
   "cell_type": "code",
   "execution_count": 88,
   "metadata": {},
   "outputs": [],
   "source": [
    "def joinFunc(g,column):\n",
    "    col =g[column]\n",
    "    joiner = \"/\" if column == \"Particulars\" else \",\"\n",
    "    s = joiner.join([str(each) for each in col if pd.notnull(each)])\n",
    "    s = re.sub(\"(?<=&)\"+joiner,\" \",s) #joiner = \" \"\n",
    "    s = re.sub(\"(?<=-)\"+joiner,\"\",s) #joiner = \"\"\n",
    "    s = re.sub(joiner*2,joiner,s)    #fixes double joiner condition\n",
    "    return s"
   ]
  },
  {
   "cell_type": "code",
   "execution_count": 89,
   "metadata": {},
   "outputs": [],
   "source": [
    "# cb_aks1_13_14 = pd.read_excel('Corporation Bank - Akshay Nagar 1.xlsx', sheet_name = '01-04-13 to 31-03-14')\n",
    "\n",
    "if __name__ == \"__main__\":\n",
    "\t  \n",
    "    df =  cb_aks1_13_14.copy()\n",
    "\n",
    "    groups = df.groupby(df['Date'].apply(rolling_group),as_index=False)\n",
    "    groupFunct = lambda g: pd.Series([joinFunc(g,col) for col in g.columns],index=g.columns)\n",
    "    fin=(groups.apply(groupFunct))\n"
   ]
  },
  {
   "cell_type": "code",
   "execution_count": 125,
   "metadata": {},
   "outputs": [
    {
     "data": {
      "text/html": [
       "<div>\n",
       "<style scoped>\n",
       "    .dataframe tbody tr th:only-of-type {\n",
       "        vertical-align: middle;\n",
       "    }\n",
       "\n",
       "    .dataframe tbody tr th {\n",
       "        vertical-align: top;\n",
       "    }\n",
       "\n",
       "    .dataframe thead th {\n",
       "        text-align: right;\n",
       "    }\n",
       "</style>\n",
       "<table border=\"1\" class=\"dataframe\">\n",
       "  <thead>\n",
       "    <tr style=\"text-align: right;\">\n",
       "      <th></th>\n",
       "      <th>Date</th>\n",
       "      <th>Particulars</th>\n",
       "      <th>Cheque No</th>\n",
       "      <th>Debit</th>\n",
       "      <th>Credits</th>\n",
       "      <th>Balance</th>\n",
       "      <th>Ref:</th>\n",
       "      <th>Inst. no.:</th>\n",
       "      <th>Chq:</th>\n",
       "      <th>RTGS_UTR No:</th>\n",
       "      <th>RETD :</th>\n",
       "      <th>Names_TO:</th>\n",
       "      <th>Names_st.</th>\n",
       "      <th>Names/*_/:</th>\n",
       "      <th>Final_touch</th>\n",
       "      <th>Names/$_/:</th>\n",
       "      <th>Names/$#_/:</th>\n",
       "    </tr>\n",
       "  </thead>\n",
       "  <tbody>\n",
       "    <tr>\n",
       "      <th>0</th>\n",
       "      <td>2013-06-07 00:00:00</td>\n",
       "      <td>BY INITIAL CASH DEPOSIT</td>\n",
       "      <td>TRF</td>\n",
       "      <td></td>\n",
       "      <td>50000.0</td>\n",
       "      <td>50,000.00CR</td>\n",
       "      <td></td>\n",
       "      <td></td>\n",
       "      <td></td>\n",
       "      <td></td>\n",
       "      <td></td>\n",
       "      <td>BY INITIAL CASH DEPOSIT</td>\n",
       "      <td>BY INITIAL CASH DEPOSIT</td>\n",
       "      <td>INITIAL CASH DEPOSIT</td>\n",
       "      <td></td>\n",
       "      <td>INITIAL CASH</td>\n",
       "      <td>INITIAL CASH DEPOSIT</td>\n",
       "    </tr>\n",
       "    <tr>\n",
       "      <th>1</th>\n",
       "      <td>2013-06-18 00:00:00</td>\n",
       "      <td>BY S BEHURA</td>\n",
       "      <td>TRF</td>\n",
       "      <td></td>\n",
       "      <td>500000.0</td>\n",
       "      <td>5,50,000.00CR</td>\n",
       "      <td></td>\n",
       "      <td></td>\n",
       "      <td></td>\n",
       "      <td></td>\n",
       "      <td></td>\n",
       "      <td>BY S BEHURA</td>\n",
       "      <td>BY S BEHURA</td>\n",
       "      <td>BEHURA</td>\n",
       "      <td></td>\n",
       "      <td></td>\n",
       "      <td>BEHURA</td>\n",
       "    </tr>\n",
       "    <tr>\n",
       "      <th>2</th>\n",
       "      <td>2013-06-21 00:00:00</td>\n",
       "      <td>BY SB/1/2641 OF VIJAY UPADHYAY</td>\n",
       "      <td>TRF</td>\n",
       "      <td></td>\n",
       "      <td>500000.0</td>\n",
       "      <td>10,50,000.00CR</td>\n",
       "      <td></td>\n",
       "      <td></td>\n",
       "      <td></td>\n",
       "      <td></td>\n",
       "      <td></td>\n",
       "      <td>BY SB/ OF VIJAY UPADHYAY</td>\n",
       "      <td>BY  OF VIJAY</td>\n",
       "      <td>VIJAY UPADHYAY</td>\n",
       "      <td></td>\n",
       "      <td>VIJAY UPADHYAY</td>\n",
       "      <td>VIJAY UPADHYAY</td>\n",
       "    </tr>\n",
       "    <tr>\n",
       "      <th>3</th>\n",
       "      <td>2013-06-21 00:00:00</td>\n",
       "      <td>BY CASH</td>\n",
       "      <td>CSH</td>\n",
       "      <td></td>\n",
       "      <td>200000.0</td>\n",
       "      <td>12,50,000.00CR</td>\n",
       "      <td></td>\n",
       "      <td></td>\n",
       "      <td></td>\n",
       "      <td></td>\n",
       "      <td></td>\n",
       "      <td>BY CASH</td>\n",
       "      <td>BY CASH</td>\n",
       "      <td>CASH</td>\n",
       "      <td></td>\n",
       "      <td></td>\n",
       "      <td></td>\n",
       "    </tr>\n",
       "    <tr>\n",
       "      <th>4</th>\n",
       "      <td>2013-07-08 00:00:00</td>\n",
       "      <td>NEFT from SHWETA MISHRA /Ref:460169407    Dt:08072013/S1:000004 Dest:CORP0001678</td>\n",
       "      <td>TRF ,TRF ,TRF</td>\n",
       "      <td></td>\n",
       "      <td>1111.0</td>\n",
       "      <td>12,51,111.00CR</td>\n",
       "      <td>460169407</td>\n",
       "      <td></td>\n",
       "      <td></td>\n",
       "      <td></td>\n",
       "      <td></td>\n",
       "      <td>NEFT  SHWETA MISHRA /</td>\n",
       "      <td>NEFT  SHWETA MISHRA</td>\n",
       "      <td>NEFT  SHWETA MISHRA /CORP</td>\n",
       "      <td>from S Dest</td>\n",
       "      <td>SHWETA MISHRA</td>\n",
       "      <td>SHWETA MISHRA</td>\n",
       "    </tr>\n",
       "    <tr>\n",
       "      <th>5</th>\n",
       "      <td>2013-07-09 00:00:00</td>\n",
       "      <td>SflANSU BEHUNA</td>\n",
       "      <td>CSH 0019401</td>\n",
       "      <td>1000000.0</td>\n",
       "      <td></td>\n",
       "      <td>2,51,111.00CR</td>\n",
       "      <td></td>\n",
       "      <td></td>\n",
       "      <td></td>\n",
       "      <td></td>\n",
       "      <td></td>\n",
       "      <td>ANSU BEHUNA</td>\n",
       "      <td>ANSU</td>\n",
       "      <td>ANSU BEHUNA</td>\n",
       "      <td></td>\n",
       "      <td>ANSU BEHUNA</td>\n",
       "      <td></td>\n",
       "    </tr>\n",
       "    <tr>\n",
       "      <th>6</th>\n",
       "      <td>2013-10-10 00:00:00</td>\n",
       "      <td>SELF</td>\n",
       "      <td>CSH 0019404</td>\n",
       "      <td>150000.0</td>\n",
       "      <td></td>\n",
       "      <td>1,01,111.00CRP</td>\n",
       "      <td></td>\n",
       "      <td></td>\n",
       "      <td></td>\n",
       "      <td></td>\n",
       "      <td></td>\n",
       "      <td></td>\n",
       "      <td></td>\n",
       "      <td>SELF</td>\n",
       "      <td></td>\n",
       "      <td></td>\n",
       "      <td></td>\n",
       "    </tr>\n",
       "    <tr>\n",
       "      <th>7</th>\n",
       "      <td>2013-12-31 00:00:00</td>\n",
       "      <td>Non Maintenance of qtrly avg Bal chi /For the Period.from 01/16/2013 /Upto 31/12/2013</td>\n",
       "      <td>TRF ,TRF ,TRF</td>\n",
       "      <td>2247.0</td>\n",
       "      <td></td>\n",
       "      <td>98,864.00CR</td>\n",
       "      <td></td>\n",
       "      <td></td>\n",
       "      <td></td>\n",
       "      <td></td>\n",
       "      <td></td>\n",
       "      <td></td>\n",
       "      <td></td>\n",
       "      <td></td>\n",
       "      <td>Non Maintenance of qtrly avg Bal chi /For the Periodfrom /Upto</td>\n",
       "      <td></td>\n",
       "      <td></td>\n",
       "    </tr>\n",
       "    <tr>\n",
       "      <th>8</th>\n",
       "      <td>2014-02-03 00:00:00</td>\n",
       "      <td>BY CASH</td>\n",
       "      <td>CSH</td>\n",
       "      <td></td>\n",
       "      <td>65000.06</td>\n",
       "      <td>1,63,864.00CR</td>\n",
       "      <td></td>\n",
       "      <td></td>\n",
       "      <td></td>\n",
       "      <td></td>\n",
       "      <td></td>\n",
       "      <td>BY CASH</td>\n",
       "      <td>BY CASH</td>\n",
       "      <td>CASH</td>\n",
       "      <td></td>\n",
       "      <td></td>\n",
       "      <td></td>\n",
       "    </tr>\n",
       "  </tbody>\n",
       "</table>\n",
       "</div>"
      ],
      "text/plain": [
       "                  Date                                                                             Particulars       Cheque No      Debit   Credits          Balance       Ref: Inst. no.: Chq: RTGS_UTR No: RETD :                 Names_TO:                 Names_st.                 Names/*_/:                                                      Final_touch      Names/$_/:           Names/$#_/:\n",
       "0  2013-06-07 00:00:00  BY INITIAL CASH DEPOSIT                                                                 TRF                        50000.0   50,000.00CR                                                     BY INITIAL CASH DEPOSIT   BY INITIAL CASH DEPOSIT    INITIAL CASH DEPOSIT                                                                       INITIAL CASH    INITIAL CASH DEPOSIT\n",
       "1  2013-06-18 00:00:00  BY S BEHURA                                                                             TRF                        500000.0  5,50,000.00CR                                                   BY S BEHURA               BY S BEHURA                BEHURA                                                                                                     BEHURA              \n",
       "2  2013-06-21 00:00:00  BY SB/1/2641 OF VIJAY UPADHYAY                                                          TRF                        500000.0  10,50,000.00CR                                                  BY SB/ OF VIJAY UPADHYAY  BY  OF VIJAY               VIJAY UPADHYAY                                                                             VIJAY UPADHYAY  VIJAY UPADHYAY      \n",
       "3  2013-06-21 00:00:00  BY CASH                                                                                 CSH                        200000.0  12,50,000.00CR                                                  BY CASH                   BY CASH                    CASH                                                                                                                           \n",
       "4  2013-07-08 00:00:00  NEFT from SHWETA MISHRA /Ref:460169407    Dt:08072013/S1:000004 Dest:CORP0001678        TRF ,TRF ,TRF              1111.0    12,51,111.00CR   460169407                                      NEFT  SHWETA MISHRA /     NEFT  SHWETA MISHRA       NEFT  SHWETA MISHRA /CORP   from S Dest                                                     SHWETA MISHRA   SHWETA MISHRA       \n",
       "5  2013-07-09 00:00:00  SflANSU BEHUNA                                                                          CSH 0019401     1000000.0            2,51,111.00CR                                                   ANSU BEHUNA               ANSU                      ANSU BEHUNA                                                                                 ANSU BEHUNA                         \n",
       "6  2013-10-10 00:00:00  SELF                                                                                    CSH 0019404     150000.0             1,01,111.00CRP                                                                                                      SELF                                                                                                                            \n",
       "7  2013-12-31 00:00:00  Non Maintenance of qtrly avg Bal chi /For the Period.from 01/16/2013 /Upto 31/12/2013   TRF ,TRF ,TRF   2247.0               98,864.00CR                                                                                                                                    Non Maintenance of qtrly avg Bal chi /For the Periodfrom /Upto                                       \n",
       "8  2014-02-03 00:00:00  BY CASH                                                                                 CSH                        65000.06   1,63,864.00CR                                                  BY CASH                   BY CASH                    CASH                                                                                                                           "
      ]
     },
     "execution_count": 125,
     "metadata": {},
     "output_type": "execute_result"
    }
   ],
   "source": [
    "fin.head(9)"
   ]
  },
  {
   "cell_type": "code",
   "execution_count": 91,
   "metadata": {},
   "outputs": [
    {
     "data": {
      "text/plain": [
       "(38, 6)"
      ]
     },
     "execution_count": 91,
     "metadata": {},
     "output_type": "execute_result"
    }
   ],
   "source": [
    "fin.shape"
   ]
  },
  {
   "cell_type": "code",
   "execution_count": 169,
   "metadata": {},
   "outputs": [],
   "source": [
    "# Applying regular expression to extract the desired data\n",
    "fin['Ref:'] = [\"\".join(re.findall(r'Ref:(.*?) ', i)) for i in fin['Particulars']]\n",
    "fin['Inst. no.:'] = [\"\".join(re.findall(r'[Ii][Nn][Ss][Tt][.]?\\s*[Nn][Oo][.]?[:]?[\\s]?\\d{4,8}', i)) for i in fin['Particulars']]\n",
    "fin['Chq:'] = [\"\".join(re.findall(r'Chq:\\s*(.*?)[A-Za-z]', i)) for i in fin['Particulars']]\n",
    "fin['RTGS_UTR No:'] = [\"\".join(re.findall(r'RTGS_UTR No:\\s*(.*?) ', i)) for i in fin['Particulars']]\n",
    "fin['RETD :'] = [\"\".join(re.findall(r'[Rr][eE][Tt][Dd]', i)) for i in fin['Particulars']]\n"
   ]
  },
  {
   "cell_type": "code",
   "execution_count": 170,
   "metadata": {},
   "outputs": [],
   "source": [
    "fin['Names_TO:'] = [\"\".join(re.findall(r\"(/*\\s*[A-Z]{1,20}\\s+[A-Z]*\\s*[A-Z]*\\s*[A-Z]*/*\\s*)\", i)) for i in fin['Particulars']]\n",
    "fin['Names_st.'] = [\"\".join(re.findall(r\"(\\s*[A-Z]{1,20}\\s*/?\\s*[A-Z]*\\s*[A-Z]* )\", i)) for i in fin['Particulars']]\n",
    "fin['Names/*_/:'] = [\"\".join(re.findall(r\"(/*\\s*[A-Z]{3,20}\\s*/?[A-Z]*\\s*[A-Z]*\\s*[A-Z]*\\s?/*)\", i)) for i in fin['Particulars']]\n",
    "fin['Final_touch'] = [\"\".join(re.findall(r\"(/*\\s*[A-Z]?[a-z]+\\s*[A-Z]?[a-z]+\\s*[A-Z]?[a-z]*\\s*[A-Z]?[a-z]+\\s*[A-Z]?[a-z]*\\s?/*)\", i)) for i in fin['Particulars']]"
   ]
  },
  {
   "cell_type": "code",
   "execution_count": 171,
   "metadata": {},
   "outputs": [],
   "source": [
    "fin['Names_TO:'] = [\"\".join(re.findall(r\"(/*\\s*[A-Z]{1,20}\\s+[A-Z]*\\s*[A-Z]*\\s*[A-Z]*/*\\s*)\", i)) for i in fin['Particulars']]\n",
    "fin['Names_st.'] = [\"\".join(re.findall(r\"(\\s*[A-Z]{1,20}\\s*/?\\s*[A-Z]*\\s*[A-Z]* )\", i)) for i in fin['Particulars']]\n",
    "fin['Names/*_/:'] = [\"\".join(re.findall(r\"(/*\\s*[A-Z]{3,20}\\s*/?[A-Z]*\\s*[A-Z]*\\s*[A-Z]*\\s?/*)\", i)) for i in fin['Particulars']]\n",
    "#(/*[A-Z]{3,20}\\s+[A-Z]{2,20})\n",
    "fin['Names/$_/:'] = [\"\".join(re.findall(r\"(/*[A-Z]{3,20}\\s+[A-Z]{2,20})\", i)) for i in fin['Particulars']]\n",
    "fin['Names/$_/:'] = [\"\".join(re.findall(r\"(/*[A-Z]{3,20}\\s+[A-Z]{2,20})\", i)) for i in fin['Particulars']]\n",
    "#(/*[A-Z]{3,20}\\s+[A-Z]{2,20}[ ][A-Z]*)\n",
    "fin['Names/$#_/:'] = [\"\".join(re.findall(r\"(/*[A-Z]{3,20}\\s*[!@#$%^&*()_-]*\\s*[A-Z]{2,20}[ ][A-Z]*)\", i)) for i in fin['Particulars']]\n",
    "\n",
    "fin['Final_touch'] = [\"\".join(re.findall(r\"(/*\\s*[A-Z]?[a-z]+\\s*[A-Z]?[a-z]+\\s*[A-Z]?[a-z]*\\s*[A-Z]?[a-z]+\\s*[A-Z]?[a-z]*\\s?/*)\", i)) for i in fin['Particulars']]"
   ]
  },
  {
   "cell_type": "code",
   "execution_count": 172,
   "metadata": {},
   "outputs": [],
   "source": [
    "fin.to_excel('Exported_Corporation Bank - Akshay Nagar 1_13_14.xlsx', index = False)"
   ]
  },
  {
   "cell_type": "code",
   "execution_count": null,
   "metadata": {},
   "outputs": [],
   "source": [
    "fin_g = fin.groupby(['Date', 'Particulars']).agg({'Debit': ['sum'], 'Credits': 'sum'}).reset_index()\n",
    "fin_g.head(8)"
   ]
  },
  {
   "cell_type": "code",
   "execution_count": 130,
   "metadata": {},
   "outputs": [],
   "source": [
    "# cb_aks1_14_15 = pd.read_excel('Corporation Bank - Akshay Nagar 1.xlsx', sheet_name = '01-04-2014 to 31-03-2015')\n",
    "\n",
    "if __name__ == \"__main__\":\n",
    "\t  \n",
    "    df =  cb_aks1_14_15.copy()\n",
    "\n",
    "    groups = df.groupby(df['Date'].apply(rolling_group),as_index=False)\n",
    "    groupFunct = lambda g: pd.Series([joinFunc(g,col) for col in g.columns],index=g.columns)\n",
    "    fin1=(groups.apply(groupFunct))\n"
   ]
  },
  {
   "cell_type": "code",
   "execution_count": 131,
   "metadata": {},
   "outputs": [
    {
     "data": {
      "text/plain": [
       "Date           object\n",
       "Particulars    object\n",
       "Cheque No      object\n",
       "Debit          object\n",
       "Credits        object\n",
       "Balance        object\n",
       "dtype: object"
      ]
     },
     "execution_count": 131,
     "metadata": {},
     "output_type": "execute_result"
    }
   ],
   "source": [
    "fin1.dtypes"
   ]
  },
  {
   "cell_type": "code",
   "execution_count": 174,
   "metadata": {},
   "outputs": [],
   "source": [
    "# Applying regular expression to extract the desired data\n",
    "fin1['Ref:'] = [\"\".join(re.findall(r'Ref:\\s*(.*?) ', i)) for i in fin1['Particulars']]\n",
    "fin1['Inst. no.:'] = [\"\".join(re.findall(r'[Ii][Nn][Ss][Tt][.]?\\s*[Nn][Oo][.]?[:]?[\\s]?\\d{4,8}', i)) for i in fin1['Particulars']]\n",
    "fin1['Chq:'] = [\"\".join(re.findall(r'Chq:\\s*(.*?)[A-Za-z]', i)) for i in fin1['Particulars']]\n",
    "fin1['RTGS_UTR No:'] = [\"\".join(re.findall(r'RTGS_UTR No:\\s*(.*?) ', i)) for i in fin1['Particulars']]\n",
    "fin1['RETD :'] = [\"\".join(re.findall(r'[Rr][eE][Tt][Dd]', i)) for i in fin1['Particulars']]\n",
    "fin1['UTR :'] = [\"\".join(re.findall(r'UTR(?:^|[: ])\\s*(.*?) ', i)) for i in fin1['Particulars']]\n",
    "fin1['UTR_extn :'] = [\"\".join(re.findall(r'UTR :\\s*(.*?) ', i)) for i in fin1['Particulars']]\n",
    "fin1['Cancelled?'] = fin1.Particulars.str.contains('RETD', flags=re.IGNORECASE, regex=True)\n",
    "# [\\n\\r][ \\t]*Object Name:[ \\t]*([^\\n\\r]*)\n",
    "fin1['Reference No:'] = [\"\".join(re.findall(r'(?<=Reference No:).*', i)) for i in fin1['Particulars']]\n"
   ]
  },
  {
   "cell_type": "code",
   "execution_count": 175,
   "metadata": {},
   "outputs": [],
   "source": [
    "fin1['Names_TO:'] = [\"\".join(re.findall(r\"(/*\\s*[A-Z]{1,20}\\s+[A-Z]*\\s*[A-Z]*\\s*[A-Z]*/*\\s*)\", i)) for i in fin1['Particulars']]"
   ]
  },
  {
   "cell_type": "code",
   "execution_count": 176,
   "metadata": {},
   "outputs": [],
   "source": [
    "fin1['Names_st.'] = [\"\".join(re.findall(r\"(\\s*[A-Z]{1,20}\\s*/?\\s*[A-Z]*\\s*[A-Z]* )\", i)) for i in fin1['Particulars']]"
   ]
  },
  {
   "cell_type": "code",
   "execution_count": 177,
   "metadata": {},
   "outputs": [],
   "source": [
    "fin1['Names/*_/:'] = [\"\".join(re.findall(r\"(/*\\s*[A-Z]{3,20}\\s*/?[A-Z]*\\s*[A-Z]*\\s*[A-Z]*\\s?/*)\", i)) for i in fin1['Particulars']]"
   ]
  },
  {
   "cell_type": "code",
   "execution_count": 178,
   "metadata": {},
   "outputs": [],
   "source": [
    "fin1['Final_touch'] = [\"\".join(re.findall(r\"(/*\\s*[A-Z]?[a-z]+\\s*[A-Z]?[a-z]+\\s*[A-Z]?[a-z]*\\s*[A-Z]?[a-z]+\\s*[A-Z]?[a-z]*\\s?/*)\", i)) for i in fin1['Particulars']]"
   ]
  },
  {
   "cell_type": "code",
   "execution_count": 179,
   "metadata": {},
   "outputs": [],
   "source": [
    "fin1['Names_TO:'] = [\"\".join(re.findall(r\"(/*\\s*[A-Z]{1,20}\\s+[A-Z]*\\s*[A-Z]*\\s*[A-Z]*/*\\s*)\", i)) for i in fin1['Particulars']]\n",
    "fin1['Names_st.'] = [\"\".join(re.findall(r\"(\\s*[A-Z]{1,20}\\s*/?\\s*[A-Z]*\\s*[A-Z]* )\", i)) for i in fin1['Particulars']]\n",
    "fin1['Names/*_/:'] = [\"\".join(re.findall(r\"(/*\\s*[A-Z]{3,20}\\s*/?[A-Z]*\\s*[A-Z]*\\s*[A-Z]*\\s?/*)\", i)) for i in fin1['Particulars']]\n",
    "#(/*[A-Z]{3,20}\\s+[A-Z]{2,20})\n",
    "fin1['Names/$_/:'] = [\"\".join(re.findall(r\"(/*[A-Z]{3,20}\\s+[A-Z]{2,20})\", i)) for i in fin1['Particulars']]\n",
    "fin1['Names/$_/:'] = [\"\".join(re.findall(r\"(/*[A-Z]{3,20}\\s+[A-Z]{2,20})\", i)) for i in fin1['Particulars']]\n",
    "#(/*[A-Z]{3,20}\\s+[A-Z]{2,20}[ ][A-Z]*)\n",
    "fin1['Names/$#_/:'] = [\"\".join(re.findall(r\"(/*[A-Z]{3,20}\\s*[!@#$%^&*()_-]*\\s*[A-Z]{2,20}[ ][A-Z]*)\", i)) for i in fin1['Particulars']]\n",
    "\n",
    "fin1['Final_touch'] = [\"\".join(re.findall(r\"(/*\\s*[A-Z]?[a-z]+\\s*[A-Z]?[a-z]+\\s*[A-Z]?[a-z]*\\s*[A-Z]?[a-z]+\\s*[A-Z]?[a-z]*\\s?/*)\", i)) for i in fin1['Particulars']]"
   ]
  },
  {
   "cell_type": "code",
   "execution_count": 180,
   "metadata": {},
   "outputs": [],
   "source": [
    "fin1.to_excel('Exported_Corporation Bank - Akshay Nagar 1_14_15.xlsx', index = False)"
   ]
  },
  {
   "cell_type": "code",
   "execution_count": null,
   "metadata": {},
   "outputs": [],
   "source": [
    "fin1_g = fin1.groupby(['Date', 'Particulars']).agg({'Debit': ['sum'], 'Credits': 'sum'}).reset_index()\n",
    "fin1_g.head(8)"
   ]
  },
  {
   "cell_type": "code",
   "execution_count": 139,
   "metadata": {},
   "outputs": [],
   "source": [
    "# cb_aks1_15_16 = pd.read_excel('Corporation Bank - Akshay Nagar 1.xlsx', sheet_name = '01-04-2015 to 25-07-2015')\n",
    "\n",
    "if __name__ == \"__main__\":\n",
    "\t  \n",
    "    df =  cb_aks1_15_16.copy()\n",
    "\n",
    "    groups = df.groupby(df['Date'].apply(rolling_group),as_index=False)\n",
    "    groupFunct = lambda g: pd.Series([joinFunc(g,col) for col in g.columns],index=g.columns)\n",
    "    fin2=(groups.apply(groupFunct))\n"
   ]
  },
  {
   "cell_type": "code",
   "execution_count": 181,
   "metadata": {},
   "outputs": [],
   "source": [
    "# Applying regular expression to extract the desired data\n",
    "fin2['Ref:'] = [\"\".join(re.findall(r'Ref:\\s*(.*?) ', i)) for i in fin2['Particulars']]\n",
    "fin2['Inst. no.:'] = [\"\".join(re.findall(r'[Ii][Nn][Ss][Tt][.]?\\s*[Nn][Oo][.]?[:]?[\\s]?\\d{4,8}', i)) for i in fin2['Particulars']]\n",
    "fin2['Chq:'] = [\"\".join(re.findall(r'Chq:\\s*(.*?)[A-Za-z]', i)) for i in fin2['Particulars']]\n",
    "# fin1['RTGS_UTR No:'] = [\"\".join(re.findall(r'RTGS_UTR No:\\s*(.*?) ', i)) for i in fin1['Particulars']]\n",
    "fin2['RETD :'] = [\"\".join(re.findall(r'[Rr][eE][Tt][Dd]', i)) for i in fin2['Particulars']]\n",
    "fin2['UTR :'] = [\"\".join(re.findall(r'UTR(?:^|[: ])\\s*(.*?) ', i)) for i in fin2['Particulars']]\n",
    "fin2['UTR_extn :'] = [\"\".join(re.findall(r'UTR :\\s*(.*?) ', i)) for i in fin2['Particulars']]\n",
    "fin2['Cancelled?'] = fin2.Particulars.str.contains('RETD', flags=re.IGNORECASE, regex=True)\n",
    "# [\\n\\r][ \\t]*Object Name:[ \\t]*([^\\n\\r]*)\n",
    "fin2['Reference No:'] = [\"\".join(re.findall(r'(?<=Reference No:).*', i)) for i in fin2['Particulars']]\n"
   ]
  },
  {
   "cell_type": "code",
   "execution_count": 182,
   "metadata": {},
   "outputs": [],
   "source": [
    "fin2['Names_TO:'] = [\"\".join(re.findall(r\"(/*\\s*[A-Z]{1,20}\\s+[A-Z]*\\s*[A-Z]*\\s*[A-Z]*/*\\s*)\", i)) for i in fin2['Particulars']]\n",
    "fin2['Names_st.'] = [\"\".join(re.findall(r\"(\\s*[A-Z]{1,20}\\s*/?\\s*[A-Z]*\\s*[A-Z]* )\", i)) for i in fin2['Particulars']]\n",
    "fin2['Names/*_/:'] = [\"\".join(re.findall(r\"(/*\\s*[A-Z]{3,20}\\s*/?[A-Z]*\\s*[A-Z]*\\s*[A-Z]*\\s?/*)\", i)) for i in fin2['Particulars']]\n",
    "#(/*[A-Z]{3,20}\\s+[A-Z]{2,20})\n",
    "fin2['Names/$_/:'] = [\"\".join(re.findall(r\"(/*[A-Z]{3,20}\\s+[A-Z]{2,20})\", i)) for i in fin2['Particulars']]\n",
    "fin2['Names/$_/:'] = [\"\".join(re.findall(r\"(/*[A-Z]{3,20}\\s+[A-Z]{2,20})\", i)) for i in fin2['Particulars']]\n",
    "#(/*[A-Z]{3,20}\\s+[A-Z]{2,20}[ ][A-Z]*)\n",
    "fin2['Names/$#_/:'] = [\"\".join(re.findall(r\"(/*[A-Z]{3,20}\\s*[!@#$%^&*()_-]*\\s*[A-Z]{2,20}[ ][A-Z]*)\", i)) for i in fin2['Particulars']]\n",
    "\n",
    "fin2['Final_touch'] = [\"\".join(re.findall(r\"(/*\\s*[A-Z]?[a-z]+\\s*[A-Z]?[a-z]+\\s*[A-Z]?[a-z]*\\s*[A-Z]?[a-z]+\\s*[A-Z]?[a-z]*\\s?/*)\", i)) for i in fin2['Particulars']]"
   ]
  },
  {
   "cell_type": "code",
   "execution_count": 183,
   "metadata": {},
   "outputs": [
    {
     "data": {
      "text/html": [
       "<div>\n",
       "<style scoped>\n",
       "    .dataframe tbody tr th:only-of-type {\n",
       "        vertical-align: middle;\n",
       "    }\n",
       "\n",
       "    .dataframe tbody tr th {\n",
       "        vertical-align: top;\n",
       "    }\n",
       "\n",
       "    .dataframe thead th {\n",
       "        text-align: right;\n",
       "    }\n",
       "</style>\n",
       "<table border=\"1\" class=\"dataframe\">\n",
       "  <thead>\n",
       "    <tr style=\"text-align: right;\">\n",
       "      <th></th>\n",
       "      <th>Date</th>\n",
       "      <th>Particulars</th>\n",
       "      <th>Cheque No</th>\n",
       "      <th>Debit</th>\n",
       "      <th>Credits</th>\n",
       "      <th>Balance</th>\n",
       "      <th>Ref:</th>\n",
       "      <th>Inst. no.:</th>\n",
       "      <th>Chq:</th>\n",
       "      <th>RETD :</th>\n",
       "      <th>UTR :</th>\n",
       "      <th>UTR_extn :</th>\n",
       "      <th>Cancelled?</th>\n",
       "      <th>Reference No:</th>\n",
       "      <th>Names_TO:</th>\n",
       "      <th>Names_st.</th>\n",
       "      <th>Names/*_/:</th>\n",
       "      <th>Names/$_/:</th>\n",
       "      <th>Names/$#_/:</th>\n",
       "      <th>Final_touch</th>\n",
       "    </tr>\n",
       "  </thead>\n",
       "  <tbody>\n",
       "    <tr>\n",
       "      <th>0</th>\n",
       "      <td>2015-04-04 00:00:00</td>\n",
       "      <td>ECS Debit : TP HSBC TOYOTA FINAN Sequence No:2138988821 Upld S1:01  Reference No: 0001045538709</td>\n",
       "      <td>TRF</td>\n",
       "      <td>79140.0</td>\n",
       "      <td></td>\n",
       "      <td>836648</td>\n",
       "      <td></td>\n",
       "      <td></td>\n",
       "      <td></td>\n",
       "      <td></td>\n",
       "      <td></td>\n",
       "      <td></td>\n",
       "      <td>False</td>\n",
       "      <td>0001045538709</td>\n",
       "      <td>ECS D TP HSBC TOYOTA FINAN</td>\n",
       "      <td>ECS  TP HSBC TOYOTA FINAN</td>\n",
       "      <td>ECS D HSBC TOYOTA FINAN S</td>\n",
       "      <td>HSBC TOYOTA</td>\n",
       "      <td>HSBC TOYOTA FINAN</td>\n",
       "      <td>Debit  Sequence No Upld S  Reference No</td>\n",
       "    </tr>\n",
       "  </tbody>\n",
       "</table>\n",
       "</div>"
      ],
      "text/plain": [
       "                  Date                                                                                      Particulars Cheque No    Debit Credits Balance Ref: Inst. no.: Chq: RETD : UTR : UTR_extn :  Cancelled?   Reference No:                    Names_TO:                   Names_st.                 Names/*_/:   Names/$_/:        Names/$#_/:                               Final_touch\n",
       "0  2015-04-04 00:00:00  ECS Debit : TP HSBC TOYOTA FINAN Sequence No:2138988821 Upld S1:01  Reference No: 0001045538709  TRF       79140.0          836648                                               False        0001045538709  ECS D TP HSBC TOYOTA FINAN   ECS  TP HSBC TOYOTA FINAN   ECS D HSBC TOYOTA FINAN S  HSBC TOYOTA  HSBC TOYOTA FINAN   Debit  Sequence No Upld S  Reference No"
      ]
     },
     "execution_count": 183,
     "metadata": {},
     "output_type": "execute_result"
    }
   ],
   "source": [
    "fin2.head(1)"
   ]
  },
  {
   "cell_type": "code",
   "execution_count": 184,
   "metadata": {},
   "outputs": [],
   "source": [
    "fin2.to_excel('Exported_Corporation Bank - Akshay Nagar 1_15_16.xlsx', index = False)"
   ]
  },
  {
   "cell_type": "code",
   "execution_count": null,
   "metadata": {},
   "outputs": [],
   "source": [
    "fin2_g = fin2.groupby(['Date', 'Particulars']).agg({'Debit': ['sum'], 'Credits': 'sum'}).reset_index()\n",
    "fin2_g.head(8)"
   ]
  },
  {
   "cell_type": "code",
   "execution_count": 144,
   "metadata": {},
   "outputs": [],
   "source": [
    "# cb_aks1_16_17 = pd.read_excel('Corporation Bank - Akshay Nagar 1.xlsx', sheet_name = '01-04-16 to 31-03-17')\n",
    "\n",
    "if __name__ == \"__main__\":\n",
    "\t  \n",
    "    df =  cb_aks1_16_17.copy()\n",
    "\n",
    "    groups = df.groupby(df['Date'].apply(rolling_group),as_index=False)\n",
    "    groupFunct = lambda g: pd.Series([joinFunc(g,col) for col in g.columns],index=g.columns)\n",
    "    fin3=(groups.apply(groupFunct))\n",
    "\n"
   ]
  },
  {
   "cell_type": "code",
   "execution_count": 185,
   "metadata": {},
   "outputs": [],
   "source": [
    "# Applying regular expression to extract the desired data\n",
    "fin3['Ref:'] = [\"\".join(re.findall(r'Ref:\\s*(.*?) ', i)) for i in fin3['Particulars']]\n",
    "fin3['Inst. no.:'] = [\"\".join(re.findall(r'[Ii][Nn][Ss][Tt][.]?\\s*[Nn][Oo][.]?[:]?[\\s]?\\d{4,8}', i)) for i in fin3['Particulars']]\n",
    "fin3['Chq:'] = [\"\".join(re.findall(r'Chq:\\s*(.*?)[A-Za-z]', i)) for i in fin3['Particulars']]\n",
    "fin3['RTGS_UTR No:'] = [\"\".join(re.findall(r'RTGS_UTR No:\\s*(.*?) ', i)) for i in fin3['Particulars']]\n",
    "fin3['RETD :'] = [\"\".join(re.findall(r'[Rr][eE][Tt][Dd]', i)) for i in fin3['Particulars']]\n",
    "fin3['UTR :'] = [\"\".join(re.findall(r'UTR(?:^|[: ])\\s*(.*?) ', i)) for i in fin3['Particulars']]\n",
    "fin3['UTR_extn :'] = [\"\".join(re.findall(r'UTR :\\s*(.*?) ', i)) for i in fin3['Particulars']]\n",
    "fin3['Cancelled?'] = fin3.Particulars.str.contains('RETD', flags=re.IGNORECASE, regex=True)\n",
    "# [\\n\\r][ \\t]*Object Name:[ \\t]*([^\\n\\r]*)\n",
    "fin3['Reference No:'] = [\"\".join(re.findall(r'(?<=Reference No:).*', i)) for i in fin3['Particulars']]\n"
   ]
  },
  {
   "cell_type": "code",
   "execution_count": 186,
   "metadata": {},
   "outputs": [],
   "source": [
    "fin3['Names_TO:'] = [\"\".join(re.findall(r\"(/*\\s*[A-Z]{1,20}\\s+[A-Z]*\\s*[A-Z]*\\s*[A-Z]*/*\\s*)\", i)) for i in fin3['Particulars']]\n",
    "fin3['Names_st.'] = [\"\".join(re.findall(r\"(\\s*[A-Z]{1,20}\\s*/?\\s*[A-Z]*\\s*[A-Z]* )\", i)) for i in fin3['Particulars']]\n",
    "fin3['Names/*_/:'] = [\"\".join(re.findall(r\"(/*\\s*[A-Z]{3,20}\\s*/?[A-Z]*\\s*[A-Z]*\\s*[A-Z]*\\s?/*)\", i)) for i in fin3['Particulars']]\n",
    "#(/*[A-Z]{3,20}\\s+[A-Z]{2,20})\n",
    "fin3['Names/$_/:'] = [\"\".join(re.findall(r\"(/*[A-Z]{3,20}\\s+[A-Z]{2,20})\", i)) for i in fin3['Particulars']]\n",
    "fin3['Names/$_/:'] = [\"\".join(re.findall(r\"(/*[A-Z]{3,20}\\s+[A-Z]{2,20})\", i)) for i in fin3['Particulars']]\n",
    "#(/*[A-Z]{3,20}\\s+[A-Z]{2,20}[ ][A-Z]*)\n",
    "fin3['Names/$#_/:'] = [\"\".join(re.findall(r\"(/*[A-Z]{3,20}\\s*[!@#$%^&*()_-]*\\s*[A-Z]{2,20}[ ][A-Z]*)\", i)) for i in fin3['Particulars']]\n",
    "\n",
    "fin3['Final_touch'] = [\"\".join(re.findall(r\"(/*\\s*[A-Z]?[a-z]+\\s*[A-Z]?[a-z]+\\s*[A-Z]?[a-z]*\\s*[A-Z]?[a-z]+\\s*[A-Z]?[a-z]*\\s?/*)\", i)) for i in fin3['Particulars']]"
   ]
  },
  {
   "cell_type": "code",
   "execution_count": 187,
   "metadata": {},
   "outputs": [
    {
     "data": {
      "text/html": [
       "<div>\n",
       "<style scoped>\n",
       "    .dataframe tbody tr th:only-of-type {\n",
       "        vertical-align: middle;\n",
       "    }\n",
       "\n",
       "    .dataframe tbody tr th {\n",
       "        vertical-align: top;\n",
       "    }\n",
       "\n",
       "    .dataframe thead th {\n",
       "        text-align: right;\n",
       "    }\n",
       "</style>\n",
       "<table border=\"1\" class=\"dataframe\">\n",
       "  <thead>\n",
       "    <tr style=\"text-align: right;\">\n",
       "      <th></th>\n",
       "      <th>Date</th>\n",
       "      <th>Particulars</th>\n",
       "      <th>Cheque No</th>\n",
       "      <th>Debit</th>\n",
       "      <th>Credits</th>\n",
       "      <th>Balance</th>\n",
       "      <th>Ref:</th>\n",
       "      <th>Inst. no.:</th>\n",
       "      <th>Chq:</th>\n",
       "      <th>RTGS_UTR No:</th>\n",
       "      <th>RETD :</th>\n",
       "      <th>UTR :</th>\n",
       "      <th>UTR_extn :</th>\n",
       "      <th>Cancelled?</th>\n",
       "      <th>Reference No:</th>\n",
       "      <th>Names_TO:</th>\n",
       "      <th>Names_st.</th>\n",
       "      <th>Names/*_/:</th>\n",
       "      <th>Names/$_/:</th>\n",
       "      <th>Names/$#_/:</th>\n",
       "      <th>Final_touch</th>\n",
       "    </tr>\n",
       "  </thead>\n",
       "  <tbody>\n",
       "    <tr>\n",
       "      <th>0</th>\n",
       "      <td>2016-04-02 00:00:00</td>\n",
       "      <td>ABB 0002 CBCA /01/000224 Chq:148471/1164/BANGALORE - CHAND - SHWETA AND/SHWETA AND GITA CONS</td>\n",
       "      <td>TRF,TRF,TRF</td>\n",
       "      <td></td>\n",
       "      <td>85000</td>\n",
       "      <td>86,443.00CR</td>\n",
       "      <td></td>\n",
       "      <td></td>\n",
       "      <td>148471/1164/</td>\n",
       "      <td></td>\n",
       "      <td></td>\n",
       "      <td></td>\n",
       "      <td></td>\n",
       "      <td>False</td>\n",
       "      <td></td>\n",
       "      <td>ABB  CBCA //BANGALORE  CHAND  SHWETA AND/SHWETA AND GITA CONS</td>\n",
       "      <td>ABB  CBCA BANGALORE  CHAND  SHWETA AND/SHWETA AND GITA</td>\n",
       "      <td>ABB  CBCA //BANGALORE  CHAND  SHWETA AND/SHWETA AND GITA CONS</td>\n",
       "      <td>SHWETA AND/SHWETA ANDGITA CONS</td>\n",
       "      <td>/BANGALORE - CHAND SHWETA AND/SHWETA AND GITA</td>\n",
       "      <td></td>\n",
       "    </tr>\n",
       "    <tr>\n",
       "      <th>1</th>\n",
       "      <td>2016-04-02 00:00:00</td>\n",
       "      <td>ECS Return Charges /Date : 02042016 Upload Si : 03</td>\n",
       "      <td>TRF,TRF</td>\n",
       "      <td>573</td>\n",
       "      <td></td>\n",
       "      <td>85,870.00CR</td>\n",
       "      <td></td>\n",
       "      <td></td>\n",
       "      <td></td>\n",
       "      <td></td>\n",
       "      <td></td>\n",
       "      <td></td>\n",
       "      <td></td>\n",
       "      <td>False</td>\n",
       "      <td></td>\n",
       "      <td>ECS R</td>\n",
       "      <td>ECS</td>\n",
       "      <td>ECS R</td>\n",
       "      <td></td>\n",
       "      <td></td>\n",
       "      <td>Return Charges /Date  Upload Si</td>\n",
       "    </tr>\n",
       "    <tr>\n",
       "      <th>2</th>\n",
       "      <td>2016-04-02 00:00:00</td>\n",
       "      <td>NECS Debit : TP HSBC TOYOTA FINAN /Sequence No:3566441708 Upld S1:03 /Reference No: 0001173194677</td>\n",
       "      <td>TRF,TRF,TRF</td>\n",
       "      <td>79140</td>\n",
       "      <td></td>\n",
       "      <td>6,730.00CR</td>\n",
       "      <td></td>\n",
       "      <td></td>\n",
       "      <td></td>\n",
       "      <td></td>\n",
       "      <td></td>\n",
       "      <td></td>\n",
       "      <td></td>\n",
       "      <td>False</td>\n",
       "      <td>0001173194677</td>\n",
       "      <td>NECS D TP HSBC TOYOTA FINAN</td>\n",
       "      <td>NECS  TP HSBC TOYOTA FINAN</td>\n",
       "      <td>NECS D HSBC TOYOTA FINAN /</td>\n",
       "      <td>HSBC TOYOTA</td>\n",
       "      <td>HSBC TOYOTA FINAN</td>\n",
       "      <td>Debit /Sequence No Upld S/Reference No</td>\n",
       "    </tr>\n",
       "    <tr>\n",
       "      <th>3</th>\n",
       "      <td>2016-04-02 00:00:00</td>\n",
       "      <td>ECS Return Charges Recredited Ref. /Dt:02042016 Upld S1:01Dt1 S1:000004</td>\n",
       "      <td>TRF,TRF</td>\n",
       "      <td></td>\n",
       "      <td>573</td>\n",
       "      <td>7,303.00CR</td>\n",
       "      <td></td>\n",
       "      <td></td>\n",
       "      <td></td>\n",
       "      <td></td>\n",
       "      <td></td>\n",
       "      <td></td>\n",
       "      <td></td>\n",
       "      <td>False</td>\n",
       "      <td></td>\n",
       "      <td>ECS R</td>\n",
       "      <td>ECS</td>\n",
       "      <td>ECS R</td>\n",
       "      <td></td>\n",
       "      <td></td>\n",
       "      <td>Return Charges Recredited Ref Upld S</td>\n",
       "    </tr>\n",
       "    <tr>\n",
       "      <th>4</th>\n",
       "      <td>2016-04-02 00:00:00</td>\n",
       "      <td>Charges Coll. From Queue / for not Maintg. Min/Avg.Bal. /On 31032016</td>\n",
       "      <td>TRF,TRF,TRF</td>\n",
       "      <td>2290</td>\n",
       "      <td></td>\n",
       "      <td>5,013.00CR.</td>\n",
       "      <td></td>\n",
       "      <td></td>\n",
       "      <td></td>\n",
       "      <td></td>\n",
       "      <td></td>\n",
       "      <td></td>\n",
       "      <td></td>\n",
       "      <td>False</td>\n",
       "      <td></td>\n",
       "      <td></td>\n",
       "      <td></td>\n",
       "      <td></td>\n",
       "      <td></td>\n",
       "      <td></td>\n",
       "      <td>Charges Coll From Queue / for not Maintg</td>\n",
       "    </tr>\n",
       "  </tbody>\n",
       "</table>\n",
       "</div>"
      ],
      "text/plain": [
       "                  Date                                                                                        Particulars    Cheque No  Debit Credits      Balance Ref: Inst. no.:          Chq: RTGS_UTR No: RETD : UTR : UTR_extn :  Cancelled?   Reference No:                                                      Names_TO:                                                Names_st.                                                     Names/*_/:                      Names/$_/:                                    Names/$#_/:                               Final_touch\n",
       "0  2016-04-02 00:00:00  ABB 0002 CBCA /01/000224 Chq:148471/1164/BANGALORE - CHAND - SHWETA AND/SHWETA AND GITA CONS       TRF,TRF,TRF         85000   86,443.00CR                  148471/1164/                                       False                       ABB  CBCA //BANGALORE  CHAND  SHWETA AND/SHWETA AND GITA CONS  ABB  CBCA BANGALORE  CHAND  SHWETA AND/SHWETA AND GITA   ABB  CBCA //BANGALORE  CHAND  SHWETA AND/SHWETA AND GITA CONS  SHWETA AND/SHWETA ANDGITA CONS  /BANGALORE - CHAND SHWETA AND/SHWETA AND GITA                                          \n",
       "1  2016-04-02 00:00:00  ECS Return Charges /Date : 02042016 Upload Si : 03                                                 TRF,TRF      573            85,870.00CR                                                                     False                       ECS R                                                          ECS                                                      ECS R                                                                                                                                          Return Charges /Date  Upload Si        \n",
       "2  2016-04-02 00:00:00  NECS Debit : TP HSBC TOYOTA FINAN /Sequence No:3566441708 Upld S1:03 /Reference No: 0001173194677  TRF,TRF,TRF  79140          6,730.00CR                                                                      False        0001173194677  NECS D TP HSBC TOYOTA FINAN                                    NECS  TP HSBC TOYOTA FINAN                               NECS D HSBC TOYOTA FINAN /                                     HSBC TOYOTA                     HSBC TOYOTA FINAN                               Debit /Sequence No Upld S/Reference No \n",
       "3  2016-04-02 00:00:00  ECS Return Charges Recredited Ref. /Dt:02042016 Upld S1:01Dt1 S1:000004                            TRF,TRF             573     7,303.00CR                                                                      False                       ECS R                                                          ECS                                                      ECS R                                                                                                                                          Return Charges Recredited Ref Upld S   \n",
       "4  2016-04-02 00:00:00  Charges Coll. From Queue / for not Maintg. Min/Avg.Bal. /On 31032016                               TRF,TRF,TRF  2290           5,013.00CR.                                                                     False                                                                                                                                                                                                                                                                                             Charges Coll From Queue / for not Maintg"
      ]
     },
     "execution_count": 187,
     "metadata": {},
     "output_type": "execute_result"
    }
   ],
   "source": [
    "fin3.head()"
   ]
  },
  {
   "cell_type": "code",
   "execution_count": 188,
   "metadata": {},
   "outputs": [],
   "source": [
    "fin3.to_excel('Exported_Corporation Bank - Akshay Nagar 1_16_17.xlsx', index = False)"
   ]
  },
  {
   "cell_type": "code",
   "execution_count": null,
   "metadata": {},
   "outputs": [],
   "source": [
    "fin3_g = fin3.groupby(['Date', 'Particulars']).agg({'Debit': ['sum'], 'Credits': 'sum'}).reset_index()\n",
    "fin3_g.head(8)"
   ]
  },
  {
   "cell_type": "code",
   "execution_count": 148,
   "metadata": {},
   "outputs": [],
   "source": [
    "# cb_aks1_18_18 = pd.read_excel('Corporation Bank - Akshay Nagar 1.xlsx', sheet_name = '01-04-18 to 20-08-18')\n",
    "\n",
    "if __name__ == \"__main__\":\n",
    "\t  \n",
    "    df =  cb_aks1_18_18.copy()\n",
    "\n",
    "    groups = df.groupby(df['Date'].apply(rolling_group),as_index=False)\n",
    "    groupFunct = lambda g: pd.Series([joinFunc(g,col) for col in g.columns],index=g.columns)\n",
    "    fin4=(groups.apply(groupFunct))\n",
    "\n"
   ]
  },
  {
   "cell_type": "code",
   "execution_count": 189,
   "metadata": {},
   "outputs": [],
   "source": [
    "# Applying regular expression to extract the desired data\n",
    "fin4['Ref:'] = [\"\".join(re.findall(r'Ref:\\s*(.*?) ', i)) for i in fin4['Particulars']]\n",
    "fin4['Inst. no.:'] = [\"\".join(re.findall(r'[Ii][Nn][Ss][Tt][.]?\\s*[Nn][Oo][.]?[:]?[\\s]?\\d{4,8}', i)) for i in fin4['Particulars']]\n",
    "fin4['Chq:'] = [\"\".join(re.findall(r'Chq:\\s*(.*?)[A-Za-z]', i)) for i in fin4['Particulars']]\n",
    "fin4['RTGS_UTR No:'] = [\"\".join(re.findall(r'RTGS_UTR No:\\s*(.*?) ', i)) for i in fin4['Particulars']]\n",
    "fin4['RETD :'] = [\"\".join(re.findall(r'[Rr][eE][Tt][Dd]', i)) for i in fin4['Particulars']]\n",
    "fin4['UTR :'] = [\"\".join(re.findall(r'UTR(?:^|[: ])\\s*(.*?) ', i)) for i in fin4['Particulars']]\n",
    "fin4['UTR_extn :'] = [\"\".join(re.findall(r'UTR :\\s*(.*?) ', i)) for i in fin4['Particulars']]\n",
    "fin4['Cancelled?'] = fin4.Particulars.str.contains('RETD', flags=re.IGNORECASE, regex=True)\n",
    "# [\\n\\r][ \\t]*Object Name:[ \\t]*([^\\n\\r]*)\n",
    "fin4['Reference No:'] = [\"\".join(re.findall(r'(?<=Reference No:).*', i)) for i in fin4['Particulars']]\n"
   ]
  },
  {
   "cell_type": "code",
   "execution_count": 190,
   "metadata": {},
   "outputs": [],
   "source": [
    "fin4['Names_TO:'] = [\"\".join(re.findall(r\"(/*\\s*[A-Z]{1,20}\\s+[A-Z]*\\s*[A-Z]*\\s*[A-Z]*/*\\s*)\", i)) for i in fin4['Particulars']]\n",
    "fin4['Names_st.'] = [\"\".join(re.findall(r\"(\\s*[A-Z]{1,20}\\s*/?\\s*[A-Z]*\\s*[A-Z]* )\", i)) for i in fin4['Particulars']]\n",
    "fin4['Names/*_/:'] = [\"\".join(re.findall(r\"(/*\\s*[A-Z]{3,20}\\s*/?[A-Z]*\\s*[A-Z]*\\s*[A-Z]*\\s?/*)\", i)) for i in fin4['Particulars']]\n",
    "#(/*[A-Z]{3,20}\\s+[A-Z]{2,20})\n",
    "fin4['Names/$_/:'] = [\"\".join(re.findall(r\"(/*[A-Z]{3,20}\\s+[A-Z]{2,20})\", i)) for i in fin4['Particulars']]\n",
    "fin4['Names/$_/:'] = [\"\".join(re.findall(r\"(/*[A-Z]{3,20}\\s+[A-Z]{2,20})\", i)) for i in fin4['Particulars']]\n",
    "#(/*[A-Z]{3,20}\\s+[A-Z]{2,20}[ ][A-Z]*)\n",
    "fin4['Names/$#_/:'] = [\"\".join(re.findall(r\"(/*[A-Z]{3,20}\\s*[!@#$%^&*()_-]*\\s*[A-Z]{2,20}[ ][A-Z]*)\", i)) for i in fin4['Particulars']]\n",
    "\n",
    "fin4['Final_touch'] = [\"\".join(re.findall(r\"(/*\\s*[A-Z]?[a-z]+\\s*[A-Z]?[a-z]+\\s*[A-Z]?[a-z]*\\s*[A-Z]?[a-z]+\\s*[A-Z]?[a-z]*\\s?/*)\", i)) for i in fin4['Particulars']]"
   ]
  },
  {
   "cell_type": "code",
   "execution_count": null,
   "metadata": {},
   "outputs": [],
   "source": [
    "len(fin4['Inst. no.:'])"
   ]
  },
  {
   "cell_type": "code",
   "execution_count": 191,
   "metadata": {},
   "outputs": [],
   "source": [
    "fin4.to_excel('Exported_Corporation Bank - Akshay Nagar 1_18_18.xlsx', index = False)"
   ]
  },
  {
   "cell_type": "code",
   "execution_count": null,
   "metadata": {},
   "outputs": [],
   "source": [
    "fin4_g = fin4.groupby(['Date', 'Particulars']).agg({'Debit': ['sum'], 'Credits': 'sum'}).reset_index()\n",
    "fin4_g.head(8)"
   ]
  },
  {
   "cell_type": "markdown",
   "metadata": {},
   "source": [
    "### Loading `Corporation Bank - Chandpura Circle- Consolidated Bank statement`"
   ]
  },
  {
   "cell_type": "code",
   "execution_count": 192,
   "metadata": {},
   "outputs": [],
   "source": [
    "cb_cc_14_15 = pd.read_excel('Corporation Bank - Chandpura Circle- Consolidated Bank statement.xlsx', sheet_name = '01-04-2014 to 31-03-2015')\n",
    "cb_cc_15_16 = pd.read_excel('Corporation Bank - Chandpura Circle- Consolidated Bank statement.xlsx', sheet_name = '01-04-2015 to 31-03-2016')\n",
    "cb_cc_16_17 = pd.read_excel('Corporation Bank - Chandpura Circle- Consolidated Bank statement.xlsx', sheet_name = '01-04-2016 to 31-03-2017')\n",
    "cb_cc_17_18 = pd.read_excel('Corporation Bank - Chandpura Circle- Consolidated Bank statement.xlsx', sheet_name = '01-04-2017 to 31-03-2018')\n",
    "cb_cc_18_18 = pd.read_excel('Corporation Bank - Chandpura Circle- Consolidated Bank statement.xlsx', sheet_name = '01-04-2018 to 06-06-2018')"
   ]
  },
  {
   "cell_type": "code",
   "execution_count": 193,
   "metadata": {},
   "outputs": [],
   "source": [
    "# cb_cc_14_15 = pd.read_excel('Corporation Bank - Chandpura Circle- Consolidated Bank statement.xlsx', sheet_name = '01-04-2014 to 31-03-2015')\n",
    "\n",
    "if __name__ == \"__main__\":\n",
    "\t  \n",
    "    df =  cb_cc_14_15.copy()\n",
    "\n",
    "    groups = df.groupby(df['Date'].apply(rolling_group),as_index=False)\n",
    "    groupFunct = lambda g: pd.Series([joinFunc(g,col) for col in g.columns],index=g.columns)\n",
    "    fin11=(groups.apply(groupFunct))\n"
   ]
  },
  {
   "cell_type": "code",
   "execution_count": 194,
   "metadata": {},
   "outputs": [],
   "source": [
    "# Applying regular expression to extract the desired data\n",
    "fin11['Ref:'] = [\"\".join(re.findall(r'Ref:\\s*(.*?) ', i)) for i in fin11['Particulars']]\n",
    "fin11['Inst. no.:'] = [\"\".join(re.findall(r'[Ii][Nn][Ss][Tt][.]?\\s*[Nn][Oo][.]?[:]?[\\s]?\\d{4,8}', i)) for i in fin11['Particulars']]\n",
    "fin11['Chq:'] = [\"\".join(re.findall(r'Chq:\\s*(.*?)[A-Za-z]', i)) for i in fin11['Particulars']]\n",
    "fin11['RTGS_UTR No:'] = [\"\".join(re.findall(r'RTGS_UTR No:\\s*(.*?) ', i)) for i in fin11['Particulars']]\n",
    "fin11['RETD :'] = [\"\".join(re.findall(r'[Rr][eE][Tt][Dd]', i)) for i in fin11['Particulars']]\n",
    "fin11['UTR :'] = [\"\".join(re.findall(r'UTR(?:^|[: ])\\s*(.*?) ', i)) for i in fin11['Particulars']]\n",
    "fin11['UTR_extn :'] = [\"\".join(re.findall(r'UTR :\\s*(.*?) ', i)) for i in fin11['Particulars']]\n",
    "fin11['Cancelled?'] = fin11.Particulars.str.contains('RETD', flags=re.IGNORECASE, regex=True)\n",
    "# [\\n\\r][ \\t]*Object Name:[ \\t]*([^\\n\\r]*)\n",
    "fin11['Reference No:'] = [\"\".join(re.findall(r'(?<=Reference No:).*', i)) for i in fin11['Particulars']]\n"
   ]
  },
  {
   "cell_type": "code",
   "execution_count": 195,
   "metadata": {},
   "outputs": [],
   "source": [
    "fin11['Names_TO:'] = [\"\".join(re.findall(r\"(/*\\s*[A-Z]{1,20}\\s+[A-Z]*\\s*[A-Z]*\\s*[A-Z]*/*\\s*)\", i)) for i in fin11['Particulars']]\n",
    "fin11['Names_st.'] = [\"\".join(re.findall(r\"(\\s*[A-Z]{1,20}\\s*/?\\s*[A-Z]*\\s*[A-Z]* )\", i)) for i in fin11['Particulars']]\n",
    "fin11['Names/*_/:'] = [\"\".join(re.findall(r\"(/*\\s*[A-Z]{3,20}\\s*/?[A-Z]*\\s*[A-Z]*\\s*[A-Z]*\\s?/*)\", i)) for i in fin11['Particulars']]\n",
    "#(/*[A-Z]{3,20}\\s+[A-Z]{2,20})\n",
    "fin11['Names/$_/:'] = [\"\".join(re.findall(r\"(/*[A-Z]{3,20}\\s+[A-Z]{2,20})\", i)) for i in fin11['Particulars']]\n",
    "fin11['Names/$_/:'] = [\"\".join(re.findall(r\"(/*[A-Z]{3,20}\\s+[A-Z]{2,20})\", i)) for i in fin11['Particulars']]\n",
    "#(/*[A-Z]{3,20}\\s+[A-Z]{2,20}[ ][A-Z]*)\n",
    "fin11['Names/$#_/:'] = [\"\".join(re.findall(r\"(/*[A-Z]{3,20}\\s*[!@#$%^&*()_-]*\\s*[A-Z]{2,20}[ ][A-Z]*)\", i)) for i in fin11['Particulars']]\n",
    "\n",
    "fin11['Final_touch'] = [\"\".join(re.findall(r\"(/*\\s*[A-Z]?[a-z]+\\s*[A-Z]?[a-z]+\\s*[A-Z]?[a-z]*\\s*[A-Z]?[a-z]+\\s*[A-Z]?[a-z]*\\s?/*)\", i)) for i in fin11['Particulars']]"
   ]
  },
  {
   "cell_type": "code",
   "execution_count": 196,
   "metadata": {},
   "outputs": [],
   "source": [
    "fin11.to_excel('Exported_Corporation Bank - Chandpura Circle- Consolidated Bank statement14-15.xlsx', index = False)"
   ]
  },
  {
   "cell_type": "code",
   "execution_count": null,
   "metadata": {},
   "outputs": [],
   "source": [
    "fin11.tail(12)"
   ]
  },
  {
   "cell_type": "code",
   "execution_count": null,
   "metadata": {},
   "outputs": [],
   "source": [
    "fin11_g = fin11.groupby(['Date', 'Particulars']).agg({'Debit': ['sum'], 'Credits': 'sum'}).reset_index()\n",
    "fin11_g.head(8)"
   ]
  },
  {
   "cell_type": "code",
   "execution_count": 155,
   "metadata": {},
   "outputs": [],
   "source": [
    "# cb_cc_15_16 = pd.read_excel('Corporation Bank - Chandpura Circle- Consolidated Bank statement.xlsx', sheet_name = '01-04-2015 to 31-03-2016')\n",
    "\n",
    "if __name__ == \"__main__\":\n",
    "\t  \n",
    "    df =  cb_cc_15_16.copy()\n",
    "\n",
    "    groups = df.groupby(df['Date'].apply(rolling_group),as_index=False)\n",
    "    groupFunct = lambda g: pd.Series([joinFunc(g,col) for col in g.columns],index=g.columns)\n",
    "    fin12=(groups.apply(groupFunct))\n"
   ]
  },
  {
   "cell_type": "code",
   "execution_count": 197,
   "metadata": {},
   "outputs": [],
   "source": [
    "# Applying regular expression to extract the desired data\n",
    "fin12['Ref:'] = [\"\".join(re.findall(r'Ref:\\s*(.*?) ', i)) for i in fin12['Particulars']]\n",
    "fin12['Inst. no.:'] = [\"\".join(re.findall(r'[Ii][Nn][Ss][Tt][.]?\\s*[Nn][Oo][.]?[:]?[\\s]?\\d{4,8}', i)) for i in fin12['Particulars']]\n",
    "fin12['Chq:'] = [\"\".join(re.findall(r'Chq:\\s*(.*?)[A-Za-z]', i)) for i in fin12['Particulars']]\n",
    "fin12['RTGS_UTR No:'] = [\"\".join(re.findall(r'RTGS_UTR No:\\s*(.*?) ', i)) for i in fin12['Particulars']]\n",
    "fin12['RETD :'] = [\"\".join(re.findall(r'[Rr][eE][Tt][Dd]', i)) for i in fin12['Particulars']]\n",
    "fin12['UTR :'] = [\"\".join(re.findall(r'UTR(?:^|[: ])\\s*(.*?) ', i)) for i in fin12['Particulars']]\n",
    "fin12['UTR_extn :'] = [\"\".join(re.findall(r'UTR :\\s*(.*?) ', i)) for i in fin12['Particulars']]\n",
    "fin12['Cancelled?'] = fin12.Particulars.str.contains('RETD', flags=re.IGNORECASE, regex=True)\n",
    "# [\\n\\r][ \\t]*Object Name:[ \\t]*([^\\n\\r]*)\n",
    "fin12['Reference No:'] = [\"\".join(re.findall(r'(?<=Reference No:).*', i)) for i in fin12['Particulars']]\n"
   ]
  },
  {
   "cell_type": "code",
   "execution_count": 198,
   "metadata": {},
   "outputs": [],
   "source": [
    "fin12['Names_TO:'] = [\"\".join(re.findall(r\"(/*\\s*[A-Z]{1,20}\\s+[A-Z]*\\s*[A-Z]*\\s*[A-Z]*/*\\s*)\", i)) for i in fin12['Particulars']]\n",
    "fin12['Names_st.'] = [\"\".join(re.findall(r\"(\\s*[A-Z]{1,20}\\s*/?\\s*[A-Z]*\\s*[A-Z]* )\", i)) for i in fin12['Particulars']]\n",
    "fin12['Names/*_/:'] = [\"\".join(re.findall(r\"(/*\\s*[A-Z]{3,20}\\s*/?[A-Z]*\\s*[A-Z]*\\s*[A-Z]*\\s?/*)\", i)) for i in fin12['Particulars']]\n",
    "#(/*[A-Z]{3,20}\\s+[A-Z]{2,20})\n",
    "fin12['Names/$_/:'] = [\"\".join(re.findall(r\"(/*[A-Z]{3,20}\\s+[A-Z]{2,20})\", i)) for i in fin12['Particulars']]\n",
    "fin12['Names/$_/:'] = [\"\".join(re.findall(r\"(/*[A-Z]{3,20}\\s+[A-Z]{2,20})\", i)) for i in fin12['Particulars']]\n",
    "#(/*[A-Z]{3,20}\\s+[A-Z]{2,20}[ ][A-Z]*)\n",
    "fin12['Names/$#_/:'] = [\"\".join(re.findall(r\"(/*[A-Z]{3,20}\\s*[!@#$%^&*()_-]*\\s*[A-Z]{2,20}[ ][A-Z]*)\", i)) for i in fin12['Particulars']]\n",
    "\n",
    "fin12['Final_touch'] = [\"\".join(re.findall(r\"(/*\\s*[A-Z]?[a-z]+\\s*[A-Z]?[a-z]+\\s*[A-Z]?[a-z]*\\s*[A-Z]?[a-z]+\\s*[A-Z]?[a-z]*\\s?/*)\", i)) for i in fin12['Particulars']]"
   ]
  },
  {
   "cell_type": "code",
   "execution_count": 199,
   "metadata": {},
   "outputs": [],
   "source": [
    "fin12.to_excel('Exported_Corporation Bank - Chandpura Circle- Consolidated Bank statement_15_16.xlsx', index = False)"
   ]
  },
  {
   "cell_type": "code",
   "execution_count": null,
   "metadata": {},
   "outputs": [],
   "source": [
    "fin12.head()"
   ]
  },
  {
   "cell_type": "code",
   "execution_count": null,
   "metadata": {},
   "outputs": [],
   "source": [
    "fin12_g = fin12.groupby(['Date', 'Particulars']).agg({'Debit': ['sum'], 'Credits': 'sum'}).reset_index()\n",
    "fin12_g.head(8)"
   ]
  },
  {
   "cell_type": "code",
   "execution_count": 200,
   "metadata": {},
   "outputs": [],
   "source": [
    "# cb_cc_16_17 = pd.read_excel('Corporation Bank - Chandpura Circle- Consolidated Bank statement.xlsx', sheet_name = '01-04-2016 to 31-03-2017')\n",
    "\n",
    "if __name__ == \"__main__\":\n",
    "\t  \n",
    "    df =  cb_cc_16_17.copy()\n",
    "\n",
    "    groups = df.groupby(df['Date'].apply(rolling_group),as_index=False)\n",
    "    groupFunct = lambda g: pd.Series([joinFunc(g,col) for col in g.columns],index=g.columns)\n",
    "    fin13=(groups.apply(groupFunct))\n"
   ]
  },
  {
   "cell_type": "code",
   "execution_count": 201,
   "metadata": {},
   "outputs": [],
   "source": [
    "# Applying regular expression to extract the desired data\n",
    "fin13['Ref:'] = [\"\".join(re.findall(r'Ref:\\s*(.*?) ', i)) for i in fin13['Particulars']]\n",
    "fin13['Inst. no.:'] = [\"\".join(re.findall(r'[Ii][Nn][Ss][Tt][.]?\\s*[Nn][Oo][.]?[:]?[\\s]?\\d{4,8}', i)) for i in fin13['Particulars']]\n",
    "fin13['Chq:'] = [\"\".join(re.findall(r'Chq:\\s*(.*?)[A-Za-z]', i)) for i in fin13['Particulars']]\n",
    "fin13['RTGS_UTR No:'] = [\"\".join(re.findall(r'RTGS_UTR No:\\s*(.*?) ', i)) for i in fin13['Particulars']]\n",
    "fin13['RETD :'] = [\"\".join(re.findall(r'[Rr][eE][Tt][Dd]', i)) for i in fin13['Particulars']]\n",
    "fin13['UTR :'] = [\"\".join(re.findall(r'UTR(?:^|[: ])\\s*(.*?) ', i)) for i in fin13['Particulars']]\n",
    "fin13['UTR_extn :'] = [\"\".join(re.findall(r'UTR :\\s*(.*?) ', i)) for i in fin13['Particulars']]\n",
    "fin13['Cancelled?'] = fin13.Particulars.str.contains('RETD', flags=re.IGNORECASE, regex=True)\n",
    "# [\\n\\r][ \\t]*Object Name:[ \\t]*([^\\n\\r]*)\n",
    "fin13['Reference No:'] = [\"\".join(re.findall(r'(?<=Reference No:).*', i)) for i in fin13['Particulars']]\n"
   ]
  },
  {
   "cell_type": "code",
   "execution_count": 202,
   "metadata": {},
   "outputs": [],
   "source": [
    "fin13['Names_TO:'] = [\"\".join(re.findall(r\"(/*\\s*[A-Z]{1,20}\\s+[A-Z]*\\s*[A-Z]*\\s*[A-Z]*/*\\s*)\", i)) for i in fin13['Particulars']]\n",
    "fin13['Names_st.'] = [\"\".join(re.findall(r\"(\\s*[A-Z]{1,20}\\s*/?\\s*[A-Z]*\\s*[A-Z]* )\", i)) for i in fin13['Particulars']]\n",
    "fin13['Names/*_/:'] = [\"\".join(re.findall(r\"(/*\\s*[A-Z]{3,20}\\s*/?[A-Z]*\\s*[A-Z]*\\s*[A-Z]*\\s?/*)\", i)) for i in fin13['Particulars']]\n",
    "#(/*[A-Z]{3,20}\\s+[A-Z]{2,20})\n",
    "fin13['Names/$_/:'] = [\"\".join(re.findall(r\"(/*[A-Z]{3,20}\\s+[A-Z]{2,20})\", i)) for i in fin13['Particulars']]\n",
    "fin13['Names/$_/:'] = [\"\".join(re.findall(r\"(/*[A-Z]{3,20}\\s+[A-Z]{2,20})\", i)) for i in fin13['Particulars']]\n",
    "#(/*[A-Z]{3,20}\\s+[A-Z]{2,20}[ ][A-Z]*)\n",
    "fin13['Names/$#_/:'] = [\"\".join(re.findall(r\"(/*[A-Z]{3,20}\\s*[!@#$%^&*()_-]*\\s*[A-Z]{2,20}[ ][A-Z]*)\", i)) for i in fin13['Particulars']]\n",
    "\n",
    "fin13['Final_touch'] = [\"\".join(re.findall(r\"(/*\\s*[A-Z]?[a-z]+\\s*[A-Z]?[a-z]+\\s*[A-Z]?[a-z]*\\s*[A-Z]?[a-z]+\\s*[A-Z]?[a-z]*\\s?/*)\", i)) for i in fin13['Particulars']]"
   ]
  },
  {
   "cell_type": "code",
   "execution_count": 203,
   "metadata": {},
   "outputs": [],
   "source": [
    "fin13.to_excel('Exported_Corporation Bank - Chandpura Circle- Consolidated Bank statement16_17.xlsx', index = False)"
   ]
  },
  {
   "cell_type": "code",
   "execution_count": null,
   "metadata": {},
   "outputs": [],
   "source": [
    "fin13.head(60)"
   ]
  },
  {
   "cell_type": "code",
   "execution_count": null,
   "metadata": {},
   "outputs": [],
   "source": [
    "fin13_g = fin13.groupby(['Date', 'Particulars']).agg({'Debit': ['sum'], 'Credits': 'sum'}).reset_index()\n",
    "fin13_g.head(8)"
   ]
  },
  {
   "cell_type": "code",
   "execution_count": 204,
   "metadata": {},
   "outputs": [],
   "source": [
    "# cb_cc_17_18 = pd.read_excel('Corporation Bank - Chandpura Circle- Consolidated Bank statement.xlsx', sheet_name = '01-04-2017 to 31-03-2018')\n",
    "\n",
    "if __name__ == \"__main__\":\n",
    "\t  \n",
    "    df =  cb_cc_17_18.copy()\n",
    "\n",
    "    groups = df.groupby(df['Date'].apply(rolling_group),as_index=False)\n",
    "    groupFunct = lambda g: pd.Series([joinFunc(g,col) for col in g.columns],index=g.columns)\n",
    "    fin14=(groups.apply(groupFunct))\n"
   ]
  },
  {
   "cell_type": "code",
   "execution_count": 205,
   "metadata": {},
   "outputs": [],
   "source": [
    "# Applying regular expression to extract the desired data\n",
    "fin14['Ref:'] = [\"\".join(re.findall(r'Ref:\\s*(.*?) ', i)) for i in fin14['Particulars']]\n",
    "fin14['Inst. no.:'] = [\"\".join(re.findall(r'[Ii][Nn][Ss][Tt][.]?\\s*[Nn][Oo][.]?[:]?[\\s]?\\d{4,8}', i)) for i in fin14['Particulars']]\n",
    "fin14['Chq:'] = [\"\".join(re.findall(r'Chq:\\s*(.*?)[A-Za-z]', i)) for i in fin14['Particulars']]\n",
    "fin14['RTGS_UTR No:'] = [\"\".join(re.findall(r'RTGS_UTR No:\\s*(.*?) ', i)) for i in fin14['Particulars']]\n",
    "fin14['RETD :'] = [\"\".join(re.findall(r'[Rr][eE][Tt][Dd]', i)) for i in fin14['Particulars']]\n",
    "fin14['UTR :'] = [\"\".join(re.findall(r'UTR(?:^|[: ])\\s*(.*?) ', i)) for i in fin14['Particulars']]\n",
    "fin14['UTR_extn :'] = [\"\".join(re.findall(r'UTR :\\s*(.*?) ', i)) for i in fin14['Particulars']]\n",
    "fin14['Cancelled?'] = fin14.Particulars.str.contains('RETD', flags=re.IGNORECASE, regex=True)\n",
    "# [\\n\\r][ \\t]*Object Name:[ \\t]*([^\\n\\r]*)\n",
    "fin14['Reference No:'] = [\"\".join(re.findall(r'(?<=Reference No:).*', i)) for i in fin14['Particulars']]\n"
   ]
  },
  {
   "cell_type": "code",
   "execution_count": 206,
   "metadata": {},
   "outputs": [],
   "source": [
    "fin14['Names_TO:'] = [\"\".join(re.findall(r\"(/*\\s*[A-Z]{1,20}\\s+[A-Z]*\\s*[A-Z]*\\s*[A-Z]*/*\\s*)\", i)) for i in fin14['Particulars']]\n",
    "fin14['Names_st.'] = [\"\".join(re.findall(r\"(\\s*[A-Z]{1,20}\\s*/?\\s*[A-Z]*\\s*[A-Z]* )\", i)) for i in fin14['Particulars']]\n",
    "fin14['Names/*_/:'] = [\"\".join(re.findall(r\"(/*\\s*[A-Z]{3,20}\\s*/?[A-Z]*\\s*[A-Z]*\\s*[A-Z]*\\s?/*)\", i)) for i in fin14['Particulars']]\n",
    "#(/*[A-Z]{3,20}\\s+[A-Z]{2,20})\n",
    "fin14['Names/$_/:'] = [\"\".join(re.findall(r\"(/*[A-Z]{3,20}\\s+[A-Z]{2,20})\", i)) for i in fin14['Particulars']]\n",
    "fin14['Names/$_/:'] = [\"\".join(re.findall(r\"(/*[A-Z]{3,20}\\s+[A-Z]{2,20})\", i)) for i in fin14['Particulars']]\n",
    "#(/*[A-Z]{3,20}\\s+[A-Z]{2,20}[ ][A-Z]*)\n",
    "fin14['Names/$#_/:'] = [\"\".join(re.findall(r\"(/*[A-Z]{3,20}\\s*[!@#$%^&*()_-]*\\s*[A-Z]{2,20}[ ][A-Z]*)\", i)) for i in fin14['Particulars']]\n",
    "\n",
    "fin14['Final_touch'] = [\"\".join(re.findall(r\"(/*\\s*[A-Z]?[a-z]+\\s*[A-Z]?[a-z]+\\s*[A-Z]?[a-z]*\\s*[A-Z]?[a-z]+\\s*[A-Z]?[a-z]*\\s?/*)\", i)) for i in fin14['Particulars']]"
   ]
  },
  {
   "cell_type": "code",
   "execution_count": 207,
   "metadata": {},
   "outputs": [],
   "source": [
    "fin14.to_excel('Exported_Corporation Bank - Chandpura Circle- Consolidated Bank statement17_18.xlsx', index = False)"
   ]
  },
  {
   "cell_type": "code",
   "execution_count": null,
   "metadata": {},
   "outputs": [],
   "source": [
    "fin14.head(12)"
   ]
  },
  {
   "cell_type": "code",
   "execution_count": null,
   "metadata": {},
   "outputs": [],
   "source": [
    "fin14_g = fin14.groupby(['Date', 'Particulars']).agg({'Debit': ['sum'], 'Credits': 'sum'}).reset_index()\n",
    "fin14_g.head(8)"
   ]
  },
  {
   "cell_type": "code",
   "execution_count": 224,
   "metadata": {},
   "outputs": [],
   "source": [
    "# cb_cc_18_18 = pd.read_excel('Corporation Bank - Chandpura Circle- Consolidated Bank statement.xlsx', sheet_name = '01-04-2018 to 06-06-2018')\n",
    "\n",
    "if __name__ == \"__main__\":\n",
    "\t  \n",
    "    df =  cb_cc_18_18.copy()\n",
    "\n",
    "    groups = df.groupby(df['Date'].apply(rolling_group),as_index=False)\n",
    "    groupFunct = lambda g: pd.Series([joinFunc(g,col) for col in g.columns],index=g.columns)\n",
    "    fin15=(groups.apply(groupFunct))\n"
   ]
  },
  {
   "cell_type": "code",
   "execution_count": 209,
   "metadata": {},
   "outputs": [],
   "source": [
    "# Applying regular expression to extract the desired data\n",
    "fin15['Ref:'] = [\"\".join(re.findall(r'Ref:\\s*(.*?) ', i)) for i in fin15['Particulars']]\n",
    "fin15['Inst. no.:'] = [\"\".join(re.findall(r'[Ii][Nn][Ss][Tt][.]?\\s*[Nn][Oo][.]?[:]?[\\s]?\\d{4,8}', i)) for i in fin15['Particulars']]\n",
    "fin15['Chq:'] = [\"\".join(re.findall(r'Chq:\\s*(.*?)[A-Za-z]', i)) for i in fin15['Particulars']]\n",
    "fin15['RTGS_UTR No:'] = [\"\".join(re.findall(r'RTGS_UTR No:\\s*(.*?) ', i)) for i in fin15['Particulars']]\n",
    "fin15['RETD :'] = [\"\".join(re.findall(r'[Rr][eE][Tt][Dd]', i)) for i in fin15['Particulars']]\n",
    "fin15['UTR :'] = [\"\".join(re.findall(r'UTR(?:^|[: ])\\s*(.*?) ', i)) for i in fin15['Particulars']]\n",
    "fin15['UTR_extn :'] = [\"\".join(re.findall(r'UTR :\\s*(.*?) ', i)) for i in fin15['Particulars']]\n",
    "fin15['Cancelled?'] = fin15.Particulars.str.contains('RETD', flags=re.IGNORECASE, regex=True)\n",
    "# [\\n\\r][ \\t]*Object Name:[ \\t]*([^\\n\\r]*)\n",
    "fin15['Reference No:'] = [\"\".join(re.findall(r'(?<=Reference No:).*', i)) for i in fin15['Particulars']]\n"
   ]
  },
  {
   "cell_type": "code",
   "execution_count": 210,
   "metadata": {},
   "outputs": [],
   "source": [
    "fin15['Names_TO:'] = [\"\".join(re.findall(r\"(/*\\s*[A-Z]{1,20}\\s+[A-Z]*\\s*[A-Z]*\\s*[A-Z]*/*\\s*)\", i)) for i in fin15['Particulars']]\n",
    "fin15['Names_st.'] = [\"\".join(re.findall(r\"(\\s*[A-Z]{1,20}\\s*/?\\s*[A-Z]*\\s*[A-Z]* )\", i)) for i in fin15['Particulars']]\n",
    "fin15['Names/*_/:'] = [\"\".join(re.findall(r\"(/*\\s*[A-Z]{3,20}\\s*/?[A-Z]*\\s*[A-Z]*\\s*[A-Z]*\\s?/*)\", i)) for i in fin15['Particulars']]\n",
    "#(/*[A-Z]{3,20}\\s+[A-Z]{2,20})\n",
    "fin15['Names/$_/:'] = [\"\".join(re.findall(r\"(/*[A-Z]{3,20}\\s+[A-Z]{2,20})\", i)) for i in fin15['Particulars']]\n",
    "fin15['Names/$_/:'] = [\"\".join(re.findall(r\"(/*[A-Z]{3,20}\\s+[A-Z]{2,20})\", i)) for i in fin15['Particulars']]\n",
    "#(/*[A-Z]{3,20}\\s+[A-Z]{2,20}[ ][A-Z]*)\n",
    "fin15['Names/$#_/:'] = [\"\".join(re.findall(r\"(/*[A-Z]{3,20}\\s*[!@#$%^&*()_-]*\\s*[A-Z]{2,20}[ ][A-Z]*)\", i)) for i in fin15['Particulars']]\n",
    "\n",
    "fin15['Final_touch'] = [\"\".join(re.findall(r\"(/*\\s*[A-Z]?[a-z]+\\s*[A-Z]?[a-z]+\\s*[A-Z]?[a-z]*\\s*[A-Z]?[a-z]+\\s*[A-Z]?[a-z]*\\s?/*)\", i)) for i in fin15['Particulars']]"
   ]
  },
  {
   "cell_type": "code",
   "execution_count": 211,
   "metadata": {},
   "outputs": [],
   "source": [
    "fin15.to_excel('Exported_Corporation Bank - Chandpura Circle- Consolidated Bank statement_18_18.xlsx', index = False)"
   ]
  },
  {
   "cell_type": "code",
   "execution_count": null,
   "metadata": {},
   "outputs": [],
   "source": [
    "fin15.head(12)"
   ]
  },
  {
   "cell_type": "markdown",
   "metadata": {},
   "source": [
    "### Loading `Corporation Bank - Akshay Nagar - Shashank _Pg 01 -20 Final`"
   ]
  },
  {
   "cell_type": "code",
   "execution_count": 219,
   "metadata": {},
   "outputs": [
    {
     "data": {
      "text/html": [
       "<div>\n",
       "<style scoped>\n",
       "    .dataframe tbody tr th:only-of-type {\n",
       "        vertical-align: middle;\n",
       "    }\n",
       "\n",
       "    .dataframe tbody tr th {\n",
       "        vertical-align: top;\n",
       "    }\n",
       "\n",
       "    .dataframe thead th {\n",
       "        text-align: right;\n",
       "    }\n",
       "</style>\n",
       "<table border=\"1\" class=\"dataframe\">\n",
       "  <thead>\n",
       "    <tr style=\"text-align: right;\">\n",
       "      <th></th>\n",
       "      <th>Date</th>\n",
       "      <th>Tran</th>\n",
       "      <th>Ref Num</th>\n",
       "      <th>Particulars</th>\n",
       "      <th>Debit</th>\n",
       "      <th>Credits</th>\n",
       "      <th>Balance</th>\n",
       "    </tr>\n",
       "  </thead>\n",
       "  <tbody>\n",
       "    <tr>\n",
       "      <th>0</th>\n",
       "      <td>2017-04-21 00:00:00</td>\n",
       "      <td>S327497</td>\n",
       "      <td>NaN</td>\n",
       "      <td>Balance transfer</td>\n",
       "      <td>NaN</td>\n",
       "      <td>5760.45</td>\n",
       "      <td>5760.45</td>\n",
       "    </tr>\n",
       "    <tr>\n",
       "      <th>1</th>\n",
       "      <td>2017-04-27 00:00:00</td>\n",
       "      <td>S311902</td>\n",
       "      <td>NaN</td>\n",
       "      <td>CA chq issue charge</td>\n",
       "      <td>400.0</td>\n",
       "      <td>NaN</td>\n",
       "      <td>5360.45</td>\n",
       "    </tr>\n",
       "    <tr>\n",
       "      <th>2</th>\n",
       "      <td>2017-04-27 00:00:00</td>\n",
       "      <td>S311902</td>\n",
       "      <td>NaN</td>\n",
       "      <td>Service tax</td>\n",
       "      <td>60.0</td>\n",
       "      <td>NaN</td>\n",
       "      <td>5300.45</td>\n",
       "    </tr>\n",
       "    <tr>\n",
       "      <th>3</th>\n",
       "      <td>2017-04-27 00:00:00</td>\n",
       "      <td>S318246</td>\n",
       "      <td>NaN</td>\n",
       "      <td>CA chq issue charge</td>\n",
       "      <td>400.0</td>\n",
       "      <td>NaN</td>\n",
       "      <td>4900.45</td>\n",
       "    </tr>\n",
       "    <tr>\n",
       "      <th>4</th>\n",
       "      <td>2017-04-27 00:00:00</td>\n",
       "      <td>S318246</td>\n",
       "      <td>NaN</td>\n",
       "      <td>Service tax</td>\n",
       "      <td>60.0</td>\n",
       "      <td>NaN</td>\n",
       "      <td>4840.45</td>\n",
       "    </tr>\n",
       "    <tr>\n",
       "      <th>5</th>\n",
       "      <td>2017-05-03 00:00:00</td>\n",
       "      <td>M67946</td>\n",
       "      <td>1.678016e+09</td>\n",
       "      <td>Shwetha and Gita construc</td>\n",
       "      <td>NaN</td>\n",
       "      <td>50000.00</td>\n",
       "      <td>54840.45</td>\n",
       "    </tr>\n",
       "    <tr>\n",
       "      <th>6</th>\n",
       "      <td>2017-05-03 00:00:00</td>\n",
       "      <td>M74441</td>\n",
       "      <td>NaN</td>\n",
       "      <td>VIJAY UPADHYAY</td>\n",
       "      <td>50000.0</td>\n",
       "      <td>NaN</td>\n",
       "      <td>4840.45</td>\n",
       "    </tr>\n",
       "    <tr>\n",
       "      <th>7</th>\n",
       "      <td>2017-05-09 00:00:00</td>\n",
       "      <td>M11221</td>\n",
       "      <td>NaN</td>\n",
       "      <td>Self</td>\n",
       "      <td>10000.0</td>\n",
       "      <td>NaN</td>\n",
       "      <td>-5159.55</td>\n",
       "    </tr>\n",
       "    <tr>\n",
       "      <th>8</th>\n",
       "      <td>2017-05-09 00:00:00</td>\n",
       "      <td>M23010</td>\n",
       "      <td>NaN</td>\n",
       "      <td>Vijay</td>\n",
       "      <td>35500.0</td>\n",
       "      <td>NaN</td>\n",
       "      <td>-40659.55</td>\n",
       "    </tr>\n",
       "  </tbody>\n",
       "</table>\n",
       "</div>"
      ],
      "text/plain": [
       "                  Date     Tran       Ref Num                Particulars    Debit   Credits   Balance\n",
       "0  2017-04-21 00:00:00  S327497 NaN            Balance transfer          NaN       5760.45   5760.45 \n",
       "1  2017-04-27 00:00:00  S311902 NaN            CA chq issue charge        400.0   NaN        5360.45 \n",
       "2  2017-04-27 00:00:00  S311902 NaN            Service tax                60.0    NaN        5300.45 \n",
       "3  2017-04-27 00:00:00  S318246 NaN            CA chq issue charge        400.0   NaN        4900.45 \n",
       "4  2017-04-27 00:00:00  S318246 NaN            Service tax                60.0    NaN        4840.45 \n",
       "5  2017-05-03 00:00:00  M67946   1.678016e+09  Shwetha and Gita construc NaN       50000.00  54840.45\n",
       "6  2017-05-03 00:00:00  M74441  NaN            VIJAY UPADHYAY             50000.0 NaN        4840.45 \n",
       "7  2017-05-09 00:00:00  M11221  NaN            Self                       10000.0 NaN       -5159.55 \n",
       "8  2017-05-09 00:00:00  M23010  NaN            Vijay                      35500.0 NaN       -40659.55"
      ]
     },
     "execution_count": 219,
     "metadata": {},
     "output_type": "execute_result"
    }
   ],
   "source": [
    "cb_an_Pg_01_20 = pd.read_excel('Corporation Bank - Akshay Nagar - Shashank _Pg 01 -20 Final.xlsx')\n",
    "cb_an_Pg_01_20.head(9)"
   ]
  },
  {
   "cell_type": "code",
   "execution_count": 220,
   "metadata": {},
   "outputs": [
    {
     "data": {
      "text/plain": [
       "Date           object \n",
       "Tran           object \n",
       "Ref Num        float64\n",
       "Particulars    object \n",
       "Debit          float64\n",
       "Credits        float64\n",
       "Balance        float64\n",
       "dtype: object"
      ]
     },
     "execution_count": 220,
     "metadata": {},
     "output_type": "execute_result"
    }
   ],
   "source": [
    "cb_an_Pg_01_20.dtypes"
   ]
  },
  {
   "cell_type": "code",
   "execution_count": 223,
   "metadata": {},
   "outputs": [],
   "source": [
    "\n",
    "if __name__ == \"__main__\":\n",
    "\t  \n",
    "    df =  cb_an_Pg_01_20.copy()\n",
    "\n",
    "    groups = df.groupby(df['Date'].apply(rolling_group),as_index=False)\n",
    "    groupFunct = lambda g: pd.Series([joinFunc(g,col) for col in g.columns],index=g.columns)\n",
    "    fin99=(groups.apply(groupFunct))\n"
   ]
  },
  {
   "cell_type": "code",
   "execution_count": 275,
   "metadata": {},
   "outputs": [],
   "source": [
    "# Applying regular expression to extract the desired data\n",
    "fin99['Ref:'] = [\"\".join(re.findall(r'Ref:\\s*(.*?) ', i)) for i in fin99['Particulars']]\n",
    "fin99['Inst. no.:'] = [\"\".join(re.findall(r'[Ii][Nn][Ss][Tt][.]?\\s*[Nn][Oo][.]?[:]?[\\s]?\\d{4,8}', i)) for i in fin99['Particulars']]\n",
    "fin99['Chq:'] = [\"\".join(re.findall(r'Chq:\\s*(.*?)[A-Za-z]', i)) for i in fin99['Particulars']]\n",
    "fin99['RTGS_UTR No:'] = [\"\".join(re.findall(r'RTGS_UTR No:\\s*(.*?) ', i)) for i in fin99['Particulars']]\n",
    "fin99['RETD :'] = [\"\".join(re.findall(r'[Rr][eE][TtjJ][UuEe][RrCc][NntT][A-Za-z]*', i)) for i in fin99['Particulars']]\n",
    "fin99['UTR :'] = [\"\".join(re.findall(r'UTR(?:^|[: ])\\s*(.*?) ', i)) for i in fin99['Particulars']]\n",
    "fin99['UTR_extn :'] = [\"\".join(re.findall(r'UTR :\\s*(.*?) ', i)) for i in fin99['Particulars']]\n",
    "fin99['Cancelled?'] = fin99.Particulars.str.contains('REJect', flags=re.IGNORECASE, regex=True) | fin99.Particulars.str.contains('RETurn', flags=re.IGNORECASE, regex=True)\n",
    "# [\\n\\r][ \\t]*Object Name:[ \\t]*([^\\n\\r]*)\n",
    "fin99['Reference No:'] = [\"\".join(re.findall(r'(?<=Reference No:).*', i)) for i in fin99['Particulars']]\n"
   ]
  },
  {
   "cell_type": "code",
   "execution_count": 276,
   "metadata": {},
   "outputs": [],
   "source": [
    "fin99['Names_TO:'] = [\"\".join(re.findall(r\"(/*\\s*[A-Z]{1,20}\\s+[A-Z]*\\s*[A-Z]*\\s*[A-Z]*/*\\s*)\", i)) for i in fin99['Particulars']]\n",
    "fin99['Names_st.'] = [\"\".join(re.findall(r\"(\\s*[A-Z]{1,20}\\s*/?\\s*[A-Z]*\\s*[A-Z]* )\", i)) for i in fin99['Particulars']]\n",
    "fin99['Names/*_/:'] = [\"\".join(re.findall(r\"(/*\\s*[A-Z]{3,20}\\s*/?[A-Z]*\\s*[A-Z]*\\s*[A-Z]*\\s?/*)\", i)) for i in fin99['Particulars']]\n",
    "#(/*[A-Z]{3,20}\\s+[A-Z]{2,20})\n",
    "fin99['Names/$_/:'] = [\"\".join(re.findall(r\"(/*[A-Z]{3,20}\\s+[A-Z]{2,20})\", i)) for i in fin99['Particulars']]\n",
    "fin99['Names/$_/:'] = [\"\".join(re.findall(r\"(/*[A-Z]{3,20}\\s+[A-Z]{2,20})\", i)) for i in fin99['Particulars']]\n",
    "#(/*[A-Z]{3,20}\\s+[A-Z]{2,20}[ ][A-Z]*)\n",
    "fin99['Names/$#_/:'] = [\"\".join(re.findall(r\"(/*[A-Z]{3,20}\\s*[!@#$%^&*()_-]*\\s*[A-Z]{2,20}[ ][A-Z]*)\", i)) for i in fin99['Particulars']]\n",
    "\n",
    "fin99['Final_touch'] = [\"\".join(re.findall(r\"(/*\\s*[A-Z]?[a-z]+\\s*[A-Z]?[a-z]+\\s*[A-Z]?[a-z]*\\s*[A-Z]?[a-z]+\\s*[A-Z]?[a-z]*\\s?/*)\", i)) for i in fin99['Particulars']]"
   ]
  },
  {
   "cell_type": "code",
   "execution_count": 277,
   "metadata": {},
   "outputs": [],
   "source": [
    "fin99.to_excel('Exported_Corporation Bank - Akshay Nagar - Shashank _Pg 01 -20 Final.xlsx', index = False)"
   ]
  },
  {
   "cell_type": "code",
   "execution_count": null,
   "metadata": {},
   "outputs": [],
   "source": []
  },
  {
   "cell_type": "markdown",
   "metadata": {},
   "source": [
    "### Loading `Corporation Bank - Akshay Nagar - Shashank _Pg 21 - 31 Final` "
   ]
  },
  {
   "cell_type": "code",
   "execution_count": 230,
   "metadata": {},
   "outputs": [
    {
     "data": {
      "text/html": [
       "<div>\n",
       "<style scoped>\n",
       "    .dataframe tbody tr th:only-of-type {\n",
       "        vertical-align: middle;\n",
       "    }\n",
       "\n",
       "    .dataframe tbody tr th {\n",
       "        vertical-align: top;\n",
       "    }\n",
       "\n",
       "    .dataframe thead th {\n",
       "        text-align: right;\n",
       "    }\n",
       "</style>\n",
       "<table border=\"1\" class=\"dataframe\">\n",
       "  <thead>\n",
       "    <tr style=\"text-align: right;\">\n",
       "      <th></th>\n",
       "      <th>Date</th>\n",
       "      <th>Unnamed: 1</th>\n",
       "      <th>Unnamed: 2</th>\n",
       "      <th>Particulars</th>\n",
       "      <th>Cheque No</th>\n",
       "      <th>Debit</th>\n",
       "      <th>Credits</th>\n",
       "      <th>Balance</th>\n",
       "    </tr>\n",
       "  </thead>\n",
       "  <tbody>\n",
       "    <tr>\n",
       "      <th>0</th>\n",
       "      <td>2017-12-11</td>\n",
       "      <td>222592.0</td>\n",
       "      <td>207169.0</td>\n",
       "      <td>To S&amp;G CONSTRUCTIONS</td>\n",
       "      <td>377585.0</td>\n",
       "      <td>200000.0</td>\n",
       "      <td>NaN</td>\n",
       "      <td>100720.45</td>\n",
       "    </tr>\n",
       "    <tr>\n",
       "      <th>1</th>\n",
       "      <td>2017-12-11</td>\n",
       "      <td>222592.0</td>\n",
       "      <td>207169.0</td>\n",
       "      <td>Self</td>\n",
       "      <td>377586.0</td>\n",
       "      <td>99000.0</td>\n",
       "      <td>NaN</td>\n",
       "      <td>1720.45</td>\n",
       "    </tr>\n",
       "    <tr>\n",
       "      <th>2</th>\n",
       "      <td>2017-12-11</td>\n",
       "      <td>211500.0</td>\n",
       "      <td>211500.0</td>\n",
       "      <td>ECS RETURN Charges-IILECS - BMW</td>\n",
       "      <td>NaN</td>\n",
       "      <td>500.0</td>\n",
       "      <td>NaN</td>\n",
       "      <td>1220.45</td>\n",
       "    </tr>\n",
       "    <tr>\n",
       "      <th>3</th>\n",
       "      <td>2017-12-11</td>\n",
       "      <td>NaN</td>\n",
       "      <td>211500.0</td>\n",
       "      <td>ECS RETURN GST Charges Collected</td>\n",
       "      <td>NaN</td>\n",
       "      <td>90.0</td>\n",
       "      <td>NaN</td>\n",
       "      <td>1130.45</td>\n",
       "    </tr>\n",
       "    <tr>\n",
       "      <th>4</th>\n",
       "      <td>2017-12-13</td>\n",
       "      <td>216508.0</td>\n",
       "      <td>216508.0</td>\n",
       "      <td>ECS RETURN Charges-TP HSBC TOYOTA FINAN</td>\n",
       "      <td>NaN</td>\n",
       "      <td>500.0</td>\n",
       "      <td>NaN</td>\n",
       "      <td>630.45</td>\n",
       "    </tr>\n",
       "  </tbody>\n",
       "</table>\n",
       "</div>"
      ],
      "text/plain": [
       "        Date  Unnamed: 1  Unnamed: 2                              Particulars  Cheque No     Debit  Credits    Balance\n",
       "0 2017-12-11  222592.0    207169.0    To S&G CONSTRUCTIONS                     377585.0   200000.0 NaN       100720.45\n",
       "1 2017-12-11  222592.0    207169.0    Self                                     377586.0   99000.0  NaN       1720.45  \n",
       "2 2017-12-11  211500.0    211500.0    ECS RETURN Charges-IILECS - BMW         NaN         500.0    NaN       1220.45  \n",
       "3 2017-12-11 NaN          211500.0    ECS RETURN GST Charges Collected        NaN         90.0     NaN       1130.45  \n",
       "4 2017-12-13  216508.0    216508.0    ECS RETURN Charges-TP HSBC TOYOTA FINAN NaN         500.0    NaN       630.45   "
      ]
     },
     "execution_count": 230,
     "metadata": {},
     "output_type": "execute_result"
    }
   ],
   "source": [
    "cb_an_Pg_21_31 = pd.read_excel('Corporation Bank - Akshay Nagar - Shashank _Pg 21 - 31 Final.xlsx')\n",
    "cb_an_Pg_21_31.head()"
   ]
  },
  {
   "cell_type": "code",
   "execution_count": 231,
   "metadata": {},
   "outputs": [
    {
     "data": {
      "text/plain": [
       "Date           datetime64[ns]\n",
       "Unnamed: 1     float64       \n",
       "Unnamed: 2     float64       \n",
       "Particulars    object        \n",
       "Cheque No      float64       \n",
       "Debit          float64       \n",
       "Credits        float64       \n",
       "Balance        float64       \n",
       "dtype: object"
      ]
     },
     "execution_count": 231,
     "metadata": {},
     "output_type": "execute_result"
    }
   ],
   "source": [
    "cb_an_Pg_21_31.dtypes"
   ]
  },
  {
   "cell_type": "code",
   "execution_count": 232,
   "metadata": {},
   "outputs": [
    {
     "data": {
      "text/plain": [
       "February    67\n",
       "December    35\n",
       "January     15\n",
       "March       8 \n",
       "Name: Date, dtype: int64"
      ]
     },
     "execution_count": 232,
     "metadata": {},
     "output_type": "execute_result"
    }
   ],
   "source": [
    "cb_an_Pg_21_31.Date.dt.month_name().value_counts()"
   ]
  },
  {
   "cell_type": "code",
   "execution_count": 257,
   "metadata": {},
   "outputs": [],
   "source": [
    "# cb_an_Pg_21_31 = pd.read_excel('Corporation Bank - Akshay Nagar - Shashank _Pg 21 - 31 Final.xlsx')\n",
    "\n",
    "if __name__ == \"__main__\":\n",
    "\t  \n",
    "    df =  cb_an_Pg_21_31.copy()\n",
    "\n",
    "    groups = df.groupby(df['Date'].apply(rolling_group),as_index=False)\n",
    "    groupFunct = lambda g: pd.Series([joinFunc(g,col) for col in g.columns],index=g.columns)\n",
    "    fin98=(groups.apply(groupFunct))\n"
   ]
  },
  {
   "cell_type": "code",
   "execution_count": 278,
   "metadata": {},
   "outputs": [],
   "source": [
    "# Applying regular expression to extract the desired data\n",
    "fin98['Ref:'] = [\"\".join(re.findall(r'Ref:\\s*(.*?) ', i)) for i in fin98['Particulars']]\n",
    "fin98['Inst. no.:'] = [\"\".join(re.findall(r'[Ii][Nn][Ss][Tt][.]?\\s*[Nn][Oo][.]?[:]?[\\s]?\\d{4,8}', i)) for i in fin98['Particulars']]\n",
    "fin98['Chq:'] = [\"\".join(re.findall(r'Chq:\\s*(.*?)[A-Za-z]', i)) for i in fin98['Particulars']]\n",
    "fin98['RTGS_UTR No:'] = [\"\".join(re.findall(r'RTGS_UTR No:\\s*(.*?) ', i)) for i in fin98['Particulars']]\n",
    "fin89['RETD :'] = [\"\".join(re.findall(r'[Rr][eE][TtjJ][UuEe][RrCc][NntT][A-Za-z]*', i)) for i in fin89['Particulars']]\n",
    "fin98['UTR :'] = [\"\".join(re.findall(r'UTR(?:^|[: ])\\s*(.*?) ', i)) for i in fin98['Particulars']]\n",
    "fin98['UTR_extn :'] = [\"\".join(re.findall(r'UTR :\\s*(.*?) ', i)) for i in fin98['Particulars']]\n",
    "\n",
    "fin98['Cancelled?'] = fin98.Particulars.str.contains('REJect', flags=re.IGNORECASE, regex=True) | fin98.Particulars.str.contains('RETurn', flags=re.IGNORECASE, regex=True)\n"
   ]
  },
  {
   "cell_type": "code",
   "execution_count": 279,
   "metadata": {},
   "outputs": [],
   "source": [
    "fin98['Names_TO:'] = [\"\".join(re.findall(r\"(/*\\s*[A-Z]{1,20}\\s+[A-Z]*\\s*[A-Z]*\\s*[A-Z]*/*\\s*)\", i)) for i in fin98['Particulars']]\n",
    "fin98['Names_st.'] = [\"\".join(re.findall(r\"(\\s*[A-Z]{1,20}\\s*/?\\s*[A-Z]*\\s*[A-Z]* )\", i)) for i in fin98['Particulars']]\n",
    "fin98['Names/*_/:'] = [\"\".join(re.findall(r\"(/*\\s*[A-Z]{3,20}\\s*/?[A-Z]*\\s*[A-Z]*\\s*[A-Z]*\\s?/*)\", i)) for i in fin98['Particulars']]\n",
    "#(/*[A-Z]{3,20}\\s+[A-Z]{2,20})\n",
    "fin98['Names/$_/:'] = [\"\".join(re.findall(r\"(/*[A-Z]{3,20}\\s+[A-Z]{2,20})\", i)) for i in fin98['Particulars']]\n",
    "fin98['Names/$_/:'] = [\"\".join(re.findall(r\"(/*[A-Z]{3,20}\\s+[A-Z]{2,20})\", i)) for i in fin98['Particulars']]\n",
    "#(/*[A-Z]{3,20}\\s+[A-Z]{2,20}[ ][A-Z]*)\n",
    "fin98['Names/$#_/:'] = [\"\".join(re.findall(r\"(/*[A-Z]{3,20}\\s*[!@#$%^&*()_-]*\\s*[A-Z]{2,20}[ ][A-Z]*)\", i)) for i in fin98['Particulars']]\n",
    "\n",
    "fin98['Final_touch'] = [\"\".join(re.findall(r\"(/*\\s*[A-Z]?[a-z]+\\s*[A-Z]?[a-z]+\\s*[A-Z]?[a-z]*\\s*[A-Z]?[a-z]+\\s*[A-Z]?[a-z]*\\s?/*)\", i)) for i in fin98['Particulars']]"
   ]
  },
  {
   "cell_type": "code",
   "execution_count": 280,
   "metadata": {},
   "outputs": [],
   "source": [
    "fin98.to_excel('Exported_Corporation Bank - Akshay Nagar - Shashank _Pg 21 - 31.xlsx', index = False)"
   ]
  },
  {
   "cell_type": "markdown",
   "metadata": {},
   "source": [
    "### Loading `Karnataka Bank - Chickpet`"
   ]
  },
  {
   "cell_type": "code",
   "execution_count": 215,
   "metadata": {},
   "outputs": [
    {
     "data": {
      "text/html": [
       "<div>\n",
       "<style scoped>\n",
       "    .dataframe tbody tr th:only-of-type {\n",
       "        vertical-align: middle;\n",
       "    }\n",
       "\n",
       "    .dataframe tbody tr th {\n",
       "        vertical-align: top;\n",
       "    }\n",
       "\n",
       "    .dataframe thead th {\n",
       "        text-align: right;\n",
       "    }\n",
       "</style>\n",
       "<table border=\"1\" class=\"dataframe\">\n",
       "  <thead>\n",
       "    <tr style=\"text-align: right;\">\n",
       "      <th></th>\n",
       "      <th>Date</th>\n",
       "      <th>Particulars</th>\n",
       "      <th>Cheque No</th>\n",
       "      <th>Debit</th>\n",
       "      <th>Credits</th>\n",
       "      <th>Balance</th>\n",
       "    </tr>\n",
       "  </thead>\n",
       "  <tbody>\n",
       "    <tr>\n",
       "      <th>0</th>\n",
       "      <td>2018-03-02</td>\n",
       "      <td>By Cash BY CASH</td>\n",
       "      <td>NaN</td>\n",
       "      <td>NaN</td>\n",
       "      <td>5500.0</td>\n",
       "      <td>NaN</td>\n",
       "    </tr>\n",
       "    <tr>\n",
       "      <th>1</th>\n",
       "      <td>2018-03-15</td>\n",
       "      <td>MICR CHQ ISSUE CHARGES</td>\n",
       "      <td>NaN</td>\n",
       "      <td>236.0</td>\n",
       "      <td>NaN</td>\n",
       "      <td>5264.0</td>\n",
       "    </tr>\n",
       "    <tr>\n",
       "      <th>2</th>\n",
       "      <td>2018-03-16</td>\n",
       "      <td>RTGS-A VENUGOPAL/ANDBH18075577193</td>\n",
       "      <td>NaN</td>\n",
       "      <td>NaN</td>\n",
       "      <td>400000.0</td>\n",
       "      <td>405264.0</td>\n",
       "    </tr>\n",
       "    <tr>\n",
       "      <th>3</th>\n",
       "      <td>2018-03-16</td>\n",
       "      <td>103201 VIJAY</td>\n",
       "      <td>NaN</td>\n",
       "      <td>400000.0</td>\n",
       "      <td>NaN</td>\n",
       "      <td>5264.0</td>\n",
       "    </tr>\n",
       "    <tr>\n",
       "      <th>4</th>\n",
       "      <td>2018-03-19</td>\n",
       "      <td>RTGS-A VENUGOPAL/ANDBH18078587478</td>\n",
       "      <td>NaN</td>\n",
       "      <td>450000.0</td>\n",
       "      <td>NaN</td>\n",
       "      <td>455264.0</td>\n",
       "    </tr>\n",
       "  </tbody>\n",
       "</table>\n",
       "</div>"
      ],
      "text/plain": [
       "        Date                        Particulars  Cheque No     Debit   Credits   Balance\n",
       "0 2018-03-02  By Cash BY CASH                   NaN        NaN        5500.0   NaN      \n",
       "1 2018-03-15  MICR CHQ ISSUE CHARGES            NaN         236.0    NaN        5264.0  \n",
       "2 2018-03-16  RTGS-A VENUGOPAL/ANDBH18075577193 NaN        NaN        400000.0  405264.0\n",
       "3 2018-03-16  103201 VIJAY                      NaN         400000.0 NaN        5264.0  \n",
       "4 2018-03-19  RTGS-A VENUGOPAL/ANDBH18078587478 NaN         450000.0 NaN        455264.0"
      ]
     },
     "execution_count": 215,
     "metadata": {},
     "output_type": "execute_result"
    }
   ],
   "source": [
    "kb = pd.read_excel('Karnataka Bank - Chickpet.xlsx')\n",
    "kb.head()"
   ]
  },
  {
   "cell_type": "code",
   "execution_count": 261,
   "metadata": {},
   "outputs": [],
   "source": [
    "if __name__ == \"__main__\":\n",
    "\t  \n",
    "    df =  kb.copy()\n",
    "\n",
    "    groups = df.groupby(df['Date'].apply(rolling_group),as_index=False)\n",
    "    groupFunct = lambda g: pd.Series([joinFunc(g,col) for col in g.columns],index=g.columns)\n",
    "    fin89=(groups.apply(groupFunct))\n"
   ]
  },
  {
   "cell_type": "code",
   "execution_count": 262,
   "metadata": {},
   "outputs": [
    {
     "data": {
      "text/html": [
       "<div>\n",
       "<style scoped>\n",
       "    .dataframe tbody tr th:only-of-type {\n",
       "        vertical-align: middle;\n",
       "    }\n",
       "\n",
       "    .dataframe tbody tr th {\n",
       "        vertical-align: top;\n",
       "    }\n",
       "\n",
       "    .dataframe thead th {\n",
       "        text-align: right;\n",
       "    }\n",
       "</style>\n",
       "<table border=\"1\" class=\"dataframe\">\n",
       "  <thead>\n",
       "    <tr style=\"text-align: right;\">\n",
       "      <th></th>\n",
       "      <th>Date</th>\n",
       "      <th>Particulars</th>\n",
       "      <th>Cheque No</th>\n",
       "      <th>Debit</th>\n",
       "      <th>Credits</th>\n",
       "      <th>Balance</th>\n",
       "    </tr>\n",
       "  </thead>\n",
       "  <tbody>\n",
       "    <tr>\n",
       "      <th>0</th>\n",
       "      <td>2018-03-02 00:00:00</td>\n",
       "      <td>By Cash BY CASH</td>\n",
       "      <td></td>\n",
       "      <td></td>\n",
       "      <td>5500.0</td>\n",
       "      <td></td>\n",
       "    </tr>\n",
       "    <tr>\n",
       "      <th>1</th>\n",
       "      <td>2018-03-15 00:00:00</td>\n",
       "      <td>MICR CHQ ISSUE CHARGES</td>\n",
       "      <td></td>\n",
       "      <td>236.0</td>\n",
       "      <td></td>\n",
       "      <td>5264.0</td>\n",
       "    </tr>\n",
       "    <tr>\n",
       "      <th>2</th>\n",
       "      <td>2018-03-16 00:00:00</td>\n",
       "      <td>RTGS-A VENUGOPAL/ANDBH18075577193</td>\n",
       "      <td></td>\n",
       "      <td></td>\n",
       "      <td>400000.0</td>\n",
       "      <td>405264.0</td>\n",
       "    </tr>\n",
       "    <tr>\n",
       "      <th>3</th>\n",
       "      <td>2018-03-16 00:00:00</td>\n",
       "      <td>103201 VIJAY</td>\n",
       "      <td></td>\n",
       "      <td>400000.0</td>\n",
       "      <td></td>\n",
       "      <td>5264.0</td>\n",
       "    </tr>\n",
       "    <tr>\n",
       "      <th>4</th>\n",
       "      <td>2018-03-19 00:00:00</td>\n",
       "      <td>RTGS-A VENUGOPAL/ANDBH18078587478</td>\n",
       "      <td></td>\n",
       "      <td>450000.0</td>\n",
       "      <td></td>\n",
       "      <td>455264.0</td>\n",
       "    </tr>\n",
       "    <tr>\n",
       "      <th>5</th>\n",
       "      <td>2018-03-19 00:00:00</td>\n",
       "      <td>103202 RTGS-SANZER SOLUTIONS PVT LTD/KARBH18078691011</td>\n",
       "      <td></td>\n",
       "      <td></td>\n",
       "      <td>450000.0</td>\n",
       "      <td>5264.0</td>\n",
       "    </tr>\n",
       "    <tr>\n",
       "      <th>6</th>\n",
       "      <td>2018-03-19 00:00:00</td>\n",
       "      <td>Chrgs for RIGS UTR No.:KARBH18078691011</td>\n",
       "      <td></td>\n",
       "      <td>29.5</td>\n",
       "      <td></td>\n",
       "      <td>5234.5</td>\n",
       "    </tr>\n",
       "    <tr>\n",
       "      <th>7</th>\n",
       "      <td>2018-03-26 00:00:00</td>\n",
       "      <td>INWARD REJECT CHARGES</td>\n",
       "      <td></td>\n",
       "      <td>177.0</td>\n",
       "      <td></td>\n",
       "      <td>5057.5</td>\n",
       "    </tr>\n",
       "    <tr>\n",
       "      <th>8</th>\n",
       "      <td>2018-03-28 00:00:00</td>\n",
       "      <td>INWARD REJECT CHARGES</td>\n",
       "      <td></td>\n",
       "      <td>177.0</td>\n",
       "      <td></td>\n",
       "      <td>4880.5</td>\n",
       "    </tr>\n",
       "    <tr>\n",
       "      <th>9</th>\n",
       "      <td>2018-03-31 00:00:00</td>\n",
       "      <td>LEDGER FOLIO CHARGES</td>\n",
       "      <td></td>\n",
       "      <td>118.0</td>\n",
       "      <td></td>\n",
       "      <td>4762.5</td>\n",
       "    </tr>\n",
       "    <tr>\n",
       "      <th>10</th>\n",
       "      <td>2018-04-03 00:00:00</td>\n",
       "      <td>INWARD REJECT CHARGES</td>\n",
       "      <td></td>\n",
       "      <td>1180.0</td>\n",
       "      <td></td>\n",
       "      <td>3582.5</td>\n",
       "    </tr>\n",
       "    <tr>\n",
       "      <th>11</th>\n",
       "      <td>2018-04-17 00:00:00</td>\n",
       "      <td>INWARD REJECT CHARGES</td>\n",
       "      <td></td>\n",
       "      <td>590.0</td>\n",
       "      <td></td>\n",
       "      <td>2992.5</td>\n",
       "    </tr>\n",
       "    <tr>\n",
       "      <th>12</th>\n",
       "      <td>2018-04-20 00:00:00</td>\n",
       "      <td>INWARD REJECT CHARGES</td>\n",
       "      <td></td>\n",
       "      <td>590.0</td>\n",
       "      <td></td>\n",
       "      <td>2402.5</td>\n",
       "    </tr>\n",
       "    <tr>\n",
       "      <th>13</th>\n",
       "      <td>2018-05-06 00:00:00</td>\n",
       "      <td>Avg Bal chrg From 01-04-2018 To 30-04-2018</td>\n",
       "      <td></td>\n",
       "      <td>236.0</td>\n",
       "      <td></td>\n",
       "      <td>2166.5</td>\n",
       "    </tr>\n",
       "    <tr>\n",
       "      <th>14</th>\n",
       "      <td>2018-05-10 00:00:00</td>\n",
       "      <td>MAHATHRU TECHNOLOGIES</td>\n",
       "      <td></td>\n",
       "      <td></td>\n",
       "      <td>1000000.0</td>\n",
       "      <td>1002166.5</td>\n",
       "    </tr>\n",
       "    <tr>\n",
       "      <th>15</th>\n",
       "      <td>2018-05-10 00:00:00</td>\n",
       "      <td>103237 TO SELF</td>\n",
       "      <td></td>\n",
       "      <td>1000000.0</td>\n",
       "      <td></td>\n",
       "      <td>2166.5</td>\n",
       "    </tr>\n",
       "    <tr>\n",
       "      <th>16</th>\n",
       "      <td>2018-05-11 00:00:00</td>\n",
       "      <td>MAHATHRU TECHNOLOGIES</td>\n",
       "      <td></td>\n",
       "      <td></td>\n",
       "      <td>500000.0</td>\n",
       "      <td>502166.5</td>\n",
       "    </tr>\n",
       "    <tr>\n",
       "      <th>17</th>\n",
       "      <td>2018-05-11 00:00:00</td>\n",
       "      <td>103238 TO SELF</td>\n",
       "      <td></td>\n",
       "      <td>500000.0</td>\n",
       "      <td></td>\n",
       "      <td>2166.5</td>\n",
       "    </tr>\n",
       "    <tr>\n",
       "      <th>18</th>\n",
       "      <td>2018-05-11 00:00:00</td>\n",
       "      <td>INWARD REJECT CHARGES</td>\n",
       "      <td></td>\n",
       "      <td>1180.0</td>\n",
       "      <td></td>\n",
       "      <td>986.5</td>\n",
       "    </tr>\n",
       "    <tr>\n",
       "      <th>19</th>\n",
       "      <td>2018-05-28 00:00:00</td>\n",
       "      <td>IMPS/P2A-814816452428-VIJAY UPADHYAY-9017000702-C</td>\n",
       "      <td></td>\n",
       "      <td></td>\n",
       "      <td>10000.0</td>\n",
       "      <td>10986.5</td>\n",
       "    </tr>\n",
       "    <tr>\n",
       "      <th>20</th>\n",
       "      <td>2018-05-28 00:00:00</td>\n",
       "      <td>STOP PAYMENT CHARGES</td>\n",
       "      <td></td>\n",
       "      <td>1652.0</td>\n",
       "      <td></td>\n",
       "      <td>9334.5</td>\n",
       "    </tr>\n",
       "    <tr>\n",
       "      <th>21</th>\n",
       "      <td>2018-05-29 00:00:00</td>\n",
       "      <td>Chrgs/23-05-2018/I/W RETURN CHARGES DTD 23-05-2</td>\n",
       "      <td></td>\n",
       "      <td>1180.0</td>\n",
       "      <td></td>\n",
       "      <td>8154.5</td>\n",
       "    </tr>\n",
       "    <tr>\n",
       "      <th>22</th>\n",
       "      <td>2018-05-29 00:00:00</td>\n",
       "      <td>Chrgs/22-05-2018/I/W RETURN CHARGES DTD 22-05-2</td>\n",
       "      <td></td>\n",
       "      <td>7080.0</td>\n",
       "      <td></td>\n",
       "      <td>1074.5</td>\n",
       "    </tr>\n",
       "  </tbody>\n",
       "</table>\n",
       "</div>"
      ],
      "text/plain": [
       "                   Date                                            Particulars Cheque No      Debit    Credits    Balance\n",
       "0   2018-03-02 00:00:00  By Cash BY CASH                                                             5500.0              \n",
       "1   2018-03-15 00:00:00  MICR CHQ ISSUE CHARGES                                           236.0                 5264.0   \n",
       "2   2018-03-16 00:00:00  RTGS-A VENUGOPAL/ANDBH18075577193                                           400000.0   405264.0 \n",
       "3   2018-03-16 00:00:00  103201 VIJAY                                                     400000.0              5264.0   \n",
       "4   2018-03-19 00:00:00  RTGS-A VENUGOPAL/ANDBH18078587478                                450000.0              455264.0 \n",
       "5   2018-03-19 00:00:00  103202 RTGS-SANZER SOLUTIONS PVT LTD/KARBH18078691011                       450000.0   5264.0   \n",
       "6   2018-03-19 00:00:00  Chrgs for RIGS UTR No.:KARBH18078691011                          29.5                  5234.5   \n",
       "7   2018-03-26 00:00:00  INWARD REJECT CHARGES                                            177.0                 5057.5   \n",
       "8   2018-03-28 00:00:00  INWARD REJECT CHARGES                                            177.0                 4880.5   \n",
       "9   2018-03-31 00:00:00  LEDGER FOLIO CHARGES                                             118.0                 4762.5   \n",
       "10  2018-04-03 00:00:00  INWARD REJECT CHARGES                                            1180.0                3582.5   \n",
       "11  2018-04-17 00:00:00  INWARD REJECT CHARGES                                            590.0                 2992.5   \n",
       "12  2018-04-20 00:00:00  INWARD REJECT CHARGES                                            590.0                 2402.5   \n",
       "13  2018-05-06 00:00:00  Avg Bal chrg From 01-04-2018 To 30-04-2018                       236.0                 2166.5   \n",
       "14  2018-05-10 00:00:00  MAHATHRU TECHNOLOGIES                                                       1000000.0  1002166.5\n",
       "15  2018-05-10 00:00:00  103237 TO SELF                                                   1000000.0             2166.5   \n",
       "16  2018-05-11 00:00:00  MAHATHRU TECHNOLOGIES                                                       500000.0   502166.5 \n",
       "17  2018-05-11 00:00:00  103238 TO SELF                                                   500000.0              2166.5   \n",
       "18  2018-05-11 00:00:00  INWARD REJECT CHARGES                                            1180.0                986.5    \n",
       "19  2018-05-28 00:00:00  IMPS/P2A-814816452428-VIJAY UPADHYAY-9017000702-C                           10000.0    10986.5  \n",
       "20  2018-05-28 00:00:00  STOP PAYMENT CHARGES                                             1652.0                9334.5   \n",
       "21  2018-05-29 00:00:00  Chrgs/23-05-2018/I/W RETURN CHARGES DTD 23-05-2                  1180.0                8154.5   \n",
       "22  2018-05-29 00:00:00  Chrgs/22-05-2018/I/W RETURN CHARGES DTD 22-05-2                  7080.0                1074.5   "
      ]
     },
     "execution_count": 262,
     "metadata": {},
     "output_type": "execute_result"
    }
   ],
   "source": [
    "fin89"
   ]
  },
  {
   "cell_type": "code",
   "execution_count": 283,
   "metadata": {},
   "outputs": [],
   "source": [
    "# Applying regular expression to extract the desired data\n",
    "fin89['Ref:'] = [\"\".join(re.findall(r'Ref:\\s*(.*?) ', i)) for i in fin89['Particulars']]\n",
    "fin89['Inst. no.:'] = [\"\".join(re.findall(r'[Ii][Nn][Ss][Tt][.]?\\s*[Nn][Oo][.]?[:]?[\\s]?\\d{4,8}', i)) for i in fin89['Particulars']]\n",
    "fin89['Chq:'] = [\"\".join(re.findall(r'Chq:\\s*(.*?)[A-Za-z]', i)) for i in fin89['Particulars']]\n",
    "fin89['RTGS_UTR No:'] = [\"\".join(re.findall(r'RTGS_UTR No:\\s*(.*?) ', i)) for i in fin89['Particulars']]\n",
    "fin89['RETD :'] = [\"\".join(re.findall(r'[Rr][eE][TtjJ][UuEe][RrCc][NntT][A-Za-z]*', i)) for i in fin89['Particulars']]\n",
    "fin89['UTR :'] = [\"\".join(re.findall(r'UTR(?:^|[: ])\\s*(.*?) ', i)) for i in fin89['Particulars']]\n",
    "fin89['UTR_extn :'] = [\"\".join(re.findall(r'UTR :\\s*(.*?) ', i)) for i in fin89['Particulars']]\n",
    "# [\\n\\r][ \\t]*Object Name:[ \\t]*([^\\n\\r]*)\n",
    "fin89['Cancelled?'] = fin89.Particulars.str.contains('REJect', flags=re.IGNORECASE, regex=True) | fin89.Particulars.str.contains('RETurn', flags=re.IGNORECASE, regex=True)\n"
   ]
  },
  {
   "cell_type": "code",
   "execution_count": 284,
   "metadata": {},
   "outputs": [],
   "source": [
    "fin89['Names_TO:'] = [\"\".join(re.findall(r\"(/*\\s*[A-Z]{1,20}\\s+[A-Z]*\\s*[A-Z]*\\s*[A-Z]*/*\\s*)\", i)) for i in fin89['Particulars']]\n",
    "fin89['Names_st.'] = [\"\".join(re.findall(r\"(\\s*[A-Z]{1,20}\\s*/?\\s*[A-Z]*\\s*[A-Z]* )\", i)) for i in fin89['Particulars']]\n",
    "fin89['Names/*_/:'] = [\"\".join(re.findall(r\"(/*\\s*[A-Z]{3,20}\\s*/?[A-Z]*\\s*[A-Z]*\\s*[A-Z]*\\s?/*)\", i)) for i in fin89['Particulars']]\n",
    "#(/*[A-Z]{3,20}\\s+[A-Z]{2,20})\n",
    "fin89['Names/$_/:'] = [\"\".join(re.findall(r\"(/*[A-Z]{3,20}\\s+[A-Z]{2,20})\", i)) for i in fin89['Particulars']]\n",
    "fin89['Names/$_/:'] = [\"\".join(re.findall(r\"(/*[A-Z]{3,20}\\s+[A-Z]{2,20})\", i)) for i in fin89['Particulars']]\n",
    "#(/*[A-Z]{3,20}\\s+[A-Z]{2,20}[ ][A-Z]*)\n",
    "fin89['Names/$#_/:'] = [\"\".join(re.findall(r\"(/*[A-Z]{3,20}\\s*[!@#$%^&*()_-]*\\s*[A-Z]{2,20}[ ][A-Z]*)\", i)) for i in fin89['Particulars']]\n",
    "\n",
    "fin89['Final_touch'] = [\"\".join(re.findall(r\"(/*\\s*[A-Z]?[a-z]+\\s*[A-Z]?[a-z]+\\s*[A-Z]?[a-z]*\\s*[A-Z]?[a-z]+\\s*[A-Z]?[a-z]*\\s?/*)\", i)) for i in fin89['Particulars']]"
   ]
  },
  {
   "cell_type": "code",
   "execution_count": 285,
   "metadata": {},
   "outputs": [],
   "source": [
    "fin89.to_excel('Export_Karnataka_Bank.xlsx', index = False)"
   ]
  },
  {
   "cell_type": "code",
   "execution_count": null,
   "metadata": {},
   "outputs": [],
   "source": []
  },
  {
   "cell_type": "code",
   "execution_count": null,
   "metadata": {},
   "outputs": [],
   "source": []
  },
  {
   "cell_type": "code",
   "execution_count": null,
   "metadata": {},
   "outputs": [],
   "source": []
  },
  {
   "cell_type": "code",
   "execution_count": null,
   "metadata": {},
   "outputs": [],
   "source": []
  },
  {
   "cell_type": "code",
   "execution_count": null,
   "metadata": {},
   "outputs": [],
   "source": []
  },
  {
   "cell_type": "code",
   "execution_count": 1,
   "metadata": {},
   "outputs": [],
   "source": [
    "# PART-2"
   ]
  },
  {
   "cell_type": "code",
   "execution_count": null,
   "metadata": {},
   "outputs": [],
   "source": [
    "# df = pd.DataFrame()\n",
    "# for file_ in all_files:\n",
    "#     file_df = pd.read_csv(file_,sep=';', parse_dates=[0], infer_datetime_format=True,header=None )\n",
    "#     file_df['file_name'] = file_\n",
    "#     df = df.append(file_df)"
   ]
  },
  {
   "cell_type": "code",
   "execution_count": 1,
   "metadata": {},
   "outputs": [
    {
     "name": "stdout",
     "output_type": "stream",
     "text": [
      "C:\\Users\\pushkar\\Downloads\\Bank Statements - 11.06.2020(1)\\Bank Statements - 11.06.2020\n"
     ]
    }
   ],
   "source": [
    "cd C:\\Users\\pushkar\\Downloads\\Bank Statements - 11.06.2020(1)\\Bank Statements - 11.06.2020"
   ]
  },
  {
   "cell_type": "code",
   "execution_count": 8,
   "metadata": {},
   "outputs": [],
   "source": [
    "import glob\n",
    "import pandas as pd"
   ]
  },
  {
   "cell_type": "code",
   "execution_count": 31,
   "metadata": {},
   "outputs": [
    {
     "data": {
      "text/plain": [
       "['Exported_Corporation Bank - Akshay Nagar - Shashank _Pg 01 -20 Final_V1.xlsx',\n",
       " 'Exported_Corporation Bank - Akshay Nagar - Shashank _Pg 21 - 31_V1.xlsx',\n",
       " 'Exported_Corporation Bank - Akshay Nagar 1_13_14_V1.xlsx',\n",
       " 'Exported_Corporation Bank - Akshay Nagar 1_14_15.xlsx',\n",
       " 'Exported_Corporation Bank - Akshay Nagar 1_15_16_V1.xlsx',\n",
       " 'Exported_Corporation Bank - Akshay Nagar 1_16_17_V1.xlsx',\n",
       " 'Exported_Corporation Bank - Akshay Nagar 1_18_18_V1.xlsx',\n",
       " 'Exported_Corporation Bank - Chandpura Circle- Bank statement14-15_V1.xlsx',\n",
       " 'Exported_Corporation Bank - Chandpura Circle- Bank statement16_17_V1.xlsx',\n",
       " 'Exported_Corporation Bank - Chandpura Circle- Bank statement17_18_V1.xlsx',\n",
       " 'Exported_Corporation Bank - Chandpura Circle- Bank statement_15_16_V1.xlsx',\n",
       " 'Exported_Corporation Bank - Chandpura Circle- Bank statement_18_18_V1.xlsx',\n",
       " 'Export_Karnataka_Bank_V1.xlsx']"
      ]
     },
     "execution_count": 31,
     "metadata": {},
     "output_type": "execute_result"
    }
   ],
   "source": [
    "files = glob.glob(\"*.xlsx\")\n",
    "files"
   ]
  },
  {
   "cell_type": "code",
   "execution_count": 32,
   "metadata": {},
   "outputs": [
    {
     "data": {
      "text/html": [
       "<div>\n",
       "<style scoped>\n",
       "    .dataframe tbody tr th:only-of-type {\n",
       "        vertical-align: middle;\n",
       "    }\n",
       "\n",
       "    .dataframe tbody tr th {\n",
       "        vertical-align: top;\n",
       "    }\n",
       "\n",
       "    .dataframe thead th {\n",
       "        text-align: right;\n",
       "    }\n",
       "</style>\n",
       "<table border=\"1\" class=\"dataframe\">\n",
       "  <thead>\n",
       "    <tr style=\"text-align: right;\">\n",
       "      <th></th>\n",
       "      <th>Date</th>\n",
       "      <th>Particulars</th>\n",
       "      <th>Cheque No</th>\n",
       "      <th>Debit</th>\n",
       "      <th>Credits</th>\n",
       "      <th>Balance</th>\n",
       "      <th>Names</th>\n",
       "      <th>RETD :</th>\n",
       "      <th>Cancelled?</th>\n",
       "      <th>Chq_No</th>\n",
       "      <th>New</th>\n",
       "    </tr>\n",
       "  </thead>\n",
       "  <tbody>\n",
       "    <tr>\n",
       "      <th>0</th>\n",
       "      <td>2017-04-21 00:00:00</td>\n",
       "      <td>Balance transfer</td>\n",
       "      <td>S327497/</td>\n",
       "      <td>NaN</td>\n",
       "      <td>5760.45</td>\n",
       "      <td>5760.45</td>\n",
       "      <td>Unknown</td>\n",
       "      <td>NaN</td>\n",
       "      <td>0.0</td>\n",
       "      <td>NaN</td>\n",
       "      <td>Exported_Corporation Bank - Akshay Nagar - Sha...</td>\n",
       "    </tr>\n",
       "    <tr>\n",
       "      <th>1</th>\n",
       "      <td>2017-04-27 00:00:00</td>\n",
       "      <td>CA chq issue charge</td>\n",
       "      <td>S311902/</td>\n",
       "      <td>400</td>\n",
       "      <td>NaN</td>\n",
       "      <td>5360.45</td>\n",
       "      <td>Charges</td>\n",
       "      <td>NaN</td>\n",
       "      <td>0.0</td>\n",
       "      <td>NaN</td>\n",
       "      <td>Exported_Corporation Bank - Akshay Nagar - Sha...</td>\n",
       "    </tr>\n",
       "    <tr>\n",
       "      <th>2</th>\n",
       "      <td>2017-04-27 00:00:00</td>\n",
       "      <td>Service tax</td>\n",
       "      <td>S311902/</td>\n",
       "      <td>60</td>\n",
       "      <td>NaN</td>\n",
       "      <td>5300.45</td>\n",
       "      <td>Charges</td>\n",
       "      <td>NaN</td>\n",
       "      <td>0.0</td>\n",
       "      <td>NaN</td>\n",
       "      <td>Exported_Corporation Bank - Akshay Nagar - Sha...</td>\n",
       "    </tr>\n",
       "    <tr>\n",
       "      <th>3</th>\n",
       "      <td>2017-04-27 00:00:00</td>\n",
       "      <td>CA chq issue charge</td>\n",
       "      <td>S318246/</td>\n",
       "      <td>400</td>\n",
       "      <td>NaN</td>\n",
       "      <td>4900.45</td>\n",
       "      <td>Charges</td>\n",
       "      <td>NaN</td>\n",
       "      <td>0.0</td>\n",
       "      <td>NaN</td>\n",
       "      <td>Exported_Corporation Bank - Akshay Nagar - Sha...</td>\n",
       "    </tr>\n",
       "    <tr>\n",
       "      <th>4</th>\n",
       "      <td>2017-04-27 00:00:00</td>\n",
       "      <td>Service tax</td>\n",
       "      <td>S318246/</td>\n",
       "      <td>60</td>\n",
       "      <td>NaN</td>\n",
       "      <td>4840.45</td>\n",
       "      <td>Charges</td>\n",
       "      <td>NaN</td>\n",
       "      <td>0.0</td>\n",
       "      <td>NaN</td>\n",
       "      <td>Exported_Corporation Bank - Akshay Nagar - Sha...</td>\n",
       "    </tr>\n",
       "    <tr>\n",
       "      <th>...</th>\n",
       "      <td>...</td>\n",
       "      <td>...</td>\n",
       "      <td>...</td>\n",
       "      <td>...</td>\n",
       "      <td>...</td>\n",
       "      <td>...</td>\n",
       "      <td>...</td>\n",
       "      <td>...</td>\n",
       "      <td>...</td>\n",
       "      <td>...</td>\n",
       "      <td>...</td>\n",
       "    </tr>\n",
       "    <tr>\n",
       "      <th>18</th>\n",
       "      <td>2018-05-11 00:00:00</td>\n",
       "      <td>INWARD REJECT CHARGES</td>\n",
       "      <td>NaN</td>\n",
       "      <td>1180</td>\n",
       "      <td>NaN</td>\n",
       "      <td>986.5</td>\n",
       "      <td>Charges</td>\n",
       "      <td>REJECT</td>\n",
       "      <td>1.0</td>\n",
       "      <td>,,,,,</td>\n",
       "      <td>Export_Karnataka_Bank_V1</td>\n",
       "    </tr>\n",
       "    <tr>\n",
       "      <th>19</th>\n",
       "      <td>2018-05-28 00:00:00</td>\n",
       "      <td>IMPS/P2A-814816452428-VIJAY UPADHYAY-9017000702-C</td>\n",
       "      <td>NaN</td>\n",
       "      <td>NaN</td>\n",
       "      <td>10000</td>\n",
       "      <td>10986.5</td>\n",
       "      <td>Vijay Upadhyay</td>\n",
       "      <td>NaN</td>\n",
       "      <td>0.0</td>\n",
       "      <td>,,,,,</td>\n",
       "      <td>Export_Karnataka_Bank_V1</td>\n",
       "    </tr>\n",
       "    <tr>\n",
       "      <th>20</th>\n",
       "      <td>2018-05-28 00:00:00</td>\n",
       "      <td>STOP PAYMENT CHARGES</td>\n",
       "      <td>NaN</td>\n",
       "      <td>1652</td>\n",
       "      <td>NaN</td>\n",
       "      <td>9334.5</td>\n",
       "      <td>Charges</td>\n",
       "      <td>NaN</td>\n",
       "      <td>0.0</td>\n",
       "      <td>,,,,,</td>\n",
       "      <td>Export_Karnataka_Bank_V1</td>\n",
       "    </tr>\n",
       "    <tr>\n",
       "      <th>21</th>\n",
       "      <td>2018-05-29 00:00:00</td>\n",
       "      <td>Chrgs/23-05-2018/I/W RETURN CHARGES DTD 23-05-2</td>\n",
       "      <td>NaN</td>\n",
       "      <td>1180</td>\n",
       "      <td>NaN</td>\n",
       "      <td>8154.5</td>\n",
       "      <td>Charges</td>\n",
       "      <td>RETURN</td>\n",
       "      <td>1.0</td>\n",
       "      <td>,,,,,</td>\n",
       "      <td>Export_Karnataka_Bank_V1</td>\n",
       "    </tr>\n",
       "    <tr>\n",
       "      <th>22</th>\n",
       "      <td>2018-05-29 00:00:00</td>\n",
       "      <td>Chrgs/22-05-2018/I/W RETURN CHARGES DTD 22-05-2</td>\n",
       "      <td>NaN</td>\n",
       "      <td>7080</td>\n",
       "      <td>NaN</td>\n",
       "      <td>1074.5</td>\n",
       "      <td>Charges</td>\n",
       "      <td>RETURN</td>\n",
       "      <td>1.0</td>\n",
       "      <td>,,,,,</td>\n",
       "      <td>Export_Karnataka_Bank_V1</td>\n",
       "    </tr>\n",
       "  </tbody>\n",
       "</table>\n",
       "<p>3383 rows × 11 columns</p>\n",
       "</div>"
      ],
      "text/plain": [
       "                   Date                                        Particulars  \\\n",
       "0   2017-04-21 00:00:00                                   Balance transfer   \n",
       "1   2017-04-27 00:00:00                                CA chq issue charge   \n",
       "2   2017-04-27 00:00:00                                        Service tax   \n",
       "3   2017-04-27 00:00:00                                CA chq issue charge   \n",
       "4   2017-04-27 00:00:00                                        Service tax   \n",
       "..                  ...                                                ...   \n",
       "18  2018-05-11 00:00:00                              INWARD REJECT CHARGES   \n",
       "19  2018-05-28 00:00:00  IMPS/P2A-814816452428-VIJAY UPADHYAY-9017000702-C   \n",
       "20  2018-05-28 00:00:00                               STOP PAYMENT CHARGES   \n",
       "21  2018-05-29 00:00:00    Chrgs/23-05-2018/I/W RETURN CHARGES DTD 23-05-2   \n",
       "22  2018-05-29 00:00:00    Chrgs/22-05-2018/I/W RETURN CHARGES DTD 22-05-2   \n",
       "\n",
       "   Cheque No Debit  Credits  Balance           Names  RETD :  Cancelled?  \\\n",
       "0   S327497/   NaN  5760.45  5760.45         Unknown     NaN         0.0   \n",
       "1   S311902/   400      NaN  5360.45         Charges     NaN         0.0   \n",
       "2   S311902/    60      NaN  5300.45         Charges     NaN         0.0   \n",
       "3   S318246/   400      NaN  4900.45         Charges     NaN         0.0   \n",
       "4   S318246/    60      NaN  4840.45         Charges     NaN         0.0   \n",
       "..       ...   ...      ...      ...             ...     ...         ...   \n",
       "18       NaN  1180      NaN    986.5         Charges  REJECT         1.0   \n",
       "19       NaN   NaN    10000  10986.5  Vijay Upadhyay     NaN         0.0   \n",
       "20       NaN  1652      NaN   9334.5         Charges     NaN         0.0   \n",
       "21       NaN  1180      NaN   8154.5         Charges  RETURN         1.0   \n",
       "22       NaN  7080      NaN   1074.5         Charges  RETURN         1.0   \n",
       "\n",
       "   Chq_No                                                New  \n",
       "0     NaN  Exported_Corporation Bank - Akshay Nagar - Sha...  \n",
       "1     NaN  Exported_Corporation Bank - Akshay Nagar - Sha...  \n",
       "2     NaN  Exported_Corporation Bank - Akshay Nagar - Sha...  \n",
       "3     NaN  Exported_Corporation Bank - Akshay Nagar - Sha...  \n",
       "4     NaN  Exported_Corporation Bank - Akshay Nagar - Sha...  \n",
       "..    ...                                                ...  \n",
       "18  ,,,,,                           Export_Karnataka_Bank_V1  \n",
       "19  ,,,,,                           Export_Karnataka_Bank_V1  \n",
       "20  ,,,,,                           Export_Karnataka_Bank_V1  \n",
       "21  ,,,,,                           Export_Karnataka_Bank_V1  \n",
       "22  ,,,,,                           Export_Karnataka_Bank_V1  \n",
       "\n",
       "[3383 rows x 11 columns]"
      ]
     },
     "execution_count": 32,
     "metadata": {},
     "output_type": "execute_result"
    }
   ],
   "source": [
    "df = pd.concat([pd.read_excel(fp).assign(New=os.path.basename(fp).split('.')[0]) for fp in files])\n",
    "df"
   ]
  },
  {
   "cell_type": "code",
   "execution_count": 33,
   "metadata": {},
   "outputs": [],
   "source": [
    "df.to_excel('Final_consolidated_sheet.xlsx', index = False)"
   ]
  },
  {
   "cell_type": "code",
   "execution_count": 3,
   "metadata": {},
   "outputs": [
    {
     "name": "stdout",
     "output_type": "stream",
     "text": [
      "10 is my name\n"
     ]
    }
   ],
   "source": [
    "x=10\n",
    "print(f'{x} is my name'.format(x))"
   ]
  },
  {
   "cell_type": "code",
   "execution_count": 4,
   "metadata": {},
   "outputs": [
    {
     "name": "stdout",
     "output_type": "stream",
     "text": [
      "[0]\n",
      "[0, 1]\n",
      "[0, 1, 2]\n",
      "[0, 1, 2, 3]\n",
      "[0, 1, 2, 3, 4]\n",
      "[0, 1, 2, 3, 4, 5]\n",
      "[0, 1, 2, 3, 4, 5, 6]\n",
      "[0, 1, 2, 3, 4, 5, 6, 7]\n"
     ]
    }
   ],
   "source": [
    "pp = []\n",
    "for i in range(8):\n",
    "\t pp.append(i)\n",
    "\t print(pp)"
   ]
  },
  {
   "cell_type": "code",
   "execution_count": 8,
   "metadata": {},
   "outputs": [
    {
     "name": "stdout",
     "output_type": "stream",
     "text": [
      "[8, 7, 86]\n"
     ]
    }
   ],
   "source": [
    "a = [9,8,7,86,9]\n",
    "b=[9,1]\n",
    "\n",
    "for i in b:\n",
    "\t for j in a:\n",
    "\t\t  if i == j:\n",
    "\t\t\t   a.remove(i)\n",
    "print(a)\n",
    "\t "
   ]
  },
  {
   "cell_type": "code",
   "execution_count": null,
   "metadata": {},
   "outputs": [],
   "source": []
  }
 ],
 "metadata": {
  "kernelspec": {
   "display_name": "Python 3",
   "language": "python",
   "name": "python3"
  },
  "language_info": {
   "codemirror_mode": {
    "name": "ipython",
    "version": 3
   },
   "file_extension": ".py",
   "mimetype": "text/x-python",
   "name": "python",
   "nbconvert_exporter": "python",
   "pygments_lexer": "ipython3",
   "version": "3.7.6"
  }
 },
 "nbformat": 4,
 "nbformat_minor": 4
}
