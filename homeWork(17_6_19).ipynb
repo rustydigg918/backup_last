{
 "cells": [
  {
   "cell_type": "code",
   "execution_count": 16,
   "metadata": {},
   "outputs": [
    {
     "name": "stdout",
     "output_type": "stream",
     "text": [
      "1000\n",
      "6 6\n"
     ]
    }
   ],
   "source": [
    "#Product of three values\n",
    "x=0\n",
    "y=0\n",
    "x =5\n",
    "y =10\n",
    "z =20\n",
    "print (x*y*z)\n",
    "\n"
   ]
  },
  {
   "cell_type": "code",
   "execution_count": null,
   "metadata": {},
   "outputs": [],
   "source": [
    "#swapping the value in two variables without using third variable\n",
    "x=5\n",
    "y=6\n",
    "x=x+y \n",
    "y=x-y\n",
    "x=x-y\n",
    "print ('x=',x, 'y=',y)\n",
    "\n",
    "#swapping the value in two variables using the third variable\n",
    "x=50\n",
    "y=60\n",
    "c=x+y\n",
    "x=c-x\n",
    "y=c-y\n",
    "print('x=',x, 'y=',y)\n",
    "\n",
    "#swappig the values using classical PYTHON way\n",
    "\n",
    "x=5000\n",
    "y=6000\n",
    "x,y =y,x\n",
    "print('x=',x, 'y=',y)\n",
    "\n",
    "\n",
    "\n",
    "\n"
   ]
  },
  {
   "cell_type": "code",
   "execution_count": null,
   "metadata": {},
   "outputs": [],
   "source": [
    "# Take input of length and breadth of a rectangle from user and print area of it.\n",
    "length = float(input('Please Enter the length of a Rectangle: '))\n",
    "breadth = float(input('Please Enter the breadth of a Rectangle: '))\n",
    "# calculate the area\n",
    "Area = length * breadth\n",
    "print (Area)\n",
    "\n",
    "#Another way\n",
    "\n",
    "print (\"Enter Length :\")\n",
    "length= input()\n",
    "print (\"Enter Breadth :\")\n",
    "breadth= input()\n",
    "print (int(float(length))*(float(breadth)))"
   ]
  },
  {
   "cell_type": "code",
   "execution_count": null,
   "metadata": {},
   "outputs": [],
   "source": [
    "# Take side of a square from user and print area and perimeter of it.\n",
    "\n",
    "print (\"Enter the side of the Square:\")\n",
    "side= input()\n",
    "area= (int(float(side))*(float(side)))\n",
    "perimeter= (int(float(side))*4)\n",
    "print ('Area of the Square is:',area)\n",
    "print ('Perimeter of the Square is:',perimeter)"
   ]
  },
  {
   "cell_type": "code",
   "execution_count": null,
   "metadata": {},
   "outputs": [],
   "source": [
    "#Take name, roll number and filed of interest from user and print in the format below :\n",
    "#Hey, my name is xyz and my roll number is xyz. My field of interest are xyz.\n",
    "\n",
    "name= input('Please Enter Your Name: ')\n",
    "roll_number= input('Please Enter Your Roll Number: ')\n",
    "filed_of_interest= input('Please Enter Your Filed of Interest: ')\n",
    "print ( 'Hey, my name is',name , 'and my roll number is', roll_number,'.' ,'My field of interest are', filed_of_interest)"
   ]
  },
  {
   "cell_type": "code",
   "execution_count": null,
   "metadata": {},
   "outputs": [],
   "source": [
    "# Write a program to find square of a number.\n",
    "\n",
    "number= input()\n",
    "square= int((float(number))*(float(number)))\n",
    "print('The square of the number is:', square )"
   ]
  },
  {
   "cell_type": "code",
   "execution_count": null,
   "metadata": {},
   "outputs": [],
   "source": [
    "# Take two different string input and print them in same line. \n",
    "string1= 'Mohan Das Karamchand'\n",
    "string2= 'Gandhi'\n",
    "print (string1,string2)\n",
    "string= string1+string2\n",
    "print (string)"
   ]
  },
  {
   "cell_type": "code",
   "execution_count": null,
   "metadata": {},
   "outputs": [],
   "source": [
    "# Take two inputs from user and check whether they are equal or not.\n",
    "first_num = input('Please enter your first number: ')\n",
    "second_num = input('Please enter the second number: ')\n",
    "print(first_num==second_num)"
   ]
  },
  {
   "cell_type": "code",
   "execution_count": null,
   "metadata": {},
   "outputs": [],
   "source": [
    "#Take 3 inputs from user and check :\n",
    "#( use and or )\n",
    "\n",
    "#all are equal\n",
    "first_num = input(\"Enter you first num: \")\n",
    "second_num = input(\"Enter you second num: \")\n",
    "third_num = input(\"Enter you third num: \")\n",
    "print(first_num==second_num and second_num==third_num and third_num==first_num)\n",
    "\n",
    "#any of two are equal\n",
    "fir_num = input(\"Enter you fir num: \")\n",
    "sec_num = input(\"Enter you sec num: \")\n",
    "thir_num = input(\"Enter you thir num: \")\n",
    "print(fir_num==sec_num or sec_num==thir_num or thir_num==fir_num)"
   ]
  },
  {
   "cell_type": "code",
   "execution_count": null,
   "metadata": {},
   "outputs": [],
   "source": [
    "# Take two number and check whether the sum is greater than 5, less than 5 or equal to 5.\n",
    "\n",
    "digit1 = int(input('Enter the first digit'))\n",
    "digit2 = int(input('Enter the second digit'))\n",
    "sum= digit1 + digit2\n",
    "print(sum >5, 'Sum is greater than 5')\n",
    "print(sum <5, 'Sum is less than 5')\n",
    "print(sum ==5, 'Sum is equal to 5')"
   ]
  },
  {
   "cell_type": "code",
   "execution_count": null,
   "metadata": {},
   "outputs": [],
   "source": [
    "# Suppose passing marks of a subject is 35. Take input of marks from user and check \n",
    "# whether it is greater than passing marks or not.\n",
    "\n",
    "marks =float(input('Please enter your marks: '))\n",
    "print (marks > 35, \"......Marks is greater than pass marks???\", 'Pass marks = 35')\n"
   ]
  },
  {
   "cell_type": "code",
   "execution_count": null,
   "metadata": {},
   "outputs": [],
   "source": [
    "# Take values of length and breadth of a rectangle from user and check if it is square or not.\n",
    "\n",
    "length = float(input('Please enter the length'))\n",
    "width = float(input('Please enter the width'))\n",
    "print ('It is a Square: ', length==width)"
   ]
  },
  {
   "cell_type": "code",
   "execution_count": null,
   "metadata": {},
   "outputs": [],
   "source": [
    "# Take values of length and breadth of a rectangle from user and check if it is square or not.\n",
    "\n",
    "length = float(input('Please enter the length'))\n",
    "width = float(input('Please enter the width'))\n",
    "if(length==width):\n",
    "    print ('It is a Square')\n",
    "else:\n",
    "    print ('It is not a square')"
   ]
  },
  {
   "cell_type": "code",
   "execution_count": null,
   "metadata": {},
   "outputs": [],
   "source": [
    "# Take two int values from user and print greatest among them.\n",
    "\n",
    "# Take two int values from user and print greatest among them.\n",
    "\n",
    "val1 = float(input('Provide the first Value:'))\n",
    "val2 = float(input('Provide the second Value:'))\n",
    "if(val1>val2):\n",
    "    print('Val1' ,'is greatest')\n",
    "else:\n",
    "    print('val2', 'is greatest')"
   ]
  },
  {
   "cell_type": "code",
   "execution_count": null,
   "metadata": {},
   "outputs": [],
   "source": [
    "# A shop will give discount of 10% if the cost of purchased quantity is more than 1000.\n",
    "#Ask user for quantity\n",
    "#Suppose, one unit will cost 100.\n",
    "#Judge and print total cost for user.\n",
    "\n",
    "quantity = int(input('Enter the number of quantity:'))\n",
    "total_price = (quantity *100)\n",
    "if(total_price > 1000):\n",
    "    print (total_price-((quantity*100)*.10))\n",
    "else:\n",
    "    print(total_price)\n",
    "\n"
   ]
  },
  {
   "cell_type": "code",
   "execution_count": null,
   "metadata": {},
   "outputs": [],
   "source": [
    "# A school has following rules for grading system:\n",
    "#a. Below 25 - F\n",
    "#b. 25 to 45 - E\n",
    "#c. 45 to 50 - D\n",
    "#d. 50 to 60 - C\n",
    "#e. 60 to 80 - B\n",
    "#f. Above 80 - A\n",
    "\n",
    "marks = int(input(\"Enter Your marks: \"))\n",
    "if(marks < 25):\n",
    "    print('You have secured grade F')\n",
    "elif(25 < marks < 45):\n",
    "    print('You have Secured grade E')\n",
    "elif(45 < marks < 50):\n",
    "    print('You have Secured grade D')\n",
    "elif(50 < marks < 60):\n",
    "    print('You have Secured grade C')\n",
    "elif(60 < marks < 80):\n",
    "    print('You have Secured grade B')\n",
    "elif(80 < marks):\n",
    "    print('You have Secured grade A') "
   ]
  },
  {
   "cell_type": "code",
   "execution_count": null,
   "metadata": {},
   "outputs": [],
   "source": [
    "# Take input of age of 3 people by user and determine oldest and youngest among them.\n",
    "people1 = float(input('Enter first person age'))\n",
    "people2 = float(input('Enter second person age'))\n",
    "people3 = float(input('Enter third person age'))\n",
    "\n",
    "if(people1 > people2 and people1 > people3):\n",
    "    print('Person_1 age is greatest')\n",
    "elif(people2 > people1 and people2 > people3):\n",
    "    print('Person_2 age is greatest')\n",
    "else:\n",
    "    print('Person_3 age is greatest')"
   ]
  },
  {
   "cell_type": "code",
   "execution_count": null,
   "metadata": {},
   "outputs": [],
   "source": [
    "# Write a program to print absolute value of a number entered by user\n",
    "number = int(input('Number : '))\n",
    "if(number < 0):\n",
    "    print(number * (-1))\n",
    "else:\n",
    "    print(number)\n",
    "    \n",
    "          "
   ]
  },
  {
   "cell_type": "code",
   "execution_count": null,
   "metadata": {},
   "outputs": [],
   "source": [
    "# A student will not be allowed to sit in exam if his/her attendence is less than 75%.\n",
    "#Take following input from user\n",
    "#Number of classes held\n",
    "#Number of classes attended.\n",
    "#And print\n",
    "#percentage of class attended\n",
    "#Is student is allowed to sit in exam or not.\n",
    "\n",
    "NOC= int(input('Total Number of Classes Held: '))\n",
    "NOA= int(input('Total Number of Classes attended: '))\n",
    "POCA = int((NOA/NOC)*100)\n",
    "print(POCA)\n",
    "if(POCA > 75):\n",
    "    print('You are allowed to sit in the exams.')\n",
    "else:\n",
    "    print('You are barred to appear in the exam.')"
   ]
  },
  {
   "cell_type": "code",
   "execution_count": null,
   "metadata": {},
   "outputs": [],
   "source": [
    "#Modify the above question to allow student to sit if he/she has medical cause. \n",
    "#Ask user if he/she has medical cause or not ( 'Y' or 'N' ) and print accordingly.\n",
    "\n",
    "medical_cause = input('Enter either Y or N : ')\n",
    "if(medical_cause == 'Y'):\n",
    "    print('You are allowed')\n",
    "else:\n",
    "    marks= int(input('Enter the marks: '))\n",
    "    if(marks > 75):\n",
    "        print('You are allowed')\n",
    "    else:\n",
    "        print('You are not allowed')\n"
   ]
  },
  {
   "cell_type": "code",
   "execution_count": 1,
   "metadata": {},
   "outputs": [
    {
     "name": "stdout",
     "output_type": "stream",
     "text": [
      "Enter the Number: 50\n",
      "Enter the Number: 10\n",
      "Enter the Number: 10\n",
      "Enter the Number: 10\n",
      "Enter the Number: 10\n",
      "Enter the Number: 25\n",
      "Enter the Number: 15\n",
      "Enter the Number: 20\n",
      "Enter the Number: 20\n",
      "Enter the Number: 30\n",
      "20.0\n"
     ]
    }
   ],
   "source": [
    "# Take 10 integers from keyboard using loop and print their average value on the screen.\n",
    "\n",
    "sum = 0\n",
    "i = 10\n",
    "while i>0:\n",
    "    num = int(input('Enter the Number: '))\n",
    "    sum= num+sum\n",
    "    i=i-1\n",
    "print(sum/10)    \n",
    "\n"
   ]
  },
  {
   "cell_type": "code",
   "execution_count": null,
   "metadata": {},
   "outputs": [],
   "source": [
    "# Print multiplication table of 24, 50 and 29 using loop.\n",
    "print('Multiple of 24')\n",
    "i = 1\n",
    "while i<11:\n",
    "    print(i*24)\n",
    "    i=i+1\n",
    "print('Multiple of 50')    \n",
    "i = 1\n",
    "while i<11:\n",
    "    print(i*50)\n",
    "    i=i+1 \n",
    "print('Multiple of 29')    \n",
    "i = 1\n",
    "while i<11:\n",
    "    print(i*29)\n",
    "    i=i+1    "
   ]
  },
  {
   "cell_type": "code",
   "execution_count": null,
   "metadata": {},
   "outputs": [],
   "source": [
    "# Write an infinite loop.\n",
    "\n",
    "while True:\n",
    "    print (\"INFINITE\")"
   ]
  },
  {
   "cell_type": "code",
   "execution_count": 7,
   "metadata": {},
   "outputs": [
    {
     "name": "stdout",
     "output_type": "stream",
     "text": [
      "Enter Number 4\n",
      "factorial is + 24\n"
     ]
    }
   ],
   "source": [
    "# Write a program to calculate factorial of a number.\n",
    "\n",
    "num= int(input('Enter Number '))\n",
    "fact=1\n",
    "if(num==0):\n",
    "    print('factorial is', 1)\n",
    "else:\n",
    "    for i in range(1,num+1):\n",
    "        fact=fact*i\n",
    "    print('factorial is +', fact)    \n"
   ]
  },
  {
   "cell_type": "code",
   "execution_count": 10,
   "metadata": {},
   "outputs": [
    {
     "data": {
      "text/plain": [
       "25"
      ]
     },
     "execution_count": 10,
     "metadata": {},
     "output_type": "execute_result"
    }
   ],
   "source": [
    "# Write a program to find greatest common divisor (GCD) or highest common factor (HCF) of given two numbers.\n",
    "\n",
    "def gcd(x, y):\n",
    "    while y != 0:\n",
    "        (x, y) = (y, x % y)\n",
    "    return x\n",
    "gcd(8,2)\n",
    "\n",
    "#Another way\n",
    "def gcd(a, b):\n",
    "    if b == 0:\n",
    "        return a\n",
    "    return gcd(b, a%b)\n",
    "gcd(50,25)\n",
    "\n",
    "\n",
    "    \n",
    "\n",
    "\n"
   ]
  },
  {
   "cell_type": "code",
   "execution_count": null,
   "metadata": {},
   "outputs": [
    {
     "name": "stdout",
     "output_type": "stream",
     "text": [
      "Enter q to quit or any other key to continue5\n",
      "5\n",
      "Enter q to quit or any other key to continue5\n",
      "5\n",
      "Enter q to quit or any other key to continue5\n",
      "5\n",
      "Enter q to quit or any other key to continue5\n",
      "5\n",
      "Enter q to quit or any other key to continue5\n",
      "5\n",
      "Enter q to quit or any other key to continue5\n",
      "5\n",
      "Enter q to quit or any other key to continue55+55\n"
     ]
    }
   ],
   "source": [
    "# Take integer inputs from user until he/she presses q ( Ask to press q to quit after every integer input ). \n",
    "# Print average and product of all numbers.\n",
    "# CHECK THIS -----------------------------------------------------------------------------------------------\n",
    "summ = 0\n",
    "count = 1\n",
    "while input(\"Enter q to quit or any other key to continue\") != 'q':\n",
    "    summ = summ+int(input())\n",
    "    count=count+1\n",
    "print (summ/count)\n",
    "\n",
    "    \n",
    "\n"
   ]
  }
 ],
 "metadata": {
  "kernelspec": {
   "display_name": "Python 3",
   "language": "python",
   "name": "python3"
  },
  "language_info": {
   "codemirror_mode": {
    "name": "ipython",
    "version": 3
   },
   "file_extension": ".py",
   "mimetype": "text/x-python",
   "name": "python",
   "nbconvert_exporter": "python",
   "pygments_lexer": "ipython3",
   "version": "3.7.1"
  }
 },
 "nbformat": 4,
 "nbformat_minor": 2
}
